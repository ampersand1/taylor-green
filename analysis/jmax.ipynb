{
 "cells": [
  {
   "cell_type": "code",
   "execution_count": 8,
   "metadata": {
    "collapsed": false
   },
   "outputs": [],
   "source": [
    "%matplotlib inline\n",
    "import yt\n",
    "import numpy as np\n",
    "from matplotlib import pylab"
   ]
  },
  {
   "cell_type": "code",
   "execution_count": 9,
   "metadata": {
    "collapsed": false
   },
   "outputs": [],
   "source": [
    "a = yt.load(\"/Users/jasmin/Documents/Athena/athena4.2/bin/TaylorGreen.0???.current_x.vtk\")\n",
    "b = yt.load(\"/Users/jasmin/Documents/Athena/athena4.2/bin/TaylorGreen.0???.current_y.vtk\")\n",
    "c = yt.load(\"/Users/jasmin/Documents/Athena/athena4.2/bin/TaylorGreen.0???.current_z.vtk\")\n",
    "\n",
    "\n",
    "j1=[]\n",
    "j2=[]\n",
    "j3=[]\n",
    "times = []"
   ]
  },
  {
   "cell_type": "code",
   "execution_count": 1,
   "metadata": {
    "collapsed": false
   },
   "outputs": [],
   "source": [
    "for ds in a:\n",
    "    #print (ds)\n",
    "    dd = ds.all_data()\n",
    "   j1.append(dd.quantities.extrema(\"current_x\"))\n",
    "    times.append(ds.current_time)\n",
    "j1 = np.array(j1)\n",
    "\n",
    "for ds in b:\n",
    "    #print (ds)\n",
    "    dd = ds.all_data()\n",
    "    j2.append(dd.quantities.extrema(\"current_y\"))\n",
    "j2 = np.array(j2)\n",
    "\n",
    "for ds in c:\n",
    "    ##print (ds)\n",
    "    dd = ds.all_data()\n",
    "    j3.append(dd.quantities.extrema(\"current_z\"))\n",
    "j3 = np.array(j3)"
   ]
  },
  {
   "cell_type": "code",
   "execution_count": null,
   "metadata": {
    "collapsed": false
   },
   "outputs": [],
   "source": [
    "times=np.array(times)\n",
    "\n",
    "n=126\n",
    "pylab.plot(times[0:n], j1[0:n,0], '-g',times[0:n], j2[0:n,0],'-k',times[0:n], j3[0:n,0],'-r')\n",
    "#\n",
    "#pylab.title(\"Kinetic Energy\")\n"
   ]
  },
  {
   "cell_type": "code",
   "execution_count": null,
   "metadata": {
    "collapsed": false
   },
   "outputs": [],
   "source": [
    "pylab.plot(times[0:n],np.sqrt(j1[0:n,0]*j1[0:n,0]+ j2[0:n,0]*j2[0:n,0]+j3[0:n,0]*j3[0:n,0]),'-r')"
   ]
  },
  {
   "cell_type": "code",
   "execution_count": null,
   "metadata": {
    "collapsed": false
   },
   "outputs": [],
   "source": [
    "#pylab.plot(times, j, '-k')\n",
    "#pylab.title(\"Plot\")\n",
    "\n",
    "#a = yt.load(\"TaylorGreen.0000.J3.vtk\")\n",
    "#for ds in a:\n",
    "#   yt.ProjectionPlot(ds,\"x\",\"cell_centered_B_y\").save()"
   ]
  },
  {
   "cell_type": "code",
   "execution_count": null,
   "metadata": {
    "collapsed": false
   },
   "outputs": [],
   "source": []
  },
  {
   "cell_type": "code",
   "execution_count": null,
   "metadata": {
    "collapsed": false
   },
   "outputs": [],
   "source": []
  },
  {
   "cell_type": "code",
   "execution_count": 7,
   "metadata": {
    "collapsed": false
   },
   "outputs": [],
   "source": [
    "\n",
    "\n",
    "\n"
   ]
  }
 ],
 "metadata": {
  "anaconda-cloud": {},
  "kernelspec": {
   "display_name": "VPython",
   "language": "python",
   "name": "vpython"
  },
  "language_info": {
   "codemirror_mode": {
    "name": "ipython",
    "version": 3
   },
   "file_extension": ".py",
   "mimetype": "text/x-python",
   "name": "python",
   "nbconvert_exporter": "python",
   "pygments_lexer": "ipython3",
   "version": "3.5.2"
  }
 },
 "nbformat": 4,
 "nbformat_minor": 0
}
