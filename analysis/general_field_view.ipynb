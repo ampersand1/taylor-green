{
 "cells": [
  {
   "cell_type": "code",
   "execution_count": 1,
   "metadata": {
    "collapsed": false
   },
   "outputs": [],
   "source": [
    "%matplotlib inline\n",
    "import yt\n",
    "import numpy as np \n",
    "import matplotlib.pyplot as plt\n",
    "#from matplotlib import pylab"
   ]
  },
  {
   "cell_type": "code",
   "execution_count": 2,
   "metadata": {
    "collapsed": false
   },
   "outputs": [],
   "source": [
    "#ds = yt.load(\"TaylorGreen.0130.vtk\")\n",
    "#c=[0,0,0]\n",
    "#ds.field_list\n",
    "#ds.print_stats()\n",
    "#ds.derived_field_list\n",
    "\n",
    "#print(ds.field_info[\"gas\",\"velocity_x\"].get_units())\n",
    "#yt.SlicePlot(ds,\"t\",\"kinetic_energy\",origin= \"native\")\n",
    "#yt.SlicePlot(ds,\"z\",\"magnetic_field_z\",origin= \"native\")\n",
    "#yt.SlicePlot(ds,\"y\",\"current_y\", origin= \"native\", center = c )\n",
    "#ds.print_stats()\n",
    "\n",
    "#ds = yt.load(\"TaylorGreen.0066.vtk\")\n",
    "#yt.SlicePlot(ds,\"z\", \"velocity_z\", origin= \"native\")\n",
    "#p.annotate_quiver('velocity_x', 'velocity_y')\n",
    "#p.save()\n",
    "\n",
    "#ds = yt.load(\"TaylorGreen.0105.vtk\")\n",
    "#yt.SlicePlot(ds,\"y\",\"momentum_y\",origin= \"native\")\n",
    "\n",
    "#ds = yt.load(\"TaylorGreen.0001.vtk\")\n",
    "#p=yt.SlicePlot(ds, 'x', 'velocity_x', origin= \"native\")\n",
    "#ds.derived_field_list\n",
    "#p.annotate_magnetic_field()\n",
    "#\n",
    "#p.annotate_velocity(factor = 16)\n",
    "#p.annotate_quiver( 'x', 'y', pivot='tip')\n",
    "#p.save()\n",
    "\n",
    "#ds = yt.load(\"TaylorGreen.0002.vtk\")\n",
    "#p=yt.SlicePlot(ds,\"z\", \"velocity_z\", origin= \"native\")\n",
    "#p.annotate_magnetic_field()\n",
    "#\n",
    "#p.annotate_velocity(factor = 16)\n",
    "#p.annotate_quiver('x', 'y')\n",
    "#p.save()\n",
    "\n"
   ]
  },
  {
   "cell_type": "code",
   "execution_count": null,
   "metadata": {
    "collapsed": false
   },
   "outputs": [],
   "source": []
  },
  {
   "cell_type": "code",
   "execution_count": null,
   "metadata": {
    "collapsed": false
   },
   "outputs": [],
   "source": []
  },
  {
   "cell_type": "code",
   "execution_count": null,
   "metadata": {
    "collapsed": false
   },
   "outputs": [],
   "source": []
  },
  {
   "cell_type": "code",
   "execution_count": null,
   "metadata": {
    "collapsed": false
   },
   "outputs": [],
   "source": []
  },
  {
   "cell_type": "code",
   "execution_count": null,
   "metadata": {
    "collapsed": false,
    "scrolled": true
   },
   "outputs": [],
   "source": []
  },
  {
   "cell_type": "code",
   "execution_count": null,
   "metadata": {
    "collapsed": false
   },
   "outputs": [],
   "source": []
  },
  {
   "cell_type": "code",
   "execution_count": null,
   "metadata": {
    "collapsed": false
   },
   "outputs": [],
   "source": []
  },
  {
   "cell_type": "code",
   "execution_count": null,
   "metadata": {
    "collapsed": false
   },
   "outputs": [],
   "source": []
  },
  {
   "cell_type": "code",
   "execution_count": null,
   "metadata": {
    "collapsed": false
   },
   "outputs": [],
   "source": []
  },
  {
   "cell_type": "code",
   "execution_count": null,
   "metadata": {
    "collapsed": false
   },
   "outputs": [],
   "source": []
  },
  {
   "cell_type": "code",
   "execution_count": null,
   "metadata": {
    "collapsed": false
   },
   "outputs": [],
   "source": []
  },
  {
   "cell_type": "code",
   "execution_count": null,
   "metadata": {
    "collapsed": false
   },
   "outputs": [],
   "source": [
    "\n"
   ]
  },
  {
   "cell_type": "code",
   "execution_count": null,
   "metadata": {
    "collapsed": false
   },
   "outputs": [],
   "source": []
  },
  {
   "cell_type": "code",
   "execution_count": null,
   "metadata": {
    "collapsed": true
   },
   "outputs": [],
   "source": []
  }
 ],
 "metadata": {
  "anaconda-cloud": {},
  "kernelspec": {
   "display_name": "VPython",
   "language": "python",
   "name": "vpython"
  },
  "language_info": {
   "codemirror_mode": {
    "name": "ipython",
    "version": 3
   },
   "file_extension": ".py",
   "mimetype": "text/x-python",
   "name": "python",
   "nbconvert_exporter": "python",
   "pygments_lexer": "ipython3",
   "version": "3.5.2"
  }
 },
 "nbformat": 4,
 "nbformat_minor": 0
}
