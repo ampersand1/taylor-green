{
 "cells": [
  {
   "cell_type": "code",
   "execution_count": 6,
   "metadata": {
    "collapsed": false
   },
   "outputs": [],
   "source": [
    "%matplotlib inline\n",
    "import yt\n",
    "import numpy as np\n",
    "from matplotlib import pylab"
   ]
  },
  {
   "cell_type": "code",
   "execution_count": 9,
   "metadata": {
    "collapsed": false
   },
   "outputs": [
    {
     "name": "stderr",
     "output_type": "stream",
     "text": [
      "yt : [INFO     ] 2017-06-12 15:27:09,181 Temporarily setting domain_right_edge = -domain_left_edge. This will be corrected automatically if it is not the case.\n",
      "yt : [WARNING  ] 2017-06-12 15:27:09,182 Assuming 1.0 = 1.0 cm\n",
      "yt : [WARNING  ] 2017-06-12 15:27:09,182 Assuming 1.0 = 1.0 s\n",
      "yt : [WARNING  ] 2017-06-12 15:27:09,183 Assuming 1.0 = 1.0 g\n",
      "yt : [INFO     ] 2017-06-12 15:27:09,187 Parameters: current_time              = 0.0\n",
      "yt : [INFO     ] 2017-06-12 15:27:09,187 Parameters: domain_dimensions         = [0 0 0]\n",
      "yt : [INFO     ] 2017-06-12 15:27:09,188 Parameters: domain_left_edge          = [ 0.  0.  0.]\n",
      "yt : [INFO     ] 2017-06-12 15:27:09,189 Parameters: domain_right_edge         = [-0. -0. -0.]\n",
      "yt : [INFO     ] 2017-06-12 15:27:09,189 Parameters: cosmological_simulation   = 0.0\n",
      "yt : [INFO     ] 2017-06-12 15:27:09,974 xlim = 0.000000 6.280000\n",
      "yt : [INFO     ] 2017-06-12 15:27:09,975 ylim = 0.000000 6.280000\n",
      "yt : [INFO     ] 2017-06-12 15:27:09,976 xlim = 0.000000 6.280000\n",
      "yt : [INFO     ] 2017-06-12 15:27:09,976 ylim = 0.000000 6.280000\n",
      "yt : [INFO     ] 2017-06-12 15:27:09,978 Making a fixed resolution buffer of (('athena', 'cell_centered_B_z')) 800 by 800\n",
      "yt : [WARNING  ] 2017-06-12 15:27:10,007 Plot image for field ('athena', 'cell_centered_B_z') has both positive and negative values. Min = -0.199671, Max = 0.199675.\n",
      "yt : [WARNING  ] 2017-06-12 15:27:10,008 Switching to symlog colorbar scaling unless linear scaling is specified later\n",
      "yt : [INFO     ] 2017-06-12 15:27:10,384 Saving plot TaylorGreen.0000_Slice_z_cell_centered_B_z.png\n",
      "yt : [INFO     ] 2017-06-12 15:27:10,796 Temporarily setting domain_right_edge = -domain_left_edge. This will be corrected automatically if it is not the case.\n",
      "yt : [WARNING  ] 2017-06-12 15:27:10,798 Assuming 1.0 = 1.0 cm\n",
      "yt : [WARNING  ] 2017-06-12 15:27:10,798 Assuming 1.0 = 1.0 s\n",
      "yt : [WARNING  ] 2017-06-12 15:27:10,799 Assuming 1.0 = 1.0 g\n",
      "yt : [INFO     ] 2017-06-12 15:27:10,804 Parameters: current_time              = 0.06368037\n",
      "yt : [INFO     ] 2017-06-12 15:27:10,804 Parameters: domain_dimensions         = [0 0 0]\n",
      "yt : [INFO     ] 2017-06-12 15:27:10,805 Parameters: domain_left_edge          = [ 0.  0.  0.]\n",
      "yt : [INFO     ] 2017-06-12 15:27:10,806 Parameters: domain_right_edge         = [-0. -0. -0.]\n",
      "yt : [INFO     ] 2017-06-12 15:27:10,807 Parameters: cosmological_simulation   = 0.0\n",
      "yt : [INFO     ] 2017-06-12 15:27:11,652 xlim = 0.000000 6.280000\n",
      "yt : [INFO     ] 2017-06-12 15:27:11,652 ylim = 0.000000 6.280000\n",
      "yt : [INFO     ] 2017-06-12 15:27:11,653 xlim = 0.000000 6.280000\n",
      "yt : [INFO     ] 2017-06-12 15:27:11,654 ylim = 0.000000 6.280000\n",
      "yt : [INFO     ] 2017-06-12 15:27:11,655 Making a fixed resolution buffer of (('athena', 'cell_centered_B_z')) 800 by 800\n",
      "yt : [WARNING  ] 2017-06-12 15:27:11,680 Plot image for field ('athena', 'cell_centered_B_z') has both positive and negative values. Min = -0.199189, Max = 0.199193.\n",
      "yt : [WARNING  ] 2017-06-12 15:27:11,680 Switching to symlog colorbar scaling unless linear scaling is specified later\n",
      "yt : [INFO     ] 2017-06-12 15:27:12,072 Saving plot TaylorGreen.0001_Slice_z_cell_centered_B_z.png\n",
      "yt : [INFO     ] 2017-06-12 15:27:12,583 Temporarily setting domain_right_edge = -domain_left_edge. This will be corrected automatically if it is not the case.\n",
      "yt : [WARNING  ] 2017-06-12 15:27:12,584 Assuming 1.0 = 1.0 cm\n",
      "yt : [WARNING  ] 2017-06-12 15:27:12,585 Assuming 1.0 = 1.0 s\n",
      "yt : [WARNING  ] 2017-06-12 15:27:12,585 Assuming 1.0 = 1.0 g\n",
      "yt : [INFO     ] 2017-06-12 15:27:12,590 Parameters: current_time              = 0.1060559\n",
      "yt : [INFO     ] 2017-06-12 15:27:12,590 Parameters: domain_dimensions         = [0 0 0]\n",
      "yt : [INFO     ] 2017-06-12 15:27:12,591 Parameters: domain_left_edge          = [ 0.  0.  0.]\n",
      "yt : [INFO     ] 2017-06-12 15:27:12,591 Parameters: domain_right_edge         = [-0. -0. -0.]\n",
      "yt : [INFO     ] 2017-06-12 15:27:12,592 Parameters: cosmological_simulation   = 0.0\n",
      "yt : [INFO     ] 2017-06-12 15:27:13,447 xlim = 0.000000 6.280000\n",
      "yt : [INFO     ] 2017-06-12 15:27:13,447 ylim = 0.000000 6.280000\n",
      "yt : [INFO     ] 2017-06-12 15:27:13,448 xlim = 0.000000 6.280000\n",
      "yt : [INFO     ] 2017-06-12 15:27:13,449 ylim = 0.000000 6.280000\n",
      "yt : [INFO     ] 2017-06-12 15:27:13,450 Making a fixed resolution buffer of (('athena', 'cell_centered_B_z')) 800 by 800\n",
      "yt : [WARNING  ] 2017-06-12 15:27:13,471 Plot image for field ('athena', 'cell_centered_B_z') has both positive and negative values. Min = -0.198352, Max = 0.198356.\n",
      "yt : [WARNING  ] 2017-06-12 15:27:13,472 Switching to symlog colorbar scaling unless linear scaling is specified later\n",
      "yt : [INFO     ] 2017-06-12 15:27:13,757 Saving plot TaylorGreen.0002_Slice_z_cell_centered_B_z.png\n",
      "yt : [INFO     ] 2017-06-12 15:27:14,266 Temporarily setting domain_right_edge = -domain_left_edge. This will be corrected automatically if it is not the case.\n",
      "yt : [WARNING  ] 2017-06-12 15:27:14,268 Assuming 1.0 = 1.0 cm\n",
      "yt : [WARNING  ] 2017-06-12 15:27:14,268 Assuming 1.0 = 1.0 s\n",
      "yt : [WARNING  ] 2017-06-12 15:27:14,269 Assuming 1.0 = 1.0 g\n",
      "yt : [INFO     ] 2017-06-12 15:27:14,273 Parameters: current_time              = 0.1693988\n",
      "yt : [INFO     ] 2017-06-12 15:27:14,273 Parameters: domain_dimensions         = [0 0 0]\n",
      "yt : [INFO     ] 2017-06-12 15:27:14,274 Parameters: domain_left_edge          = [ 0.  0.  0.]\n",
      "yt : [INFO     ] 2017-06-12 15:27:14,275 Parameters: domain_right_edge         = [-0. -0. -0.]\n",
      "yt : [INFO     ] 2017-06-12 15:27:14,275 Parameters: cosmological_simulation   = 0.0\n",
      "yt : [INFO     ] 2017-06-12 15:27:15,154 xlim = 0.000000 6.280000\n",
      "yt : [INFO     ] 2017-06-12 15:27:15,155 ylim = 0.000000 6.280000\n",
      "yt : [INFO     ] 2017-06-12 15:27:15,156 xlim = 0.000000 6.280000\n",
      "yt : [INFO     ] 2017-06-12 15:27:15,156 ylim = 0.000000 6.280000\n",
      "yt : [INFO     ] 2017-06-12 15:27:15,157 Making a fixed resolution buffer of (('athena', 'cell_centered_B_z')) 800 by 800\n",
      "yt : [WARNING  ] 2017-06-12 15:27:15,183 Plot image for field ('athena', 'cell_centered_B_z') has both positive and negative values. Min = -0.196392, Max = 0.196396.\n",
      "yt : [WARNING  ] 2017-06-12 15:27:15,183 Switching to symlog colorbar scaling unless linear scaling is specified later\n",
      "yt : [INFO     ] 2017-06-12 15:27:15,565 Saving plot TaylorGreen.0003_Slice_z_cell_centered_B_z.png\n",
      "yt : [INFO     ] 2017-06-12 15:27:15,980 Temporarily setting domain_right_edge = -domain_left_edge. This will be corrected automatically if it is not the case.\n",
      "yt : [WARNING  ] 2017-06-12 15:27:15,981 Assuming 1.0 = 1.0 cm\n",
      "yt : [WARNING  ] 2017-06-12 15:27:15,982 Assuming 1.0 = 1.0 s\n",
      "yt : [WARNING  ] 2017-06-12 15:27:15,983 Assuming 1.0 = 1.0 g\n",
      "yt : [INFO     ] 2017-06-12 15:27:15,987 Parameters: current_time              = 0.2114433\n",
      "yt : [INFO     ] 2017-06-12 15:27:15,988 Parameters: domain_dimensions         = [0 0 0]\n",
      "yt : [INFO     ] 2017-06-12 15:27:15,989 Parameters: domain_left_edge          = [ 0.  0.  0.]\n",
      "yt : [INFO     ] 2017-06-12 15:27:15,990 Parameters: domain_right_edge         = [-0. -0. -0.]\n",
      "yt : [INFO     ] 2017-06-12 15:27:15,990 Parameters: cosmological_simulation   = 0.0\n",
      "yt : [INFO     ] 2017-06-12 15:27:16,919 xlim = 0.000000 6.280000\n",
      "yt : [INFO     ] 2017-06-12 15:27:16,919 ylim = 0.000000 6.280000\n",
      "yt : [INFO     ] 2017-06-12 15:27:16,920 xlim = 0.000000 6.280000\n",
      "yt : [INFO     ] 2017-06-12 15:27:16,921 ylim = 0.000000 6.280000\n",
      "yt : [INFO     ] 2017-06-12 15:27:16,922 Making a fixed resolution buffer of (('athena', 'cell_centered_B_z')) 800 by 800\n",
      "yt : [WARNING  ] 2017-06-12 15:27:16,943 Plot image for field ('athena', 'cell_centered_B_z') has both positive and negative values. Min = -0.194669, Max = 0.194672.\n",
      "yt : [WARNING  ] 2017-06-12 15:27:16,944 Switching to symlog colorbar scaling unless linear scaling is specified later\n",
      "yt : [INFO     ] 2017-06-12 15:27:17,238 Saving plot TaylorGreen.0004_Slice_z_cell_centered_B_z.png\n",
      "yt : [INFO     ] 2017-06-12 15:27:17,755 Temporarily setting domain_right_edge = -domain_left_edge. This will be corrected automatically if it is not the case.\n",
      "yt : [WARNING  ] 2017-06-12 15:27:17,756 Assuming 1.0 = 1.0 cm\n",
      "yt : [WARNING  ] 2017-06-12 15:27:17,757 Assuming 1.0 = 1.0 s\n",
      "yt : [WARNING  ] 2017-06-12 15:27:17,757 Assuming 1.0 = 1.0 g\n",
      "yt : [INFO     ] 2017-06-12 15:27:17,761 Parameters: current_time              = 0.2533309\n",
      "yt : [INFO     ] 2017-06-12 15:27:17,762 Parameters: domain_dimensions         = [0 0 0]\n",
      "yt : [INFO     ] 2017-06-12 15:27:17,763 Parameters: domain_left_edge          = [ 0.  0.  0.]\n",
      "yt : [INFO     ] 2017-06-12 15:27:17,763 Parameters: domain_right_edge         = [-0. -0. -0.]\n",
      "yt : [INFO     ] 2017-06-12 15:27:17,764 Parameters: cosmological_simulation   = 0.0\n",
      "yt : [INFO     ] 2017-06-12 15:27:18,635 xlim = 0.000000 6.280000\n",
      "yt : [INFO     ] 2017-06-12 15:27:18,635 ylim = 0.000000 6.280000\n",
      "yt : [INFO     ] 2017-06-12 15:27:18,636 xlim = 0.000000 6.280000\n",
      "yt : [INFO     ] 2017-06-12 15:27:18,637 ylim = 0.000000 6.280000\n",
      "yt : [INFO     ] 2017-06-12 15:27:18,638 Making a fixed resolution buffer of (('athena', 'cell_centered_B_z')) 800 by 800\n",
      "yt : [WARNING  ] 2017-06-12 15:27:18,658 Plot image for field ('athena', 'cell_centered_B_z') has both positive and negative values. Min = -0.192671, Max = 0.192674.\n",
      "yt : [WARNING  ] 2017-06-12 15:27:18,659 Switching to symlog colorbar scaling unless linear scaling is specified later\n",
      "yt : [INFO     ] 2017-06-12 15:27:18,954 Saving plot TaylorGreen.0005_Slice_z_cell_centered_B_z.png\n",
      "yt : [INFO     ] 2017-06-12 15:27:19,466 Temporarily setting domain_right_edge = -domain_left_edge. This will be corrected automatically if it is not the case.\n",
      "yt : [WARNING  ] 2017-06-12 15:27:19,467 Assuming 1.0 = 1.0 cm\n",
      "yt : [WARNING  ] 2017-06-12 15:27:19,468 Assuming 1.0 = 1.0 s\n",
      "yt : [WARNING  ] 2017-06-12 15:27:19,468 Assuming 1.0 = 1.0 g\n",
      "yt : [INFO     ] 2017-06-12 15:27:19,473 Parameters: current_time              = 0.3158897\n",
      "yt : [INFO     ] 2017-06-12 15:27:19,473 Parameters: domain_dimensions         = [0 0 0]\n",
      "yt : [INFO     ] 2017-06-12 15:27:19,474 Parameters: domain_left_edge          = [ 0.  0.  0.]\n",
      "yt : [INFO     ] 2017-06-12 15:27:19,474 Parameters: domain_right_edge         = [-0. -0. -0.]\n",
      "yt : [INFO     ] 2017-06-12 15:27:19,475 Parameters: cosmological_simulation   = 0.0\n",
      "yt : [INFO     ] 2017-06-12 15:27:20,345 xlim = 0.000000 6.280000\n",
      "yt : [INFO     ] 2017-06-12 15:27:20,345 ylim = 0.000000 6.280000\n",
      "yt : [INFO     ] 2017-06-12 15:27:20,346 xlim = 0.000000 6.280000\n",
      "yt : [INFO     ] 2017-06-12 15:27:20,347 ylim = 0.000000 6.280000\n",
      "yt : [INFO     ] 2017-06-12 15:27:20,348 Making a fixed resolution buffer of (('athena', 'cell_centered_B_z')) 800 by 800\n",
      "yt : [WARNING  ] 2017-06-12 15:27:20,373 Plot image for field ('athena', 'cell_centered_B_z') has both positive and negative values. Min = -0.189272, Max = 0.189275.\n",
      "yt : [WARNING  ] 2017-06-12 15:27:20,373 Switching to symlog colorbar scaling unless linear scaling is specified later\n",
      "yt : [INFO     ] 2017-06-12 15:27:20,727 Saving plot TaylorGreen.0006_Slice_z_cell_centered_B_z.png\n",
      "yt : [INFO     ] 2017-06-12 15:27:21,135 Temporarily setting domain_right_edge = -domain_left_edge. This will be corrected automatically if it is not the case.\n",
      "yt : [WARNING  ] 2017-06-12 15:27:21,136 Assuming 1.0 = 1.0 cm\n",
      "yt : [WARNING  ] 2017-06-12 15:27:21,137 Assuming 1.0 = 1.0 s\n",
      "yt : [WARNING  ] 2017-06-12 15:27:21,137 Assuming 1.0 = 1.0 g\n",
      "yt : [INFO     ] 2017-06-12 15:27:21,142 Parameters: current_time              = 0.3574388\n",
      "yt : [INFO     ] 2017-06-12 15:27:21,142 Parameters: domain_dimensions         = [0 0 0]\n",
      "yt : [INFO     ] 2017-06-12 15:27:21,143 Parameters: domain_left_edge          = [ 0.  0.  0.]\n",
      "yt : [INFO     ] 2017-06-12 15:27:21,144 Parameters: domain_right_edge         = [-0. -0. -0.]\n",
      "yt : [INFO     ] 2017-06-12 15:27:21,144 Parameters: cosmological_simulation   = 0.0\n",
      "yt : [INFO     ] 2017-06-12 15:27:22,121 xlim = 0.000000 6.280000\n",
      "yt : [INFO     ] 2017-06-12 15:27:22,121 ylim = 0.000000 6.280000\n",
      "yt : [INFO     ] 2017-06-12 15:27:22,122 xlim = 0.000000 6.280000\n",
      "yt : [INFO     ] 2017-06-12 15:27:22,123 ylim = 0.000000 6.280000\n",
      "yt : [INFO     ] 2017-06-12 15:27:22,124 Making a fixed resolution buffer of (('athena', 'cell_centered_B_z')) 800 by 800\n",
      "yt : [WARNING  ] 2017-06-12 15:27:22,145 Plot image for field ('athena', 'cell_centered_B_z') has both positive and negative values. Min = -0.186807, Max = 0.186811.\n",
      "yt : [WARNING  ] 2017-06-12 15:27:22,146 Switching to symlog colorbar scaling unless linear scaling is specified later\n",
      "yt : [INFO     ] 2017-06-12 15:27:22,426 Saving plot TaylorGreen.0007_Slice_z_cell_centered_B_z.png\n",
      "yt : [INFO     ] 2017-06-12 15:27:22,948 Temporarily setting domain_right_edge = -domain_left_edge. This will be corrected automatically if it is not the case.\n",
      "yt : [WARNING  ] 2017-06-12 15:27:22,950 Assuming 1.0 = 1.0 cm\n",
      "yt : [WARNING  ] 2017-06-12 15:27:22,950 Assuming 1.0 = 1.0 s\n",
      "yt : [WARNING  ] 2017-06-12 15:27:22,952 Assuming 1.0 = 1.0 g\n",
      "yt : [INFO     ] 2017-06-12 15:27:22,956 Parameters: current_time              = 0.4195808\n",
      "yt : [INFO     ] 2017-06-12 15:27:22,956 Parameters: domain_dimensions         = [0 0 0]\n",
      "yt : [INFO     ] 2017-06-12 15:27:22,957 Parameters: domain_left_edge          = [ 0.  0.  0.]\n",
      "yt : [INFO     ] 2017-06-12 15:27:22,958 Parameters: domain_right_edge         = [-0. -0. -0.]\n",
      "yt : [INFO     ] 2017-06-12 15:27:22,958 Parameters: cosmological_simulation   = 0.0\n",
      "yt : [INFO     ] 2017-06-12 15:27:23,807 xlim = 0.000000 6.280000\n",
      "yt : [INFO     ] 2017-06-12 15:27:23,808 ylim = 0.000000 6.280000\n",
      "yt : [INFO     ] 2017-06-12 15:27:23,809 xlim = 0.000000 6.280000\n",
      "yt : [INFO     ] 2017-06-12 15:27:23,809 ylim = 0.000000 6.280000\n",
      "yt : [INFO     ] 2017-06-12 15:27:23,810 Making a fixed resolution buffer of (('athena', 'cell_centered_B_z')) 800 by 800\n",
      "yt : [WARNING  ] 2017-06-12 15:27:23,835 Plot image for field ('athena', 'cell_centered_B_z') has both positive and negative values. Min = -0.182930, Max = 0.182933.\n",
      "yt : [WARNING  ] 2017-06-12 15:27:23,836 Switching to symlog colorbar scaling unless linear scaling is specified later\n",
      "yt : [INFO     ] 2017-06-12 15:27:24,218 Saving plot TaylorGreen.0008_Slice_z_cell_centered_B_z.png\n",
      "yt : [INFO     ] 2017-06-12 15:27:24,628 Temporarily setting domain_right_edge = -domain_left_edge. This will be corrected automatically if it is not the case.\n",
      "yt : [WARNING  ] 2017-06-12 15:27:24,629 Assuming 1.0 = 1.0 cm\n",
      "yt : [WARNING  ] 2017-06-12 15:27:24,630 Assuming 1.0 = 1.0 s\n",
      "yt : [WARNING  ] 2017-06-12 15:27:24,630 Assuming 1.0 = 1.0 g\n",
      "yt : [INFO     ] 2017-06-12 15:27:24,635 Parameters: current_time              = 0.4609394\n",
      "yt : [INFO     ] 2017-06-12 15:27:24,635 Parameters: domain_dimensions         = [0 0 0]\n",
      "yt : [INFO     ] 2017-06-12 15:27:24,636 Parameters: domain_left_edge          = [ 0.  0.  0.]\n",
      "yt : [INFO     ] 2017-06-12 15:27:24,637 Parameters: domain_right_edge         = [-0. -0. -0.]\n",
      "yt : [INFO     ] 2017-06-12 15:27:24,637 Parameters: cosmological_simulation   = 0.0\n",
      "yt : [INFO     ] 2017-06-12 15:27:25,494 xlim = 0.000000 6.280000\n",
      "yt : [INFO     ] 2017-06-12 15:27:25,495 ylim = 0.000000 6.280000\n",
      "yt : [INFO     ] 2017-06-12 15:27:25,496 xlim = 0.000000 6.280000\n",
      "yt : [INFO     ] 2017-06-12 15:27:25,496 ylim = 0.000000 6.280000\n",
      "yt : [INFO     ] 2017-06-12 15:27:25,497 Making a fixed resolution buffer of (('athena', 'cell_centered_B_z')) 800 by 800\n",
      "yt : [WARNING  ] 2017-06-12 15:27:25,522 Plot image for field ('athena', 'cell_centered_B_z') has both positive and negative values. Min = -0.180286, Max = 0.180289.\n",
      "yt : [WARNING  ] 2017-06-12 15:27:25,523 Switching to symlog colorbar scaling unless linear scaling is specified later\n",
      "yt : [INFO     ] 2017-06-12 15:27:25,879 Saving plot TaylorGreen.0009_Slice_z_cell_centered_B_z.png\n",
      "yt : [INFO     ] 2017-06-12 15:27:26,392 Temporarily setting domain_right_edge = -domain_left_edge. This will be corrected automatically if it is not the case.\n",
      "yt : [WARNING  ] 2017-06-12 15:27:26,393 Assuming 1.0 = 1.0 cm\n",
      "yt : [WARNING  ] 2017-06-12 15:27:26,394 Assuming 1.0 = 1.0 s\n",
      "yt : [WARNING  ] 2017-06-12 15:27:26,395 Assuming 1.0 = 1.0 g\n",
      "yt : [INFO     ] 2017-06-12 15:27:26,399 Parameters: current_time              = 0.5022736\n",
      "yt : [INFO     ] 2017-06-12 15:27:26,399 Parameters: domain_dimensions         = [0 0 0]\n",
      "yt : [INFO     ] 2017-06-12 15:27:26,400 Parameters: domain_left_edge          = [ 0.  0.  0.]\n",
      "yt : [INFO     ] 2017-06-12 15:27:26,401 Parameters: domain_right_edge         = [-0. -0. -0.]\n",
      "yt : [INFO     ] 2017-06-12 15:27:26,402 Parameters: cosmological_simulation   = 0.0\n",
      "yt : [INFO     ] 2017-06-12 15:27:27,259 xlim = 0.000000 6.280000\n",
      "yt : [INFO     ] 2017-06-12 15:27:27,260 ylim = 0.000000 6.280000\n",
      "yt : [INFO     ] 2017-06-12 15:27:27,261 xlim = 0.000000 6.280000\n",
      "yt : [INFO     ] 2017-06-12 15:27:27,261 ylim = 0.000000 6.280000\n",
      "yt : [INFO     ] 2017-06-12 15:27:27,262 Making a fixed resolution buffer of (('athena', 'cell_centered_B_z')) 800 by 800\n",
      "yt : [WARNING  ] 2017-06-12 15:27:27,283 Plot image for field ('athena', 'cell_centered_B_z') has both positive and negative values. Min = -0.177638, Max = 0.177641.\n",
      "yt : [WARNING  ] 2017-06-12 15:27:27,284 Switching to symlog colorbar scaling unless linear scaling is specified later\n",
      "yt : [INFO     ] 2017-06-12 15:27:27,570 Saving plot TaylorGreen.0010_Slice_z_cell_centered_B_z.png\n",
      "yt : [INFO     ] 2017-06-12 15:27:28,096 Temporarily setting domain_right_edge = -domain_left_edge. This will be corrected automatically if it is not the case.\n",
      "yt : [WARNING  ] 2017-06-12 15:27:28,097 Assuming 1.0 = 1.0 cm\n",
      "yt : [WARNING  ] 2017-06-12 15:27:28,097 Assuming 1.0 = 1.0 s\n",
      "yt : [WARNING  ] 2017-06-12 15:27:28,098 Assuming 1.0 = 1.0 g\n",
      "yt : [INFO     ] 2017-06-12 15:27:28,103 Parameters: current_time              = 0.5643035\n",
      "yt : [INFO     ] 2017-06-12 15:27:28,103 Parameters: domain_dimensions         = [0 0 0]\n",
      "yt : [INFO     ] 2017-06-12 15:27:28,104 Parameters: domain_left_edge          = [ 0.  0.  0.]\n",
      "yt : [INFO     ] 2017-06-12 15:27:28,105 Parameters: domain_right_edge         = [-0. -0. -0.]\n",
      "yt : [INFO     ] 2017-06-12 15:27:28,105 Parameters: cosmological_simulation   = 0.0\n",
      "yt : [INFO     ] 2017-06-12 15:27:28,966 xlim = 0.000000 6.280000\n",
      "yt : [INFO     ] 2017-06-12 15:27:28,967 ylim = 0.000000 6.280000\n",
      "yt : [INFO     ] 2017-06-12 15:27:28,968 xlim = 0.000000 6.280000\n",
      "yt : [INFO     ] 2017-06-12 15:27:28,968 ylim = 0.000000 6.280000\n",
      "yt : [INFO     ] 2017-06-12 15:27:28,969 Making a fixed resolution buffer of (('athena', 'cell_centered_B_z')) 800 by 800\n",
      "yt : [WARNING  ] 2017-06-12 15:27:28,989 Plot image for field ('athena', 'cell_centered_B_z') has both positive and negative values. Min = -0.173727, Max = 0.173729.\n",
      "yt : [WARNING  ] 2017-06-12 15:27:28,990 Switching to symlog colorbar scaling unless linear scaling is specified later\n",
      "yt : [INFO     ] 2017-06-12 15:27:29,369 Saving plot TaylorGreen.0011_Slice_z_cell_centered_B_z.png\n",
      "yt : [INFO     ] 2017-06-12 15:27:29,779 Temporarily setting domain_right_edge = -domain_left_edge. This will be corrected automatically if it is not the case.\n",
      "yt : [WARNING  ] 2017-06-12 15:27:29,780 Assuming 1.0 = 1.0 cm\n",
      "yt : [WARNING  ] 2017-06-12 15:27:29,781 Assuming 1.0 = 1.0 s\n",
      "yt : [WARNING  ] 2017-06-12 15:27:29,781 Assuming 1.0 = 1.0 g\n",
      "yt : [INFO     ] 2017-06-12 15:27:29,786 Parameters: current_time              = 0.6057274\n",
      "yt : [INFO     ] 2017-06-12 15:27:29,786 Parameters: domain_dimensions         = [0 0 0]\n",
      "yt : [INFO     ] 2017-06-12 15:27:29,787 Parameters: domain_left_edge          = [ 0.  0.  0.]\n",
      "yt : [INFO     ] 2017-06-12 15:27:29,787 Parameters: domain_right_edge         = [-0. -0. -0.]\n",
      "yt : [INFO     ] 2017-06-12 15:27:29,788 Parameters: cosmological_simulation   = 0.0\n",
      "yt : [INFO     ] 2017-06-12 15:27:30,639 xlim = 0.000000 6.280000\n",
      "yt : [INFO     ] 2017-06-12 15:27:30,640 ylim = 0.000000 6.280000\n",
      "yt : [INFO     ] 2017-06-12 15:27:30,641 xlim = 0.000000 6.280000\n",
      "yt : [INFO     ] 2017-06-12 15:27:30,641 ylim = 0.000000 6.280000\n",
      "yt : [INFO     ] 2017-06-12 15:27:30,643 Making a fixed resolution buffer of (('athena', 'cell_centered_B_z')) 800 by 800\n",
      "yt : [WARNING  ] 2017-06-12 15:27:30,668 Plot image for field ('athena', 'cell_centered_B_z') has both positive and negative values. Min = -0.171198, Max = 0.171200.\n",
      "yt : [WARNING  ] 2017-06-12 15:27:30,668 Switching to symlog colorbar scaling unless linear scaling is specified later\n",
      "yt : [INFO     ] 2017-06-12 15:27:31,030 Saving plot TaylorGreen.0012_Slice_z_cell_centered_B_z.png\n",
      "yt : [INFO     ] 2017-06-12 15:27:31,546 Temporarily setting domain_right_edge = -domain_left_edge. This will be corrected automatically if it is not the case.\n",
      "yt : [WARNING  ] 2017-06-12 15:27:31,547 Assuming 1.0 = 1.0 cm\n",
      "yt : [WARNING  ] 2017-06-12 15:27:31,548 Assuming 1.0 = 1.0 s\n",
      "yt : [WARNING  ] 2017-06-12 15:27:31,549 Assuming 1.0 = 1.0 g\n",
      "yt : [INFO     ] 2017-06-12 15:27:31,554 Parameters: current_time              = 0.6680518\n",
      "yt : [INFO     ] 2017-06-12 15:27:31,555 Parameters: domain_dimensions         = [0 0 0]\n",
      "yt : [INFO     ] 2017-06-12 15:27:31,555 Parameters: domain_left_edge          = [ 0.  0.  0.]\n",
      "yt : [INFO     ] 2017-06-12 15:27:31,556 Parameters: domain_right_edge         = [-0. -0. -0.]\n",
      "yt : [INFO     ] 2017-06-12 15:27:31,557 Parameters: cosmological_simulation   = 0.0\n",
      "yt : [INFO     ] 2017-06-12 15:27:32,413 xlim = 0.000000 6.280000\n",
      "yt : [INFO     ] 2017-06-12 15:27:32,414 ylim = 0.000000 6.280000\n",
      "yt : [INFO     ] 2017-06-12 15:27:32,415 xlim = 0.000000 6.280000\n",
      "yt : [INFO     ] 2017-06-12 15:27:32,415 ylim = 0.000000 6.280000\n",
      "yt : [INFO     ] 2017-06-12 15:27:32,416 Making a fixed resolution buffer of (('athena', 'cell_centered_B_z')) 800 by 800\n",
      "yt : [WARNING  ] 2017-06-12 15:27:32,437 Plot image for field ('athena', 'cell_centered_B_z') has both positive and negative values. Min = -0.167579, Max = 0.167581.\n",
      "yt : [WARNING  ] 2017-06-12 15:27:32,438 Switching to symlog colorbar scaling unless linear scaling is specified later\n",
      "yt : [INFO     ] 2017-06-12 15:27:32,721 Saving plot TaylorGreen.0013_Slice_z_cell_centered_B_z.png\n",
      "yt : [INFO     ] 2017-06-12 15:27:33,228 Temporarily setting domain_right_edge = -domain_left_edge. This will be corrected automatically if it is not the case.\n",
      "yt : [WARNING  ] 2017-06-12 15:27:33,230 Assuming 1.0 = 1.0 cm\n",
      "yt : [WARNING  ] 2017-06-12 15:27:33,230 Assuming 1.0 = 1.0 s\n",
      "yt : [WARNING  ] 2017-06-12 15:27:33,231 Assuming 1.0 = 1.0 g\n",
      "yt : [INFO     ] 2017-06-12 15:27:33,235 Parameters: current_time              = 0.7097732\n",
      "yt : [INFO     ] 2017-06-12 15:27:33,236 Parameters: domain_dimensions         = [0 0 0]\n",
      "yt : [INFO     ] 2017-06-12 15:27:33,236 Parameters: domain_left_edge          = [ 0.  0.  0.]\n",
      "yt : [INFO     ] 2017-06-12 15:27:33,237 Parameters: domain_right_edge         = [-0. -0. -0.]\n",
      "yt : [INFO     ] 2017-06-12 15:27:33,238 Parameters: cosmological_simulation   = 0.0\n",
      "yt : [INFO     ] 2017-06-12 15:27:34,115 xlim = 0.000000 6.280000\n",
      "yt : [INFO     ] 2017-06-12 15:27:34,116 ylim = 0.000000 6.280000\n",
      "yt : [INFO     ] 2017-06-12 15:27:34,117 xlim = 0.000000 6.280000\n",
      "yt : [INFO     ] 2017-06-12 15:27:34,117 ylim = 0.000000 6.280000\n",
      "yt : [INFO     ] 2017-06-12 15:27:34,118 Making a fixed resolution buffer of (('athena', 'cell_centered_B_z')) 800 by 800\n",
      "yt : [WARNING  ] 2017-06-12 15:27:34,144 Plot image for field ('athena', 'cell_centered_B_z') has both positive and negative values. Min = -0.165309, Max = 0.165311.\n",
      "yt : [WARNING  ] 2017-06-12 15:27:34,145 Switching to symlog colorbar scaling unless linear scaling is specified later\n",
      "yt : [INFO     ] 2017-06-12 15:27:34,523 Saving plot TaylorGreen.0014_Slice_z_cell_centered_B_z.png\n",
      "yt : [INFO     ] 2017-06-12 15:27:34,933 Temporarily setting domain_right_edge = -domain_left_edge. This will be corrected automatically if it is not the case.\n",
      "yt : [WARNING  ] 2017-06-12 15:27:34,935 Assuming 1.0 = 1.0 cm\n",
      "yt : [WARNING  ] 2017-06-12 15:27:34,935 Assuming 1.0 = 1.0 s\n",
      "yt : [WARNING  ] 2017-06-12 15:27:34,936 Assuming 1.0 = 1.0 g\n",
      "yt : [INFO     ] 2017-06-12 15:27:34,940 Parameters: current_time              = 0.7516606\n",
      "yt : [INFO     ] 2017-06-12 15:27:34,941 Parameters: domain_dimensions         = [0 0 0]\n",
      "yt : [INFO     ] 2017-06-12 15:27:34,941 Parameters: domain_left_edge          = [ 0.  0.  0.]\n",
      "yt : [INFO     ] 2017-06-12 15:27:34,942 Parameters: domain_right_edge         = [-0. -0. -0.]\n",
      "yt : [INFO     ] 2017-06-12 15:27:34,943 Parameters: cosmological_simulation   = 0.0\n",
      "yt : [INFO     ] 2017-06-12 15:27:35,875 xlim = 0.000000 6.280000\n",
      "yt : [INFO     ] 2017-06-12 15:27:35,876 ylim = 0.000000 6.280000\n",
      "yt : [INFO     ] 2017-06-12 15:27:35,877 xlim = 0.000000 6.280000\n",
      "yt : [INFO     ] 2017-06-12 15:27:35,877 ylim = 0.000000 6.280000\n",
      "yt : [INFO     ] 2017-06-12 15:27:35,879 Making a fixed resolution buffer of (('athena', 'cell_centered_B_z')) 800 by 800\n",
      "yt : [WARNING  ] 2017-06-12 15:27:35,900 Plot image for field ('athena', 'cell_centered_B_z') has both positive and negative values. Min = -0.163171, Max = 0.163173.\n",
      "yt : [WARNING  ] 2017-06-12 15:27:35,900 Switching to symlog colorbar scaling unless linear scaling is specified later\n",
      "yt : [INFO     ] 2017-06-12 15:27:36,190 Saving plot TaylorGreen.0015_Slice_z_cell_centered_B_z.png\n",
      "yt : [INFO     ] 2017-06-12 15:27:36,702 Temporarily setting domain_right_edge = -domain_left_edge. This will be corrected automatically if it is not the case.\n",
      "yt : [WARNING  ] 2017-06-12 15:27:36,704 Assuming 1.0 = 1.0 cm\n",
      "yt : [WARNING  ] 2017-06-12 15:27:36,704 Assuming 1.0 = 1.0 s\n",
      "yt : [WARNING  ] 2017-06-12 15:27:36,705 Assuming 1.0 = 1.0 g\n",
      "yt : [INFO     ] 2017-06-12 15:27:36,709 Parameters: current_time              = 0.8148622\n",
      "yt : [INFO     ] 2017-06-12 15:27:36,710 Parameters: domain_dimensions         = [0 0 0]\n",
      "yt : [INFO     ] 2017-06-12 15:27:36,710 Parameters: domain_left_edge          = [ 0.  0.  0.]\n",
      "yt : [INFO     ] 2017-06-12 15:27:36,711 Parameters: domain_right_edge         = [-0. -0. -0.]\n",
      "yt : [INFO     ] 2017-06-12 15:27:36,712 Parameters: cosmological_simulation   = 0.0\n",
      "yt : [INFO     ] 2017-06-12 15:27:37,557 xlim = 0.000000 6.280000\n",
      "yt : [INFO     ] 2017-06-12 15:27:37,558 ylim = 0.000000 6.280000\n",
      "yt : [INFO     ] 2017-06-12 15:27:37,559 xlim = 0.000000 6.280000\n",
      "yt : [INFO     ] 2017-06-12 15:27:37,559 ylim = 0.000000 6.280000\n",
      "yt : [INFO     ] 2017-06-12 15:27:37,561 Making a fixed resolution buffer of (('athena', 'cell_centered_B_z')) 800 by 800\n",
      "yt : [WARNING  ] 2017-06-12 15:27:37,585 Plot image for field ('athena', 'cell_centered_B_z') has both positive and negative values. Min = -0.160238, Max = 0.160240.\n",
      "yt : [WARNING  ] 2017-06-12 15:27:37,586 Switching to symlog colorbar scaling unless linear scaling is specified later\n",
      "yt : [INFO     ] 2017-06-12 15:27:37,870 Saving plot TaylorGreen.0016_Slice_z_cell_centered_B_z.png\n",
      "yt : [INFO     ] 2017-06-12 15:27:38,390 Temporarily setting domain_right_edge = -domain_left_edge. This will be corrected automatically if it is not the case.\n",
      "yt : [WARNING  ] 2017-06-12 15:27:38,392 Assuming 1.0 = 1.0 cm\n",
      "yt : [WARNING  ] 2017-06-12 15:27:38,392 Assuming 1.0 = 1.0 s\n",
      "yt : [WARNING  ] 2017-06-12 15:27:38,393 Assuming 1.0 = 1.0 g\n",
      "yt : [INFO     ] 2017-06-12 15:27:38,397 Parameters: current_time              = 0.8572785\n",
      "yt : [INFO     ] 2017-06-12 15:27:38,397 Parameters: domain_dimensions         = [0 0 0]\n",
      "yt : [INFO     ] 2017-06-12 15:27:38,398 Parameters: domain_left_edge          = [ 0.  0.  0.]\n",
      "yt : [INFO     ] 2017-06-12 15:27:38,398 Parameters: domain_right_edge         = [-0. -0. -0.]\n",
      "yt : [INFO     ] 2017-06-12 15:27:38,399 Parameters: cosmological_simulation   = 0.0\n",
      "yt : [INFO     ] 2017-06-12 15:27:39,246 xlim = 0.000000 6.280000\n",
      "yt : [INFO     ] 2017-06-12 15:27:39,246 ylim = 0.000000 6.280000\n",
      "yt : [INFO     ] 2017-06-12 15:27:39,247 xlim = 0.000000 6.280000\n",
      "yt : [INFO     ] 2017-06-12 15:27:39,248 ylim = 0.000000 6.280000\n",
      "yt : [INFO     ] 2017-06-12 15:27:39,249 Making a fixed resolution buffer of (('athena', 'cell_centered_B_z')) 800 by 800\n",
      "yt : [WARNING  ] 2017-06-12 15:27:39,274 Plot image for field ('athena', 'cell_centered_B_z') has both positive and negative values. Min = -0.158481, Max = 0.158483.\n",
      "yt : [WARNING  ] 2017-06-12 15:27:39,274 Switching to symlog colorbar scaling unless linear scaling is specified later\n",
      "yt : [INFO     ] 2017-06-12 15:27:39,618 Saving plot TaylorGreen.0017_Slice_z_cell_centered_B_z.png\n",
      "yt : [INFO     ] 2017-06-12 15:27:40,034 Temporarily setting domain_right_edge = -domain_left_edge. This will be corrected automatically if it is not the case.\n",
      "yt : [WARNING  ] 2017-06-12 15:27:40,036 Assuming 1.0 = 1.0 cm\n",
      "yt : [WARNING  ] 2017-06-12 15:27:40,036 Assuming 1.0 = 1.0 s\n",
      "yt : [WARNING  ] 2017-06-12 15:27:40,037 Assuming 1.0 = 1.0 g\n",
      "yt : [INFO     ] 2017-06-12 15:27:40,041 Parameters: current_time              = 0.921368\n",
      "yt : [INFO     ] 2017-06-12 15:27:40,042 Parameters: domain_dimensions         = [0 0 0]\n",
      "yt : [INFO     ] 2017-06-12 15:27:40,042 Parameters: domain_left_edge          = [ 0.  0.  0.]\n",
      "yt : [INFO     ] 2017-06-12 15:27:40,043 Parameters: domain_right_edge         = [-0. -0. -0.]\n",
      "yt : [INFO     ] 2017-06-12 15:27:40,044 Parameters: cosmological_simulation   = 0.0\n",
      "yt : [INFO     ] 2017-06-12 15:27:40,994 xlim = 0.000000 6.280000\n",
      "yt : [INFO     ] 2017-06-12 15:27:40,995 ylim = 0.000000 6.280000\n",
      "yt : [INFO     ] 2017-06-12 15:27:40,996 xlim = 0.000000 6.280000\n",
      "yt : [INFO     ] 2017-06-12 15:27:40,996 ylim = 0.000000 6.280000\n",
      "yt : [INFO     ] 2017-06-12 15:27:40,997 Making a fixed resolution buffer of (('athena', 'cell_centered_B_z')) 800 by 800\n",
      "yt : [WARNING  ] 2017-06-12 15:27:41,018 Plot image for field ('athena', 'cell_centered_B_z') has both positive and negative values. Min = -0.156161, Max = 0.156163.\n",
      "yt : [WARNING  ] 2017-06-12 15:27:41,019 Switching to symlog colorbar scaling unless linear scaling is specified later\n",
      "yt : [INFO     ] 2017-06-12 15:27:41,301 Saving plot TaylorGreen.0018_Slice_z_cell_centered_B_z.png\n",
      "yt : [INFO     ] 2017-06-12 15:27:41,875 Temporarily setting domain_right_edge = -domain_left_edge. This will be corrected automatically if it is not the case.\n",
      "yt : [WARNING  ] 2017-06-12 15:27:41,876 Assuming 1.0 = 1.0 cm\n",
      "yt : [WARNING  ] 2017-06-12 15:27:41,877 Assuming 1.0 = 1.0 s\n",
      "yt : [WARNING  ] 2017-06-12 15:27:41,878 Assuming 1.0 = 1.0 g\n",
      "yt : [INFO     ] 2017-06-12 15:27:41,882 Parameters: current_time              = 0.9644122\n",
      "yt : [INFO     ] 2017-06-12 15:27:41,882 Parameters: domain_dimensions         = [0 0 0]\n",
      "yt : [INFO     ] 2017-06-12 15:27:41,883 Parameters: domain_left_edge          = [ 0.  0.  0.]\n",
      "yt : [INFO     ] 2017-06-12 15:27:41,884 Parameters: domain_right_edge         = [-0. -0. -0.]\n",
      "yt : [INFO     ] 2017-06-12 15:27:41,885 Parameters: cosmological_simulation   = 0.0\n",
      "yt : [INFO     ] 2017-06-12 15:27:42,745 xlim = 0.000000 6.280000\n",
      "yt : [INFO     ] 2017-06-12 15:27:42,746 ylim = 0.000000 6.280000\n",
      "yt : [INFO     ] 2017-06-12 15:27:42,747 xlim = 0.000000 6.280000\n",
      "yt : [INFO     ] 2017-06-12 15:27:42,748 ylim = 0.000000 6.280000\n",
      "yt : [INFO     ] 2017-06-12 15:27:42,749 Making a fixed resolution buffer of (('athena', 'cell_centered_B_z')) 800 by 800\n",
      "yt : [WARNING  ] 2017-06-12 15:27:42,774 Plot image for field ('athena', 'cell_centered_B_z') has both positive and negative values. Min = -0.154824, Max = 0.154825.\n",
      "yt : [WARNING  ] 2017-06-12 15:27:42,774 Switching to symlog colorbar scaling unless linear scaling is specified later\n",
      "yt : [INFO     ] 2017-06-12 15:27:43,165 Saving plot TaylorGreen.0019_Slice_z_cell_centered_B_z.png\n",
      "yt : [INFO     ] 2017-06-12 15:27:43,594 Temporarily setting domain_right_edge = -domain_left_edge. This will be corrected automatically if it is not the case.\n",
      "yt : [WARNING  ] 2017-06-12 15:27:43,595 Assuming 1.0 = 1.0 cm\n",
      "yt : [WARNING  ] 2017-06-12 15:27:43,595 Assuming 1.0 = 1.0 s\n",
      "yt : [WARNING  ] 2017-06-12 15:27:43,596 Assuming 1.0 = 1.0 g\n",
      "yt : [INFO     ] 2017-06-12 15:27:43,600 Parameters: current_time              = 1.007717\n",
      "yt : [INFO     ] 2017-06-12 15:27:43,601 Parameters: domain_dimensions         = [0 0 0]\n",
      "yt : [INFO     ] 2017-06-12 15:27:43,601 Parameters: domain_left_edge          = [ 0.  0.  0.]\n",
      "yt : [INFO     ] 2017-06-12 15:27:43,602 Parameters: domain_right_edge         = [-0. -0. -0.]\n",
      "yt : [INFO     ] 2017-06-12 15:27:43,603 Parameters: cosmological_simulation   = 0.0\n",
      "yt : [INFO     ] 2017-06-12 15:27:44,530 xlim = 0.000000 6.280000\n",
      "yt : [INFO     ] 2017-06-12 15:27:44,531 ylim = 0.000000 6.280000\n",
      "yt : [INFO     ] 2017-06-12 15:27:44,532 xlim = 0.000000 6.280000\n",
      "yt : [INFO     ] 2017-06-12 15:27:44,532 ylim = 0.000000 6.280000\n",
      "yt : [INFO     ] 2017-06-12 15:27:44,533 Making a fixed resolution buffer of (('athena', 'cell_centered_B_z')) 800 by 800\n",
      "yt : [WARNING  ] 2017-06-12 15:27:44,554 Plot image for field ('athena', 'cell_centered_B_z') has both positive and negative values. Min = -0.153658, Max = 0.153659.\n",
      "yt : [WARNING  ] 2017-06-12 15:27:44,555 Switching to symlog colorbar scaling unless linear scaling is specified later\n",
      "yt : [INFO     ] 2017-06-12 15:27:44,834 Saving plot TaylorGreen.0020_Slice_z_cell_centered_B_z.png\n",
      "yt : [INFO     ] 2017-06-12 15:27:45,363 Temporarily setting domain_right_edge = -domain_left_edge. This will be corrected automatically if it is not the case.\n",
      "yt : [WARNING  ] 2017-06-12 15:27:45,364 Assuming 1.0 = 1.0 cm\n",
      "yt : [WARNING  ] 2017-06-12 15:27:45,365 Assuming 1.0 = 1.0 s\n",
      "yt : [WARNING  ] 2017-06-12 15:27:45,365 Assuming 1.0 = 1.0 g\n",
      "yt : [INFO     ] 2017-06-12 15:27:45,370 Parameters: current_time              = 1.051274\n",
      "yt : [INFO     ] 2017-06-12 15:27:45,371 Parameters: domain_dimensions         = [0 0 0]\n",
      "yt : [INFO     ] 2017-06-12 15:27:45,371 Parameters: domain_left_edge          = [ 0.  0.  0.]\n",
      "yt : [INFO     ] 2017-06-12 15:27:45,372 Parameters: domain_right_edge         = [-0. -0. -0.]\n",
      "yt : [INFO     ] 2017-06-12 15:27:45,373 Parameters: cosmological_simulation   = 0.0\n",
      "yt : [INFO     ] 2017-06-12 15:27:46,232 xlim = 0.000000 6.280000\n",
      "yt : [INFO     ] 2017-06-12 15:27:46,232 ylim = 0.000000 6.280000\n",
      "yt : [INFO     ] 2017-06-12 15:27:46,233 xlim = 0.000000 6.280000\n",
      "yt : [INFO     ] 2017-06-12 15:27:46,233 ylim = 0.000000 6.280000\n",
      "yt : [INFO     ] 2017-06-12 15:27:46,235 Making a fixed resolution buffer of (('athena', 'cell_centered_B_z')) 800 by 800\n",
      "yt : [WARNING  ] 2017-06-12 15:27:46,260 Plot image for field ('athena', 'cell_centered_B_z') has both positive and negative values. Min = -0.152687, Max = 0.152688.\n",
      "yt : [WARNING  ] 2017-06-12 15:27:46,261 Switching to symlog colorbar scaling unless linear scaling is specified later\n",
      "yt : [INFO     ] 2017-06-12 15:27:46,627 Saving plot TaylorGreen.0021_Slice_z_cell_centered_B_z.png\n",
      "yt : [INFO     ] 2017-06-12 15:27:47,061 Temporarily setting domain_right_edge = -domain_left_edge. This will be corrected automatically if it is not the case.\n",
      "yt : [WARNING  ] 2017-06-12 15:27:47,062 Assuming 1.0 = 1.0 cm\n",
      "yt : [WARNING  ] 2017-06-12 15:27:47,063 Assuming 1.0 = 1.0 s\n",
      "yt : [WARNING  ] 2017-06-12 15:27:47,063 Assuming 1.0 = 1.0 g\n",
      "yt : [INFO     ] 2017-06-12 15:27:47,068 Parameters: current_time              = 1.117051\n",
      "yt : [INFO     ] 2017-06-12 15:27:47,068 Parameters: domain_dimensions         = [0 0 0]\n",
      "yt : [INFO     ] 2017-06-12 15:27:47,069 Parameters: domain_left_edge          = [ 0.  0.  0.]\n",
      "yt : [INFO     ] 2017-06-12 15:27:47,069 Parameters: domain_right_edge         = [-0. -0. -0.]\n",
      "yt : [INFO     ] 2017-06-12 15:27:47,070 Parameters: cosmological_simulation   = 0.0\n",
      "yt : [INFO     ] 2017-06-12 15:27:48,005 xlim = 0.000000 6.280000\n",
      "yt : [INFO     ] 2017-06-12 15:27:48,005 ylim = 0.000000 6.280000\n",
      "yt : [INFO     ] 2017-06-12 15:27:48,006 xlim = 0.000000 6.280000\n",
      "yt : [INFO     ] 2017-06-12 15:27:48,007 ylim = 0.000000 6.280000\n",
      "yt : [INFO     ] 2017-06-12 15:27:48,008 Making a fixed resolution buffer of (('athena', 'cell_centered_B_z')) 800 by 800\n",
      "yt : [WARNING  ] 2017-06-12 15:27:48,030 Plot image for field ('athena', 'cell_centered_B_z') has both positive and negative values. Min = -0.151618, Max = 0.151618.\n",
      "yt : [WARNING  ] 2017-06-12 15:27:48,031 Switching to symlog colorbar scaling unless linear scaling is specified later\n",
      "yt : [INFO     ] 2017-06-12 15:27:48,321 Saving plot TaylorGreen.0022_Slice_z_cell_centered_B_z.png\n",
      "yt : [INFO     ] 2017-06-12 15:27:48,856 Temporarily setting domain_right_edge = -domain_left_edge. This will be corrected automatically if it is not the case.\n",
      "yt : [WARNING  ] 2017-06-12 15:27:48,857 Assuming 1.0 = 1.0 cm\n",
      "yt : [WARNING  ] 2017-06-12 15:27:48,858 Assuming 1.0 = 1.0 s\n",
      "yt : [WARNING  ] 2017-06-12 15:27:48,859 Assuming 1.0 = 1.0 g\n",
      "yt : [INFO     ] 2017-06-12 15:27:48,863 Parameters: current_time              = 1.161157\n",
      "yt : [INFO     ] 2017-06-12 15:27:48,863 Parameters: domain_dimensions         = [0 0 0]\n",
      "yt : [INFO     ] 2017-06-12 15:27:48,864 Parameters: domain_left_edge          = [ 0.  0.  0.]\n",
      "yt : [INFO     ] 2017-06-12 15:27:48,865 Parameters: domain_right_edge         = [-0. -0. -0.]\n",
      "yt : [INFO     ] 2017-06-12 15:27:48,865 Parameters: cosmological_simulation   = 0.0\n",
      "yt : [INFO     ] 2017-06-12 15:27:49,728 xlim = 0.000000 6.280000\n",
      "yt : [INFO     ] 2017-06-12 15:27:49,729 ylim = 0.000000 6.280000\n",
      "yt : [INFO     ] 2017-06-12 15:27:49,730 xlim = 0.000000 6.280000\n",
      "yt : [INFO     ] 2017-06-12 15:27:49,730 ylim = 0.000000 6.280000\n",
      "yt : [INFO     ] 2017-06-12 15:27:49,731 Making a fixed resolution buffer of (('athena', 'cell_centered_B_z')) 800 by 800\n",
      "yt : [WARNING  ] 2017-06-12 15:27:49,756 Plot image for field ('athena', 'cell_centered_B_z') has both positive and negative values. Min = -0.151131, Max = 0.151132.\n",
      "yt : [WARNING  ] 2017-06-12 15:27:49,756 Switching to symlog colorbar scaling unless linear scaling is specified later\n",
      "yt : [INFO     ] 2017-06-12 15:27:50,124 Saving plot TaylorGreen.0023_Slice_z_cell_centered_B_z.png\n",
      "yt : [INFO     ] 2017-06-12 15:27:50,568 Temporarily setting domain_right_edge = -domain_left_edge. This will be corrected automatically if it is not the case.\n",
      "yt : [WARNING  ] 2017-06-12 15:27:50,569 Assuming 1.0 = 1.0 cm\n",
      "yt : [WARNING  ] 2017-06-12 15:27:50,570 Assuming 1.0 = 1.0 s\n",
      "yt : [WARNING  ] 2017-06-12 15:27:50,570 Assuming 1.0 = 1.0 g\n",
      "yt : [INFO     ] 2017-06-12 15:27:50,575 Parameters: current_time              = 1.205424\n",
      "yt : [INFO     ] 2017-06-12 15:27:50,575 Parameters: domain_dimensions         = [0 0 0]\n",
      "yt : [INFO     ] 2017-06-12 15:27:50,576 Parameters: domain_left_edge          = [ 0.  0.  0.]\n",
      "yt : [INFO     ] 2017-06-12 15:27:50,576 Parameters: domain_right_edge         = [-0. -0. -0.]\n",
      "yt : [INFO     ] 2017-06-12 15:27:50,577 Parameters: cosmological_simulation   = 0.0\n",
      "yt : [INFO     ] 2017-06-12 15:27:51,510 xlim = 0.000000 6.280000\n",
      "yt : [INFO     ] 2017-06-12 15:27:51,510 ylim = 0.000000 6.280000\n",
      "yt : [INFO     ] 2017-06-12 15:27:51,511 xlim = 0.000000 6.280000\n",
      "yt : [INFO     ] 2017-06-12 15:27:51,512 ylim = 0.000000 6.280000\n",
      "yt : [INFO     ] 2017-06-12 15:27:51,513 Making a fixed resolution buffer of (('athena', 'cell_centered_B_z')) 800 by 800\n",
      "yt : [WARNING  ] 2017-06-12 15:27:51,534 Plot image for field ('athena', 'cell_centered_B_z') has both positive and negative values. Min = -0.150817, Max = 0.150819.\n",
      "yt : [WARNING  ] 2017-06-12 15:27:51,535 Switching to symlog colorbar scaling unless linear scaling is specified later\n",
      "yt : [INFO     ] 2017-06-12 15:27:51,809 Saving plot TaylorGreen.0024_Slice_z_cell_centered_B_z.png\n",
      "yt : [INFO     ] 2017-06-12 15:27:52,335 Temporarily setting domain_right_edge = -domain_left_edge. This will be corrected automatically if it is not the case.\n",
      "yt : [WARNING  ] 2017-06-12 15:27:52,336 Assuming 1.0 = 1.0 cm\n",
      "yt : [WARNING  ] 2017-06-12 15:27:52,337 Assuming 1.0 = 1.0 s\n",
      "yt : [WARNING  ] 2017-06-12 15:27:52,337 Assuming 1.0 = 1.0 g\n",
      "yt : [INFO     ] 2017-06-12 15:27:52,342 Parameters: current_time              = 1.272023\n",
      "yt : [INFO     ] 2017-06-12 15:27:52,342 Parameters: domain_dimensions         = [0 0 0]\n",
      "yt : [INFO     ] 2017-06-12 15:27:52,343 Parameters: domain_left_edge          = [ 0.  0.  0.]\n",
      "yt : [INFO     ] 2017-06-12 15:27:52,343 Parameters: domain_right_edge         = [-0. -0. -0.]\n",
      "yt : [INFO     ] 2017-06-12 15:27:52,344 Parameters: cosmological_simulation   = 0.0\n",
      "yt : [INFO     ] 2017-06-12 15:27:53,202 xlim = 0.000000 6.280000\n",
      "yt : [INFO     ] 2017-06-12 15:27:53,203 ylim = 0.000000 6.280000\n",
      "yt : [INFO     ] 2017-06-12 15:27:53,204 xlim = 0.000000 6.280000\n",
      "yt : [INFO     ] 2017-06-12 15:27:53,204 ylim = 0.000000 6.280000\n",
      "yt : [INFO     ] 2017-06-12 15:27:53,205 Making a fixed resolution buffer of (('athena', 'cell_centered_B_z')) 800 by 800\n",
      "yt : [WARNING  ] 2017-06-12 15:27:53,230 Plot image for field ('athena', 'cell_centered_B_z') has both positive and negative values. Min = -0.150634, Max = 0.150636.\n",
      "yt : [WARNING  ] 2017-06-12 15:27:53,231 Switching to symlog colorbar scaling unless linear scaling is specified later\n",
      "yt : [INFO     ] 2017-06-12 15:27:53,601 Saving plot TaylorGreen.0025_Slice_z_cell_centered_B_z.png\n",
      "yt : [INFO     ] 2017-06-12 15:27:54,037 Temporarily setting domain_right_edge = -domain_left_edge. This will be corrected automatically if it is not the case.\n",
      "yt : [WARNING  ] 2017-06-12 15:27:54,038 Assuming 1.0 = 1.0 cm\n",
      "yt : [WARNING  ] 2017-06-12 15:27:54,039 Assuming 1.0 = 1.0 s\n",
      "yt : [WARNING  ] 2017-06-12 15:27:54,039 Assuming 1.0 = 1.0 g\n",
      "yt : [INFO     ] 2017-06-12 15:27:54,044 Parameters: current_time              = 1.316491\n",
      "yt : [INFO     ] 2017-06-12 15:27:54,044 Parameters: domain_dimensions         = [0 0 0]\n",
      "yt : [INFO     ] 2017-06-12 15:27:54,045 Parameters: domain_left_edge          = [ 0.  0.  0.]\n",
      "yt : [INFO     ] 2017-06-12 15:27:54,046 Parameters: domain_right_edge         = [-0. -0. -0.]\n",
      "yt : [INFO     ] 2017-06-12 15:27:54,046 Parameters: cosmological_simulation   = 0.0\n",
      "yt : [INFO     ] 2017-06-12 15:27:54,988 xlim = 0.000000 6.280000\n",
      "yt : [INFO     ] 2017-06-12 15:27:54,988 ylim = 0.000000 6.280000\n",
      "yt : [INFO     ] 2017-06-12 15:27:54,990 xlim = 0.000000 6.280000\n",
      "yt : [INFO     ] 2017-06-12 15:27:54,990 ylim = 0.000000 6.280000\n",
      "yt : [INFO     ] 2017-06-12 15:27:54,991 Making a fixed resolution buffer of (('athena', 'cell_centered_B_z')) 800 by 800\n",
      "yt : [WARNING  ] 2017-06-12 15:27:55,013 Plot image for field ('athena', 'cell_centered_B_z') has both positive and negative values. Min = -0.150719, Max = 0.150721.\n",
      "yt : [WARNING  ] 2017-06-12 15:27:55,013 Switching to symlog colorbar scaling unless linear scaling is specified later\n",
      "yt : [INFO     ] 2017-06-12 15:27:55,299 Saving plot TaylorGreen.0026_Slice_z_cell_centered_B_z.png\n",
      "yt : [INFO     ] 2017-06-12 15:27:55,845 Temporarily setting domain_right_edge = -domain_left_edge. This will be corrected automatically if it is not the case.\n",
      "yt : [WARNING  ] 2017-06-12 15:27:55,847 Assuming 1.0 = 1.0 cm\n",
      "yt : [WARNING  ] 2017-06-12 15:27:55,847 Assuming 1.0 = 1.0 s\n",
      "yt : [WARNING  ] 2017-06-12 15:27:55,848 Assuming 1.0 = 1.0 g\n",
      "yt : [INFO     ] 2017-06-12 15:27:55,852 Parameters: current_time              = 1.360951\n",
      "yt : [INFO     ] 2017-06-12 15:27:55,852 Parameters: domain_dimensions         = [0 0 0]\n",
      "yt : [INFO     ] 2017-06-12 15:27:55,853 Parameters: domain_left_edge          = [ 0.  0.  0.]\n",
      "yt : [INFO     ] 2017-06-12 15:27:55,854 Parameters: domain_right_edge         = [-0. -0. -0.]\n",
      "yt : [INFO     ] 2017-06-12 15:27:55,855 Parameters: cosmological_simulation   = 0.0\n",
      "yt : [INFO     ] 2017-06-12 15:27:56,722 xlim = 0.000000 6.280000\n",
      "yt : [INFO     ] 2017-06-12 15:27:56,722 ylim = 0.000000 6.280000\n",
      "yt : [INFO     ] 2017-06-12 15:27:56,723 xlim = 0.000000 6.280000\n",
      "yt : [INFO     ] 2017-06-12 15:27:56,724 ylim = 0.000000 6.280000\n",
      "yt : [INFO     ] 2017-06-12 15:27:56,725 Making a fixed resolution buffer of (('athena', 'cell_centered_B_z')) 800 by 800\n",
      "yt : [WARNING  ] 2017-06-12 15:27:56,751 Plot image for field ('athena', 'cell_centered_B_z') has both positive and negative values. Min = -0.150996, Max = 0.150998.\n",
      "yt : [WARNING  ] 2017-06-12 15:27:56,752 Switching to symlog colorbar scaling unless linear scaling is specified later\n",
      "yt : [INFO     ] 2017-06-12 15:27:57,134 Saving plot TaylorGreen.0027_Slice_z_cell_centered_B_z.png\n",
      "yt : [INFO     ] 2017-06-12 15:27:57,570 Temporarily setting domain_right_edge = -domain_left_edge. This will be corrected automatically if it is not the case.\n",
      "yt : [WARNING  ] 2017-06-12 15:27:57,571 Assuming 1.0 = 1.0 cm\n",
      "yt : [WARNING  ] 2017-06-12 15:27:57,571 Assuming 1.0 = 1.0 s\n",
      "yt : [WARNING  ] 2017-06-12 15:27:57,572 Assuming 1.0 = 1.0 g\n",
      "yt : [INFO     ] 2017-06-12 15:27:57,576 Parameters: current_time              = 1.405363\n",
      "yt : [INFO     ] 2017-06-12 15:27:57,577 Parameters: domain_dimensions         = [0 0 0]\n",
      "yt : [INFO     ] 2017-06-12 15:27:57,578 Parameters: domain_left_edge          = [ 0.  0.  0.]\n",
      "yt : [INFO     ] 2017-06-12 15:27:57,578 Parameters: domain_right_edge         = [-0. -0. -0.]\n",
      "yt : [INFO     ] 2017-06-12 15:27:57,579 Parameters: cosmological_simulation   = 0.0\n",
      "yt : [INFO     ] 2017-06-12 15:27:58,516 xlim = 0.000000 6.280000\n",
      "yt : [INFO     ] 2017-06-12 15:27:58,516 ylim = 0.000000 6.280000\n",
      "yt : [INFO     ] 2017-06-12 15:27:58,517 xlim = 0.000000 6.280000\n",
      "yt : [INFO     ] 2017-06-12 15:27:58,518 ylim = 0.000000 6.280000\n",
      "yt : [INFO     ] 2017-06-12 15:27:58,519 Making a fixed resolution buffer of (('athena', 'cell_centered_B_z')) 800 by 800\n",
      "yt : [WARNING  ] 2017-06-12 15:27:58,540 Plot image for field ('athena', 'cell_centered_B_z') has both positive and negative values. Min = -0.151452, Max = 0.151454.\n",
      "yt : [WARNING  ] 2017-06-12 15:27:58,541 Switching to symlog colorbar scaling unless linear scaling is specified later\n",
      "yt : [INFO     ] 2017-06-12 15:27:58,827 Saving plot TaylorGreen.0028_Slice_z_cell_centered_B_z.png\n",
      "yt : [INFO     ] 2017-06-12 15:27:59,363 Temporarily setting domain_right_edge = -domain_left_edge. This will be corrected automatically if it is not the case.\n",
      "yt : [WARNING  ] 2017-06-12 15:27:59,364 Assuming 1.0 = 1.0 cm\n",
      "yt : [WARNING  ] 2017-06-12 15:27:59,365 Assuming 1.0 = 1.0 s\n",
      "yt : [WARNING  ] 2017-06-12 15:27:59,365 Assuming 1.0 = 1.0 g\n",
      "yt : [INFO     ] 2017-06-12 15:27:59,369 Parameters: current_time              = 1.471846\n",
      "yt : [INFO     ] 2017-06-12 15:27:59,370 Parameters: domain_dimensions         = [0 0 0]\n",
      "yt : [INFO     ] 2017-06-12 15:27:59,372 Parameters: domain_left_edge          = [ 0.  0.  0.]\n",
      "yt : [INFO     ] 2017-06-12 15:27:59,373 Parameters: domain_right_edge         = [-0. -0. -0.]\n",
      "yt : [INFO     ] 2017-06-12 15:27:59,373 Parameters: cosmological_simulation   = 0.0\n",
      "yt : [INFO     ] 2017-06-12 15:28:00,247 xlim = 0.000000 6.280000\n",
      "yt : [INFO     ] 2017-06-12 15:28:00,248 ylim = 0.000000 6.280000\n",
      "yt : [INFO     ] 2017-06-12 15:28:00,249 xlim = 0.000000 6.280000\n",
      "yt : [INFO     ] 2017-06-12 15:28:00,249 ylim = 0.000000 6.280000\n",
      "yt : [INFO     ] 2017-06-12 15:28:00,250 Making a fixed resolution buffer of (('athena', 'cell_centered_B_z')) 800 by 800\n",
      "yt : [WARNING  ] 2017-06-12 15:28:00,276 Plot image for field ('athena', 'cell_centered_B_z') has both positive and negative values. Min = -0.152312, Max = 0.152314.\n",
      "yt : [WARNING  ] 2017-06-12 15:28:00,277 Switching to symlog colorbar scaling unless linear scaling is specified later\n",
      "yt : [INFO     ] 2017-06-12 15:28:00,650 Saving plot TaylorGreen.0029_Slice_z_cell_centered_B_z.png\n",
      "yt : [INFO     ] 2017-06-12 15:28:01,088 Temporarily setting domain_right_edge = -domain_left_edge. This will be corrected automatically if it is not the case.\n",
      "yt : [WARNING  ] 2017-06-12 15:28:01,089 Assuming 1.0 = 1.0 cm\n",
      "yt : [WARNING  ] 2017-06-12 15:28:01,089 Assuming 1.0 = 1.0 s\n",
      "yt : [WARNING  ] 2017-06-12 15:28:01,090 Assuming 1.0 = 1.0 g\n",
      "yt : [INFO     ] 2017-06-12 15:28:01,094 Parameters: current_time              = 1.51608\n",
      "yt : [INFO     ] 2017-06-12 15:28:01,094 Parameters: domain_dimensions         = [0 0 0]\n",
      "yt : [INFO     ] 2017-06-12 15:28:01,095 Parameters: domain_left_edge          = [ 0.  0.  0.]\n",
      "yt : [INFO     ] 2017-06-12 15:28:01,096 Parameters: domain_right_edge         = [-0. -0. -0.]\n",
      "yt : [INFO     ] 2017-06-12 15:28:01,096 Parameters: cosmological_simulation   = 0.0\n",
      "yt : [INFO     ] 2017-06-12 15:28:02,034 xlim = 0.000000 6.280000\n",
      "yt : [INFO     ] 2017-06-12 15:28:02,034 ylim = 0.000000 6.280000\n",
      "yt : [INFO     ] 2017-06-12 15:28:02,035 xlim = 0.000000 6.280000\n",
      "yt : [INFO     ] 2017-06-12 15:28:02,036 ylim = 0.000000 6.280000\n",
      "yt : [INFO     ] 2017-06-12 15:28:02,037 Making a fixed resolution buffer of (('athena', 'cell_centered_B_z')) 800 by 800\n",
      "yt : [WARNING  ] 2017-06-12 15:28:02,058 Plot image for field ('athena', 'cell_centered_B_z') has both positive and negative values. Min = -0.152988, Max = 0.152992.\n",
      "yt : [WARNING  ] 2017-06-12 15:28:02,059 Switching to symlog colorbar scaling unless linear scaling is specified later\n",
      "yt : [INFO     ] 2017-06-12 15:28:02,348 Saving plot TaylorGreen.0030_Slice_z_cell_centered_B_z.png\n",
      "yt : [INFO     ] 2017-06-12 15:28:02,879 Temporarily setting domain_right_edge = -domain_left_edge. This will be corrected automatically if it is not the case.\n",
      "yt : [WARNING  ] 2017-06-12 15:28:02,881 Assuming 1.0 = 1.0 cm\n",
      "yt : [WARNING  ] 2017-06-12 15:28:02,881 Assuming 1.0 = 1.0 s\n",
      "yt : [WARNING  ] 2017-06-12 15:28:02,882 Assuming 1.0 = 1.0 g\n",
      "yt : [INFO     ] 2017-06-12 15:28:02,886 Parameters: current_time              = 1.56026\n",
      "yt : [INFO     ] 2017-06-12 15:28:02,886 Parameters: domain_dimensions         = [0 0 0]\n",
      "yt : [INFO     ] 2017-06-12 15:28:02,887 Parameters: domain_left_edge          = [ 0.  0.  0.]\n",
      "yt : [INFO     ] 2017-06-12 15:28:02,889 Parameters: domain_right_edge         = [-0. -0. -0.]\n",
      "yt : [INFO     ] 2017-06-12 15:28:02,890 Parameters: cosmological_simulation   = 0.0\n",
      "yt : [INFO     ] 2017-06-12 15:28:03,759 xlim = 0.000000 6.280000\n",
      "yt : [INFO     ] 2017-06-12 15:28:03,759 ylim = 0.000000 6.280000\n",
      "yt : [INFO     ] 2017-06-12 15:28:03,760 xlim = 0.000000 6.280000\n",
      "yt : [INFO     ] 2017-06-12 15:28:03,761 ylim = 0.000000 6.280000\n",
      "yt : [INFO     ] 2017-06-12 15:28:03,762 Making a fixed resolution buffer of (('athena', 'cell_centered_B_z')) 800 by 800\n",
      "yt : [WARNING  ] 2017-06-12 15:28:03,787 Plot image for field ('athena', 'cell_centered_B_z') has both positive and negative values. Min = -0.153757, Max = 0.153762.\n",
      "yt : [WARNING  ] 2017-06-12 15:28:03,787 Switching to symlog colorbar scaling unless linear scaling is specified later\n",
      "yt : [INFO     ] 2017-06-12 15:28:04,151 Saving plot TaylorGreen.0031_Slice_z_cell_centered_B_z.png\n",
      "yt : [INFO     ] 2017-06-12 15:28:04,575 Temporarily setting domain_right_edge = -domain_left_edge. This will be corrected automatically if it is not the case.\n",
      "yt : [WARNING  ] 2017-06-12 15:28:04,576 Assuming 1.0 = 1.0 cm\n",
      "yt : [WARNING  ] 2017-06-12 15:28:04,577 Assuming 1.0 = 1.0 s\n",
      "yt : [WARNING  ] 2017-06-12 15:28:04,577 Assuming 1.0 = 1.0 g\n",
      "yt : [INFO     ] 2017-06-12 15:28:04,582 Parameters: current_time              = 1.604408\n",
      "yt : [INFO     ] 2017-06-12 15:28:04,582 Parameters: domain_dimensions         = [0 0 0]\n",
      "yt : [INFO     ] 2017-06-12 15:28:04,583 Parameters: domain_left_edge          = [ 0.  0.  0.]\n",
      "yt : [INFO     ] 2017-06-12 15:28:04,583 Parameters: domain_right_edge         = [-0. -0. -0.]\n",
      "yt : [INFO     ] 2017-06-12 15:28:04,584 Parameters: cosmological_simulation   = 0.0\n",
      "yt : [INFO     ] 2017-06-12 15:28:05,509 xlim = 0.000000 6.280000\n",
      "yt : [INFO     ] 2017-06-12 15:28:05,509 ylim = 0.000000 6.280000\n",
      "yt : [INFO     ] 2017-06-12 15:28:05,510 xlim = 0.000000 6.280000\n",
      "yt : [INFO     ] 2017-06-12 15:28:05,510 ylim = 0.000000 6.280000\n",
      "yt : [INFO     ] 2017-06-12 15:28:05,511 Making a fixed resolution buffer of (('athena', 'cell_centered_B_z')) 800 by 800\n",
      "yt : [WARNING  ] 2017-06-12 15:28:05,531 Plot image for field ('athena', 'cell_centered_B_z') has both positive and negative values. Min = -0.154597, Max = 0.154603.\n",
      "yt : [WARNING  ] 2017-06-12 15:28:05,532 Switching to symlog colorbar scaling unless linear scaling is specified later\n",
      "yt : [INFO     ] 2017-06-12 15:28:05,810 Saving plot TaylorGreen.0032_Slice_z_cell_centered_B_z.png\n",
      "yt : [INFO     ] 2017-06-12 15:28:06,350 Temporarily setting domain_right_edge = -domain_left_edge. This will be corrected automatically if it is not the case.\n",
      "yt : [WARNING  ] 2017-06-12 15:28:06,352 Assuming 1.0 = 1.0 cm\n",
      "yt : [WARNING  ] 2017-06-12 15:28:06,352 Assuming 1.0 = 1.0 s\n",
      "yt : [WARNING  ] 2017-06-12 15:28:06,353 Assuming 1.0 = 1.0 g\n",
      "yt : [INFO     ] 2017-06-12 15:28:06,358 Parameters: current_time              = 1.670184\n",
      "yt : [INFO     ] 2017-06-12 15:28:06,358 Parameters: domain_dimensions         = [0 0 0]\n",
      "yt : [INFO     ] 2017-06-12 15:28:06,359 Parameters: domain_left_edge          = [ 0.  0.  0.]\n",
      "yt : [INFO     ] 2017-06-12 15:28:06,360 Parameters: domain_right_edge         = [-0. -0. -0.]\n",
      "yt : [INFO     ] 2017-06-12 15:28:06,360 Parameters: cosmological_simulation   = 0.0\n",
      "yt : [INFO     ] 2017-06-12 15:28:07,220 xlim = 0.000000 6.280000\n",
      "yt : [INFO     ] 2017-06-12 15:28:07,221 ylim = 0.000000 6.280000\n",
      "yt : [INFO     ] 2017-06-12 15:28:07,223 xlim = 0.000000 6.280000\n",
      "yt : [INFO     ] 2017-06-12 15:28:07,224 ylim = 0.000000 6.280000\n",
      "yt : [INFO     ] 2017-06-12 15:28:07,226 Making a fixed resolution buffer of (('athena', 'cell_centered_B_z')) 800 by 800\n",
      "yt : [WARNING  ] 2017-06-12 15:28:07,251 Plot image for field ('athena', 'cell_centered_B_z') has both positive and negative values. Min = -0.155897, Max = 0.155903.\n",
      "yt : [WARNING  ] 2017-06-12 15:28:07,252 Switching to symlog colorbar scaling unless linear scaling is specified later\n",
      "yt : [INFO     ] 2017-06-12 15:28:07,636 Saving plot TaylorGreen.0033_Slice_z_cell_centered_B_z.png\n",
      "yt : [INFO     ] 2017-06-12 15:28:08,067 Temporarily setting domain_right_edge = -domain_left_edge. This will be corrected automatically if it is not the case.\n",
      "yt : [WARNING  ] 2017-06-12 15:28:08,068 Assuming 1.0 = 1.0 cm\n",
      "yt : [WARNING  ] 2017-06-12 15:28:08,069 Assuming 1.0 = 1.0 s\n",
      "yt : [WARNING  ] 2017-06-12 15:28:08,069 Assuming 1.0 = 1.0 g\n",
      "yt : [INFO     ] 2017-06-12 15:28:08,074 Parameters: current_time              = 1.713605\n",
      "yt : [INFO     ] 2017-06-12 15:28:08,074 Parameters: domain_dimensions         = [0 0 0]\n",
      "yt : [INFO     ] 2017-06-12 15:28:08,075 Parameters: domain_left_edge          = [ 0.  0.  0.]\n",
      "yt : [INFO     ] 2017-06-12 15:28:08,076 Parameters: domain_right_edge         = [-0. -0. -0.]\n",
      "yt : [INFO     ] 2017-06-12 15:28:08,076 Parameters: cosmological_simulation   = 0.0\n",
      "yt : [INFO     ] 2017-06-12 15:28:09,072 xlim = 0.000000 6.280000\n",
      "yt : [INFO     ] 2017-06-12 15:28:09,072 ylim = 0.000000 6.280000\n",
      "yt : [INFO     ] 2017-06-12 15:28:09,074 xlim = 0.000000 6.280000\n",
      "yt : [INFO     ] 2017-06-12 15:28:09,075 ylim = 0.000000 6.280000\n",
      "yt : [INFO     ] 2017-06-12 15:28:09,076 Making a fixed resolution buffer of (('athena', 'cell_centered_B_z')) 800 by 800\n",
      "yt : [WARNING  ] 2017-06-12 15:28:09,100 Plot image for field ('athena', 'cell_centered_B_z') has both positive and negative values. Min = -0.156742, Max = 0.156748.\n",
      "yt : [WARNING  ] 2017-06-12 15:28:09,100 Switching to symlog colorbar scaling unless linear scaling is specified later\n",
      "yt : [INFO     ] 2017-06-12 15:28:09,406 Saving plot TaylorGreen.0034_Slice_z_cell_centered_B_z.png\n",
      "yt : [INFO     ] 2017-06-12 15:28:10,003 Temporarily setting domain_right_edge = -domain_left_edge. This will be corrected automatically if it is not the case.\n",
      "yt : [WARNING  ] 2017-06-12 15:28:10,004 Assuming 1.0 = 1.0 cm\n",
      "yt : [WARNING  ] 2017-06-12 15:28:10,005 Assuming 1.0 = 1.0 s\n",
      "yt : [WARNING  ] 2017-06-12 15:28:10,005 Assuming 1.0 = 1.0 g\n",
      "yt : [INFO     ] 2017-06-12 15:28:10,010 Parameters: current_time              = 1.75671\n",
      "yt : [INFO     ] 2017-06-12 15:28:10,010 Parameters: domain_dimensions         = [0 0 0]\n",
      "yt : [INFO     ] 2017-06-12 15:28:10,011 Parameters: domain_left_edge          = [ 0.  0.  0.]\n",
      "yt : [INFO     ] 2017-06-12 15:28:10,011 Parameters: domain_right_edge         = [-0. -0. -0.]\n",
      "yt : [INFO     ] 2017-06-12 15:28:10,012 Parameters: cosmological_simulation   = 0.0\n",
      "yt : [INFO     ] 2017-06-12 15:28:10,993 xlim = 0.000000 6.280000\n",
      "yt : [INFO     ] 2017-06-12 15:28:10,993 ylim = 0.000000 6.280000\n",
      "yt : [INFO     ] 2017-06-12 15:28:10,994 xlim = 0.000000 6.280000\n",
      "yt : [INFO     ] 2017-06-12 15:28:10,995 ylim = 0.000000 6.280000\n",
      "yt : [INFO     ] 2017-06-12 15:28:10,996 Making a fixed resolution buffer of (('athena', 'cell_centered_B_z')) 800 by 800\n",
      "yt : [WARNING  ] 2017-06-12 15:28:11,026 Plot image for field ('athena', 'cell_centered_B_z') has both positive and negative values. Min = -0.157546, Max = 0.157550.\n",
      "yt : [WARNING  ] 2017-06-12 15:28:11,026 Switching to symlog colorbar scaling unless linear scaling is specified later\n",
      "yt : [INFO     ] 2017-06-12 15:28:11,405 Saving plot TaylorGreen.0035_Slice_z_cell_centered_B_z.png\n",
      "yt : [INFO     ] 2017-06-12 15:28:11,913 Temporarily setting domain_right_edge = -domain_left_edge. This will be corrected automatically if it is not the case.\n",
      "yt : [WARNING  ] 2017-06-12 15:28:11,914 Assuming 1.0 = 1.0 cm\n",
      "yt : [WARNING  ] 2017-06-12 15:28:11,915 Assuming 1.0 = 1.0 s\n",
      "yt : [WARNING  ] 2017-06-12 15:28:11,916 Assuming 1.0 = 1.0 g\n",
      "yt : [INFO     ] 2017-06-12 15:28:11,921 Parameters: current_time              = 1.820836\n",
      "yt : [INFO     ] 2017-06-12 15:28:11,921 Parameters: domain_dimensions         = [0 0 0]\n",
      "yt : [INFO     ] 2017-06-12 15:28:11,922 Parameters: domain_left_edge          = [ 0.  0.  0.]\n",
      "yt : [INFO     ] 2017-06-12 15:28:11,923 Parameters: domain_right_edge         = [-0. -0. -0.]\n",
      "yt : [INFO     ] 2017-06-12 15:28:11,923 Parameters: cosmological_simulation   = 0.0\n",
      "yt : [INFO     ] 2017-06-12 15:28:12,951 xlim = 0.000000 6.280000\n",
      "yt : [INFO     ] 2017-06-12 15:28:12,951 ylim = 0.000000 6.280000\n",
      "yt : [INFO     ] 2017-06-12 15:28:12,952 xlim = 0.000000 6.280000\n",
      "yt : [INFO     ] 2017-06-12 15:28:12,953 ylim = 0.000000 6.280000\n",
      "yt : [INFO     ] 2017-06-12 15:28:12,954 Making a fixed resolution buffer of (('athena', 'cell_centered_B_z')) 800 by 800\n",
      "yt : [WARNING  ] 2017-06-12 15:28:12,983 Plot image for field ('athena', 'cell_centered_B_z') has both positive and negative values. Min = -0.158632, Max = 0.158635.\n",
      "yt : [WARNING  ] 2017-06-12 15:28:12,983 Switching to symlog colorbar scaling unless linear scaling is specified later\n",
      "yt : [INFO     ] 2017-06-12 15:28:13,320 Saving plot TaylorGreen.0036_Slice_z_cell_centered_B_z.png\n",
      "yt : [INFO     ] 2017-06-12 15:28:13,883 Temporarily setting domain_right_edge = -domain_left_edge. This will be corrected automatically if it is not the case.\n",
      "yt : [WARNING  ] 2017-06-12 15:28:13,884 Assuming 1.0 = 1.0 cm\n",
      "yt : [WARNING  ] 2017-06-12 15:28:13,885 Assuming 1.0 = 1.0 s\n",
      "yt : [WARNING  ] 2017-06-12 15:28:13,885 Assuming 1.0 = 1.0 g\n",
      "yt : [INFO     ] 2017-06-12 15:28:13,891 Parameters: current_time              = 1.863276\n",
      "yt : [INFO     ] 2017-06-12 15:28:13,891 Parameters: domain_dimensions         = [0 0 0]\n",
      "yt : [INFO     ] 2017-06-12 15:28:13,892 Parameters: domain_left_edge          = [ 0.  0.  0.]\n",
      "yt : [INFO     ] 2017-06-12 15:28:13,892 Parameters: domain_right_edge         = [-0. -0. -0.]\n",
      "yt : [INFO     ] 2017-06-12 15:28:13,893 Parameters: cosmological_simulation   = 0.0\n",
      "yt : [INFO     ] 2017-06-12 15:28:14,856 xlim = 0.000000 6.280000\n",
      "yt : [INFO     ] 2017-06-12 15:28:14,856 ylim = 0.000000 6.280000\n",
      "yt : [INFO     ] 2017-06-12 15:28:14,857 xlim = 0.000000 6.280000\n",
      "yt : [INFO     ] 2017-06-12 15:28:14,858 ylim = 0.000000 6.280000\n",
      "yt : [INFO     ] 2017-06-12 15:28:14,859 Making a fixed resolution buffer of (('athena', 'cell_centered_B_z')) 800 by 800\n",
      "yt : [WARNING  ] 2017-06-12 15:28:14,885 Plot image for field ('athena', 'cell_centered_B_z') has both positive and negative values. Min = -0.159250, Max = 0.159253.\n",
      "yt : [WARNING  ] 2017-06-12 15:28:14,886 Switching to symlog colorbar scaling unless linear scaling is specified later\n",
      "yt : [INFO     ] 2017-06-12 15:28:15,255 Saving plot TaylorGreen.0037_Slice_z_cell_centered_B_z.png\n",
      "yt : [INFO     ] 2017-06-12 15:28:15,709 Temporarily setting domain_right_edge = -domain_left_edge. This will be corrected automatically if it is not the case.\n",
      "yt : [WARNING  ] 2017-06-12 15:28:15,711 Assuming 1.0 = 1.0 cm\n",
      "yt : [WARNING  ] 2017-06-12 15:28:15,711 Assuming 1.0 = 1.0 s\n",
      "yt : [WARNING  ] 2017-06-12 15:28:15,712 Assuming 1.0 = 1.0 g\n",
      "yt : [INFO     ] 2017-06-12 15:28:15,716 Parameters: current_time              = 1.905505\n",
      "yt : [INFO     ] 2017-06-12 15:28:15,717 Parameters: domain_dimensions         = [0 0 0]\n",
      "yt : [INFO     ] 2017-06-12 15:28:15,717 Parameters: domain_left_edge          = [ 0.  0.  0.]\n",
      "yt : [INFO     ] 2017-06-12 15:28:15,718 Parameters: domain_right_edge         = [-0. -0. -0.]\n",
      "yt : [INFO     ] 2017-06-12 15:28:15,719 Parameters: cosmological_simulation   = 0.0\n",
      "yt : [INFO     ] 2017-06-12 15:28:16,582 xlim = 0.000000 6.280000\n",
      "yt : [INFO     ] 2017-06-12 15:28:16,582 ylim = 0.000000 6.280000\n",
      "yt : [INFO     ] 2017-06-12 15:28:16,583 xlim = 0.000000 6.280000\n",
      "yt : [INFO     ] 2017-06-12 15:28:16,584 ylim = 0.000000 6.280000\n",
      "yt : [INFO     ] 2017-06-12 15:28:16,585 Making a fixed resolution buffer of (('athena', 'cell_centered_B_z')) 800 by 800\n",
      "yt : [WARNING  ] 2017-06-12 15:28:16,605 Plot image for field ('athena', 'cell_centered_B_z') has both positive and negative values. Min = -0.159759, Max = 0.159762.\n",
      "yt : [WARNING  ] 2017-06-12 15:28:16,606 Switching to symlog colorbar scaling unless linear scaling is specified later\n",
      "yt : [INFO     ] 2017-06-12 15:28:17,001 Saving plot TaylorGreen.0038_Slice_z_cell_centered_B_z.png\n",
      "yt : [INFO     ] 2017-06-12 15:28:17,547 Temporarily setting domain_right_edge = -domain_left_edge. This will be corrected automatically if it is not the case.\n",
      "yt : [WARNING  ] 2017-06-12 15:28:17,548 Assuming 1.0 = 1.0 cm\n",
      "yt : [WARNING  ] 2017-06-12 15:28:17,549 Assuming 1.0 = 1.0 s\n",
      "yt : [WARNING  ] 2017-06-12 15:28:17,549 Assuming 1.0 = 1.0 g\n",
      "yt : [INFO     ] 2017-06-12 15:28:17,554 Parameters: current_time              = 1.968518\n",
      "yt : [INFO     ] 2017-06-12 15:28:17,555 Parameters: domain_dimensions         = [0 0 0]\n",
      "yt : [INFO     ] 2017-06-12 15:28:17,556 Parameters: domain_left_edge          = [ 0.  0.  0.]\n",
      "yt : [INFO     ] 2017-06-12 15:28:17,557 Parameters: domain_right_edge         = [-0. -0. -0.]\n",
      "yt : [INFO     ] 2017-06-12 15:28:17,558 Parameters: cosmological_simulation   = 0.0\n",
      "yt : [INFO     ] 2017-06-12 15:28:18,492 xlim = 0.000000 6.280000\n",
      "yt : [INFO     ] 2017-06-12 15:28:18,493 ylim = 0.000000 6.280000\n",
      "yt : [INFO     ] 2017-06-12 15:28:18,494 xlim = 0.000000 6.280000\n",
      "yt : [INFO     ] 2017-06-12 15:28:18,494 ylim = 0.000000 6.280000\n",
      "yt : [INFO     ] 2017-06-12 15:28:18,496 Making a fixed resolution buffer of (('athena', 'cell_centered_B_z')) 800 by 800\n",
      "yt : [WARNING  ] 2017-06-12 15:28:18,517 Plot image for field ('athena', 'cell_centered_B_z') has both positive and negative values. Min = -0.160285, Max = 0.160287.\n",
      "yt : [WARNING  ] 2017-06-12 15:28:18,518 Switching to symlog colorbar scaling unless linear scaling is specified later\n",
      "yt : [INFO     ] 2017-06-12 15:28:18,798 Saving plot TaylorGreen.0039_Slice_z_cell_centered_B_z.png\n",
      "yt : [INFO     ] 2017-06-12 15:28:19,372 Temporarily setting domain_right_edge = -domain_left_edge. This will be corrected automatically if it is not the case.\n",
      "yt : [WARNING  ] 2017-06-12 15:28:19,373 Assuming 1.0 = 1.0 cm\n",
      "yt : [WARNING  ] 2017-06-12 15:28:19,374 Assuming 1.0 = 1.0 s\n",
      "yt : [WARNING  ] 2017-06-12 15:28:19,375 Assuming 1.0 = 1.0 g\n",
      "yt : [INFO     ] 2017-06-12 15:28:19,379 Parameters: current_time              = 2.010349\n",
      "yt : [INFO     ] 2017-06-12 15:28:19,379 Parameters: domain_dimensions         = [0 0 0]\n",
      "yt : [INFO     ] 2017-06-12 15:28:19,380 Parameters: domain_left_edge          = [ 0.  0.  0.]\n",
      "yt : [INFO     ] 2017-06-12 15:28:19,381 Parameters: domain_right_edge         = [-0. -0. -0.]\n",
      "yt : [INFO     ] 2017-06-12 15:28:19,381 Parameters: cosmological_simulation   = 0.0\n",
      "yt : [INFO     ] 2017-06-12 15:28:20,280 xlim = 0.000000 6.280000\n",
      "yt : [INFO     ] 2017-06-12 15:28:20,280 ylim = 0.000000 6.280000\n",
      "yt : [INFO     ] 2017-06-12 15:28:20,281 xlim = 0.000000 6.280000\n",
      "yt : [INFO     ] 2017-06-12 15:28:20,282 ylim = 0.000000 6.280000\n",
      "yt : [INFO     ] 2017-06-12 15:28:20,283 Making a fixed resolution buffer of (('athena', 'cell_centered_B_z')) 800 by 800\n",
      "yt : [WARNING  ] 2017-06-12 15:28:20,309 Plot image for field ('athena', 'cell_centered_B_z') has both positive and negative values. Min = -0.160466, Max = 0.160468.\n",
      "yt : [WARNING  ] 2017-06-12 15:28:20,309 Switching to symlog colorbar scaling unless linear scaling is specified later\n",
      "yt : [INFO     ] 2017-06-12 15:28:20,683 Saving plot TaylorGreen.0040_Slice_z_cell_centered_B_z.png\n",
      "yt : [INFO     ] 2017-06-12 15:28:21,081 Temporarily setting domain_right_edge = -domain_left_edge. This will be corrected automatically if it is not the case.\n",
      "yt : [WARNING  ] 2017-06-12 15:28:21,082 Assuming 1.0 = 1.0 cm\n",
      "yt : [WARNING  ] 2017-06-12 15:28:21,083 Assuming 1.0 = 1.0 s\n",
      "yt : [WARNING  ] 2017-06-12 15:28:21,083 Assuming 1.0 = 1.0 g\n",
      "yt : [INFO     ] 2017-06-12 15:28:21,087 Parameters: current_time              = 2.052069\n",
      "yt : [INFO     ] 2017-06-12 15:28:21,088 Parameters: domain_dimensions         = [0 0 0]\n",
      "yt : [INFO     ] 2017-06-12 15:28:21,088 Parameters: domain_left_edge          = [ 0.  0.  0.]\n",
      "yt : [INFO     ] 2017-06-12 15:28:21,089 Parameters: domain_right_edge         = [-0. -0. -0.]\n",
      "yt : [INFO     ] 2017-06-12 15:28:21,090 Parameters: cosmological_simulation   = 0.0\n",
      "yt : [INFO     ] 2017-06-12 15:28:21,930 xlim = 0.000000 6.280000\n",
      "yt : [INFO     ] 2017-06-12 15:28:21,931 ylim = 0.000000 6.280000\n",
      "yt : [INFO     ] 2017-06-12 15:28:21,932 xlim = 0.000000 6.280000\n",
      "yt : [INFO     ] 2017-06-12 15:28:21,932 ylim = 0.000000 6.280000\n",
      "yt : [INFO     ] 2017-06-12 15:28:21,933 Making a fixed resolution buffer of (('athena', 'cell_centered_B_z')) 800 by 800\n",
      "yt : [WARNING  ] 2017-06-12 15:28:21,959 Plot image for field ('athena', 'cell_centered_B_z') has both positive and negative values. Min = -0.160474, Max = 0.160476.\n",
      "yt : [WARNING  ] 2017-06-12 15:28:21,960 Switching to symlog colorbar scaling unless linear scaling is specified later\n",
      "yt : [INFO     ] 2017-06-12 15:28:22,345 Saving plot TaylorGreen.0041_Slice_z_cell_centered_B_z.png\n",
      "yt : [INFO     ] 2017-06-12 15:28:22,914 Temporarily setting domain_right_edge = -domain_left_edge. This will be corrected automatically if it is not the case.\n",
      "yt : [WARNING  ] 2017-06-12 15:28:22,915 Assuming 1.0 = 1.0 cm\n",
      "yt : [WARNING  ] 2017-06-12 15:28:22,916 Assuming 1.0 = 1.0 s\n",
      "yt : [WARNING  ] 2017-06-12 15:28:22,917 Assuming 1.0 = 1.0 g\n",
      "yt : [INFO     ] 2017-06-12 15:28:22,921 Parameters: current_time              = 2.114499\n",
      "yt : [INFO     ] 2017-06-12 15:28:22,921 Parameters: domain_dimensions         = [0 0 0]\n",
      "yt : [INFO     ] 2017-06-12 15:28:22,922 Parameters: domain_left_edge          = [ 0.  0.  0.]\n",
      "yt : [INFO     ] 2017-06-12 15:28:22,923 Parameters: domain_right_edge         = [-0. -0. -0.]\n",
      "yt : [INFO     ] 2017-06-12 15:28:22,923 Parameters: cosmological_simulation   = 0.0\n",
      "yt : [INFO     ] 2017-06-12 15:28:23,799 xlim = 0.000000 6.280000\n",
      "yt : [INFO     ] 2017-06-12 15:28:23,800 ylim = 0.000000 6.280000\n",
      "yt : [INFO     ] 2017-06-12 15:28:23,801 xlim = 0.000000 6.280000\n",
      "yt : [INFO     ] 2017-06-12 15:28:23,801 ylim = 0.000000 6.280000\n",
      "yt : [INFO     ] 2017-06-12 15:28:23,803 Making a fixed resolution buffer of (('athena', 'cell_centered_B_z')) 800 by 800\n",
      "yt : [WARNING  ] 2017-06-12 15:28:23,824 Plot image for field ('athena', 'cell_centered_B_z') has both positive and negative values. Min = -0.160209, Max = 0.160210.\n",
      "yt : [WARNING  ] 2017-06-12 15:28:23,825 Switching to symlog colorbar scaling unless linear scaling is specified later\n",
      "yt : [INFO     ] 2017-06-12 15:28:24,119 Saving plot TaylorGreen.0042_Slice_z_cell_centered_B_z.png\n",
      "yt : [INFO     ] 2017-06-12 15:28:24,634 Temporarily setting domain_right_edge = -domain_left_edge. This will be corrected automatically if it is not the case.\n",
      "yt : [WARNING  ] 2017-06-12 15:28:24,635 Assuming 1.0 = 1.0 cm\n",
      "yt : [WARNING  ] 2017-06-12 15:28:24,636 Assuming 1.0 = 1.0 s\n",
      "yt : [WARNING  ] 2017-06-12 15:28:24,637 Assuming 1.0 = 1.0 g\n",
      "yt : [INFO     ] 2017-06-12 15:28:24,641 Parameters: current_time              = 2.156053\n",
      "yt : [INFO     ] 2017-06-12 15:28:24,642 Parameters: domain_dimensions         = [0 0 0]\n",
      "yt : [INFO     ] 2017-06-12 15:28:24,642 Parameters: domain_left_edge          = [ 0.  0.  0.]\n",
      "yt : [INFO     ] 2017-06-12 15:28:24,643 Parameters: domain_right_edge         = [-0. -0. -0.]\n",
      "yt : [INFO     ] 2017-06-12 15:28:24,644 Parameters: cosmological_simulation   = 0.0\n",
      "yt : [INFO     ] 2017-06-12 15:28:25,502 xlim = 0.000000 6.280000\n",
      "yt : [INFO     ] 2017-06-12 15:28:25,502 ylim = 0.000000 6.280000\n",
      "yt : [INFO     ] 2017-06-12 15:28:25,503 xlim = 0.000000 6.280000\n",
      "yt : [INFO     ] 2017-06-12 15:28:25,504 ylim = 0.000000 6.280000\n",
      "yt : [INFO     ] 2017-06-12 15:28:25,505 Making a fixed resolution buffer of (('athena', 'cell_centered_B_z')) 800 by 800\n",
      "yt : [WARNING  ] 2017-06-12 15:28:25,530 Plot image for field ('athena', 'cell_centered_B_z') has both positive and negative values. Min = -0.159833, Max = 0.159835.\n",
      "yt : [WARNING  ] 2017-06-12 15:28:25,530 Switching to symlog colorbar scaling unless linear scaling is specified later\n",
      "yt : [INFO     ] 2017-06-12 15:28:25,902 Saving plot TaylorGreen.0043_Slice_z_cell_centered_B_z.png\n",
      "yt : [INFO     ] 2017-06-12 15:28:26,316 Temporarily setting domain_right_edge = -domain_left_edge. This will be corrected automatically if it is not the case.\n",
      "yt : [WARNING  ] 2017-06-12 15:28:26,317 Assuming 1.0 = 1.0 cm\n",
      "yt : [WARNING  ] 2017-06-12 15:28:26,318 Assuming 1.0 = 1.0 s\n",
      "yt : [WARNING  ] 2017-06-12 15:28:26,318 Assuming 1.0 = 1.0 g\n",
      "yt : [INFO     ] 2017-06-12 15:28:26,323 Parameters: current_time              = 2.218336\n",
      "yt : [INFO     ] 2017-06-12 15:28:26,323 Parameters: domain_dimensions         = [0 0 0]\n",
      "yt : [INFO     ] 2017-06-12 15:28:26,324 Parameters: domain_left_edge          = [ 0.  0.  0.]\n",
      "yt : [INFO     ] 2017-06-12 15:28:26,324 Parameters: domain_right_edge         = [-0. -0. -0.]\n",
      "yt : [INFO     ] 2017-06-12 15:28:26,325 Parameters: cosmological_simulation   = 0.0\n",
      "yt : [INFO     ] 2017-06-12 15:28:27,239 xlim = 0.000000 6.280000\n",
      "yt : [INFO     ] 2017-06-12 15:28:27,239 ylim = 0.000000 6.280000\n",
      "yt : [INFO     ] 2017-06-12 15:28:27,240 xlim = 0.000000 6.280000\n",
      "yt : [INFO     ] 2017-06-12 15:28:27,241 ylim = 0.000000 6.280000\n",
      "yt : [INFO     ] 2017-06-12 15:28:27,242 Making a fixed resolution buffer of (('athena', 'cell_centered_B_z')) 800 by 800\n",
      "yt : [WARNING  ] 2017-06-12 15:28:27,264 Plot image for field ('athena', 'cell_centered_B_z') has both positive and negative values. Min = -0.158987, Max = 0.158989.\n",
      "yt : [WARNING  ] 2017-06-12 15:28:27,265 Switching to symlog colorbar scaling unless linear scaling is specified later\n",
      "yt : [INFO     ] 2017-06-12 15:28:27,543 Saving plot TaylorGreen.0044_Slice_z_cell_centered_B_z.png\n",
      "yt : [INFO     ] 2017-06-12 15:28:28,047 Temporarily setting domain_right_edge = -domain_left_edge. This will be corrected automatically if it is not the case.\n",
      "yt : [WARNING  ] 2017-06-12 15:28:28,049 Assuming 1.0 = 1.0 cm\n",
      "yt : [WARNING  ] 2017-06-12 15:28:28,049 Assuming 1.0 = 1.0 s\n",
      "yt : [WARNING  ] 2017-06-12 15:28:28,050 Assuming 1.0 = 1.0 g\n",
      "yt : [INFO     ] 2017-06-12 15:28:28,054 Parameters: current_time              = 2.259856\n",
      "yt : [INFO     ] 2017-06-12 15:28:28,055 Parameters: domain_dimensions         = [0 0 0]\n",
      "yt : [INFO     ] 2017-06-12 15:28:28,055 Parameters: domain_left_edge          = [ 0.  0.  0.]\n",
      "yt : [INFO     ] 2017-06-12 15:28:28,056 Parameters: domain_right_edge         = [-0. -0. -0.]\n",
      "yt : [INFO     ] 2017-06-12 15:28:28,057 Parameters: cosmological_simulation   = 0.0\n",
      "yt : [INFO     ] 2017-06-12 15:28:28,915 xlim = 0.000000 6.280000\n",
      "yt : [INFO     ] 2017-06-12 15:28:28,916 ylim = 0.000000 6.280000\n",
      "yt : [INFO     ] 2017-06-12 15:28:28,917 xlim = 0.000000 6.280000\n",
      "yt : [INFO     ] 2017-06-12 15:28:28,917 ylim = 0.000000 6.280000\n",
      "yt : [INFO     ] 2017-06-12 15:28:28,918 Making a fixed resolution buffer of (('athena', 'cell_centered_B_z')) 800 by 800\n",
      "yt : [WARNING  ] 2017-06-12 15:28:28,943 Plot image for field ('athena', 'cell_centered_B_z') has both positive and negative values. Min = -0.158245, Max = 0.158246.\n",
      "yt : [WARNING  ] 2017-06-12 15:28:28,944 Switching to symlog colorbar scaling unless linear scaling is specified later\n",
      "yt : [INFO     ] 2017-06-12 15:28:29,211 Saving plot TaylorGreen.0045_Slice_z_cell_centered_B_z.png\n",
      "yt : [INFO     ] 2017-06-12 15:28:29,714 Temporarily setting domain_right_edge = -domain_left_edge. This will be corrected automatically if it is not the case.\n",
      "yt : [WARNING  ] 2017-06-12 15:28:29,716 Assuming 1.0 = 1.0 cm\n",
      "yt : [WARNING  ] 2017-06-12 15:28:29,716 Assuming 1.0 = 1.0 s\n",
      "yt : [WARNING  ] 2017-06-12 15:28:29,717 Assuming 1.0 = 1.0 g\n",
      "yt : [INFO     ] 2017-06-12 15:28:29,721 Parameters: current_time              = 2.301399\n",
      "yt : [INFO     ] 2017-06-12 15:28:29,722 Parameters: domain_dimensions         = [0 0 0]\n",
      "yt : [INFO     ] 2017-06-12 15:28:29,722 Parameters: domain_left_edge          = [ 0.  0.  0.]\n",
      "yt : [INFO     ] 2017-06-12 15:28:29,723 Parameters: domain_right_edge         = [-0. -0. -0.]\n",
      "yt : [INFO     ] 2017-06-12 15:28:29,724 Parameters: cosmological_simulation   = 0.0\n",
      "yt : [INFO     ] 2017-06-12 15:28:30,582 xlim = 0.000000 6.280000\n",
      "yt : [INFO     ] 2017-06-12 15:28:30,582 ylim = 0.000000 6.280000\n",
      "yt : [INFO     ] 2017-06-12 15:28:30,583 xlim = 0.000000 6.280000\n",
      "yt : [INFO     ] 2017-06-12 15:28:30,583 ylim = 0.000000 6.280000\n",
      "yt : [INFO     ] 2017-06-12 15:28:30,585 Making a fixed resolution buffer of (('athena', 'cell_centered_B_z')) 800 by 800\n",
      "yt : [WARNING  ] 2017-06-12 15:28:30,610 Plot image for field ('athena', 'cell_centered_B_z') has both positive and negative values. Min = -0.157369, Max = 0.157371.\n",
      "yt : [WARNING  ] 2017-06-12 15:28:30,611 Switching to symlog colorbar scaling unless linear scaling is specified later\n",
      "yt : [INFO     ] 2017-06-12 15:28:30,960 Saving plot TaylorGreen.0046_Slice_z_cell_centered_B_z.png\n",
      "yt : [INFO     ] 2017-06-12 15:28:31,509 Temporarily setting domain_right_edge = -domain_left_edge. This will be corrected automatically if it is not the case.\n",
      "yt : [WARNING  ] 2017-06-12 15:28:31,510 Assuming 1.0 = 1.0 cm\n",
      "yt : [WARNING  ] 2017-06-12 15:28:31,511 Assuming 1.0 = 1.0 s\n",
      "yt : [WARNING  ] 2017-06-12 15:28:31,512 Assuming 1.0 = 1.0 g\n",
      "yt : [INFO     ] 2017-06-12 15:28:31,516 Parameters: current_time              = 2.36379\n",
      "yt : [INFO     ] 2017-06-12 15:28:31,516 Parameters: domain_dimensions         = [0 0 0]\n",
      "yt : [INFO     ] 2017-06-12 15:28:31,517 Parameters: domain_left_edge          = [ 0.  0.  0.]\n",
      "yt : [INFO     ] 2017-06-12 15:28:31,518 Parameters: domain_right_edge         = [-0. -0. -0.]\n",
      "yt : [INFO     ] 2017-06-12 15:28:31,518 Parameters: cosmological_simulation   = 0.0\n",
      "yt : [INFO     ] 2017-06-12 15:28:32,369 xlim = 0.000000 6.280000\n",
      "yt : [INFO     ] 2017-06-12 15:28:32,369 ylim = 0.000000 6.280000\n",
      "yt : [INFO     ] 2017-06-12 15:28:32,370 xlim = 0.000000 6.280000\n",
      "yt : [INFO     ] 2017-06-12 15:28:32,371 ylim = 0.000000 6.280000\n",
      "yt : [INFO     ] 2017-06-12 15:28:32,372 Making a fixed resolution buffer of (('athena', 'cell_centered_B_z')) 800 by 800\n",
      "yt : [WARNING  ] 2017-06-12 15:28:32,393 Plot image for field ('athena', 'cell_centered_B_z') has both positive and negative values. Min = -0.155833, Max = 0.155834.\n",
      "yt : [WARNING  ] 2017-06-12 15:28:32,394 Switching to symlog colorbar scaling unless linear scaling is specified later\n",
      "yt : [INFO     ] 2017-06-12 15:28:32,663 Saving plot TaylorGreen.0047_Slice_z_cell_centered_B_z.png\n",
      "yt : [INFO     ] 2017-06-12 15:28:33,179 Temporarily setting domain_right_edge = -domain_left_edge. This will be corrected automatically if it is not the case.\n",
      "yt : [WARNING  ] 2017-06-12 15:28:33,180 Assuming 1.0 = 1.0 cm\n",
      "yt : [WARNING  ] 2017-06-12 15:28:33,181 Assuming 1.0 = 1.0 s\n",
      "yt : [WARNING  ] 2017-06-12 15:28:33,181 Assuming 1.0 = 1.0 g\n",
      "yt : [INFO     ] 2017-06-12 15:28:33,186 Parameters: current_time              = 2.405462\n",
      "yt : [INFO     ] 2017-06-12 15:28:33,186 Parameters: domain_dimensions         = [0 0 0]\n",
      "yt : [INFO     ] 2017-06-12 15:28:33,187 Parameters: domain_left_edge          = [ 0.  0.  0.]\n",
      "yt : [INFO     ] 2017-06-12 15:28:33,188 Parameters: domain_right_edge         = [-0. -0. -0.]\n",
      "yt : [INFO     ] 2017-06-12 15:28:33,188 Parameters: cosmological_simulation   = 0.0\n",
      "yt : [INFO     ] 2017-06-12 15:28:34,029 xlim = 0.000000 6.280000\n",
      "yt : [INFO     ] 2017-06-12 15:28:34,029 ylim = 0.000000 6.280000\n",
      "yt : [INFO     ] 2017-06-12 15:28:34,030 xlim = 0.000000 6.280000\n",
      "yt : [INFO     ] 2017-06-12 15:28:34,031 ylim = 0.000000 6.280000\n",
      "yt : [INFO     ] 2017-06-12 15:28:34,032 Making a fixed resolution buffer of (('athena', 'cell_centered_B_z')) 800 by 800\n",
      "yt : [WARNING  ] 2017-06-12 15:28:34,056 Plot image for field ('athena', 'cell_centered_B_z') has both positive and negative values. Min = -0.154683, Max = 0.154685.\n",
      "yt : [WARNING  ] 2017-06-12 15:28:34,057 Switching to symlog colorbar scaling unless linear scaling is specified later\n",
      "yt : [INFO     ] 2017-06-12 15:28:34,411 Saving plot TaylorGreen.0048_Slice_z_cell_centered_B_z.png\n",
      "yt : [INFO     ] 2017-06-12 15:28:34,846 Temporarily setting domain_right_edge = -domain_left_edge. This will be corrected automatically if it is not the case.\n",
      "yt : [WARNING  ] 2017-06-12 15:28:34,847 Assuming 1.0 = 1.0 cm\n",
      "yt : [WARNING  ] 2017-06-12 15:28:34,848 Assuming 1.0 = 1.0 s\n",
      "yt : [WARNING  ] 2017-06-12 15:28:34,849 Assuming 1.0 = 1.0 g\n",
      "yt : [INFO     ] 2017-06-12 15:28:34,853 Parameters: current_time              = 2.468131\n",
      "yt : [INFO     ] 2017-06-12 15:28:34,853 Parameters: domain_dimensions         = [0 0 0]\n",
      "yt : [INFO     ] 2017-06-12 15:28:34,854 Parameters: domain_left_edge          = [ 0.  0.  0.]\n",
      "yt : [INFO     ] 2017-06-12 15:28:34,855 Parameters: domain_right_edge         = [-0. -0. -0.]\n",
      "yt : [INFO     ] 2017-06-12 15:28:34,855 Parameters: cosmological_simulation   = 0.0\n",
      "yt : [INFO     ] 2017-06-12 15:28:35,800 xlim = 0.000000 6.280000\n",
      "yt : [INFO     ] 2017-06-12 15:28:35,800 ylim = 0.000000 6.280000\n",
      "yt : [INFO     ] 2017-06-12 15:28:35,801 xlim = 0.000000 6.280000\n",
      "yt : [INFO     ] 2017-06-12 15:28:35,802 ylim = 0.000000 6.280000\n",
      "yt : [INFO     ] 2017-06-12 15:28:35,803 Making a fixed resolution buffer of (('athena', 'cell_centered_B_z')) 800 by 800\n",
      "yt : [WARNING  ] 2017-06-12 15:28:35,824 Plot image for field ('athena', 'cell_centered_B_z') has both positive and negative values. Min = -0.152812, Max = 0.152815.\n",
      "yt : [WARNING  ] 2017-06-12 15:28:35,824 Switching to symlog colorbar scaling unless linear scaling is specified later\n",
      "yt : [INFO     ] 2017-06-12 15:28:36,093 Saving plot TaylorGreen.0049_Slice_z_cell_centered_B_z.png\n",
      "yt : [INFO     ] 2017-06-12 15:28:36,630 Temporarily setting domain_right_edge = -domain_left_edge. This will be corrected automatically if it is not the case.\n",
      "yt : [WARNING  ] 2017-06-12 15:28:36,632 Assuming 1.0 = 1.0 cm\n",
      "yt : [WARNING  ] 2017-06-12 15:28:36,632 Assuming 1.0 = 1.0 s\n",
      "yt : [WARNING  ] 2017-06-12 15:28:36,633 Assuming 1.0 = 1.0 g\n",
      "yt : [INFO     ] 2017-06-12 15:28:36,637 Parameters: current_time              = 2.510034\n",
      "yt : [INFO     ] 2017-06-12 15:28:36,638 Parameters: domain_dimensions         = [0 0 0]\n",
      "yt : [INFO     ] 2017-06-12 15:28:36,638 Parameters: domain_left_edge          = [ 0.  0.  0.]\n",
      "yt : [INFO     ] 2017-06-12 15:28:36,639 Parameters: domain_right_edge         = [-0. -0. -0.]\n",
      "yt : [INFO     ] 2017-06-12 15:28:36,640 Parameters: cosmological_simulation   = 0.0\n",
      "yt : [INFO     ] 2017-06-12 15:28:37,509 xlim = 0.000000 6.280000\n",
      "yt : [INFO     ] 2017-06-12 15:28:37,509 ylim = 0.000000 6.280000\n",
      "yt : [INFO     ] 2017-06-12 15:28:37,511 xlim = 0.000000 6.280000\n",
      "yt : [INFO     ] 2017-06-12 15:28:37,511 ylim = 0.000000 6.280000\n",
      "yt : [INFO     ] 2017-06-12 15:28:37,512 Making a fixed resolution buffer of (('athena', 'cell_centered_B_z')) 800 by 800\n",
      "yt : [WARNING  ] 2017-06-12 15:28:37,537 Plot image for field ('athena', 'cell_centered_B_z') has both positive and negative values. Min = -0.151492, Max = 0.151494.\n",
      "yt : [WARNING  ] 2017-06-12 15:28:37,537 Switching to symlog colorbar scaling unless linear scaling is specified later\n",
      "yt : [INFO     ] 2017-06-12 15:28:37,911 Saving plot TaylorGreen.0050_Slice_z_cell_centered_B_z.png\n",
      "yt : [INFO     ] 2017-06-12 15:28:38,339 Temporarily setting domain_right_edge = -domain_left_edge. This will be corrected automatically if it is not the case.\n",
      "yt : [WARNING  ] 2017-06-12 15:28:38,340 Assuming 1.0 = 1.0 cm\n",
      "yt : [WARNING  ] 2017-06-12 15:28:38,341 Assuming 1.0 = 1.0 s\n",
      "yt : [WARNING  ] 2017-06-12 15:28:38,341 Assuming 1.0 = 1.0 g\n",
      "yt : [INFO     ] 2017-06-12 15:28:38,346 Parameters: current_time              = 2.552044\n",
      "yt : [INFO     ] 2017-06-12 15:28:38,347 Parameters: domain_dimensions         = [0 0 0]\n",
      "yt : [INFO     ] 2017-06-12 15:28:38,347 Parameters: domain_left_edge          = [ 0.  0.  0.]\n",
      "yt : [INFO     ] 2017-06-12 15:28:38,348 Parameters: domain_right_edge         = [-0. -0. -0.]\n",
      "yt : [INFO     ] 2017-06-12 15:28:38,349 Parameters: cosmological_simulation   = 0.0\n",
      "yt : [INFO     ] 2017-06-12 15:28:39,309 xlim = 0.000000 6.280000\n",
      "yt : [INFO     ] 2017-06-12 15:28:39,309 ylim = 0.000000 6.280000\n",
      "yt : [INFO     ] 2017-06-12 15:28:39,310 xlim = 0.000000 6.280000\n",
      "yt : [INFO     ] 2017-06-12 15:28:39,311 ylim = 0.000000 6.280000\n",
      "yt : [INFO     ] 2017-06-12 15:28:39,312 Making a fixed resolution buffer of (('athena', 'cell_centered_B_z')) 800 by 800\n",
      "yt : [WARNING  ] 2017-06-12 15:28:39,332 Plot image for field ('athena', 'cell_centered_B_z') has both positive and negative values. Min = -0.150131, Max = 0.150133.\n",
      "yt : [WARNING  ] 2017-06-12 15:28:39,333 Switching to symlog colorbar scaling unless linear scaling is specified later\n",
      "yt : [INFO     ] 2017-06-12 15:28:39,603 Saving plot TaylorGreen.0051_Slice_z_cell_centered_B_z.png\n",
      "yt : [INFO     ] 2017-06-12 15:28:40,126 Temporarily setting domain_right_edge = -domain_left_edge. This will be corrected automatically if it is not the case.\n",
      "yt : [WARNING  ] 2017-06-12 15:28:40,128 Assuming 1.0 = 1.0 cm\n",
      "yt : [WARNING  ] 2017-06-12 15:28:40,128 Assuming 1.0 = 1.0 s\n",
      "yt : [WARNING  ] 2017-06-12 15:28:40,129 Assuming 1.0 = 1.0 g\n",
      "yt : [INFO     ] 2017-06-12 15:28:40,133 Parameters: current_time              = 2.614899\n",
      "yt : [INFO     ] 2017-06-12 15:28:40,133 Parameters: domain_dimensions         = [0 0 0]\n",
      "yt : [INFO     ] 2017-06-12 15:28:40,134 Parameters: domain_left_edge          = [ 0.  0.  0.]\n",
      "yt : [INFO     ] 2017-06-12 15:28:40,135 Parameters: domain_right_edge         = [-0. -0. -0.]\n",
      "yt : [INFO     ] 2017-06-12 15:28:40,135 Parameters: cosmological_simulation   = 0.0\n",
      "yt : [INFO     ] 2017-06-12 15:28:40,987 xlim = 0.000000 6.280000\n",
      "yt : [INFO     ] 2017-06-12 15:28:40,988 ylim = 0.000000 6.280000\n",
      "yt : [INFO     ] 2017-06-12 15:28:40,989 xlim = 0.000000 6.280000\n",
      "yt : [INFO     ] 2017-06-12 15:28:40,989 ylim = 0.000000 6.280000\n",
      "yt : [INFO     ] 2017-06-12 15:28:40,990 Making a fixed resolution buffer of (('athena', 'cell_centered_B_z')) 800 by 800\n",
      "yt : [WARNING  ] 2017-06-12 15:28:41,015 Plot image for field ('athena', 'cell_centered_B_z') has both positive and negative values. Min = -0.148067, Max = 0.148070.\n",
      "yt : [WARNING  ] 2017-06-12 15:28:41,015 Switching to symlog colorbar scaling unless linear scaling is specified later\n",
      "yt : [INFO     ] 2017-06-12 15:28:41,367 Saving plot TaylorGreen.0052_Slice_z_cell_centered_B_z.png\n",
      "yt : [INFO     ] 2017-06-12 15:28:41,796 Temporarily setting domain_right_edge = -domain_left_edge. This will be corrected automatically if it is not the case.\n",
      "yt : [WARNING  ] 2017-06-12 15:28:41,797 Assuming 1.0 = 1.0 cm\n",
      "yt : [WARNING  ] 2017-06-12 15:28:41,798 Assuming 1.0 = 1.0 s\n",
      "yt : [WARNING  ] 2017-06-12 15:28:41,799 Assuming 1.0 = 1.0 g\n",
      "yt : [INFO     ] 2017-06-12 15:28:41,803 Parameters: current_time              = 2.656602\n",
      "yt : [INFO     ] 2017-06-12 15:28:41,803 Parameters: domain_dimensions         = [0 0 0]\n",
      "yt : [INFO     ] 2017-06-12 15:28:41,804 Parameters: domain_left_edge          = [ 0.  0.  0.]\n",
      "yt : [INFO     ] 2017-06-12 15:28:41,805 Parameters: domain_right_edge         = [-0. -0. -0.]\n",
      "yt : [INFO     ] 2017-06-12 15:28:41,805 Parameters: cosmological_simulation   = 0.0\n",
      "yt : [INFO     ] 2017-06-12 15:28:42,707 xlim = 0.000000 6.280000\n",
      "yt : [INFO     ] 2017-06-12 15:28:42,708 ylim = 0.000000 6.280000\n",
      "yt : [INFO     ] 2017-06-12 15:28:42,709 xlim = 0.000000 6.280000\n",
      "yt : [INFO     ] 2017-06-12 15:28:42,709 ylim = 0.000000 6.280000\n",
      "yt : [INFO     ] 2017-06-12 15:28:42,710 Making a fixed resolution buffer of (('athena', 'cell_centered_B_z')) 800 by 800\n",
      "yt : [WARNING  ] 2017-06-12 15:28:42,732 Plot image for field ('athena', 'cell_centered_B_z') has both positive and negative values. Min = -0.146706, Max = 0.146709.\n",
      "yt : [WARNING  ] 2017-06-12 15:28:42,733 Switching to symlog colorbar scaling unless linear scaling is specified later\n",
      "yt : [INFO     ] 2017-06-12 15:28:43,005 Saving plot TaylorGreen.0053_Slice_z_cell_centered_B_z.png\n",
      "yt : [INFO     ] 2017-06-12 15:28:43,532 Temporarily setting domain_right_edge = -domain_left_edge. This will be corrected automatically if it is not the case.\n",
      "yt : [WARNING  ] 2017-06-12 15:28:43,533 Assuming 1.0 = 1.0 cm\n",
      "yt : [WARNING  ] 2017-06-12 15:28:43,534 Assuming 1.0 = 1.0 s\n",
      "yt : [WARNING  ] 2017-06-12 15:28:43,534 Assuming 1.0 = 1.0 g\n",
      "yt : [INFO     ] 2017-06-12 15:28:43,539 Parameters: current_time              = 2.718937\n",
      "yt : [INFO     ] 2017-06-12 15:28:43,539 Parameters: domain_dimensions         = [0 0 0]\n",
      "yt : [INFO     ] 2017-06-12 15:28:43,540 Parameters: domain_left_edge          = [ 0.  0.  0.]\n",
      "yt : [INFO     ] 2017-06-12 15:28:43,541 Parameters: domain_right_edge         = [-0. -0. -0.]\n",
      "yt : [INFO     ] 2017-06-12 15:28:43,541 Parameters: cosmological_simulation   = 0.0\n",
      "yt : [INFO     ] 2017-06-12 15:28:44,385 xlim = 0.000000 6.280000\n",
      "yt : [INFO     ] 2017-06-12 15:28:44,385 ylim = 0.000000 6.280000\n",
      "yt : [INFO     ] 2017-06-12 15:28:44,386 xlim = 0.000000 6.280000\n",
      "yt : [INFO     ] 2017-06-12 15:28:44,387 ylim = 0.000000 6.280000\n",
      "yt : [INFO     ] 2017-06-12 15:28:44,388 Making a fixed resolution buffer of (('athena', 'cell_centered_B_z')) 800 by 800\n",
      "yt : [WARNING  ] 2017-06-12 15:28:44,413 Plot image for field ('athena', 'cell_centered_B_z') has both positive and negative values. Min = -0.144716, Max = 0.144719.\n",
      "yt : [WARNING  ] 2017-06-12 15:28:44,413 Switching to symlog colorbar scaling unless linear scaling is specified later\n",
      "yt : [INFO     ] 2017-06-12 15:28:44,775 Saving plot TaylorGreen.0054_Slice_z_cell_centered_B_z.png\n",
      "yt : [INFO     ] 2017-06-12 15:28:45,209 Temporarily setting domain_right_edge = -domain_left_edge. This will be corrected automatically if it is not the case.\n",
      "yt : [WARNING  ] 2017-06-12 15:28:45,210 Assuming 1.0 = 1.0 cm\n",
      "yt : [WARNING  ] 2017-06-12 15:28:45,210 Assuming 1.0 = 1.0 s\n",
      "yt : [WARNING  ] 2017-06-12 15:28:45,211 Assuming 1.0 = 1.0 g\n",
      "yt : [INFO     ] 2017-06-12 15:28:45,215 Parameters: current_time              = 2.760391\n",
      "yt : [INFO     ] 2017-06-12 15:28:45,215 Parameters: domain_dimensions         = [0 0 0]\n",
      "yt : [INFO     ] 2017-06-12 15:28:45,216 Parameters: domain_left_edge          = [ 0.  0.  0.]\n",
      "yt : [INFO     ] 2017-06-12 15:28:45,217 Parameters: domain_right_edge         = [-0. -0. -0.]\n",
      "yt : [INFO     ] 2017-06-12 15:28:45,217 Parameters: cosmological_simulation   = 0.0\n",
      "yt : [INFO     ] 2017-06-12 15:28:46,142 xlim = 0.000000 6.280000\n",
      "yt : [INFO     ] 2017-06-12 15:28:46,143 ylim = 0.000000 6.280000\n",
      "yt : [INFO     ] 2017-06-12 15:28:46,144 xlim = 0.000000 6.280000\n",
      "yt : [INFO     ] 2017-06-12 15:28:46,144 ylim = 0.000000 6.280000\n",
      "yt : [INFO     ] 2017-06-12 15:28:46,145 Making a fixed resolution buffer of (('athena', 'cell_centered_B_z')) 800 by 800\n",
      "yt : [WARNING  ] 2017-06-12 15:28:46,165 Plot image for field ('athena', 'cell_centered_B_z') has both positive and negative values. Min = -0.143432, Max = 0.143434.\n",
      "yt : [WARNING  ] 2017-06-12 15:28:46,166 Switching to symlog colorbar scaling unless linear scaling is specified later\n",
      "yt : [INFO     ] 2017-06-12 15:28:46,445 Saving plot TaylorGreen.0055_Slice_z_cell_centered_B_z.png\n",
      "yt : [INFO     ] 2017-06-12 15:28:46,986 Temporarily setting domain_right_edge = -domain_left_edge. This will be corrected automatically if it is not the case.\n",
      "yt : [WARNING  ] 2017-06-12 15:28:46,988 Assuming 1.0 = 1.0 cm\n",
      "yt : [WARNING  ] 2017-06-12 15:28:46,988 Assuming 1.0 = 1.0 s\n",
      "yt : [WARNING  ] 2017-06-12 15:28:46,989 Assuming 1.0 = 1.0 g\n",
      "yt : [INFO     ] 2017-06-12 15:28:46,994 Parameters: current_time              = 2.801801\n",
      "yt : [INFO     ] 2017-06-12 15:28:46,994 Parameters: domain_dimensions         = [0 0 0]\n",
      "yt : [INFO     ] 2017-06-12 15:28:46,995 Parameters: domain_left_edge          = [ 0.  0.  0.]\n",
      "yt : [INFO     ] 2017-06-12 15:28:46,996 Parameters: domain_right_edge         = [-0. -0. -0.]\n",
      "yt : [INFO     ] 2017-06-12 15:28:46,996 Parameters: cosmological_simulation   = 0.0\n",
      "yt : [INFO     ] 2017-06-12 15:28:47,898 xlim = 0.000000 6.280000\n",
      "yt : [INFO     ] 2017-06-12 15:28:47,899 ylim = 0.000000 6.280000\n",
      "yt : [INFO     ] 2017-06-12 15:28:47,900 xlim = 0.000000 6.280000\n",
      "yt : [INFO     ] 2017-06-12 15:28:47,900 ylim = 0.000000 6.280000\n",
      "yt : [INFO     ] 2017-06-12 15:28:47,902 Making a fixed resolution buffer of (('athena', 'cell_centered_B_z')) 800 by 800\n",
      "yt : [WARNING  ] 2017-06-12 15:28:47,928 Plot image for field ('athena', 'cell_centered_B_z') has both positive and negative values. Min = -0.142184, Max = 0.142185.\n",
      "yt : [WARNING  ] 2017-06-12 15:28:47,929 Switching to symlog colorbar scaling unless linear scaling is specified later\n",
      "yt : [INFO     ] 2017-06-12 15:28:48,329 Saving plot TaylorGreen.0056_Slice_z_cell_centered_B_z.png\n",
      "yt : [INFO     ] 2017-06-12 15:28:48,796 Temporarily setting domain_right_edge = -domain_left_edge. This will be corrected automatically if it is not the case.\n",
      "yt : [WARNING  ] 2017-06-12 15:28:48,797 Assuming 1.0 = 1.0 cm\n",
      "yt : [WARNING  ] 2017-06-12 15:28:48,797 Assuming 1.0 = 1.0 s\n",
      "yt : [WARNING  ] 2017-06-12 15:28:48,798 Assuming 1.0 = 1.0 g\n",
      "yt : [INFO     ] 2017-06-12 15:28:48,803 Parameters: current_time              = 2.863903\n",
      "yt : [INFO     ] 2017-06-12 15:28:48,803 Parameters: domain_dimensions         = [0 0 0]\n",
      "yt : [INFO     ] 2017-06-12 15:28:48,804 Parameters: domain_left_edge          = [ 0.  0.  0.]\n",
      "yt : [INFO     ] 2017-06-12 15:28:48,804 Parameters: domain_right_edge         = [-0. -0. -0.]\n",
      "yt : [INFO     ] 2017-06-12 15:28:48,805 Parameters: cosmological_simulation   = 0.0\n",
      "yt : [INFO     ] 2017-06-12 15:28:49,846 xlim = 0.000000 6.280000\n",
      "yt : [INFO     ] 2017-06-12 15:28:49,847 ylim = 0.000000 6.280000\n",
      "yt : [INFO     ] 2017-06-12 15:28:49,848 xlim = 0.000000 6.280000\n",
      "yt : [INFO     ] 2017-06-12 15:28:49,849 ylim = 0.000000 6.280000\n",
      "yt : [INFO     ] 2017-06-12 15:28:49,850 Making a fixed resolution buffer of (('athena', 'cell_centered_B_z')) 800 by 800\n",
      "yt : [WARNING  ] 2017-06-12 15:28:49,876 Plot image for field ('athena', 'cell_centered_B_z') has both positive and negative values. Min = -0.140394, Max = 0.140395.\n",
      "yt : [WARNING  ] 2017-06-12 15:28:49,876 Switching to symlog colorbar scaling unless linear scaling is specified later\n",
      "yt : [INFO     ] 2017-06-12 15:28:50,176 Saving plot TaylorGreen.0057_Slice_z_cell_centered_B_z.png\n",
      "yt : [INFO     ] 2017-06-12 15:28:50,708 Temporarily setting domain_right_edge = -domain_left_edge. This will be corrected automatically if it is not the case.\n",
      "yt : [WARNING  ] 2017-06-12 15:28:50,709 Assuming 1.0 = 1.0 cm\n",
      "yt : [WARNING  ] 2017-06-12 15:28:50,709 Assuming 1.0 = 1.0 s\n",
      "yt : [WARNING  ] 2017-06-12 15:28:50,710 Assuming 1.0 = 1.0 g\n",
      "yt : [INFO     ] 2017-06-12 15:28:50,714 Parameters: current_time              = 2.905335\n",
      "yt : [INFO     ] 2017-06-12 15:28:50,715 Parameters: domain_dimensions         = [0 0 0]\n",
      "yt : [INFO     ] 2017-06-12 15:28:50,716 Parameters: domain_left_edge          = [ 0.  0.  0.]\n",
      "yt : [INFO     ] 2017-06-12 15:28:50,716 Parameters: domain_right_edge         = [-0. -0. -0.]\n",
      "yt : [INFO     ] 2017-06-12 15:28:50,717 Parameters: cosmological_simulation   = 0.0\n",
      "yt : [INFO     ] 2017-06-12 15:28:51,596 xlim = 0.000000 6.280000\n",
      "yt : [INFO     ] 2017-06-12 15:28:51,596 ylim = 0.000000 6.280000\n",
      "yt : [INFO     ] 2017-06-12 15:28:51,598 xlim = 0.000000 6.280000\n",
      "yt : [INFO     ] 2017-06-12 15:28:51,598 ylim = 0.000000 6.280000\n",
      "yt : [INFO     ] 2017-06-12 15:28:51,599 Making a fixed resolution buffer of (('athena', 'cell_centered_B_z')) 800 by 800\n",
      "yt : [WARNING  ] 2017-06-12 15:28:51,627 Plot image for field ('athena', 'cell_centered_B_z') has both positive and negative values. Min = -0.139269, Max = 0.139269.\n",
      "yt : [WARNING  ] 2017-06-12 15:28:51,627 Switching to symlog colorbar scaling unless linear scaling is specified later\n",
      "yt : [INFO     ] 2017-06-12 15:28:52,019 Saving plot TaylorGreen.0058_Slice_z_cell_centered_B_z.png\n",
      "yt : [INFO     ] 2017-06-12 15:28:52,449 Temporarily setting domain_right_edge = -domain_left_edge. This will be corrected automatically if it is not the case.\n",
      "yt : [WARNING  ] 2017-06-12 15:28:52,450 Assuming 1.0 = 1.0 cm\n",
      "yt : [WARNING  ] 2017-06-12 15:28:52,451 Assuming 1.0 = 1.0 s\n",
      "yt : [WARNING  ] 2017-06-12 15:28:52,451 Assuming 1.0 = 1.0 g\n",
      "yt : [INFO     ] 2017-06-12 15:28:52,456 Parameters: current_time              = 2.967594\n",
      "yt : [INFO     ] 2017-06-12 15:28:52,457 Parameters: domain_dimensions         = [0 0 0]\n",
      "yt : [INFO     ] 2017-06-12 15:28:52,457 Parameters: domain_left_edge          = [ 0.  0.  0.]\n",
      "yt : [INFO     ] 2017-06-12 15:28:52,458 Parameters: domain_right_edge         = [-0. -0. -0.]\n",
      "yt : [INFO     ] 2017-06-12 15:28:52,459 Parameters: cosmological_simulation   = 0.0\n",
      "yt : [INFO     ] 2017-06-12 15:28:53,366 xlim = 0.000000 6.280000\n",
      "yt : [INFO     ] 2017-06-12 15:28:53,367 ylim = 0.000000 6.280000\n",
      "yt : [INFO     ] 2017-06-12 15:28:53,368 xlim = 0.000000 6.280000\n",
      "yt : [INFO     ] 2017-06-12 15:28:53,368 ylim = 0.000000 6.280000\n",
      "yt : [INFO     ] 2017-06-12 15:28:53,369 Making a fixed resolution buffer of (('athena', 'cell_centered_B_z')) 800 by 800\n",
      "yt : [WARNING  ] 2017-06-12 15:28:53,389 Plot image for field ('athena', 'cell_centered_B_z') has both positive and negative values. Min = -0.137702, Max = 0.137702.\n",
      "yt : [WARNING  ] 2017-06-12 15:28:53,390 Switching to symlog colorbar scaling unless linear scaling is specified later\n",
      "yt : [INFO     ] 2017-06-12 15:28:53,669 Saving plot TaylorGreen.0059_Slice_z_cell_centered_B_z.png\n",
      "yt : [INFO     ] 2017-06-12 15:28:54,218 Temporarily setting domain_right_edge = -domain_left_edge. This will be corrected automatically if it is not the case.\n",
      "yt : [WARNING  ] 2017-06-12 15:28:54,219 Assuming 1.0 = 1.0 cm\n",
      "yt : [WARNING  ] 2017-06-12 15:28:54,219 Assuming 1.0 = 1.0 s\n",
      "yt : [WARNING  ] 2017-06-12 15:28:54,220 Assuming 1.0 = 1.0 g\n",
      "yt : [INFO     ] 2017-06-12 15:28:54,224 Parameters: current_time              = 3.009223\n",
      "yt : [INFO     ] 2017-06-12 15:28:54,224 Parameters: domain_dimensions         = [0 0 0]\n",
      "yt : [INFO     ] 2017-06-12 15:28:54,225 Parameters: domain_left_edge          = [ 0.  0.  0.]\n",
      "yt : [INFO     ] 2017-06-12 15:28:54,226 Parameters: domain_right_edge         = [-0. -0. -0.]\n",
      "yt : [INFO     ] 2017-06-12 15:28:54,226 Parameters: cosmological_simulation   = 0.0\n",
      "yt : [INFO     ] 2017-06-12 15:28:55,113 xlim = 0.000000 6.280000\n",
      "yt : [INFO     ] 2017-06-12 15:28:55,114 ylim = 0.000000 6.280000\n",
      "yt : [INFO     ] 2017-06-12 15:28:55,115 xlim = 0.000000 6.280000\n",
      "yt : [INFO     ] 2017-06-12 15:28:55,115 ylim = 0.000000 6.280000\n",
      "yt : [INFO     ] 2017-06-12 15:28:55,116 Making a fixed resolution buffer of (('athena', 'cell_centered_B_z')) 800 by 800\n",
      "yt : [WARNING  ] 2017-06-12 15:28:55,141 Plot image for field ('athena', 'cell_centered_B_z') has both positive and negative values. Min = -0.136749, Max = 0.136749.\n",
      "yt : [WARNING  ] 2017-06-12 15:28:55,142 Switching to symlog colorbar scaling unless linear scaling is specified later\n",
      "yt : [INFO     ] 2017-06-12 15:28:55,531 Saving plot TaylorGreen.0060_Slice_z_cell_centered_B_z.png\n",
      "yt : [INFO     ] 2017-06-12 15:28:56,013 Temporarily setting domain_right_edge = -domain_left_edge. This will be corrected automatically if it is not the case.\n",
      "yt : [WARNING  ] 2017-06-12 15:28:56,014 Assuming 1.0 = 1.0 cm\n",
      "yt : [WARNING  ] 2017-06-12 15:28:56,015 Assuming 1.0 = 1.0 s\n",
      "yt : [WARNING  ] 2017-06-12 15:28:56,015 Assuming 1.0 = 1.0 g\n",
      "yt : [INFO     ] 2017-06-12 15:28:56,020 Parameters: current_time              = 3.050984\n",
      "yt : [INFO     ] 2017-06-12 15:28:56,020 Parameters: domain_dimensions         = [0 0 0]\n",
      "yt : [INFO     ] 2017-06-12 15:28:56,021 Parameters: domain_left_edge          = [ 0.  0.  0.]\n",
      "yt : [INFO     ] 2017-06-12 15:28:56,022 Parameters: domain_right_edge         = [-0. -0. -0.]\n",
      "yt : [INFO     ] 2017-06-12 15:28:56,023 Parameters: cosmological_simulation   = 0.0\n",
      "yt : [INFO     ] 2017-06-12 15:28:57,017 xlim = 0.000000 6.280000\n",
      "yt : [INFO     ] 2017-06-12 15:28:57,018 ylim = 0.000000 6.280000\n",
      "yt : [INFO     ] 2017-06-12 15:28:57,019 xlim = 0.000000 6.280000\n",
      "yt : [INFO     ] 2017-06-12 15:28:57,019 ylim = 0.000000 6.280000\n",
      "yt : [INFO     ] 2017-06-12 15:28:57,021 Making a fixed resolution buffer of (('athena', 'cell_centered_B_z')) 800 by 800\n",
      "yt : [WARNING  ] 2017-06-12 15:28:57,043 Plot image for field ('athena', 'cell_centered_B_z') has both positive and negative values. Min = -0.135873, Max = 0.135874.\n",
      "yt : [WARNING  ] 2017-06-12 15:28:57,043 Switching to symlog colorbar scaling unless linear scaling is specified later\n",
      "yt : [INFO     ] 2017-06-12 15:28:57,320 Saving plot TaylorGreen.0061_Slice_z_cell_centered_B_z.png\n",
      "yt : [INFO     ] 2017-06-12 15:28:57,857 Temporarily setting domain_right_edge = -domain_left_edge. This will be corrected automatically if it is not the case.\n",
      "yt : [WARNING  ] 2017-06-12 15:28:57,858 Assuming 1.0 = 1.0 cm\n",
      "yt : [WARNING  ] 2017-06-12 15:28:57,858 Assuming 1.0 = 1.0 s\n",
      "yt : [WARNING  ] 2017-06-12 15:28:57,859 Assuming 1.0 = 1.0 g\n",
      "yt : [INFO     ] 2017-06-12 15:28:57,863 Parameters: current_time              = 3.113903\n",
      "yt : [INFO     ] 2017-06-12 15:28:57,864 Parameters: domain_dimensions         = [0 0 0]\n",
      "yt : [INFO     ] 2017-06-12 15:28:57,864 Parameters: domain_left_edge          = [ 0.  0.  0.]\n",
      "yt : [INFO     ] 2017-06-12 15:28:57,865 Parameters: domain_right_edge         = [-0. -0. -0.]\n",
      "yt : [INFO     ] 2017-06-12 15:28:57,866 Parameters: cosmological_simulation   = 0.0\n",
      "yt : [INFO     ] 2017-06-12 15:28:58,692 xlim = 0.000000 6.280000\n",
      "yt : [INFO     ] 2017-06-12 15:28:58,692 ylim = 0.000000 6.280000\n",
      "yt : [INFO     ] 2017-06-12 15:28:58,693 xlim = 0.000000 6.280000\n",
      "yt : [INFO     ] 2017-06-12 15:28:58,694 ylim = 0.000000 6.280000\n",
      "yt : [INFO     ] 2017-06-12 15:28:58,695 Making a fixed resolution buffer of (('athena', 'cell_centered_B_z')) 800 by 800\n",
      "yt : [WARNING  ] 2017-06-12 15:28:58,720 Plot image for field ('athena', 'cell_centered_B_z') has both positive and negative values. Min = -0.134710, Max = 0.134711.\n",
      "yt : [WARNING  ] 2017-06-12 15:28:58,721 Switching to symlog colorbar scaling unless linear scaling is specified later\n",
      "yt : [INFO     ] 2017-06-12 15:28:59,094 Saving plot TaylorGreen.0062_Slice_z_cell_centered_B_z.png\n",
      "yt : [INFO     ] 2017-06-12 15:28:59,526 Temporarily setting domain_right_edge = -domain_left_edge. This will be corrected automatically if it is not the case.\n",
      "yt : [WARNING  ] 2017-06-12 15:28:59,527 Assuming 1.0 = 1.0 cm\n",
      "yt : [WARNING  ] 2017-06-12 15:28:59,528 Assuming 1.0 = 1.0 s\n",
      "yt : [WARNING  ] 2017-06-12 15:28:59,528 Assuming 1.0 = 1.0 g\n",
      "yt : [INFO     ] 2017-06-12 15:28:59,532 Parameters: current_time              = 3.15607\n",
      "yt : [INFO     ] 2017-06-12 15:28:59,533 Parameters: domain_dimensions         = [0 0 0]\n",
      "yt : [INFO     ] 2017-06-12 15:28:59,534 Parameters: domain_left_edge          = [ 0.  0.  0.]\n",
      "yt : [INFO     ] 2017-06-12 15:28:59,534 Parameters: domain_right_edge         = [-0. -0. -0.]\n",
      "yt : [INFO     ] 2017-06-12 15:28:59,535 Parameters: cosmological_simulation   = 0.0\n",
      "yt : [INFO     ] 2017-06-12 15:29:00,480 xlim = 0.000000 6.280000\n",
      "yt : [INFO     ] 2017-06-12 15:29:00,481 ylim = 0.000000 6.280000\n",
      "yt : [INFO     ] 2017-06-12 15:29:00,482 xlim = 0.000000 6.280000\n",
      "yt : [INFO     ] 2017-06-12 15:29:00,482 ylim = 0.000000 6.280000\n",
      "yt : [INFO     ] 2017-06-12 15:29:00,483 Making a fixed resolution buffer of (('athena', 'cell_centered_B_z')) 800 by 800\n",
      "yt : [WARNING  ] 2017-06-12 15:29:00,504 Plot image for field ('athena', 'cell_centered_B_z') has both positive and negative values. Min = -0.134027, Max = 0.134029.\n",
      "yt : [WARNING  ] 2017-06-12 15:29:00,505 Switching to symlog colorbar scaling unless linear scaling is specified later\n",
      "yt : [INFO     ] 2017-06-12 15:29:00,803 Saving plot TaylorGreen.0063_Slice_z_cell_centered_B_z.png\n",
      "yt : [INFO     ] 2017-06-12 15:29:01,359 Temporarily setting domain_right_edge = -domain_left_edge. This will be corrected automatically if it is not the case.\n",
      "yt : [WARNING  ] 2017-06-12 15:29:01,360 Assuming 1.0 = 1.0 cm\n",
      "yt : [WARNING  ] 2017-06-12 15:29:01,360 Assuming 1.0 = 1.0 s\n",
      "yt : [WARNING  ] 2017-06-12 15:29:01,361 Assuming 1.0 = 1.0 g\n",
      "yt : [INFO     ] 2017-06-12 15:29:01,365 Parameters: current_time              = 3.219643\n",
      "yt : [INFO     ] 2017-06-12 15:29:01,366 Parameters: domain_dimensions         = [0 0 0]\n",
      "yt : [INFO     ] 2017-06-12 15:29:01,366 Parameters: domain_left_edge          = [ 0.  0.  0.]\n",
      "yt : [INFO     ] 2017-06-12 15:29:01,367 Parameters: domain_right_edge         = [-0. -0. -0.]\n",
      "yt : [INFO     ] 2017-06-12 15:29:01,368 Parameters: cosmological_simulation   = 0.0\n",
      "yt : [INFO     ] 2017-06-12 15:29:02,200 xlim = 0.000000 6.280000\n",
      "yt : [INFO     ] 2017-06-12 15:29:02,201 ylim = 0.000000 6.280000\n",
      "yt : [INFO     ] 2017-06-12 15:29:02,202 xlim = 0.000000 6.280000\n",
      "yt : [INFO     ] 2017-06-12 15:29:02,203 ylim = 0.000000 6.280000\n",
      "yt : [INFO     ] 2017-06-12 15:29:02,204 Making a fixed resolution buffer of (('athena', 'cell_centered_B_z')) 800 by 800\n",
      "yt : [WARNING  ] 2017-06-12 15:29:02,230 Plot image for field ('athena', 'cell_centered_B_z') has both positive and negative values. Min = -0.133125, Max = 0.133126.\n",
      "yt : [WARNING  ] 2017-06-12 15:29:02,230 Switching to symlog colorbar scaling unless linear scaling is specified later\n",
      "yt : [INFO     ] 2017-06-12 15:29:02,599 Saving plot TaylorGreen.0064_Slice_z_cell_centered_B_z.png\n",
      "yt : [INFO     ] 2017-06-12 15:29:03,021 Temporarily setting domain_right_edge = -domain_left_edge. This will be corrected automatically if it is not the case.\n",
      "yt : [WARNING  ] 2017-06-12 15:29:03,022 Assuming 1.0 = 1.0 cm\n",
      "yt : [WARNING  ] 2017-06-12 15:29:03,022 Assuming 1.0 = 1.0 s\n",
      "yt : [WARNING  ] 2017-06-12 15:29:03,023 Assuming 1.0 = 1.0 g\n",
      "yt : [INFO     ] 2017-06-12 15:29:03,027 Parameters: current_time              = 3.261937\n",
      "yt : [INFO     ] 2017-06-12 15:29:03,028 Parameters: domain_dimensions         = [0 0 0]\n",
      "yt : [INFO     ] 2017-06-12 15:29:03,028 Parameters: domain_left_edge          = [ 0.  0.  0.]\n",
      "yt : [INFO     ] 2017-06-12 15:29:03,029 Parameters: domain_right_edge         = [-0. -0. -0.]\n",
      "yt : [INFO     ] 2017-06-12 15:29:03,029 Parameters: cosmological_simulation   = 0.0\n",
      "yt : [INFO     ] 2017-06-12 15:29:03,931 xlim = 0.000000 6.280000\n",
      "yt : [INFO     ] 2017-06-12 15:29:03,932 ylim = 0.000000 6.280000\n",
      "yt : [INFO     ] 2017-06-12 15:29:03,933 xlim = 0.000000 6.280000\n",
      "yt : [INFO     ] 2017-06-12 15:29:03,933 ylim = 0.000000 6.280000\n",
      "yt : [INFO     ] 2017-06-12 15:29:03,934 Making a fixed resolution buffer of (('athena', 'cell_centered_B_z')) 800 by 800\n",
      "yt : [WARNING  ] 2017-06-12 15:29:03,954 Plot image for field ('athena', 'cell_centered_B_z') has both positive and negative values. Min = -0.132598, Max = 0.132599.\n",
      "yt : [WARNING  ] 2017-06-12 15:29:03,954 Switching to symlog colorbar scaling unless linear scaling is specified later\n",
      "yt : [INFO     ] 2017-06-12 15:29:04,229 Saving plot TaylorGreen.0065_Slice_z_cell_centered_B_z.png\n",
      "yt : [INFO     ] 2017-06-12 15:29:04,770 Temporarily setting domain_right_edge = -domain_left_edge. This will be corrected automatically if it is not the case.\n",
      "yt : [WARNING  ] 2017-06-12 15:29:04,772 Assuming 1.0 = 1.0 cm\n",
      "yt : [WARNING  ] 2017-06-12 15:29:04,772 Assuming 1.0 = 1.0 s\n",
      "yt : [WARNING  ] 2017-06-12 15:29:04,773 Assuming 1.0 = 1.0 g\n",
      "yt : [INFO     ] 2017-06-12 15:29:04,777 Parameters: current_time              = 3.304075\n",
      "yt : [INFO     ] 2017-06-12 15:29:04,778 Parameters: domain_dimensions         = [0 0 0]\n",
      "yt : [INFO     ] 2017-06-12 15:29:04,778 Parameters: domain_left_edge          = [ 0.  0.  0.]\n",
      "yt : [INFO     ] 2017-06-12 15:29:04,779 Parameters: domain_right_edge         = [-0. -0. -0.]\n",
      "yt : [INFO     ] 2017-06-12 15:29:04,780 Parameters: cosmological_simulation   = 0.0\n",
      "yt : [INFO     ] 2017-06-12 15:29:05,609 xlim = 0.000000 6.280000\n",
      "yt : [INFO     ] 2017-06-12 15:29:05,610 ylim = 0.000000 6.280000\n",
      "yt : [INFO     ] 2017-06-12 15:29:05,611 xlim = 0.000000 6.280000\n",
      "yt : [INFO     ] 2017-06-12 15:29:05,611 ylim = 0.000000 6.280000\n",
      "yt : [INFO     ] 2017-06-12 15:29:05,612 Making a fixed resolution buffer of (('athena', 'cell_centered_B_z')) 800 by 800\n",
      "yt : [WARNING  ] 2017-06-12 15:29:05,637 Plot image for field ('athena', 'cell_centered_B_z') has both positive and negative values. Min = -0.132126, Max = 0.132127.\n",
      "yt : [WARNING  ] 2017-06-12 15:29:05,637 Switching to symlog colorbar scaling unless linear scaling is specified later\n",
      "yt : [INFO     ] 2017-06-12 15:29:06,003 Saving plot TaylorGreen.0066_Slice_z_cell_centered_B_z.png\n",
      "yt : [INFO     ] 2017-06-12 15:29:06,429 Temporarily setting domain_right_edge = -domain_left_edge. This will be corrected automatically if it is not the case.\n",
      "yt : [WARNING  ] 2017-06-12 15:29:06,430 Assuming 1.0 = 1.0 cm\n",
      "yt : [WARNING  ] 2017-06-12 15:29:06,431 Assuming 1.0 = 1.0 s\n",
      "yt : [WARNING  ] 2017-06-12 15:29:06,431 Assuming 1.0 = 1.0 g\n",
      "yt : [INFO     ] 2017-06-12 15:29:06,436 Parameters: current_time              = 3.36697\n",
      "yt : [INFO     ] 2017-06-12 15:29:06,436 Parameters: domain_dimensions         = [0 0 0]\n",
      "yt : [INFO     ] 2017-06-12 15:29:06,437 Parameters: domain_left_edge          = [ 0.  0.  0.]\n",
      "yt : [INFO     ] 2017-06-12 15:29:06,438 Parameters: domain_right_edge         = [-0. -0. -0.]\n",
      "yt : [INFO     ] 2017-06-12 15:29:06,438 Parameters: cosmological_simulation   = 0.0\n",
      "yt : [INFO     ] 2017-06-12 15:29:07,328 xlim = 0.000000 6.280000\n",
      "yt : [INFO     ] 2017-06-12 15:29:07,329 ylim = 0.000000 6.280000\n",
      "yt : [INFO     ] 2017-06-12 15:29:07,330 xlim = 0.000000 6.280000\n",
      "yt : [INFO     ] 2017-06-12 15:29:07,330 ylim = 0.000000 6.280000\n",
      "yt : [INFO     ] 2017-06-12 15:29:07,331 Making a fixed resolution buffer of (('athena', 'cell_centered_B_z')) 800 by 800\n",
      "yt : [WARNING  ] 2017-06-12 15:29:07,351 Plot image for field ('athena', 'cell_centered_B_z') has both positive and negative values. Min = -0.131507, Max = 0.131508.\n",
      "yt : [WARNING  ] 2017-06-12 15:29:07,351 Switching to symlog colorbar scaling unless linear scaling is specified later\n",
      "yt : [INFO     ] 2017-06-12 15:29:07,628 Saving plot TaylorGreen.0067_Slice_z_cell_centered_B_z.png\n",
      "yt : [INFO     ] 2017-06-12 15:29:08,164 Temporarily setting domain_right_edge = -domain_left_edge. This will be corrected automatically if it is not the case.\n",
      "yt : [WARNING  ] 2017-06-12 15:29:08,165 Assuming 1.0 = 1.0 cm\n",
      "yt : [WARNING  ] 2017-06-12 15:29:08,165 Assuming 1.0 = 1.0 s\n",
      "yt : [WARNING  ] 2017-06-12 15:29:08,166 Assuming 1.0 = 1.0 g\n",
      "yt : [INFO     ] 2017-06-12 15:29:08,170 Parameters: current_time              = 3.408676\n",
      "yt : [INFO     ] 2017-06-12 15:29:08,171 Parameters: domain_dimensions         = [0 0 0]\n",
      "yt : [INFO     ] 2017-06-12 15:29:08,171 Parameters: domain_left_edge          = [ 0.  0.  0.]\n",
      "yt : [INFO     ] 2017-06-12 15:29:08,172 Parameters: domain_right_edge         = [-0. -0. -0.]\n",
      "yt : [INFO     ] 2017-06-12 15:29:08,173 Parameters: cosmological_simulation   = 0.0\n",
      "yt : [INFO     ] 2017-06-12 15:29:08,993 xlim = 0.000000 6.280000\n",
      "yt : [INFO     ] 2017-06-12 15:29:08,994 ylim = 0.000000 6.280000\n",
      "yt : [INFO     ] 2017-06-12 15:29:08,995 xlim = 0.000000 6.280000\n",
      "yt : [INFO     ] 2017-06-12 15:29:08,995 ylim = 0.000000 6.280000\n",
      "yt : [INFO     ] 2017-06-12 15:29:08,997 Making a fixed resolution buffer of (('athena', 'cell_centered_B_z')) 800 by 800\n",
      "yt : [WARNING  ] 2017-06-12 15:29:09,022 Plot image for field ('athena', 'cell_centered_B_z') has both positive and negative values. Min = -0.131133, Max = 0.131134.\n",
      "yt : [WARNING  ] 2017-06-12 15:29:09,022 Switching to symlog colorbar scaling unless linear scaling is specified later\n",
      "yt : [INFO     ] 2017-06-12 15:29:09,384 Saving plot TaylorGreen.0068_Slice_z_cell_centered_B_z.png\n",
      "yt : [INFO     ] 2017-06-12 15:29:09,812 Temporarily setting domain_right_edge = -domain_left_edge. This will be corrected automatically if it is not the case.\n",
      "yt : [WARNING  ] 2017-06-12 15:29:09,813 Assuming 1.0 = 1.0 cm\n",
      "yt : [WARNING  ] 2017-06-12 15:29:09,814 Assuming 1.0 = 1.0 s\n",
      "yt : [WARNING  ] 2017-06-12 15:29:09,814 Assuming 1.0 = 1.0 g\n",
      "yt : [INFO     ] 2017-06-12 15:29:09,819 Parameters: current_time              = 3.450193\n",
      "yt : [INFO     ] 2017-06-12 15:29:09,819 Parameters: domain_dimensions         = [0 0 0]\n",
      "yt : [INFO     ] 2017-06-12 15:29:09,820 Parameters: domain_left_edge          = [ 0.  0.  0.]\n",
      "yt : [INFO     ] 2017-06-12 15:29:09,821 Parameters: domain_right_edge         = [-0. -0. -0.]\n",
      "yt : [INFO     ] 2017-06-12 15:29:09,821 Parameters: cosmological_simulation   = 0.0\n",
      "yt : [INFO     ] 2017-06-12 15:29:10,747 xlim = 0.000000 6.280000\n",
      "yt : [INFO     ] 2017-06-12 15:29:10,747 ylim = 0.000000 6.280000\n",
      "yt : [INFO     ] 2017-06-12 15:29:10,748 xlim = 0.000000 6.280000\n",
      "yt : [INFO     ] 2017-06-12 15:29:10,749 ylim = 0.000000 6.280000\n",
      "yt : [INFO     ] 2017-06-12 15:29:10,750 Making a fixed resolution buffer of (('athena', 'cell_centered_B_z')) 800 by 800\n",
      "yt : [WARNING  ] 2017-06-12 15:29:10,770 Plot image for field ('athena', 'cell_centered_B_z') has both positive and negative values. Min = -0.130769, Max = 0.130770.\n",
      "yt : [WARNING  ] 2017-06-12 15:29:10,770 Switching to symlog colorbar scaling unless linear scaling is specified later\n",
      "yt : [INFO     ] 2017-06-12 15:29:11,045 Saving plot TaylorGreen.0069_Slice_z_cell_centered_B_z.png\n",
      "yt : [INFO     ] 2017-06-12 15:29:11,578 Temporarily setting domain_right_edge = -domain_left_edge. This will be corrected automatically if it is not the case.\n",
      "yt : [WARNING  ] 2017-06-12 15:29:11,579 Assuming 1.0 = 1.0 cm\n",
      "yt : [WARNING  ] 2017-06-12 15:29:11,580 Assuming 1.0 = 1.0 s\n",
      "yt : [WARNING  ] 2017-06-12 15:29:11,580 Assuming 1.0 = 1.0 g\n",
      "yt : [INFO     ] 2017-06-12 15:29:11,585 Parameters: current_time              = 3.512108\n",
      "yt : [INFO     ] 2017-06-12 15:29:11,585 Parameters: domain_dimensions         = [0 0 0]\n",
      "yt : [INFO     ] 2017-06-12 15:29:11,586 Parameters: domain_left_edge          = [ 0.  0.  0.]\n",
      "yt : [INFO     ] 2017-06-12 15:29:11,586 Parameters: domain_right_edge         = [-0. -0. -0.]\n",
      "yt : [INFO     ] 2017-06-12 15:29:11,587 Parameters: cosmological_simulation   = 0.0\n",
      "yt : [INFO     ] 2017-06-12 15:29:12,415 xlim = 0.000000 6.280000\n",
      "yt : [INFO     ] 2017-06-12 15:29:12,415 ylim = 0.000000 6.280000\n",
      "yt : [INFO     ] 2017-06-12 15:29:12,417 xlim = 0.000000 6.280000\n",
      "yt : [INFO     ] 2017-06-12 15:29:12,417 ylim = 0.000000 6.280000\n",
      "yt : [INFO     ] 2017-06-12 15:29:12,418 Making a fixed resolution buffer of (('athena', 'cell_centered_B_z')) 800 by 800\n",
      "yt : [WARNING  ] 2017-06-12 15:29:12,442 Plot image for field ('athena', 'cell_centered_B_z') has both positive and negative values. Min = -0.130196, Max = 0.130197.\n",
      "yt : [WARNING  ] 2017-06-12 15:29:12,443 Switching to symlog colorbar scaling unless linear scaling is specified later\n",
      "yt : [INFO     ] 2017-06-12 15:29:12,803 Saving plot TaylorGreen.0070_Slice_z_cell_centered_B_z.png\n",
      "yt : [INFO     ] 2017-06-12 15:29:13,228 Temporarily setting domain_right_edge = -domain_left_edge. This will be corrected automatically if it is not the case.\n",
      "yt : [WARNING  ] 2017-06-12 15:29:13,230 Assuming 1.0 = 1.0 cm\n",
      "yt : [WARNING  ] 2017-06-12 15:29:13,230 Assuming 1.0 = 1.0 s\n",
      "yt : [WARNING  ] 2017-06-12 15:29:13,231 Assuming 1.0 = 1.0 g\n",
      "yt : [INFO     ] 2017-06-12 15:29:13,235 Parameters: current_time              = 3.553145\n",
      "yt : [INFO     ] 2017-06-12 15:29:13,236 Parameters: domain_dimensions         = [0 0 0]\n",
      "yt : [INFO     ] 2017-06-12 15:29:13,236 Parameters: domain_left_edge          = [ 0.  0.  0.]\n",
      "yt : [INFO     ] 2017-06-12 15:29:13,237 Parameters: domain_right_edge         = [-0. -0. -0.]\n",
      "yt : [INFO     ] 2017-06-12 15:29:13,238 Parameters: cosmological_simulation   = 0.0\n",
      "yt : [INFO     ] 2017-06-12 15:29:14,141 xlim = 0.000000 6.280000\n",
      "yt : [INFO     ] 2017-06-12 15:29:14,142 ylim = 0.000000 6.280000\n",
      "yt : [INFO     ] 2017-06-12 15:29:14,143 xlim = 0.000000 6.280000\n",
      "yt : [INFO     ] 2017-06-12 15:29:14,143 ylim = 0.000000 6.280000\n",
      "yt : [INFO     ] 2017-06-12 15:29:14,144 Making a fixed resolution buffer of (('athena', 'cell_centered_B_z')) 800 by 800\n",
      "yt : [WARNING  ] 2017-06-12 15:29:14,164 Plot image for field ('athena', 'cell_centered_B_z') has both positive and negative values. Min = -0.129772, Max = 0.129772.\n",
      "yt : [WARNING  ] 2017-06-12 15:29:14,165 Switching to symlog colorbar scaling unless linear scaling is specified later\n",
      "yt : [INFO     ] 2017-06-12 15:29:14,435 Saving plot TaylorGreen.0071_Slice_z_cell_centered_B_z.png\n",
      "yt : [INFO     ] 2017-06-12 15:29:14,962 Temporarily setting domain_right_edge = -domain_left_edge. This will be corrected automatically if it is not the case.\n",
      "yt : [WARNING  ] 2017-06-12 15:29:14,964 Assuming 1.0 = 1.0 cm\n",
      "yt : [WARNING  ] 2017-06-12 15:29:14,964 Assuming 1.0 = 1.0 s\n",
      "yt : [WARNING  ] 2017-06-12 15:29:14,965 Assuming 1.0 = 1.0 g\n",
      "yt : [INFO     ] 2017-06-12 15:29:14,969 Parameters: current_time              = 3.614337\n",
      "yt : [INFO     ] 2017-06-12 15:29:14,970 Parameters: domain_dimensions         = [0 0 0]\n",
      "yt : [INFO     ] 2017-06-12 15:29:14,970 Parameters: domain_left_edge          = [ 0.  0.  0.]\n",
      "yt : [INFO     ] 2017-06-12 15:29:14,971 Parameters: domain_right_edge         = [-0. -0. -0.]\n",
      "yt : [INFO     ] 2017-06-12 15:29:14,971 Parameters: cosmological_simulation   = 0.0\n",
      "yt : [INFO     ] 2017-06-12 15:29:15,797 xlim = 0.000000 6.280000\n",
      "yt : [INFO     ] 2017-06-12 15:29:15,798 ylim = 0.000000 6.280000\n",
      "yt : [INFO     ] 2017-06-12 15:29:15,799 xlim = 0.000000 6.280000\n",
      "yt : [INFO     ] 2017-06-12 15:29:15,799 ylim = 0.000000 6.280000\n",
      "yt : [INFO     ] 2017-06-12 15:29:15,801 Making a fixed resolution buffer of (('athena', 'cell_centered_B_z')) 800 by 800\n",
      "yt : [WARNING  ] 2017-06-12 15:29:15,825 Plot image for field ('athena', 'cell_centered_B_z') has both positive and negative values. Min = -0.129047, Max = 0.129047.\n",
      "yt : [WARNING  ] 2017-06-12 15:29:15,826 Switching to symlog colorbar scaling unless linear scaling is specified later\n",
      "yt : [INFO     ] 2017-06-12 15:29:16,194 Saving plot TaylorGreen.0072_Slice_z_cell_centered_B_z.png\n",
      "yt : [INFO     ] 2017-06-12 15:29:16,634 Temporarily setting domain_right_edge = -domain_left_edge. This will be corrected automatically if it is not the case.\n",
      "yt : [WARNING  ] 2017-06-12 15:29:16,635 Assuming 1.0 = 1.0 cm\n",
      "yt : [WARNING  ] 2017-06-12 15:29:16,636 Assuming 1.0 = 1.0 s\n",
      "yt : [WARNING  ] 2017-06-12 15:29:16,636 Assuming 1.0 = 1.0 g\n",
      "yt : [INFO     ] 2017-06-12 15:29:16,640 Parameters: current_time              = 3.654894\n",
      "yt : [INFO     ] 2017-06-12 15:29:16,641 Parameters: domain_dimensions         = [0 0 0]\n",
      "yt : [INFO     ] 2017-06-12 15:29:16,641 Parameters: domain_left_edge          = [ 0.  0.  0.]\n",
      "yt : [INFO     ] 2017-06-12 15:29:16,642 Parameters: domain_right_edge         = [-0. -0. -0.]\n",
      "yt : [INFO     ] 2017-06-12 15:29:16,643 Parameters: cosmological_simulation   = 0.0\n",
      "yt : [INFO     ] 2017-06-12 15:29:17,582 xlim = 0.000000 6.280000\n",
      "yt : [INFO     ] 2017-06-12 15:29:17,582 ylim = 0.000000 6.280000\n",
      "yt : [INFO     ] 2017-06-12 15:29:17,583 xlim = 0.000000 6.280000\n",
      "yt : [INFO     ] 2017-06-12 15:29:17,583 ylim = 0.000000 6.280000\n",
      "yt : [INFO     ] 2017-06-12 15:29:17,585 Making a fixed resolution buffer of (('athena', 'cell_centered_B_z')) 800 by 800\n",
      "yt : [WARNING  ] 2017-06-12 15:29:17,605 Plot image for field ('athena', 'cell_centered_B_z') has both positive and negative values. Min = -0.128487, Max = 0.128488.\n",
      "yt : [WARNING  ] 2017-06-12 15:29:17,606 Switching to symlog colorbar scaling unless linear scaling is specified later\n",
      "yt : [INFO     ] 2017-06-12 15:29:17,888 Saving plot TaylorGreen.0073_Slice_z_cell_centered_B_z.png\n",
      "yt : [INFO     ] 2017-06-12 15:29:18,428 Temporarily setting domain_right_edge = -domain_left_edge. This will be corrected automatically if it is not the case.\n",
      "yt : [WARNING  ] 2017-06-12 15:29:18,429 Assuming 1.0 = 1.0 cm\n",
      "yt : [WARNING  ] 2017-06-12 15:29:18,429 Assuming 1.0 = 1.0 s\n",
      "yt : [WARNING  ] 2017-06-12 15:29:18,430 Assuming 1.0 = 1.0 g\n",
      "yt : [INFO     ] 2017-06-12 15:29:18,434 Parameters: current_time              = 3.71538\n",
      "yt : [INFO     ] 2017-06-12 15:29:18,435 Parameters: domain_dimensions         = [0 0 0]\n",
      "yt : [INFO     ] 2017-06-12 15:29:18,435 Parameters: domain_left_edge          = [ 0.  0.  0.]\n",
      "yt : [INFO     ] 2017-06-12 15:29:18,436 Parameters: domain_right_edge         = [-0. -0. -0.]\n",
      "yt : [INFO     ] 2017-06-12 15:29:18,436 Parameters: cosmological_simulation   = 0.0\n",
      "yt : [INFO     ] 2017-06-12 15:29:19,257 xlim = 0.000000 6.280000\n",
      "yt : [INFO     ] 2017-06-12 15:29:19,258 ylim = 0.000000 6.280000\n",
      "yt : [INFO     ] 2017-06-12 15:29:19,259 xlim = 0.000000 6.280000\n",
      "yt : [INFO     ] 2017-06-12 15:29:19,259 ylim = 0.000000 6.280000\n",
      "yt : [INFO     ] 2017-06-12 15:29:19,261 Making a fixed resolution buffer of (('athena', 'cell_centered_B_z')) 800 by 800\n",
      "yt : [WARNING  ] 2017-06-12 15:29:19,285 Plot image for field ('athena', 'cell_centered_B_z') has both positive and negative values. Min = -0.127516, Max = 0.127517.\n",
      "yt : [WARNING  ] 2017-06-12 15:29:19,286 Switching to symlog colorbar scaling unless linear scaling is specified later\n",
      "yt : [INFO     ] 2017-06-12 15:29:19,649 Saving plot TaylorGreen.0074_Slice_z_cell_centered_B_z.png\n",
      "yt : [INFO     ] 2017-06-12 15:29:20,084 Temporarily setting domain_right_edge = -domain_left_edge. This will be corrected automatically if it is not the case.\n",
      "yt : [WARNING  ] 2017-06-12 15:29:20,085 Assuming 1.0 = 1.0 cm\n",
      "yt : [WARNING  ] 2017-06-12 15:29:20,086 Assuming 1.0 = 1.0 s\n",
      "yt : [WARNING  ] 2017-06-12 15:29:20,086 Assuming 1.0 = 1.0 g\n",
      "yt : [INFO     ] 2017-06-12 15:29:20,090 Parameters: current_time              = 3.755483\n",
      "yt : [INFO     ] 2017-06-12 15:29:20,091 Parameters: domain_dimensions         = [0 0 0]\n",
      "yt : [INFO     ] 2017-06-12 15:29:20,091 Parameters: domain_left_edge          = [ 0.  0.  0.]\n",
      "yt : [INFO     ] 2017-06-12 15:29:20,092 Parameters: domain_right_edge         = [-0. -0. -0.]\n",
      "yt : [INFO     ] 2017-06-12 15:29:20,093 Parameters: cosmological_simulation   = 0.0\n",
      "yt : [INFO     ] 2017-06-12 15:29:20,976 xlim = 0.000000 6.280000\n",
      "yt : [INFO     ] 2017-06-12 15:29:20,976 ylim = 0.000000 6.280000\n",
      "yt : [INFO     ] 2017-06-12 15:29:20,977 xlim = 0.000000 6.280000\n",
      "yt : [INFO     ] 2017-06-12 15:29:20,978 ylim = 0.000000 6.280000\n",
      "yt : [INFO     ] 2017-06-12 15:29:20,979 Making a fixed resolution buffer of (('athena', 'cell_centered_B_z')) 800 by 800\n",
      "yt : [WARNING  ] 2017-06-12 15:29:21,000 Plot image for field ('athena', 'cell_centered_B_z') has both positive and negative values. Min = -0.126776, Max = 0.126776.\n",
      "yt : [WARNING  ] 2017-06-12 15:29:21,000 Switching to symlog colorbar scaling unless linear scaling is specified later\n",
      "yt : [INFO     ] 2017-06-12 15:29:21,276 Saving plot TaylorGreen.0075_Slice_z_cell_centered_B_z.png\n",
      "yt : [INFO     ] 2017-06-12 15:29:21,801 Temporarily setting domain_right_edge = -domain_left_edge. This will be corrected automatically if it is not the case.\n",
      "yt : [WARNING  ] 2017-06-12 15:29:21,803 Assuming 1.0 = 1.0 cm\n",
      "yt : [WARNING  ] 2017-06-12 15:29:21,803 Assuming 1.0 = 1.0 s\n",
      "yt : [WARNING  ] 2017-06-12 15:29:21,804 Assuming 1.0 = 1.0 g\n",
      "yt : [INFO     ] 2017-06-12 15:29:21,808 Parameters: current_time              = 3.81533\n",
      "yt : [INFO     ] 2017-06-12 15:29:21,808 Parameters: domain_dimensions         = [0 0 0]\n",
      "yt : [INFO     ] 2017-06-12 15:29:21,809 Parameters: domain_left_edge          = [ 0.  0.  0.]\n",
      "yt : [INFO     ] 2017-06-12 15:29:21,810 Parameters: domain_right_edge         = [-0. -0. -0.]\n",
      "yt : [INFO     ] 2017-06-12 15:29:21,810 Parameters: cosmological_simulation   = 0.0\n",
      "yt : [INFO     ] 2017-06-12 15:29:22,637 xlim = 0.000000 6.280000\n",
      "yt : [INFO     ] 2017-06-12 15:29:22,637 ylim = 0.000000 6.280000\n",
      "yt : [INFO     ] 2017-06-12 15:29:22,638 xlim = 0.000000 6.280000\n",
      "yt : [INFO     ] 2017-06-12 15:29:22,639 ylim = 0.000000 6.280000\n",
      "yt : [INFO     ] 2017-06-12 15:29:22,640 Making a fixed resolution buffer of (('athena', 'cell_centered_B_z')) 800 by 800\n",
      "yt : [WARNING  ] 2017-06-12 15:29:22,664 Plot image for field ('athena', 'cell_centered_B_z') has both positive and negative values. Min = -0.125530, Max = 0.125530.\n",
      "yt : [WARNING  ] 2017-06-12 15:29:22,665 Switching to symlog colorbar scaling unless linear scaling is specified later\n",
      "yt : [INFO     ] 2017-06-12 15:29:23,030 Saving plot TaylorGreen.0076_Slice_z_cell_centered_B_z.png\n",
      "yt : [INFO     ] 2017-06-12 15:29:23,461 Temporarily setting domain_right_edge = -domain_left_edge. This will be corrected automatically if it is not the case.\n",
      "yt : [WARNING  ] 2017-06-12 15:29:23,462 Assuming 1.0 = 1.0 cm\n",
      "yt : [WARNING  ] 2017-06-12 15:29:23,463 Assuming 1.0 = 1.0 s\n",
      "yt : [WARNING  ] 2017-06-12 15:29:23,463 Assuming 1.0 = 1.0 g\n",
      "yt : [INFO     ] 2017-06-12 15:29:23,468 Parameters: current_time              = 3.855043\n",
      "yt : [INFO     ] 2017-06-12 15:29:23,468 Parameters: domain_dimensions         = [0 0 0]\n",
      "yt : [INFO     ] 2017-06-12 15:29:23,469 Parameters: domain_left_edge          = [ 0.  0.  0.]\n",
      "yt : [INFO     ] 2017-06-12 15:29:23,470 Parameters: domain_right_edge         = [-0. -0. -0.]\n",
      "yt : [INFO     ] 2017-06-12 15:29:23,470 Parameters: cosmological_simulation   = 0.0\n",
      "yt : [INFO     ] 2017-06-12 15:29:24,387 xlim = 0.000000 6.280000\n",
      "yt : [INFO     ] 2017-06-12 15:29:24,387 ylim = 0.000000 6.280000\n",
      "yt : [INFO     ] 2017-06-12 15:29:24,388 xlim = 0.000000 6.280000\n",
      "yt : [INFO     ] 2017-06-12 15:29:24,389 ylim = 0.000000 6.280000\n",
      "yt : [INFO     ] 2017-06-12 15:29:24,390 Making a fixed resolution buffer of (('athena', 'cell_centered_B_z')) 800 by 800\n",
      "yt : [WARNING  ] 2017-06-12 15:29:24,410 Plot image for field ('athena', 'cell_centered_B_z') has both positive and negative values. Min = -0.124623, Max = 0.124624.\n",
      "yt : [WARNING  ] 2017-06-12 15:29:24,411 Switching to symlog colorbar scaling unless linear scaling is specified later\n",
      "yt : [INFO     ] 2017-06-12 15:29:24,683 Saving plot TaylorGreen.0077_Slice_z_cell_centered_B_z.png\n",
      "yt : [INFO     ] 2017-06-12 15:29:25,217 Temporarily setting domain_right_edge = -domain_left_edge. This will be corrected automatically if it is not the case.\n",
      "yt : [WARNING  ] 2017-06-12 15:29:25,218 Assuming 1.0 = 1.0 cm\n",
      "yt : [WARNING  ] 2017-06-12 15:29:25,218 Assuming 1.0 = 1.0 s\n",
      "yt : [WARNING  ] 2017-06-12 15:29:25,219 Assuming 1.0 = 1.0 g\n",
      "yt : [INFO     ] 2017-06-12 15:29:25,223 Parameters: current_time              = 3.914378\n",
      "yt : [INFO     ] 2017-06-12 15:29:25,224 Parameters: domain_dimensions         = [0 0 0]\n",
      "yt : [INFO     ] 2017-06-12 15:29:25,224 Parameters: domain_left_edge          = [ 0.  0.  0.]\n",
      "yt : [INFO     ] 2017-06-12 15:29:25,225 Parameters: domain_right_edge         = [-0. -0. -0.]\n",
      "yt : [INFO     ] 2017-06-12 15:29:25,226 Parameters: cosmological_simulation   = 0.0\n",
      "yt : [INFO     ] 2017-06-12 15:29:26,058 xlim = 0.000000 6.280000\n",
      "yt : [INFO     ] 2017-06-12 15:29:26,059 ylim = 0.000000 6.280000\n",
      "yt : [INFO     ] 2017-06-12 15:29:26,059 xlim = 0.000000 6.280000\n",
      "yt : [INFO     ] 2017-06-12 15:29:26,060 ylim = 0.000000 6.280000\n",
      "yt : [INFO     ] 2017-06-12 15:29:26,061 Making a fixed resolution buffer of (('athena', 'cell_centered_B_z')) 800 by 800\n",
      "yt : [WARNING  ] 2017-06-12 15:29:26,086 Plot image for field ('athena', 'cell_centered_B_z') has both positive and negative values. Min = -0.123180, Max = 0.123180.\n",
      "yt : [WARNING  ] 2017-06-12 15:29:26,086 Switching to symlog colorbar scaling unless linear scaling is specified later\n",
      "yt : [INFO     ] 2017-06-12 15:29:26,454 Saving plot TaylorGreen.0078_Slice_z_cell_centered_B_z.png\n",
      "yt : [INFO     ] 2017-06-12 15:29:26,887 Temporarily setting domain_right_edge = -domain_left_edge. This will be corrected automatically if it is not the case.\n",
      "yt : [WARNING  ] 2017-06-12 15:29:26,888 Assuming 1.0 = 1.0 cm\n",
      "yt : [WARNING  ] 2017-06-12 15:29:26,889 Assuming 1.0 = 1.0 s\n",
      "yt : [WARNING  ] 2017-06-12 15:29:26,889 Assuming 1.0 = 1.0 g\n",
      "yt : [INFO     ] 2017-06-12 15:29:26,893 Parameters: current_time              = 3.953805\n",
      "yt : [INFO     ] 2017-06-12 15:29:26,894 Parameters: domain_dimensions         = [0 0 0]\n",
      "yt : [INFO     ] 2017-06-12 15:29:26,894 Parameters: domain_left_edge          = [ 0.  0.  0.]\n",
      "yt : [INFO     ] 2017-06-12 15:29:26,895 Parameters: domain_right_edge         = [-0. -0. -0.]\n",
      "yt : [INFO     ] 2017-06-12 15:29:26,896 Parameters: cosmological_simulation   = 0.0\n",
      "yt : [INFO     ] 2017-06-12 15:29:27,809 xlim = 0.000000 6.280000\n",
      "yt : [INFO     ] 2017-06-12 15:29:27,809 ylim = 0.000000 6.280000\n",
      "yt : [INFO     ] 2017-06-12 15:29:27,810 xlim = 0.000000 6.280000\n",
      "yt : [INFO     ] 2017-06-12 15:29:27,811 ylim = 0.000000 6.280000\n",
      "yt : [INFO     ] 2017-06-12 15:29:27,812 Making a fixed resolution buffer of (('athena', 'cell_centered_B_z')) 800 by 800\n",
      "yt : [WARNING  ] 2017-06-12 15:29:27,833 Plot image for field ('athena', 'cell_centered_B_z') has both positive and negative values. Min = -0.122177, Max = 0.122177.\n",
      "yt : [WARNING  ] 2017-06-12 15:29:27,834 Switching to symlog colorbar scaling unless linear scaling is specified later\n",
      "yt : [INFO     ] 2017-06-12 15:29:28,105 Saving plot TaylorGreen.0079_Slice_z_cell_centered_B_z.png\n",
      "yt : [INFO     ] 2017-06-12 15:29:28,630 Temporarily setting domain_right_edge = -domain_left_edge. This will be corrected automatically if it is not the case.\n",
      "yt : [WARNING  ] 2017-06-12 15:29:28,631 Assuming 1.0 = 1.0 cm\n",
      "yt : [WARNING  ] 2017-06-12 15:29:28,632 Assuming 1.0 = 1.0 s\n",
      "yt : [WARNING  ] 2017-06-12 15:29:28,632 Assuming 1.0 = 1.0 g\n",
      "yt : [INFO     ] 2017-06-12 15:29:28,636 Parameters: current_time              = 4.0128\n",
      "yt : [INFO     ] 2017-06-12 15:29:28,637 Parameters: domain_dimensions         = [0 0 0]\n",
      "yt : [INFO     ] 2017-06-12 15:29:28,638 Parameters: domain_left_edge          = [ 0.  0.  0.]\n",
      "yt : [INFO     ] 2017-06-12 15:29:28,638 Parameters: domain_right_edge         = [-0. -0. -0.]\n",
      "yt : [INFO     ] 2017-06-12 15:29:28,639 Parameters: cosmological_simulation   = 0.0\n",
      "yt : [INFO     ] 2017-06-12 15:29:29,461 xlim = 0.000000 6.280000\n",
      "yt : [INFO     ] 2017-06-12 15:29:29,461 ylim = 0.000000 6.280000\n",
      "yt : [INFO     ] 2017-06-12 15:29:29,462 xlim = 0.000000 6.280000\n",
      "yt : [INFO     ] 2017-06-12 15:29:29,462 ylim = 0.000000 6.280000\n",
      "yt : [INFO     ] 2017-06-12 15:29:29,464 Making a fixed resolution buffer of (('athena', 'cell_centered_B_z')) 800 by 800\n",
      "yt : [WARNING  ] 2017-06-12 15:29:29,489 Plot image for field ('athena', 'cell_centered_B_z') has both positive and negative values. Min = -0.120623, Max = 0.120622.\n",
      "yt : [WARNING  ] 2017-06-12 15:29:29,489 Switching to symlog colorbar scaling unless linear scaling is specified later\n",
      "yt : [INFO     ] 2017-06-12 15:29:29,856 Saving plot TaylorGreen.0080_Slice_z_cell_centered_B_z.png\n",
      "yt : [INFO     ] 2017-06-12 15:29:30,288 Temporarily setting domain_right_edge = -domain_left_edge. This will be corrected automatically if it is not the case.\n",
      "yt : [WARNING  ] 2017-06-12 15:29:30,289 Assuming 1.0 = 1.0 cm\n",
      "yt : [WARNING  ] 2017-06-12 15:29:30,290 Assuming 1.0 = 1.0 s\n",
      "yt : [WARNING  ] 2017-06-12 15:29:30,290 Assuming 1.0 = 1.0 g\n",
      "yt : [INFO     ] 2017-06-12 15:29:30,295 Parameters: current_time              = 4.052068\n",
      "yt : [INFO     ] 2017-06-12 15:29:30,295 Parameters: domain_dimensions         = [0 0 0]\n",
      "yt : [INFO     ] 2017-06-12 15:29:30,296 Parameters: domain_left_edge          = [ 0.  0.  0.]\n",
      "yt : [INFO     ] 2017-06-12 15:29:30,296 Parameters: domain_right_edge         = [-0. -0. -0.]\n",
      "yt : [INFO     ] 2017-06-12 15:29:30,297 Parameters: cosmological_simulation   = 0.0\n",
      "yt : [INFO     ] 2017-06-12 15:29:31,220 xlim = 0.000000 6.280000\n",
      "yt : [INFO     ] 2017-06-12 15:29:31,221 ylim = 0.000000 6.280000\n",
      "yt : [INFO     ] 2017-06-12 15:29:31,222 xlim = 0.000000 6.280000\n",
      "yt : [INFO     ] 2017-06-12 15:29:31,222 ylim = 0.000000 6.280000\n",
      "yt : [INFO     ] 2017-06-12 15:29:31,224 Making a fixed resolution buffer of (('athena', 'cell_centered_B_z')) 800 by 800\n",
      "yt : [WARNING  ] 2017-06-12 15:29:31,243 Plot image for field ('athena', 'cell_centered_B_z') has both positive and negative values. Min = -0.119566, Max = 0.119568.\n",
      "yt : [WARNING  ] 2017-06-12 15:29:31,244 Switching to symlog colorbar scaling unless linear scaling is specified later\n",
      "yt : [INFO     ] 2017-06-12 15:29:31,523 Saving plot TaylorGreen.0081_Slice_z_cell_centered_B_z.png\n",
      "yt : [INFO     ] 2017-06-12 15:29:32,062 Temporarily setting domain_right_edge = -domain_left_edge. This will be corrected automatically if it is not the case.\n",
      "yt : [WARNING  ] 2017-06-12 15:29:32,063 Assuming 1.0 = 1.0 cm\n",
      "yt : [WARNING  ] 2017-06-12 15:29:32,064 Assuming 1.0 = 1.0 s\n",
      "yt : [WARNING  ] 2017-06-12 15:29:32,064 Assuming 1.0 = 1.0 g\n",
      "yt : [INFO     ] 2017-06-12 15:29:32,068 Parameters: current_time              = 4.11094\n",
      "yt : [INFO     ] 2017-06-12 15:29:32,069 Parameters: domain_dimensions         = [0 0 0]\n",
      "yt : [INFO     ] 2017-06-12 15:29:32,070 Parameters: domain_left_edge          = [ 0.  0.  0.]\n",
      "yt : [INFO     ] 2017-06-12 15:29:32,070 Parameters: domain_right_edge         = [-0. -0. -0.]\n",
      "yt : [INFO     ] 2017-06-12 15:29:32,071 Parameters: cosmological_simulation   = 0.0\n",
      "yt : [INFO     ] 2017-06-12 15:29:32,901 xlim = 0.000000 6.280000\n",
      "yt : [INFO     ] 2017-06-12 15:29:32,901 ylim = 0.000000 6.280000\n",
      "yt : [INFO     ] 2017-06-12 15:29:32,902 xlim = 0.000000 6.280000\n",
      "yt : [INFO     ] 2017-06-12 15:29:32,903 ylim = 0.000000 6.280000\n",
      "yt : [INFO     ] 2017-06-12 15:29:32,904 Making a fixed resolution buffer of (('athena', 'cell_centered_B_z')) 800 by 800\n",
      "yt : [WARNING  ] 2017-06-12 15:29:32,928 Plot image for field ('athena', 'cell_centered_B_z') has both positive and negative values. Min = -0.117973, Max = 0.117978.\n",
      "yt : [WARNING  ] 2017-06-12 15:29:32,928 Switching to symlog colorbar scaling unless linear scaling is specified later\n",
      "yt : [INFO     ] 2017-06-12 15:29:33,295 Saving plot TaylorGreen.0082_Slice_z_cell_centered_B_z.png\n",
      "yt : [INFO     ] 2017-06-12 15:29:33,717 Temporarily setting domain_right_edge = -domain_left_edge. This will be corrected automatically if it is not the case.\n",
      "yt : [WARNING  ] 2017-06-12 15:29:33,719 Assuming 1.0 = 1.0 cm\n",
      "yt : [WARNING  ] 2017-06-12 15:29:33,719 Assuming 1.0 = 1.0 s\n",
      "yt : [WARNING  ] 2017-06-12 15:29:33,720 Assuming 1.0 = 1.0 g\n",
      "yt : [INFO     ] 2017-06-12 15:29:33,724 Parameters: current_time              = 4.150201\n",
      "yt : [INFO     ] 2017-06-12 15:29:33,724 Parameters: domain_dimensions         = [0 0 0]\n",
      "yt : [INFO     ] 2017-06-12 15:29:33,725 Parameters: domain_left_edge          = [ 0.  0.  0.]\n",
      "yt : [INFO     ] 2017-06-12 15:29:33,725 Parameters: domain_right_edge         = [-0. -0. -0.]\n",
      "yt : [INFO     ] 2017-06-12 15:29:33,726 Parameters: cosmological_simulation   = 0.0\n",
      "yt : [INFO     ] 2017-06-12 15:29:34,624 xlim = 0.000000 6.280000\n",
      "yt : [INFO     ] 2017-06-12 15:29:34,624 ylim = 0.000000 6.280000\n",
      "yt : [INFO     ] 2017-06-12 15:29:34,625 xlim = 0.000000 6.280000\n",
      "yt : [INFO     ] 2017-06-12 15:29:34,626 ylim = 0.000000 6.280000\n",
      "yt : [INFO     ] 2017-06-12 15:29:34,627 Making a fixed resolution buffer of (('athena', 'cell_centered_B_z')) 800 by 800\n",
      "yt : [WARNING  ] 2017-06-12 15:29:34,647 Plot image for field ('athena', 'cell_centered_B_z') has both positive and negative values. Min = -0.116926, Max = 0.116931.\n",
      "yt : [WARNING  ] 2017-06-12 15:29:34,648 Switching to symlog colorbar scaling unless linear scaling is specified later\n",
      "yt : [INFO     ] 2017-06-12 15:29:34,924 Saving plot TaylorGreen.0083_Slice_z_cell_centered_B_z.png\n",
      "yt : [INFO     ] 2017-06-12 15:29:35,448 Temporarily setting domain_right_edge = -domain_left_edge. This will be corrected automatically if it is not the case.\n",
      "yt : [WARNING  ] 2017-06-12 15:29:35,450 Assuming 1.0 = 1.0 cm\n",
      "yt : [WARNING  ] 2017-06-12 15:29:35,450 Assuming 1.0 = 1.0 s\n",
      "yt : [WARNING  ] 2017-06-12 15:29:35,451 Assuming 1.0 = 1.0 g\n",
      "yt : [INFO     ] 2017-06-12 15:29:35,455 Parameters: current_time              = 4.189497\n",
      "yt : [INFO     ] 2017-06-12 15:29:35,455 Parameters: domain_dimensions         = [0 0 0]\n",
      "yt : [INFO     ] 2017-06-12 15:29:35,456 Parameters: domain_left_edge          = [ 0.  0.  0.]\n",
      "yt : [INFO     ] 2017-06-12 15:29:35,457 Parameters: domain_right_edge         = [-0. -0. -0.]\n",
      "yt : [INFO     ] 2017-06-12 15:29:35,457 Parameters: cosmological_simulation   = 0.0\n",
      "yt : [INFO     ] 2017-06-12 15:29:36,290 xlim = 0.000000 6.280000\n",
      "yt : [INFO     ] 2017-06-12 15:29:36,290 ylim = 0.000000 6.280000\n",
      "yt : [INFO     ] 2017-06-12 15:29:36,291 xlim = 0.000000 6.280000\n",
      "yt : [INFO     ] 2017-06-12 15:29:36,291 ylim = 0.000000 6.280000\n",
      "yt : [INFO     ] 2017-06-12 15:29:36,292 Making a fixed resolution buffer of (('athena', 'cell_centered_B_z')) 800 by 800\n",
      "yt : [WARNING  ] 2017-06-12 15:29:36,316 Plot image for field ('athena', 'cell_centered_B_z') has both positive and negative values. Min = -0.115899, Max = 0.115904.\n",
      "yt : [WARNING  ] 2017-06-12 15:29:36,317 Switching to symlog colorbar scaling unless linear scaling is specified later\n",
      "yt : [INFO     ] 2017-06-12 15:29:36,688 Saving plot TaylorGreen.0084_Slice_z_cell_centered_B_z.png\n"
     ]
    }
   ],
   "source": [
    "ts = yt.load(\"/Users/jasmin/Documents/Athena/athena4.2/bin/TaylorGreen.0???.vtk\")\n",
    "for ds in ts:\n",
    "    p=yt.SlicePlot(ds,\"z\",\"cell_centered_B_z\",origin= \"native\")\n",
    "    #p.annotate_quiver('velocity_x', 'velocity_y')\n",
    "    p.save()\n"
   ]
  },
  {
   "cell_type": "code",
   "execution_count": 4,
   "metadata": {
    "collapsed": false
   },
   "outputs": [
    {
     "name": "stderr",
     "output_type": "stream",
     "text": [
      "yt : [INFO     ] 2017-06-07 16:40:51,972 Temporarily setting domain_right_edge = -domain_left_edge. This will be corrected automatically if it is not the case.\n",
      "yt : [WARNING  ] 2017-06-07 16:40:51,974 Assuming 1.0 = 1.0 cm\n",
      "yt : [WARNING  ] 2017-06-07 16:40:51,975 Assuming 1.0 = 1.0 s\n",
      "yt : [WARNING  ] 2017-06-07 16:40:51,976 Assuming 1.0 = 1.0 g\n",
      "yt : [INFO     ] 2017-06-07 16:40:51,989 Parameters: current_time              = 0.0\n",
      "yt : [INFO     ] 2017-06-07 16:40:51,990 Parameters: domain_dimensions         = [0 0 0]\n",
      "yt : [INFO     ] 2017-06-07 16:40:51,991 Parameters: domain_left_edge          = [ 0.  0.  0.]\n",
      "yt : [INFO     ] 2017-06-07 16:40:51,991 Parameters: domain_right_edge         = [-0. -0. -0.]\n",
      "yt : [INFO     ] 2017-06-07 16:40:51,992 Parameters: cosmological_simulation   = 0.0\n"
     ]
    },
    {
     "name": "stdout",
     "output_type": "stream",
     "text": [
      "TaylorGreen.0000\n"
     ]
    },
    {
     "name": "stderr",
     "output_type": "stream",
     "text": [
      "yt : [INFO     ] 2017-06-07 16:40:53,063 Temporarily setting domain_right_edge = -domain_left_edge. This will be corrected automatically if it is not the case.\n",
      "yt : [WARNING  ] 2017-06-07 16:40:53,064 Assuming 1.0 = 1.0 cm\n",
      "yt : [WARNING  ] 2017-06-07 16:40:53,065 Assuming 1.0 = 1.0 s\n",
      "yt : [WARNING  ] 2017-06-07 16:40:53,065 Assuming 1.0 = 1.0 g\n",
      "yt : [INFO     ] 2017-06-07 16:40:53,070 Parameters: current_time              = 0.02506989\n",
      "yt : [INFO     ] 2017-06-07 16:40:53,070 Parameters: domain_dimensions         = [0 0 0]\n",
      "yt : [INFO     ] 2017-06-07 16:40:53,071 Parameters: domain_left_edge          = [ 0.  0.  0.]\n",
      "yt : [INFO     ] 2017-06-07 16:40:53,072 Parameters: domain_right_edge         = [-0. -0. -0.]\n",
      "yt : [INFO     ] 2017-06-07 16:40:53,073 Parameters: cosmological_simulation   = 0.0\n"
     ]
    },
    {
     "name": "stdout",
     "output_type": "stream",
     "text": [
      "TaylorGreen.0001\n"
     ]
    },
    {
     "name": "stderr",
     "output_type": "stream",
     "text": [
      "yt : [INFO     ] 2017-06-07 16:40:54,173 Temporarily setting domain_right_edge = -domain_left_edge. This will be corrected automatically if it is not the case.\n",
      "yt : [WARNING  ] 2017-06-07 16:40:54,174 Assuming 1.0 = 1.0 cm\n",
      "yt : [WARNING  ] 2017-06-07 16:40:54,175 Assuming 1.0 = 1.0 s\n",
      "yt : [WARNING  ] 2017-06-07 16:40:54,176 Assuming 1.0 = 1.0 g\n",
      "yt : [INFO     ] 2017-06-07 16:40:54,180 Parameters: current_time              = 0.05013973\n",
      "yt : [INFO     ] 2017-06-07 16:40:54,180 Parameters: domain_dimensions         = [0 0 0]\n",
      "yt : [INFO     ] 2017-06-07 16:40:54,181 Parameters: domain_left_edge          = [ 0.  0.  0.]\n",
      "yt : [INFO     ] 2017-06-07 16:40:54,182 Parameters: domain_right_edge         = [-0. -0. -0.]\n",
      "yt : [INFO     ] 2017-06-07 16:40:54,182 Parameters: cosmological_simulation   = 0.0\n"
     ]
    },
    {
     "name": "stdout",
     "output_type": "stream",
     "text": [
      "TaylorGreen.0002\n"
     ]
    },
    {
     "name": "stderr",
     "output_type": "stream",
     "text": [
      "yt : [INFO     ] 2017-06-07 16:40:55,230 Temporarily setting domain_right_edge = -domain_left_edge. This will be corrected automatically if it is not the case.\n",
      "yt : [WARNING  ] 2017-06-07 16:40:55,232 Assuming 1.0 = 1.0 cm\n",
      "yt : [WARNING  ] 2017-06-07 16:40:55,233 Assuming 1.0 = 1.0 s\n",
      "yt : [WARNING  ] 2017-06-07 16:40:55,234 Assuming 1.0 = 1.0 g\n",
      "yt : [INFO     ] 2017-06-07 16:40:55,239 Parameters: current_time              = 0.07520929\n",
      "yt : [INFO     ] 2017-06-07 16:40:55,239 Parameters: domain_dimensions         = [0 0 0]\n",
      "yt : [INFO     ] 2017-06-07 16:40:55,240 Parameters: domain_left_edge          = [ 0.  0.  0.]\n",
      "yt : [INFO     ] 2017-06-07 16:40:55,240 Parameters: domain_right_edge         = [-0. -0. -0.]\n",
      "yt : [INFO     ] 2017-06-07 16:40:55,241 Parameters: cosmological_simulation   = 0.0\n"
     ]
    },
    {
     "name": "stdout",
     "output_type": "stream",
     "text": [
      "TaylorGreen.0003\n"
     ]
    },
    {
     "name": "stderr",
     "output_type": "stream",
     "text": [
      "yt : [INFO     ] 2017-06-07 16:40:56,244 Temporarily setting domain_right_edge = -domain_left_edge. This will be corrected automatically if it is not the case.\n",
      "yt : [WARNING  ] 2017-06-07 16:40:56,247 Assuming 1.0 = 1.0 cm\n",
      "yt : [WARNING  ] 2017-06-07 16:40:56,247 Assuming 1.0 = 1.0 s\n",
      "yt : [WARNING  ] 2017-06-07 16:40:56,248 Assuming 1.0 = 1.0 g\n",
      "yt : [INFO     ] 2017-06-07 16:40:56,253 Parameters: current_time              = 0.1002785\n",
      "yt : [INFO     ] 2017-06-07 16:40:56,253 Parameters: domain_dimensions         = [0 0 0]\n",
      "yt : [INFO     ] 2017-06-07 16:40:56,254 Parameters: domain_left_edge          = [ 0.  0.  0.]\n",
      "yt : [INFO     ] 2017-06-07 16:40:56,255 Parameters: domain_right_edge         = [-0. -0. -0.]\n",
      "yt : [INFO     ] 2017-06-07 16:40:56,256 Parameters: cosmological_simulation   = 0.0\n"
     ]
    },
    {
     "name": "stdout",
     "output_type": "stream",
     "text": [
      "TaylorGreen.0004\n"
     ]
    },
    {
     "name": "stderr",
     "output_type": "stream",
     "text": [
      "yt : [INFO     ] 2017-06-07 16:40:57,316 Temporarily setting domain_right_edge = -domain_left_edge. This will be corrected automatically if it is not the case.\n",
      "yt : [WARNING  ] 2017-06-07 16:40:57,318 Assuming 1.0 = 1.0 cm\n",
      "yt : [WARNING  ] 2017-06-07 16:40:57,319 Assuming 1.0 = 1.0 s\n",
      "yt : [WARNING  ] 2017-06-07 16:40:57,320 Assuming 1.0 = 1.0 g\n",
      "yt : [INFO     ] 2017-06-07 16:40:57,326 Parameters: current_time              = 0.1253472\n",
      "yt : [INFO     ] 2017-06-07 16:40:57,327 Parameters: domain_dimensions         = [0 0 0]\n",
      "yt : [INFO     ] 2017-06-07 16:40:57,328 Parameters: domain_left_edge          = [ 0.  0.  0.]\n",
      "yt : [INFO     ] 2017-06-07 16:40:57,328 Parameters: domain_right_edge         = [-0. -0. -0.]\n",
      "yt : [INFO     ] 2017-06-07 16:40:57,329 Parameters: cosmological_simulation   = 0.0\n"
     ]
    },
    {
     "name": "stdout",
     "output_type": "stream",
     "text": [
      "TaylorGreen.0005\n"
     ]
    },
    {
     "name": "stderr",
     "output_type": "stream",
     "text": [
      "yt : [INFO     ] 2017-06-07 16:40:58,501 Temporarily setting domain_right_edge = -domain_left_edge. This will be corrected automatically if it is not the case.\n",
      "yt : [WARNING  ] 2017-06-07 16:40:58,503 Assuming 1.0 = 1.0 cm\n",
      "yt : [WARNING  ] 2017-06-07 16:40:58,504 Assuming 1.0 = 1.0 s\n",
      "yt : [WARNING  ] 2017-06-07 16:40:58,504 Assuming 1.0 = 1.0 g\n",
      "yt : [INFO     ] 2017-06-07 16:40:58,509 Parameters: current_time              = 0.1504154\n",
      "yt : [INFO     ] 2017-06-07 16:40:58,509 Parameters: domain_dimensions         = [0 0 0]\n",
      "yt : [INFO     ] 2017-06-07 16:40:58,510 Parameters: domain_left_edge          = [ 0.  0.  0.]\n",
      "yt : [INFO     ] 2017-06-07 16:40:58,510 Parameters: domain_right_edge         = [-0. -0. -0.]\n",
      "yt : [INFO     ] 2017-06-07 16:40:58,511 Parameters: cosmological_simulation   = 0.0\n"
     ]
    },
    {
     "name": "stdout",
     "output_type": "stream",
     "text": [
      "TaylorGreen.0006\n"
     ]
    },
    {
     "name": "stderr",
     "output_type": "stream",
     "text": [
      "yt : [INFO     ] 2017-06-07 16:40:59,558 Temporarily setting domain_right_edge = -domain_left_edge. This will be corrected automatically if it is not the case.\n",
      "yt : [WARNING  ] 2017-06-07 16:40:59,561 Assuming 1.0 = 1.0 cm\n",
      "yt : [WARNING  ] 2017-06-07 16:40:59,562 Assuming 1.0 = 1.0 s\n",
      "yt : [WARNING  ] 2017-06-07 16:40:59,563 Assuming 1.0 = 1.0 g\n",
      "yt : [INFO     ] 2017-06-07 16:40:59,568 Parameters: current_time              = 0.1754828\n",
      "yt : [INFO     ] 2017-06-07 16:40:59,569 Parameters: domain_dimensions         = [0 0 0]\n",
      "yt : [INFO     ] 2017-06-07 16:40:59,570 Parameters: domain_left_edge          = [ 0.  0.  0.]\n",
      "yt : [INFO     ] 2017-06-07 16:40:59,570 Parameters: domain_right_edge         = [-0. -0. -0.]\n",
      "yt : [INFO     ] 2017-06-07 16:40:59,571 Parameters: cosmological_simulation   = 0.0\n"
     ]
    },
    {
     "name": "stdout",
     "output_type": "stream",
     "text": [
      "TaylorGreen.0007\n"
     ]
    },
    {
     "name": "stderr",
     "output_type": "stream",
     "text": [
      "yt : [INFO     ] 2017-06-07 16:41:00,640 Temporarily setting domain_right_edge = -domain_left_edge. This will be corrected automatically if it is not the case.\n",
      "yt : [WARNING  ] 2017-06-07 16:41:00,642 Assuming 1.0 = 1.0 cm\n",
      "yt : [WARNING  ] 2017-06-07 16:41:00,643 Assuming 1.0 = 1.0 s\n",
      "yt : [WARNING  ] 2017-06-07 16:41:00,643 Assuming 1.0 = 1.0 g\n",
      "yt : [INFO     ] 2017-06-07 16:41:00,648 Parameters: current_time              = 0.2005496\n",
      "yt : [INFO     ] 2017-06-07 16:41:00,649 Parameters: domain_dimensions         = [0 0 0]\n",
      "yt : [INFO     ] 2017-06-07 16:41:00,650 Parameters: domain_left_edge          = [ 0.  0.  0.]\n",
      "yt : [INFO     ] 2017-06-07 16:41:00,650 Parameters: domain_right_edge         = [-0. -0. -0.]\n",
      "yt : [INFO     ] 2017-06-07 16:41:00,651 Parameters: cosmological_simulation   = 0.0\n"
     ]
    },
    {
     "name": "stdout",
     "output_type": "stream",
     "text": [
      "TaylorGreen.0008\n"
     ]
    },
    {
     "name": "stderr",
     "output_type": "stream",
     "text": [
      "yt : [INFO     ] 2017-06-07 16:41:01,667 Temporarily setting domain_right_edge = -domain_left_edge. This will be corrected automatically if it is not the case.\n",
      "yt : [WARNING  ] 2017-06-07 16:41:01,669 Assuming 1.0 = 1.0 cm\n",
      "yt : [WARNING  ] 2017-06-07 16:41:01,670 Assuming 1.0 = 1.0 s\n",
      "yt : [WARNING  ] 2017-06-07 16:41:01,670 Assuming 1.0 = 1.0 g\n",
      "yt : [INFO     ] 2017-06-07 16:41:01,675 Parameters: current_time              = 0.2256154\n",
      "yt : [INFO     ] 2017-06-07 16:41:01,676 Parameters: domain_dimensions         = [0 0 0]\n",
      "yt : [INFO     ] 2017-06-07 16:41:01,676 Parameters: domain_left_edge          = [ 0.  0.  0.]\n",
      "yt : [INFO     ] 2017-06-07 16:41:01,677 Parameters: domain_right_edge         = [-0. -0. -0.]\n",
      "yt : [INFO     ] 2017-06-07 16:41:01,678 Parameters: cosmological_simulation   = 0.0\n"
     ]
    },
    {
     "name": "stdout",
     "output_type": "stream",
     "text": [
      "TaylorGreen.0009\n"
     ]
    },
    {
     "name": "stderr",
     "output_type": "stream",
     "text": [
      "yt : [INFO     ] 2017-06-07 16:41:02,799 Temporarily setting domain_right_edge = -domain_left_edge. This will be corrected automatically if it is not the case.\n",
      "yt : [WARNING  ] 2017-06-07 16:41:02,801 Assuming 1.0 = 1.0 cm\n",
      "yt : [WARNING  ] 2017-06-07 16:41:02,801 Assuming 1.0 = 1.0 s\n",
      "yt : [WARNING  ] 2017-06-07 16:41:02,802 Assuming 1.0 = 1.0 g\n",
      "yt : [INFO     ] 2017-06-07 16:41:02,806 Parameters: current_time              = 0.2506805\n",
      "yt : [INFO     ] 2017-06-07 16:41:02,807 Parameters: domain_dimensions         = [0 0 0]\n",
      "yt : [INFO     ] 2017-06-07 16:41:02,808 Parameters: domain_left_edge          = [ 0.  0.  0.]\n",
      "yt : [INFO     ] 2017-06-07 16:41:02,808 Parameters: domain_right_edge         = [-0. -0. -0.]\n",
      "yt : [INFO     ] 2017-06-07 16:41:02,809 Parameters: cosmological_simulation   = 0.0\n"
     ]
    },
    {
     "name": "stdout",
     "output_type": "stream",
     "text": [
      "TaylorGreen.0010\n"
     ]
    },
    {
     "name": "stderr",
     "output_type": "stream",
     "text": [
      "yt : [INFO     ] 2017-06-07 16:41:04,011 Temporarily setting domain_right_edge = -domain_left_edge. This will be corrected automatically if it is not the case.\n",
      "yt : [WARNING  ] 2017-06-07 16:41:04,013 Assuming 1.0 = 1.0 cm\n",
      "yt : [WARNING  ] 2017-06-07 16:41:04,014 Assuming 1.0 = 1.0 s\n",
      "yt : [WARNING  ] 2017-06-07 16:41:04,014 Assuming 1.0 = 1.0 g\n",
      "yt : [INFO     ] 2017-06-07 16:41:04,019 Parameters: current_time              = 0.2757447\n",
      "yt : [INFO     ] 2017-06-07 16:41:04,020 Parameters: domain_dimensions         = [0 0 0]\n",
      "yt : [INFO     ] 2017-06-07 16:41:04,021 Parameters: domain_left_edge          = [ 0.  0.  0.]\n",
      "yt : [INFO     ] 2017-06-07 16:41:04,021 Parameters: domain_right_edge         = [-0. -0. -0.]\n",
      "yt : [INFO     ] 2017-06-07 16:41:04,022 Parameters: cosmological_simulation   = 0.0\n"
     ]
    },
    {
     "name": "stdout",
     "output_type": "stream",
     "text": [
      "TaylorGreen.0011\n"
     ]
    },
    {
     "name": "stderr",
     "output_type": "stream",
     "text": [
      "yt : [INFO     ] 2017-06-07 16:41:05,139 Temporarily setting domain_right_edge = -domain_left_edge. This will be corrected automatically if it is not the case.\n",
      "yt : [WARNING  ] 2017-06-07 16:41:05,140 Assuming 1.0 = 1.0 cm\n",
      "yt : [WARNING  ] 2017-06-07 16:41:05,141 Assuming 1.0 = 1.0 s\n",
      "yt : [WARNING  ] 2017-06-07 16:41:05,141 Assuming 1.0 = 1.0 g\n",
      "yt : [INFO     ] 2017-06-07 16:41:05,146 Parameters: current_time              = 0.300808\n",
      "yt : [INFO     ] 2017-06-07 16:41:05,146 Parameters: domain_dimensions         = [0 0 0]\n",
      "yt : [INFO     ] 2017-06-07 16:41:05,147 Parameters: domain_left_edge          = [ 0.  0.  0.]\n",
      "yt : [INFO     ] 2017-06-07 16:41:05,147 Parameters: domain_right_edge         = [-0. -0. -0.]\n",
      "yt : [INFO     ] 2017-06-07 16:41:05,148 Parameters: cosmological_simulation   = 0.0\n"
     ]
    },
    {
     "name": "stdout",
     "output_type": "stream",
     "text": [
      "TaylorGreen.0012\n"
     ]
    },
    {
     "name": "stderr",
     "output_type": "stream",
     "text": [
      "yt : [INFO     ] 2017-06-07 16:41:06,277 Temporarily setting domain_right_edge = -domain_left_edge. This will be corrected automatically if it is not the case.\n",
      "yt : [WARNING  ] 2017-06-07 16:41:06,279 Assuming 1.0 = 1.0 cm\n",
      "yt : [WARNING  ] 2017-06-07 16:41:06,279 Assuming 1.0 = 1.0 s\n",
      "yt : [WARNING  ] 2017-06-07 16:41:06,280 Assuming 1.0 = 1.0 g\n",
      "yt : [INFO     ] 2017-06-07 16:41:06,284 Parameters: current_time              = 0.3258704\n",
      "yt : [INFO     ] 2017-06-07 16:41:06,285 Parameters: domain_dimensions         = [0 0 0]\n",
      "yt : [INFO     ] 2017-06-07 16:41:06,285 Parameters: domain_left_edge          = [ 0.  0.  0.]\n",
      "yt : [INFO     ] 2017-06-07 16:41:06,286 Parameters: domain_right_edge         = [-0. -0. -0.]\n",
      "yt : [INFO     ] 2017-06-07 16:41:06,287 Parameters: cosmological_simulation   = 0.0\n"
     ]
    },
    {
     "name": "stdout",
     "output_type": "stream",
     "text": [
      "TaylorGreen.0013\n"
     ]
    },
    {
     "name": "stderr",
     "output_type": "stream",
     "text": [
      "yt : [INFO     ] 2017-06-07 16:41:07,393 Temporarily setting domain_right_edge = -domain_left_edge. This will be corrected automatically if it is not the case.\n",
      "yt : [WARNING  ] 2017-06-07 16:41:07,395 Assuming 1.0 = 1.0 cm\n",
      "yt : [WARNING  ] 2017-06-07 16:41:07,396 Assuming 1.0 = 1.0 s\n",
      "yt : [WARNING  ] 2017-06-07 16:41:07,397 Assuming 1.0 = 1.0 g\n",
      "yt : [INFO     ] 2017-06-07 16:41:07,403 Parameters: current_time              = 0.350932\n",
      "yt : [INFO     ] 2017-06-07 16:41:07,403 Parameters: domain_dimensions         = [0 0 0]\n",
      "yt : [INFO     ] 2017-06-07 16:41:07,404 Parameters: domain_left_edge          = [ 0.  0.  0.]\n",
      "yt : [INFO     ] 2017-06-07 16:41:07,405 Parameters: domain_right_edge         = [-0. -0. -0.]\n",
      "yt : [INFO     ] 2017-06-07 16:41:07,407 Parameters: cosmological_simulation   = 0.0\n"
     ]
    },
    {
     "name": "stdout",
     "output_type": "stream",
     "text": [
      "TaylorGreen.0014\n"
     ]
    },
    {
     "name": "stderr",
     "output_type": "stream",
     "text": [
      "yt : [INFO     ] 2017-06-07 16:41:08,462 Temporarily setting domain_right_edge = -domain_left_edge. This will be corrected automatically if it is not the case.\n",
      "yt : [WARNING  ] 2017-06-07 16:41:08,464 Assuming 1.0 = 1.0 cm\n",
      "yt : [WARNING  ] 2017-06-07 16:41:08,465 Assuming 1.0 = 1.0 s\n",
      "yt : [WARNING  ] 2017-06-07 16:41:08,465 Assuming 1.0 = 1.0 g\n",
      "yt : [INFO     ] 2017-06-07 16:41:08,470 Parameters: current_time              = 0.3759928\n",
      "yt : [INFO     ] 2017-06-07 16:41:08,470 Parameters: domain_dimensions         = [0 0 0]\n",
      "yt : [INFO     ] 2017-06-07 16:41:08,471 Parameters: domain_left_edge          = [ 0.  0.  0.]\n",
      "yt : [INFO     ] 2017-06-07 16:41:08,472 Parameters: domain_right_edge         = [-0. -0. -0.]\n",
      "yt : [INFO     ] 2017-06-07 16:41:08,472 Parameters: cosmological_simulation   = 0.0\n"
     ]
    },
    {
     "name": "stdout",
     "output_type": "stream",
     "text": [
      "TaylorGreen.0015\n"
     ]
    },
    {
     "name": "stderr",
     "output_type": "stream",
     "text": [
      "yt : [INFO     ] 2017-06-07 16:41:09,700 Temporarily setting domain_right_edge = -domain_left_edge. This will be corrected automatically if it is not the case.\n",
      "yt : [WARNING  ] 2017-06-07 16:41:09,702 Assuming 1.0 = 1.0 cm\n",
      "yt : [WARNING  ] 2017-06-07 16:41:09,703 Assuming 1.0 = 1.0 s\n",
      "yt : [WARNING  ] 2017-06-07 16:41:09,703 Assuming 1.0 = 1.0 g\n",
      "yt : [INFO     ] 2017-06-07 16:41:09,708 Parameters: current_time              = 0.4010528\n",
      "yt : [INFO     ] 2017-06-07 16:41:09,708 Parameters: domain_dimensions         = [0 0 0]\n",
      "yt : [INFO     ] 2017-06-07 16:41:09,709 Parameters: domain_left_edge          = [ 0.  0.  0.]\n",
      "yt : [INFO     ] 2017-06-07 16:41:09,709 Parameters: domain_right_edge         = [-0. -0. -0.]\n",
      "yt : [INFO     ] 2017-06-07 16:41:09,710 Parameters: cosmological_simulation   = 0.0\n"
     ]
    },
    {
     "name": "stdout",
     "output_type": "stream",
     "text": [
      "TaylorGreen.0016\n"
     ]
    },
    {
     "name": "stderr",
     "output_type": "stream",
     "text": [
      "yt : [INFO     ] 2017-06-07 16:41:10,855 Temporarily setting domain_right_edge = -domain_left_edge. This will be corrected automatically if it is not the case.\n",
      "yt : [WARNING  ] 2017-06-07 16:41:10,858 Assuming 1.0 = 1.0 cm\n",
      "yt : [WARNING  ] 2017-06-07 16:41:10,859 Assuming 1.0 = 1.0 s\n",
      "yt : [WARNING  ] 2017-06-07 16:41:10,860 Assuming 1.0 = 1.0 g\n",
      "yt : [INFO     ] 2017-06-07 16:41:10,865 Parameters: current_time              = 0.4261121\n",
      "yt : [INFO     ] 2017-06-07 16:41:10,866 Parameters: domain_dimensions         = [0 0 0]\n",
      "yt : [INFO     ] 2017-06-07 16:41:10,867 Parameters: domain_left_edge          = [ 0.  0.  0.]\n",
      "yt : [INFO     ] 2017-06-07 16:41:10,867 Parameters: domain_right_edge         = [-0. -0. -0.]\n",
      "yt : [INFO     ] 2017-06-07 16:41:10,868 Parameters: cosmological_simulation   = 0.0\n"
     ]
    },
    {
     "name": "stdout",
     "output_type": "stream",
     "text": [
      "TaylorGreen.0017\n"
     ]
    },
    {
     "name": "stderr",
     "output_type": "stream",
     "text": [
      "yt : [INFO     ] 2017-06-07 16:41:11,991 Temporarily setting domain_right_edge = -domain_left_edge. This will be corrected automatically if it is not the case.\n",
      "yt : [WARNING  ] 2017-06-07 16:41:11,993 Assuming 1.0 = 1.0 cm\n",
      "yt : [WARNING  ] 2017-06-07 16:41:11,993 Assuming 1.0 = 1.0 s\n",
      "yt : [WARNING  ] 2017-06-07 16:41:11,994 Assuming 1.0 = 1.0 g\n",
      "yt : [INFO     ] 2017-06-07 16:41:11,998 Parameters: current_time              = 0.4511708\n",
      "yt : [INFO     ] 2017-06-07 16:41:11,999 Parameters: domain_dimensions         = [0 0 0]\n",
      "yt : [INFO     ] 2017-06-07 16:41:12,000 Parameters: domain_left_edge          = [ 0.  0.  0.]\n",
      "yt : [INFO     ] 2017-06-07 16:41:12,000 Parameters: domain_right_edge         = [-0. -0. -0.]\n",
      "yt : [INFO     ] 2017-06-07 16:41:12,001 Parameters: cosmological_simulation   = 0.0\n"
     ]
    },
    {
     "name": "stdout",
     "output_type": "stream",
     "text": [
      "TaylorGreen.0018\n"
     ]
    },
    {
     "name": "stderr",
     "output_type": "stream",
     "text": [
      "yt : [INFO     ] 2017-06-07 16:41:13,138 Temporarily setting domain_right_edge = -domain_left_edge. This will be corrected automatically if it is not the case.\n",
      "yt : [WARNING  ] 2017-06-07 16:41:13,140 Assuming 1.0 = 1.0 cm\n",
      "yt : [WARNING  ] 2017-06-07 16:41:13,141 Assuming 1.0 = 1.0 s\n",
      "yt : [WARNING  ] 2017-06-07 16:41:13,141 Assuming 1.0 = 1.0 g\n",
      "yt : [INFO     ] 2017-06-07 16:41:13,145 Parameters: current_time              = 0.4762288\n",
      "yt : [INFO     ] 2017-06-07 16:41:13,146 Parameters: domain_dimensions         = [0 0 0]\n",
      "yt : [INFO     ] 2017-06-07 16:41:13,146 Parameters: domain_left_edge          = [ 0.  0.  0.]\n",
      "yt : [INFO     ] 2017-06-07 16:41:13,147 Parameters: domain_right_edge         = [-0. -0. -0.]\n",
      "yt : [INFO     ] 2017-06-07 16:41:13,147 Parameters: cosmological_simulation   = 0.0\n"
     ]
    },
    {
     "name": "stdout",
     "output_type": "stream",
     "text": [
      "TaylorGreen.0019\n"
     ]
    },
    {
     "name": "stderr",
     "output_type": "stream",
     "text": [
      "yt : [INFO     ] 2017-06-07 16:41:14,442 Temporarily setting domain_right_edge = -domain_left_edge. This will be corrected automatically if it is not the case.\n",
      "yt : [WARNING  ] 2017-06-07 16:41:14,445 Assuming 1.0 = 1.0 cm\n",
      "yt : [WARNING  ] 2017-06-07 16:41:14,445 Assuming 1.0 = 1.0 s\n",
      "yt : [WARNING  ] 2017-06-07 16:41:14,446 Assuming 1.0 = 1.0 g\n",
      "yt : [INFO     ] 2017-06-07 16:41:14,451 Parameters: current_time              = 0.5012864\n",
      "yt : [INFO     ] 2017-06-07 16:41:14,451 Parameters: domain_dimensions         = [0 0 0]\n",
      "yt : [INFO     ] 2017-06-07 16:41:14,452 Parameters: domain_left_edge          = [ 0.  0.  0.]\n",
      "yt : [INFO     ] 2017-06-07 16:41:14,453 Parameters: domain_right_edge         = [-0. -0. -0.]\n",
      "yt : [INFO     ] 2017-06-07 16:41:14,453 Parameters: cosmological_simulation   = 0.0\n"
     ]
    },
    {
     "name": "stdout",
     "output_type": "stream",
     "text": [
      "TaylorGreen.0020\n"
     ]
    },
    {
     "name": "stderr",
     "output_type": "stream",
     "text": [
      "yt : [INFO     ] 2017-06-07 16:41:15,523 Temporarily setting domain_right_edge = -domain_left_edge. This will be corrected automatically if it is not the case.\n",
      "yt : [WARNING  ] 2017-06-07 16:41:15,526 Assuming 1.0 = 1.0 cm\n",
      "yt : [WARNING  ] 2017-06-07 16:41:15,526 Assuming 1.0 = 1.0 s\n",
      "yt : [WARNING  ] 2017-06-07 16:41:15,527 Assuming 1.0 = 1.0 g\n",
      "yt : [INFO     ] 2017-06-07 16:41:15,532 Parameters: current_time              = 0.5263436\n",
      "yt : [INFO     ] 2017-06-07 16:41:15,533 Parameters: domain_dimensions         = [0 0 0]\n",
      "yt : [INFO     ] 2017-06-07 16:41:15,534 Parameters: domain_left_edge          = [ 0.  0.  0.]\n",
      "yt : [INFO     ] 2017-06-07 16:41:15,535 Parameters: domain_right_edge         = [-0. -0. -0.]\n",
      "yt : [INFO     ] 2017-06-07 16:41:15,535 Parameters: cosmological_simulation   = 0.0\n"
     ]
    },
    {
     "name": "stdout",
     "output_type": "stream",
     "text": [
      "TaylorGreen.0021\n"
     ]
    },
    {
     "name": "stderr",
     "output_type": "stream",
     "text": [
      "yt : [INFO     ] 2017-06-07 16:41:16,599 Temporarily setting domain_right_edge = -domain_left_edge. This will be corrected automatically if it is not the case.\n",
      "yt : [WARNING  ] 2017-06-07 16:41:16,600 Assuming 1.0 = 1.0 cm\n",
      "yt : [WARNING  ] 2017-06-07 16:41:16,601 Assuming 1.0 = 1.0 s\n",
      "yt : [WARNING  ] 2017-06-07 16:41:16,602 Assuming 1.0 = 1.0 g\n",
      "yt : [INFO     ] 2017-06-07 16:41:16,606 Parameters: current_time              = 0.5514004\n",
      "yt : [INFO     ] 2017-06-07 16:41:16,607 Parameters: domain_dimensions         = [0 0 0]\n",
      "yt : [INFO     ] 2017-06-07 16:41:16,607 Parameters: domain_left_edge          = [ 0.  0.  0.]\n",
      "yt : [INFO     ] 2017-06-07 16:41:16,608 Parameters: domain_right_edge         = [-0. -0. -0.]\n",
      "yt : [INFO     ] 2017-06-07 16:41:16,608 Parameters: cosmological_simulation   = 0.0\n"
     ]
    },
    {
     "name": "stdout",
     "output_type": "stream",
     "text": [
      "TaylorGreen.0022\n"
     ]
    },
    {
     "name": "stderr",
     "output_type": "stream",
     "text": [
      "yt : [INFO     ] 2017-06-07 16:41:17,661 Temporarily setting domain_right_edge = -domain_left_edge. This will be corrected automatically if it is not the case.\n",
      "yt : [WARNING  ] 2017-06-07 16:41:17,663 Assuming 1.0 = 1.0 cm\n",
      "yt : [WARNING  ] 2017-06-07 16:41:17,664 Assuming 1.0 = 1.0 s\n",
      "yt : [WARNING  ] 2017-06-07 16:41:17,664 Assuming 1.0 = 1.0 g\n",
      "yt : [INFO     ] 2017-06-07 16:41:17,669 Parameters: current_time              = 0.5764569\n",
      "yt : [INFO     ] 2017-06-07 16:41:17,670 Parameters: domain_dimensions         = [0 0 0]\n",
      "yt : [INFO     ] 2017-06-07 16:41:17,671 Parameters: domain_left_edge          = [ 0.  0.  0.]\n",
      "yt : [INFO     ] 2017-06-07 16:41:17,671 Parameters: domain_right_edge         = [-0. -0. -0.]\n",
      "yt : [INFO     ] 2017-06-07 16:41:17,672 Parameters: cosmological_simulation   = 0.0\n"
     ]
    },
    {
     "name": "stdout",
     "output_type": "stream",
     "text": [
      "TaylorGreen.0023\n"
     ]
    },
    {
     "name": "stderr",
     "output_type": "stream",
     "text": [
      "yt : [INFO     ] 2017-06-07 16:41:18,677 Temporarily setting domain_right_edge = -domain_left_edge. This will be corrected automatically if it is not the case.\n",
      "yt : [WARNING  ] 2017-06-07 16:41:18,680 Assuming 1.0 = 1.0 cm\n",
      "yt : [WARNING  ] 2017-06-07 16:41:18,681 Assuming 1.0 = 1.0 s\n",
      "yt : [WARNING  ] 2017-06-07 16:41:18,683 Assuming 1.0 = 1.0 g\n",
      "yt : [INFO     ] 2017-06-07 16:41:18,688 Parameters: current_time              = 0.6015132\n",
      "yt : [INFO     ] 2017-06-07 16:41:18,689 Parameters: domain_dimensions         = [0 0 0]\n",
      "yt : [INFO     ] 2017-06-07 16:41:18,690 Parameters: domain_left_edge          = [ 0.  0.  0.]\n",
      "yt : [INFO     ] 2017-06-07 16:41:18,690 Parameters: domain_right_edge         = [-0. -0. -0.]\n",
      "yt : [INFO     ] 2017-06-07 16:41:18,691 Parameters: cosmological_simulation   = 0.0\n"
     ]
    },
    {
     "name": "stdout",
     "output_type": "stream",
     "text": [
      "TaylorGreen.0024\n"
     ]
    },
    {
     "name": "stderr",
     "output_type": "stream",
     "text": [
      "yt : [INFO     ] 2017-06-07 16:41:19,809 Temporarily setting domain_right_edge = -domain_left_edge. This will be corrected automatically if it is not the case.\n",
      "yt : [WARNING  ] 2017-06-07 16:41:19,810 Assuming 1.0 = 1.0 cm\n",
      "yt : [WARNING  ] 2017-06-07 16:41:19,811 Assuming 1.0 = 1.0 s\n",
      "yt : [WARNING  ] 2017-06-07 16:41:19,811 Assuming 1.0 = 1.0 g\n",
      "yt : [INFO     ] 2017-06-07 16:41:19,816 Parameters: current_time              = 0.6265694\n",
      "yt : [INFO     ] 2017-06-07 16:41:19,816 Parameters: domain_dimensions         = [0 0 0]\n",
      "yt : [INFO     ] 2017-06-07 16:41:19,817 Parameters: domain_left_edge          = [ 0.  0.  0.]\n",
      "yt : [INFO     ] 2017-06-07 16:41:19,817 Parameters: domain_right_edge         = [-0. -0. -0.]\n",
      "yt : [INFO     ] 2017-06-07 16:41:19,818 Parameters: cosmological_simulation   = 0.0\n"
     ]
    },
    {
     "name": "stdout",
     "output_type": "stream",
     "text": [
      "TaylorGreen.0025\n"
     ]
    },
    {
     "name": "stderr",
     "output_type": "stream",
     "text": [
      "yt : [INFO     ] 2017-06-07 16:41:20,792 Temporarily setting domain_right_edge = -domain_left_edge. This will be corrected automatically if it is not the case.\n",
      "yt : [WARNING  ] 2017-06-07 16:41:20,794 Assuming 1.0 = 1.0 cm\n",
      "yt : [WARNING  ] 2017-06-07 16:41:20,794 Assuming 1.0 = 1.0 s\n",
      "yt : [WARNING  ] 2017-06-07 16:41:20,795 Assuming 1.0 = 1.0 g\n",
      "yt : [INFO     ] 2017-06-07 16:41:20,799 Parameters: current_time              = 0.6516256\n",
      "yt : [INFO     ] 2017-06-07 16:41:20,800 Parameters: domain_dimensions         = [0 0 0]\n",
      "yt : [INFO     ] 2017-06-07 16:41:20,800 Parameters: domain_left_edge          = [ 0.  0.  0.]\n",
      "yt : [INFO     ] 2017-06-07 16:41:20,801 Parameters: domain_right_edge         = [-0. -0. -0.]\n",
      "yt : [INFO     ] 2017-06-07 16:41:20,802 Parameters: cosmological_simulation   = 0.0\n"
     ]
    },
    {
     "name": "stdout",
     "output_type": "stream",
     "text": [
      "TaylorGreen.0026\n"
     ]
    },
    {
     "name": "stderr",
     "output_type": "stream",
     "text": [
      "yt : [INFO     ] 2017-06-07 16:41:21,904 Temporarily setting domain_right_edge = -domain_left_edge. This will be corrected automatically if it is not the case.\n",
      "yt : [WARNING  ] 2017-06-07 16:41:21,907 Assuming 1.0 = 1.0 cm\n",
      "yt : [WARNING  ] 2017-06-07 16:41:21,908 Assuming 1.0 = 1.0 s\n",
      "yt : [WARNING  ] 2017-06-07 16:41:21,908 Assuming 1.0 = 1.0 g\n",
      "yt : [INFO     ] 2017-06-07 16:41:21,914 Parameters: current_time              = 0.6766818\n",
      "yt : [INFO     ] 2017-06-07 16:41:21,914 Parameters: domain_dimensions         = [0 0 0]\n",
      "yt : [INFO     ] 2017-06-07 16:41:21,915 Parameters: domain_left_edge          = [ 0.  0.  0.]\n",
      "yt : [INFO     ] 2017-06-07 16:41:21,916 Parameters: domain_right_edge         = [-0. -0. -0.]\n",
      "yt : [INFO     ] 2017-06-07 16:41:21,916 Parameters: cosmological_simulation   = 0.0\n"
     ]
    },
    {
     "name": "stdout",
     "output_type": "stream",
     "text": [
      "TaylorGreen.0027\n"
     ]
    },
    {
     "name": "stderr",
     "output_type": "stream",
     "text": [
      "yt : [INFO     ] 2017-06-07 16:41:23,054 Temporarily setting domain_right_edge = -domain_left_edge. This will be corrected automatically if it is not the case.\n",
      "yt : [WARNING  ] 2017-06-07 16:41:23,057 Assuming 1.0 = 1.0 cm\n",
      "yt : [WARNING  ] 2017-06-07 16:41:23,059 Assuming 1.0 = 1.0 s\n",
      "yt : [WARNING  ] 2017-06-07 16:41:23,060 Assuming 1.0 = 1.0 g\n",
      "yt : [INFO     ] 2017-06-07 16:41:23,066 Parameters: current_time              = 0.7017381\n",
      "yt : [INFO     ] 2017-06-07 16:41:23,066 Parameters: domain_dimensions         = [0 0 0]\n",
      "yt : [INFO     ] 2017-06-07 16:41:23,067 Parameters: domain_left_edge          = [ 0.  0.  0.]\n",
      "yt : [INFO     ] 2017-06-07 16:41:23,067 Parameters: domain_right_edge         = [-0. -0. -0.]\n",
      "yt : [INFO     ] 2017-06-07 16:41:23,068 Parameters: cosmological_simulation   = 0.0\n"
     ]
    },
    {
     "name": "stdout",
     "output_type": "stream",
     "text": [
      "TaylorGreen.0028\n"
     ]
    },
    {
     "name": "stderr",
     "output_type": "stream",
     "text": [
      "yt : [INFO     ] 2017-06-07 16:41:24,090 Temporarily setting domain_right_edge = -domain_left_edge. This will be corrected automatically if it is not the case.\n",
      "yt : [WARNING  ] 2017-06-07 16:41:24,092 Assuming 1.0 = 1.0 cm\n",
      "yt : [WARNING  ] 2017-06-07 16:41:24,093 Assuming 1.0 = 1.0 s\n",
      "yt : [WARNING  ] 2017-06-07 16:41:24,094 Assuming 1.0 = 1.0 g\n",
      "yt : [INFO     ] 2017-06-07 16:41:24,100 Parameters: current_time              = 0.7267946\n",
      "yt : [INFO     ] 2017-06-07 16:41:24,100 Parameters: domain_dimensions         = [0 0 0]\n",
      "yt : [INFO     ] 2017-06-07 16:41:24,101 Parameters: domain_left_edge          = [ 0.  0.  0.]\n",
      "yt : [INFO     ] 2017-06-07 16:41:24,101 Parameters: domain_right_edge         = [-0. -0. -0.]\n",
      "yt : [INFO     ] 2017-06-07 16:41:24,102 Parameters: cosmological_simulation   = 0.0\n"
     ]
    },
    {
     "name": "stdout",
     "output_type": "stream",
     "text": [
      "TaylorGreen.0029\n"
     ]
    },
    {
     "name": "stderr",
     "output_type": "stream",
     "text": [
      "yt : [INFO     ] 2017-06-07 16:41:25,293 Temporarily setting domain_right_edge = -domain_left_edge. This will be corrected automatically if it is not the case.\n",
      "yt : [WARNING  ] 2017-06-07 16:41:25,296 Assuming 1.0 = 1.0 cm\n",
      "yt : [WARNING  ] 2017-06-07 16:41:25,296 Assuming 1.0 = 1.0 s\n",
      "yt : [WARNING  ] 2017-06-07 16:41:25,297 Assuming 1.0 = 1.0 g\n",
      "yt : [INFO     ] 2017-06-07 16:41:25,302 Parameters: current_time              = 0.7518514\n",
      "yt : [INFO     ] 2017-06-07 16:41:25,302 Parameters: domain_dimensions         = [0 0 0]\n",
      "yt : [INFO     ] 2017-06-07 16:41:25,303 Parameters: domain_left_edge          = [ 0.  0.  0.]\n",
      "yt : [INFO     ] 2017-06-07 16:41:25,304 Parameters: domain_right_edge         = [-0. -0. -0.]\n",
      "yt : [INFO     ] 2017-06-07 16:41:25,304 Parameters: cosmological_simulation   = 0.0\n"
     ]
    },
    {
     "name": "stdout",
     "output_type": "stream",
     "text": [
      "TaylorGreen.0030\n"
     ]
    },
    {
     "name": "stderr",
     "output_type": "stream",
     "text": [
      "yt : [INFO     ] 2017-06-07 16:41:26,408 Temporarily setting domain_right_edge = -domain_left_edge. This will be corrected automatically if it is not the case.\n",
      "yt : [WARNING  ] 2017-06-07 16:41:26,410 Assuming 1.0 = 1.0 cm\n",
      "yt : [WARNING  ] 2017-06-07 16:41:26,410 Assuming 1.0 = 1.0 s\n",
      "yt : [WARNING  ] 2017-06-07 16:41:26,411 Assuming 1.0 = 1.0 g\n",
      "yt : [INFO     ] 2017-06-07 16:41:26,418 Parameters: current_time              = 0.7769086\n",
      "yt : [INFO     ] 2017-06-07 16:41:26,419 Parameters: domain_dimensions         = [0 0 0]\n",
      "yt : [INFO     ] 2017-06-07 16:41:26,419 Parameters: domain_left_edge          = [ 0.  0.  0.]\n",
      "yt : [INFO     ] 2017-06-07 16:41:26,420 Parameters: domain_right_edge         = [-0. -0. -0.]\n",
      "yt : [INFO     ] 2017-06-07 16:41:26,421 Parameters: cosmological_simulation   = 0.0\n"
     ]
    },
    {
     "name": "stdout",
     "output_type": "stream",
     "text": [
      "TaylorGreen.0031\n"
     ]
    },
    {
     "name": "stderr",
     "output_type": "stream",
     "text": [
      "yt : [INFO     ] 2017-06-07 16:41:27,583 Temporarily setting domain_right_edge = -domain_left_edge. This will be corrected automatically if it is not the case.\n",
      "yt : [WARNING  ] 2017-06-07 16:41:27,586 Assuming 1.0 = 1.0 cm\n",
      "yt : [WARNING  ] 2017-06-07 16:41:27,586 Assuming 1.0 = 1.0 s\n",
      "yt : [WARNING  ] 2017-06-07 16:41:27,587 Assuming 1.0 = 1.0 g\n",
      "yt : [INFO     ] 2017-06-07 16:41:27,592 Parameters: current_time              = 0.8019661\n",
      "yt : [INFO     ] 2017-06-07 16:41:27,593 Parameters: domain_dimensions         = [0 0 0]\n",
      "yt : [INFO     ] 2017-06-07 16:41:27,594 Parameters: domain_left_edge          = [ 0.  0.  0.]\n",
      "yt : [INFO     ] 2017-06-07 16:41:27,595 Parameters: domain_right_edge         = [-0. -0. -0.]\n",
      "yt : [INFO     ] 2017-06-07 16:41:27,596 Parameters: cosmological_simulation   = 0.0\n"
     ]
    },
    {
     "name": "stdout",
     "output_type": "stream",
     "text": [
      "TaylorGreen.0032\n"
     ]
    },
    {
     "name": "stderr",
     "output_type": "stream",
     "text": [
      "yt : [INFO     ] 2017-06-07 16:41:28,607 Temporarily setting domain_right_edge = -domain_left_edge. This will be corrected automatically if it is not the case.\n",
      "yt : [WARNING  ] 2017-06-07 16:41:28,609 Assuming 1.0 = 1.0 cm\n",
      "yt : [WARNING  ] 2017-06-07 16:41:28,609 Assuming 1.0 = 1.0 s\n",
      "yt : [WARNING  ] 2017-06-07 16:41:28,610 Assuming 1.0 = 1.0 g\n",
      "yt : [INFO     ] 2017-06-07 16:41:28,615 Parameters: current_time              = 0.8270241\n",
      "yt : [INFO     ] 2017-06-07 16:41:28,615 Parameters: domain_dimensions         = [0 0 0]\n",
      "yt : [INFO     ] 2017-06-07 16:41:28,616 Parameters: domain_left_edge          = [ 0.  0.  0.]\n",
      "yt : [INFO     ] 2017-06-07 16:41:28,617 Parameters: domain_right_edge         = [-0. -0. -0.]\n",
      "yt : [INFO     ] 2017-06-07 16:41:28,617 Parameters: cosmological_simulation   = 0.0\n"
     ]
    },
    {
     "name": "stdout",
     "output_type": "stream",
     "text": [
      "TaylorGreen.0033\n"
     ]
    },
    {
     "name": "stderr",
     "output_type": "stream",
     "text": [
      "yt : [INFO     ] 2017-06-07 16:41:29,846 Temporarily setting domain_right_edge = -domain_left_edge. This will be corrected automatically if it is not the case.\n",
      "yt : [WARNING  ] 2017-06-07 16:41:29,849 Assuming 1.0 = 1.0 cm\n",
      "yt : [WARNING  ] 2017-06-07 16:41:29,850 Assuming 1.0 = 1.0 s\n",
      "yt : [WARNING  ] 2017-06-07 16:41:29,850 Assuming 1.0 = 1.0 g\n",
      "yt : [INFO     ] 2017-06-07 16:41:29,856 Parameters: current_time              = 0.8520826\n",
      "yt : [INFO     ] 2017-06-07 16:41:29,856 Parameters: domain_dimensions         = [0 0 0]\n",
      "yt : [INFO     ] 2017-06-07 16:41:29,857 Parameters: domain_left_edge          = [ 0.  0.  0.]\n",
      "yt : [INFO     ] 2017-06-07 16:41:29,857 Parameters: domain_right_edge         = [-0. -0. -0.]\n",
      "yt : [INFO     ] 2017-06-07 16:41:29,859 Parameters: cosmological_simulation   = 0.0\n"
     ]
    },
    {
     "name": "stdout",
     "output_type": "stream",
     "text": [
      "TaylorGreen.0034\n"
     ]
    },
    {
     "name": "stderr",
     "output_type": "stream",
     "text": [
      "yt : [INFO     ] 2017-06-07 16:41:30,890 Temporarily setting domain_right_edge = -domain_left_edge. This will be corrected automatically if it is not the case.\n",
      "yt : [WARNING  ] 2017-06-07 16:41:30,893 Assuming 1.0 = 1.0 cm\n",
      "yt : [WARNING  ] 2017-06-07 16:41:30,894 Assuming 1.0 = 1.0 s\n",
      "yt : [WARNING  ] 2017-06-07 16:41:30,895 Assuming 1.0 = 1.0 g\n",
      "yt : [INFO     ] 2017-06-07 16:41:30,900 Parameters: current_time              = 0.8771416\n",
      "yt : [INFO     ] 2017-06-07 16:41:30,900 Parameters: domain_dimensions         = [0 0 0]\n",
      "yt : [INFO     ] 2017-06-07 16:41:30,901 Parameters: domain_left_edge          = [ 0.  0.  0.]\n",
      "yt : [INFO     ] 2017-06-07 16:41:30,902 Parameters: domain_right_edge         = [-0. -0. -0.]\n",
      "yt : [INFO     ] 2017-06-07 16:41:30,903 Parameters: cosmological_simulation   = 0.0\n"
     ]
    },
    {
     "name": "stdout",
     "output_type": "stream",
     "text": [
      "TaylorGreen.0035\n"
     ]
    },
    {
     "name": "stderr",
     "output_type": "stream",
     "text": [
      "yt : [INFO     ] 2017-06-07 16:41:31,885 Temporarily setting domain_right_edge = -domain_left_edge. This will be corrected automatically if it is not the case.\n",
      "yt : [WARNING  ] 2017-06-07 16:41:31,887 Assuming 1.0 = 1.0 cm\n",
      "yt : [WARNING  ] 2017-06-07 16:41:31,888 Assuming 1.0 = 1.0 s\n",
      "yt : [WARNING  ] 2017-06-07 16:41:31,888 Assuming 1.0 = 1.0 g\n",
      "yt : [INFO     ] 2017-06-07 16:41:31,893 Parameters: current_time              = 0.9022012\n",
      "yt : [INFO     ] 2017-06-07 16:41:31,893 Parameters: domain_dimensions         = [0 0 0]\n",
      "yt : [INFO     ] 2017-06-07 16:41:31,894 Parameters: domain_left_edge          = [ 0.  0.  0.]\n",
      "yt : [INFO     ] 2017-06-07 16:41:31,895 Parameters: domain_right_edge         = [-0. -0. -0.]\n",
      "yt : [INFO     ] 2017-06-07 16:41:31,896 Parameters: cosmological_simulation   = 0.0\n"
     ]
    },
    {
     "name": "stdout",
     "output_type": "stream",
     "text": [
      "TaylorGreen.0036\n"
     ]
    },
    {
     "name": "stderr",
     "output_type": "stream",
     "text": [
      "yt : [INFO     ] 2017-06-07 16:41:32,892 Temporarily setting domain_right_edge = -domain_left_edge. This will be corrected automatically if it is not the case.\n",
      "yt : [WARNING  ] 2017-06-07 16:41:32,894 Assuming 1.0 = 1.0 cm\n",
      "yt : [WARNING  ] 2017-06-07 16:41:32,894 Assuming 1.0 = 1.0 s\n",
      "yt : [WARNING  ] 2017-06-07 16:41:32,895 Assuming 1.0 = 1.0 g\n",
      "yt : [INFO     ] 2017-06-07 16:41:32,899 Parameters: current_time              = 0.9272614\n",
      "yt : [INFO     ] 2017-06-07 16:41:32,899 Parameters: domain_dimensions         = [0 0 0]\n",
      "yt : [INFO     ] 2017-06-07 16:41:32,900 Parameters: domain_left_edge          = [ 0.  0.  0.]\n",
      "yt : [INFO     ] 2017-06-07 16:41:32,900 Parameters: domain_right_edge         = [-0. -0. -0.]\n",
      "yt : [INFO     ] 2017-06-07 16:41:32,901 Parameters: cosmological_simulation   = 0.0\n"
     ]
    },
    {
     "name": "stdout",
     "output_type": "stream",
     "text": [
      "TaylorGreen.0037\n"
     ]
    },
    {
     "name": "stderr",
     "output_type": "stream",
     "text": [
      "yt : [INFO     ] 2017-06-07 16:41:33,884 Temporarily setting domain_right_edge = -domain_left_edge. This will be corrected automatically if it is not the case.\n",
      "yt : [WARNING  ] 2017-06-07 16:41:33,887 Assuming 1.0 = 1.0 cm\n",
      "yt : [WARNING  ] 2017-06-07 16:41:33,887 Assuming 1.0 = 1.0 s\n",
      "yt : [WARNING  ] 2017-06-07 16:41:33,888 Assuming 1.0 = 1.0 g\n",
      "yt : [INFO     ] 2017-06-07 16:41:33,893 Parameters: current_time              = 0.9523222\n",
      "yt : [INFO     ] 2017-06-07 16:41:33,894 Parameters: domain_dimensions         = [0 0 0]\n",
      "yt : [INFO     ] 2017-06-07 16:41:33,895 Parameters: domain_left_edge          = [ 0.  0.  0.]\n",
      "yt : [INFO     ] 2017-06-07 16:41:33,895 Parameters: domain_right_edge         = [-0. -0. -0.]\n",
      "yt : [INFO     ] 2017-06-07 16:41:33,896 Parameters: cosmological_simulation   = 0.0\n"
     ]
    },
    {
     "name": "stdout",
     "output_type": "stream",
     "text": [
      "TaylorGreen.0038\n"
     ]
    },
    {
     "name": "stderr",
     "output_type": "stream",
     "text": [
      "yt : [INFO     ] 2017-06-07 16:41:34,975 Temporarily setting domain_right_edge = -domain_left_edge. This will be corrected automatically if it is not the case.\n",
      "yt : [WARNING  ] 2017-06-07 16:41:34,977 Assuming 1.0 = 1.0 cm\n",
      "yt : [WARNING  ] 2017-06-07 16:41:34,978 Assuming 1.0 = 1.0 s\n",
      "yt : [WARNING  ] 2017-06-07 16:41:34,978 Assuming 1.0 = 1.0 g\n",
      "yt : [INFO     ] 2017-06-07 16:41:34,982 Parameters: current_time              = 0.9773838\n",
      "yt : [INFO     ] 2017-06-07 16:41:34,983 Parameters: domain_dimensions         = [0 0 0]\n",
      "yt : [INFO     ] 2017-06-07 16:41:34,984 Parameters: domain_left_edge          = [ 0.  0.  0.]\n",
      "yt : [INFO     ] 2017-06-07 16:41:34,984 Parameters: domain_right_edge         = [-0. -0. -0.]\n",
      "yt : [INFO     ] 2017-06-07 16:41:34,985 Parameters: cosmological_simulation   = 0.0\n"
     ]
    },
    {
     "name": "stdout",
     "output_type": "stream",
     "text": [
      "TaylorGreen.0039\n"
     ]
    },
    {
     "name": "stderr",
     "output_type": "stream",
     "text": [
      "yt : [INFO     ] 2017-06-07 16:41:35,948 Temporarily setting domain_right_edge = -domain_left_edge. This will be corrected automatically if it is not the case.\n",
      "yt : [WARNING  ] 2017-06-07 16:41:35,951 Assuming 1.0 = 1.0 cm\n",
      "yt : [WARNING  ] 2017-06-07 16:41:35,952 Assuming 1.0 = 1.0 s\n",
      "yt : [WARNING  ] 2017-06-07 16:41:35,953 Assuming 1.0 = 1.0 g\n",
      "yt : [INFO     ] 2017-06-07 16:41:35,958 Parameters: current_time              = 1.002446\n",
      "yt : [INFO     ] 2017-06-07 16:41:35,959 Parameters: domain_dimensions         = [0 0 0]\n",
      "yt : [INFO     ] 2017-06-07 16:41:35,959 Parameters: domain_left_edge          = [ 0.  0.  0.]\n",
      "yt : [INFO     ] 2017-06-07 16:41:35,960 Parameters: domain_right_edge         = [-0. -0. -0.]\n",
      "yt : [INFO     ] 2017-06-07 16:41:35,961 Parameters: cosmological_simulation   = 0.0\n"
     ]
    },
    {
     "name": "stdout",
     "output_type": "stream",
     "text": [
      "TaylorGreen.0040\n"
     ]
    },
    {
     "name": "stderr",
     "output_type": "stream",
     "text": [
      "yt : [INFO     ] 2017-06-07 16:41:36,924 Temporarily setting domain_right_edge = -domain_left_edge. This will be corrected automatically if it is not the case.\n",
      "yt : [WARNING  ] 2017-06-07 16:41:36,927 Assuming 1.0 = 1.0 cm\n",
      "yt : [WARNING  ] 2017-06-07 16:41:36,927 Assuming 1.0 = 1.0 s\n",
      "yt : [WARNING  ] 2017-06-07 16:41:36,928 Assuming 1.0 = 1.0 g\n",
      "yt : [INFO     ] 2017-06-07 16:41:36,933 Parameters: current_time              = 1.027509\n",
      "yt : [INFO     ] 2017-06-07 16:41:36,933 Parameters: domain_dimensions         = [0 0 0]\n",
      "yt : [INFO     ] 2017-06-07 16:41:36,934 Parameters: domain_left_edge          = [ 0.  0.  0.]\n",
      "yt : [INFO     ] 2017-06-07 16:41:36,935 Parameters: domain_right_edge         = [-0. -0. -0.]\n",
      "yt : [INFO     ] 2017-06-07 16:41:36,936 Parameters: cosmological_simulation   = 0.0\n"
     ]
    },
    {
     "name": "stdout",
     "output_type": "stream",
     "text": [
      "TaylorGreen.0041\n"
     ]
    },
    {
     "name": "stderr",
     "output_type": "stream",
     "text": [
      "yt : [INFO     ] 2017-06-07 16:41:37,920 Temporarily setting domain_right_edge = -domain_left_edge. This will be corrected automatically if it is not the case.\n",
      "yt : [WARNING  ] 2017-06-07 16:41:37,925 Assuming 1.0 = 1.0 cm\n",
      "yt : [WARNING  ] 2017-06-07 16:41:37,925 Assuming 1.0 = 1.0 s\n",
      "yt : [WARNING  ] 2017-06-07 16:41:37,926 Assuming 1.0 = 1.0 g\n",
      "yt : [INFO     ] 2017-06-07 16:41:37,931 Parameters: current_time              = 1.052572\n",
      "yt : [INFO     ] 2017-06-07 16:41:37,931 Parameters: domain_dimensions         = [0 0 0]\n",
      "yt : [INFO     ] 2017-06-07 16:41:37,932 Parameters: domain_left_edge          = [ 0.  0.  0.]\n",
      "yt : [INFO     ] 2017-06-07 16:41:37,933 Parameters: domain_right_edge         = [-0. -0. -0.]\n",
      "yt : [INFO     ] 2017-06-07 16:41:37,933 Parameters: cosmological_simulation   = 0.0\n"
     ]
    },
    {
     "name": "stdout",
     "output_type": "stream",
     "text": [
      "TaylorGreen.0042\n"
     ]
    },
    {
     "name": "stderr",
     "output_type": "stream",
     "text": [
      "yt : [INFO     ] 2017-06-07 16:41:38,902 Temporarily setting domain_right_edge = -domain_left_edge. This will be corrected automatically if it is not the case.\n",
      "yt : [WARNING  ] 2017-06-07 16:41:38,905 Assuming 1.0 = 1.0 cm\n",
      "yt : [WARNING  ] 2017-06-07 16:41:38,905 Assuming 1.0 = 1.0 s\n",
      "yt : [WARNING  ] 2017-06-07 16:41:38,906 Assuming 1.0 = 1.0 g\n",
      "yt : [INFO     ] 2017-06-07 16:41:38,912 Parameters: current_time              = 1.077636\n",
      "yt : [INFO     ] 2017-06-07 16:41:38,912 Parameters: domain_dimensions         = [0 0 0]\n",
      "yt : [INFO     ] 2017-06-07 16:41:38,913 Parameters: domain_left_edge          = [ 0.  0.  0.]\n",
      "yt : [INFO     ] 2017-06-07 16:41:38,913 Parameters: domain_right_edge         = [-0. -0. -0.]\n",
      "yt : [INFO     ] 2017-06-07 16:41:38,914 Parameters: cosmological_simulation   = 0.0\n"
     ]
    },
    {
     "name": "stdout",
     "output_type": "stream",
     "text": [
      "TaylorGreen.0043\n"
     ]
    },
    {
     "name": "stderr",
     "output_type": "stream",
     "text": [
      "yt : [INFO     ] 2017-06-07 16:41:40,010 Temporarily setting domain_right_edge = -domain_left_edge. This will be corrected automatically if it is not the case.\n",
      "yt : [WARNING  ] 2017-06-07 16:41:40,012 Assuming 1.0 = 1.0 cm\n",
      "yt : [WARNING  ] 2017-06-07 16:41:40,013 Assuming 1.0 = 1.0 s\n",
      "yt : [WARNING  ] 2017-06-07 16:41:40,013 Assuming 1.0 = 1.0 g\n",
      "yt : [INFO     ] 2017-06-07 16:41:40,018 Parameters: current_time              = 1.102701\n",
      "yt : [INFO     ] 2017-06-07 16:41:40,018 Parameters: domain_dimensions         = [0 0 0]\n",
      "yt : [INFO     ] 2017-06-07 16:41:40,019 Parameters: domain_left_edge          = [ 0.  0.  0.]\n",
      "yt : [INFO     ] 2017-06-07 16:41:40,020 Parameters: domain_right_edge         = [-0. -0. -0.]\n",
      "yt : [INFO     ] 2017-06-07 16:41:40,020 Parameters: cosmological_simulation   = 0.0\n"
     ]
    },
    {
     "name": "stdout",
     "output_type": "stream",
     "text": [
      "TaylorGreen.0044\n"
     ]
    },
    {
     "name": "stderr",
     "output_type": "stream",
     "text": [
      "yt : [INFO     ] 2017-06-07 16:41:40,979 Temporarily setting domain_right_edge = -domain_left_edge. This will be corrected automatically if it is not the case.\n",
      "yt : [WARNING  ] 2017-06-07 16:41:40,981 Assuming 1.0 = 1.0 cm\n",
      "yt : [WARNING  ] 2017-06-07 16:41:40,982 Assuming 1.0 = 1.0 s\n",
      "yt : [WARNING  ] 2017-06-07 16:41:40,983 Assuming 1.0 = 1.0 g\n",
      "yt : [INFO     ] 2017-06-07 16:41:40,988 Parameters: current_time              = 1.127766\n",
      "yt : [INFO     ] 2017-06-07 16:41:40,988 Parameters: domain_dimensions         = [0 0 0]\n",
      "yt : [INFO     ] 2017-06-07 16:41:40,989 Parameters: domain_left_edge          = [ 0.  0.  0.]\n",
      "yt : [INFO     ] 2017-06-07 16:41:40,990 Parameters: domain_right_edge         = [-0. -0. -0.]\n",
      "yt : [INFO     ] 2017-06-07 16:41:40,990 Parameters: cosmological_simulation   = 0.0\n"
     ]
    },
    {
     "name": "stdout",
     "output_type": "stream",
     "text": [
      "TaylorGreen.0045\n"
     ]
    },
    {
     "name": "stderr",
     "output_type": "stream",
     "text": [
      "yt : [INFO     ] 2017-06-07 16:41:41,952 Temporarily setting domain_right_edge = -domain_left_edge. This will be corrected automatically if it is not the case.\n",
      "yt : [WARNING  ] 2017-06-07 16:41:41,955 Assuming 1.0 = 1.0 cm\n",
      "yt : [WARNING  ] 2017-06-07 16:41:41,956 Assuming 1.0 = 1.0 s\n",
      "yt : [WARNING  ] 2017-06-07 16:41:41,956 Assuming 1.0 = 1.0 g\n",
      "yt : [INFO     ] 2017-06-07 16:41:41,962 Parameters: current_time              = 1.152832\n",
      "yt : [INFO     ] 2017-06-07 16:41:41,962 Parameters: domain_dimensions         = [0 0 0]\n",
      "yt : [INFO     ] 2017-06-07 16:41:41,963 Parameters: domain_left_edge          = [ 0.  0.  0.]\n",
      "yt : [INFO     ] 2017-06-07 16:41:41,964 Parameters: domain_right_edge         = [-0. -0. -0.]\n",
      "yt : [INFO     ] 2017-06-07 16:41:41,964 Parameters: cosmological_simulation   = 0.0\n"
     ]
    },
    {
     "name": "stdout",
     "output_type": "stream",
     "text": [
      "TaylorGreen.0046\n"
     ]
    },
    {
     "name": "stderr",
     "output_type": "stream",
     "text": [
      "yt : [INFO     ] 2017-06-07 16:41:43,038 Temporarily setting domain_right_edge = -domain_left_edge. This will be corrected automatically if it is not the case.\n",
      "yt : [WARNING  ] 2017-06-07 16:41:43,040 Assuming 1.0 = 1.0 cm\n",
      "yt : [WARNING  ] 2017-06-07 16:41:43,041 Assuming 1.0 = 1.0 s\n",
      "yt : [WARNING  ] 2017-06-07 16:41:43,042 Assuming 1.0 = 1.0 g\n",
      "yt : [INFO     ] 2017-06-07 16:41:43,049 Parameters: current_time              = 1.177899\n",
      "yt : [INFO     ] 2017-06-07 16:41:43,049 Parameters: domain_dimensions         = [0 0 0]\n",
      "yt : [INFO     ] 2017-06-07 16:41:43,050 Parameters: domain_left_edge          = [ 0.  0.  0.]\n",
      "yt : [INFO     ] 2017-06-07 16:41:43,051 Parameters: domain_right_edge         = [-0. -0. -0.]\n",
      "yt : [INFO     ] 2017-06-07 16:41:43,051 Parameters: cosmological_simulation   = 0.0\n"
     ]
    },
    {
     "name": "stdout",
     "output_type": "stream",
     "text": [
      "TaylorGreen.0047\n"
     ]
    },
    {
     "name": "stderr",
     "output_type": "stream",
     "text": [
      "yt : [INFO     ] 2017-06-07 16:41:44,188 Temporarily setting domain_right_edge = -domain_left_edge. This will be corrected automatically if it is not the case.\n",
      "yt : [WARNING  ] 2017-06-07 16:41:44,191 Assuming 1.0 = 1.0 cm\n",
      "yt : [WARNING  ] 2017-06-07 16:41:44,192 Assuming 1.0 = 1.0 s\n",
      "yt : [WARNING  ] 2017-06-07 16:41:44,192 Assuming 1.0 = 1.0 g\n",
      "yt : [INFO     ] 2017-06-07 16:41:44,199 Parameters: current_time              = 1.202965\n",
      "yt : [INFO     ] 2017-06-07 16:41:44,199 Parameters: domain_dimensions         = [0 0 0]\n",
      "yt : [INFO     ] 2017-06-07 16:41:44,200 Parameters: domain_left_edge          = [ 0.  0.  0.]\n",
      "yt : [INFO     ] 2017-06-07 16:41:44,200 Parameters: domain_right_edge         = [-0. -0. -0.]\n",
      "yt : [INFO     ] 2017-06-07 16:41:44,201 Parameters: cosmological_simulation   = 0.0\n"
     ]
    },
    {
     "name": "stdout",
     "output_type": "stream",
     "text": [
      "TaylorGreen.0048\n"
     ]
    },
    {
     "name": "stderr",
     "output_type": "stream",
     "text": [
      "yt : [INFO     ] 2017-06-07 16:41:45,424 Temporarily setting domain_right_edge = -domain_left_edge. This will be corrected automatically if it is not the case.\n",
      "yt : [WARNING  ] 2017-06-07 16:41:45,426 Assuming 1.0 = 1.0 cm\n",
      "yt : [WARNING  ] 2017-06-07 16:41:45,426 Assuming 1.0 = 1.0 s\n",
      "yt : [WARNING  ] 2017-06-07 16:41:45,427 Assuming 1.0 = 1.0 g\n",
      "yt : [INFO     ] 2017-06-07 16:41:45,431 Parameters: current_time              = 1.228033\n",
      "yt : [INFO     ] 2017-06-07 16:41:45,432 Parameters: domain_dimensions         = [0 0 0]\n",
      "yt : [INFO     ] 2017-06-07 16:41:45,433 Parameters: domain_left_edge          = [ 0.  0.  0.]\n",
      "yt : [INFO     ] 2017-06-07 16:41:45,433 Parameters: domain_right_edge         = [-0. -0. -0.]\n",
      "yt : [INFO     ] 2017-06-07 16:41:45,434 Parameters: cosmological_simulation   = 0.0\n"
     ]
    },
    {
     "name": "stdout",
     "output_type": "stream",
     "text": [
      "TaylorGreen.0049\n"
     ]
    },
    {
     "name": "stderr",
     "output_type": "stream",
     "text": [
      "yt : [INFO     ] 2017-06-07 16:41:46,587 Temporarily setting domain_right_edge = -domain_left_edge. This will be corrected automatically if it is not the case.\n",
      "yt : [WARNING  ] 2017-06-07 16:41:46,590 Assuming 1.0 = 1.0 cm\n",
      "yt : [WARNING  ] 2017-06-07 16:41:46,590 Assuming 1.0 = 1.0 s\n",
      "yt : [WARNING  ] 2017-06-07 16:41:46,591 Assuming 1.0 = 1.0 g\n",
      "yt : [INFO     ] 2017-06-07 16:41:46,596 Parameters: current_time              = 1.2531\n",
      "yt : [INFO     ] 2017-06-07 16:41:46,597 Parameters: domain_dimensions         = [0 0 0]\n",
      "yt : [INFO     ] 2017-06-07 16:41:46,598 Parameters: domain_left_edge          = [ 0.  0.  0.]\n",
      "yt : [INFO     ] 2017-06-07 16:41:46,599 Parameters: domain_right_edge         = [-0. -0. -0.]\n",
      "yt : [INFO     ] 2017-06-07 16:41:46,599 Parameters: cosmological_simulation   = 0.0\n"
     ]
    },
    {
     "name": "stdout",
     "output_type": "stream",
     "text": [
      "TaylorGreen.0050\n"
     ]
    },
    {
     "name": "stderr",
     "output_type": "stream",
     "text": [
      "yt : [INFO     ] 2017-06-07 16:41:47,626 Temporarily setting domain_right_edge = -domain_left_edge. This will be corrected automatically if it is not the case.\n",
      "yt : [WARNING  ] 2017-06-07 16:41:47,628 Assuming 1.0 = 1.0 cm\n",
      "yt : [WARNING  ] 2017-06-07 16:41:47,629 Assuming 1.0 = 1.0 s\n",
      "yt : [WARNING  ] 2017-06-07 16:41:47,630 Assuming 1.0 = 1.0 g\n",
      "yt : [INFO     ] 2017-06-07 16:41:47,635 Parameters: current_time              = 1.278168\n",
      "yt : [INFO     ] 2017-06-07 16:41:47,636 Parameters: domain_dimensions         = [0 0 0]\n",
      "yt : [INFO     ] 2017-06-07 16:41:47,637 Parameters: domain_left_edge          = [ 0.  0.  0.]\n",
      "yt : [INFO     ] 2017-06-07 16:41:47,638 Parameters: domain_right_edge         = [-0. -0. -0.]\n",
      "yt : [INFO     ] 2017-06-07 16:41:47,639 Parameters: cosmological_simulation   = 0.0\n"
     ]
    },
    {
     "name": "stdout",
     "output_type": "stream",
     "text": [
      "TaylorGreen.0051\n"
     ]
    },
    {
     "name": "stderr",
     "output_type": "stream",
     "text": [
      "yt : [INFO     ] 2017-06-07 16:41:48,745 Temporarily setting domain_right_edge = -domain_left_edge. This will be corrected automatically if it is not the case.\n",
      "yt : [WARNING  ] 2017-06-07 16:41:48,749 Assuming 1.0 = 1.0 cm\n",
      "yt : [WARNING  ] 2017-06-07 16:41:48,750 Assuming 1.0 = 1.0 s\n",
      "yt : [WARNING  ] 2017-06-07 16:41:48,750 Assuming 1.0 = 1.0 g\n",
      "yt : [INFO     ] 2017-06-07 16:41:48,755 Parameters: current_time              = 1.303237\n",
      "yt : [INFO     ] 2017-06-07 16:41:48,755 Parameters: domain_dimensions         = [0 0 0]\n",
      "yt : [INFO     ] 2017-06-07 16:41:48,756 Parameters: domain_left_edge          = [ 0.  0.  0.]\n",
      "yt : [INFO     ] 2017-06-07 16:41:48,757 Parameters: domain_right_edge         = [-0. -0. -0.]\n",
      "yt : [INFO     ] 2017-06-07 16:41:48,757 Parameters: cosmological_simulation   = 0.0\n"
     ]
    },
    {
     "name": "stdout",
     "output_type": "stream",
     "text": [
      "TaylorGreen.0052\n"
     ]
    },
    {
     "name": "stderr",
     "output_type": "stream",
     "text": [
      "yt : [INFO     ] 2017-06-07 16:41:50,027 Temporarily setting domain_right_edge = -domain_left_edge. This will be corrected automatically if it is not the case.\n",
      "yt : [WARNING  ] 2017-06-07 16:41:50,030 Assuming 1.0 = 1.0 cm\n",
      "yt : [WARNING  ] 2017-06-07 16:41:50,031 Assuming 1.0 = 1.0 s\n",
      "yt : [WARNING  ] 2017-06-07 16:41:50,032 Assuming 1.0 = 1.0 g\n",
      "yt : [INFO     ] 2017-06-07 16:41:50,036 Parameters: current_time              = 1.328305\n",
      "yt : [INFO     ] 2017-06-07 16:41:50,037 Parameters: domain_dimensions         = [0 0 0]\n",
      "yt : [INFO     ] 2017-06-07 16:41:50,038 Parameters: domain_left_edge          = [ 0.  0.  0.]\n",
      "yt : [INFO     ] 2017-06-07 16:41:50,039 Parameters: domain_right_edge         = [-0. -0. -0.]\n",
      "yt : [INFO     ] 2017-06-07 16:41:50,039 Parameters: cosmological_simulation   = 0.0\n"
     ]
    },
    {
     "name": "stdout",
     "output_type": "stream",
     "text": [
      "TaylorGreen.0053\n"
     ]
    },
    {
     "name": "stderr",
     "output_type": "stream",
     "text": [
      "yt : [INFO     ] 2017-06-07 16:41:51,191 Temporarily setting domain_right_edge = -domain_left_edge. This will be corrected automatically if it is not the case.\n",
      "yt : [WARNING  ] 2017-06-07 16:41:51,193 Assuming 1.0 = 1.0 cm\n",
      "yt : [WARNING  ] 2017-06-07 16:41:51,194 Assuming 1.0 = 1.0 s\n",
      "yt : [WARNING  ] 2017-06-07 16:41:51,195 Assuming 1.0 = 1.0 g\n",
      "yt : [INFO     ] 2017-06-07 16:41:51,201 Parameters: current_time              = 1.353374\n",
      "yt : [INFO     ] 2017-06-07 16:41:51,202 Parameters: domain_dimensions         = [0 0 0]\n",
      "yt : [INFO     ] 2017-06-07 16:41:51,203 Parameters: domain_left_edge          = [ 0.  0.  0.]\n",
      "yt : [INFO     ] 2017-06-07 16:41:51,203 Parameters: domain_right_edge         = [-0. -0. -0.]\n",
      "yt : [INFO     ] 2017-06-07 16:41:51,204 Parameters: cosmological_simulation   = 0.0\n"
     ]
    },
    {
     "name": "stdout",
     "output_type": "stream",
     "text": [
      "TaylorGreen.0054\n"
     ]
    },
    {
     "name": "stderr",
     "output_type": "stream",
     "text": [
      "yt : [INFO     ] 2017-06-07 16:41:52,291 Temporarily setting domain_right_edge = -domain_left_edge. This will be corrected automatically if it is not the case.\n",
      "yt : [WARNING  ] 2017-06-07 16:41:52,293 Assuming 1.0 = 1.0 cm\n",
      "yt : [WARNING  ] 2017-06-07 16:41:52,293 Assuming 1.0 = 1.0 s\n",
      "yt : [WARNING  ] 2017-06-07 16:41:52,294 Assuming 1.0 = 1.0 g\n",
      "yt : [INFO     ] 2017-06-07 16:41:52,299 Parameters: current_time              = 1.378443\n",
      "yt : [INFO     ] 2017-06-07 16:41:52,299 Parameters: domain_dimensions         = [0 0 0]\n",
      "yt : [INFO     ] 2017-06-07 16:41:52,300 Parameters: domain_left_edge          = [ 0.  0.  0.]\n",
      "yt : [INFO     ] 2017-06-07 16:41:52,300 Parameters: domain_right_edge         = [-0. -0. -0.]\n",
      "yt : [INFO     ] 2017-06-07 16:41:52,301 Parameters: cosmological_simulation   = 0.0\n"
     ]
    },
    {
     "name": "stdout",
     "output_type": "stream",
     "text": [
      "TaylorGreen.0055\n"
     ]
    },
    {
     "name": "stderr",
     "output_type": "stream",
     "text": [
      "yt : [INFO     ] 2017-06-07 16:41:53,393 Temporarily setting domain_right_edge = -domain_left_edge. This will be corrected automatically if it is not the case.\n",
      "yt : [WARNING  ] 2017-06-07 16:41:53,396 Assuming 1.0 = 1.0 cm\n",
      "yt : [WARNING  ] 2017-06-07 16:41:53,397 Assuming 1.0 = 1.0 s\n",
      "yt : [WARNING  ] 2017-06-07 16:41:53,397 Assuming 1.0 = 1.0 g\n",
      "yt : [INFO     ] 2017-06-07 16:41:53,403 Parameters: current_time              = 1.403512\n",
      "yt : [INFO     ] 2017-06-07 16:41:53,403 Parameters: domain_dimensions         = [0 0 0]\n",
      "yt : [INFO     ] 2017-06-07 16:41:53,404 Parameters: domain_left_edge          = [ 0.  0.  0.]\n",
      "yt : [INFO     ] 2017-06-07 16:41:53,405 Parameters: domain_right_edge         = [-0. -0. -0.]\n",
      "yt : [INFO     ] 2017-06-07 16:41:53,406 Parameters: cosmological_simulation   = 0.0\n"
     ]
    },
    {
     "name": "stdout",
     "output_type": "stream",
     "text": [
      "TaylorGreen.0056\n"
     ]
    },
    {
     "name": "stderr",
     "output_type": "stream",
     "text": [
      "yt : [INFO     ] 2017-06-07 16:41:54,509 Temporarily setting domain_right_edge = -domain_left_edge. This will be corrected automatically if it is not the case.\n",
      "yt : [WARNING  ] 2017-06-07 16:41:54,511 Assuming 1.0 = 1.0 cm\n",
      "yt : [WARNING  ] 2017-06-07 16:41:54,512 Assuming 1.0 = 1.0 s\n",
      "yt : [WARNING  ] 2017-06-07 16:41:54,513 Assuming 1.0 = 1.0 g\n",
      "yt : [INFO     ] 2017-06-07 16:41:54,518 Parameters: current_time              = 1.428582\n",
      "yt : [INFO     ] 2017-06-07 16:41:54,518 Parameters: domain_dimensions         = [0 0 0]\n",
      "yt : [INFO     ] 2017-06-07 16:41:54,519 Parameters: domain_left_edge          = [ 0.  0.  0.]\n",
      "yt : [INFO     ] 2017-06-07 16:41:54,520 Parameters: domain_right_edge         = [-0. -0. -0.]\n",
      "yt : [INFO     ] 2017-06-07 16:41:54,521 Parameters: cosmological_simulation   = 0.0\n"
     ]
    },
    {
     "name": "stdout",
     "output_type": "stream",
     "text": [
      "TaylorGreen.0057\n"
     ]
    },
    {
     "name": "stderr",
     "output_type": "stream",
     "text": [
      "yt : [INFO     ] 2017-06-07 16:41:55,771 Temporarily setting domain_right_edge = -domain_left_edge. This will be corrected automatically if it is not the case.\n",
      "yt : [WARNING  ] 2017-06-07 16:41:55,773 Assuming 1.0 = 1.0 cm\n",
      "yt : [WARNING  ] 2017-06-07 16:41:55,774 Assuming 1.0 = 1.0 s\n",
      "yt : [WARNING  ] 2017-06-07 16:41:55,775 Assuming 1.0 = 1.0 g\n",
      "yt : [INFO     ] 2017-06-07 16:41:55,780 Parameters: current_time              = 1.453651\n",
      "yt : [INFO     ] 2017-06-07 16:41:55,781 Parameters: domain_dimensions         = [0 0 0]\n",
      "yt : [INFO     ] 2017-06-07 16:41:55,782 Parameters: domain_left_edge          = [ 0.  0.  0.]\n",
      "yt : [INFO     ] 2017-06-07 16:41:55,783 Parameters: domain_right_edge         = [-0. -0. -0.]\n",
      "yt : [INFO     ] 2017-06-07 16:41:55,783 Parameters: cosmological_simulation   = 0.0\n"
     ]
    },
    {
     "name": "stdout",
     "output_type": "stream",
     "text": [
      "TaylorGreen.0058\n"
     ]
    },
    {
     "name": "stderr",
     "output_type": "stream",
     "text": [
      "yt : [INFO     ] 2017-06-07 16:41:56,870 Temporarily setting domain_right_edge = -domain_left_edge. This will be corrected automatically if it is not the case.\n",
      "yt : [WARNING  ] 2017-06-07 16:41:56,873 Assuming 1.0 = 1.0 cm\n",
      "yt : [WARNING  ] 2017-06-07 16:41:56,873 Assuming 1.0 = 1.0 s\n",
      "yt : [WARNING  ] 2017-06-07 16:41:56,874 Assuming 1.0 = 1.0 g\n",
      "yt : [INFO     ] 2017-06-07 16:41:56,878 Parameters: current_time              = 1.47872\n",
      "yt : [INFO     ] 2017-06-07 16:41:56,879 Parameters: domain_dimensions         = [0 0 0]\n",
      "yt : [INFO     ] 2017-06-07 16:41:56,879 Parameters: domain_left_edge          = [ 0.  0.  0.]\n",
      "yt : [INFO     ] 2017-06-07 16:41:56,880 Parameters: domain_right_edge         = [-0. -0. -0.]\n",
      "yt : [INFO     ] 2017-06-07 16:41:56,881 Parameters: cosmological_simulation   = 0.0\n"
     ]
    },
    {
     "name": "stdout",
     "output_type": "stream",
     "text": [
      "TaylorGreen.0059\n"
     ]
    },
    {
     "name": "stderr",
     "output_type": "stream",
     "text": [
      "yt : [INFO     ] 2017-06-07 16:41:57,935 Temporarily setting domain_right_edge = -domain_left_edge. This will be corrected automatically if it is not the case.\n",
      "yt : [WARNING  ] 2017-06-07 16:41:57,937 Assuming 1.0 = 1.0 cm\n",
      "yt : [WARNING  ] 2017-06-07 16:41:57,938 Assuming 1.0 = 1.0 s\n",
      "yt : [WARNING  ] 2017-06-07 16:41:57,938 Assuming 1.0 = 1.0 g\n",
      "yt : [INFO     ] 2017-06-07 16:41:57,942 Parameters: current_time              = 1.50379\n",
      "yt : [INFO     ] 2017-06-07 16:41:57,942 Parameters: domain_dimensions         = [0 0 0]\n",
      "yt : [INFO     ] 2017-06-07 16:41:57,943 Parameters: domain_left_edge          = [ 0.  0.  0.]\n",
      "yt : [INFO     ] 2017-06-07 16:41:57,944 Parameters: domain_right_edge         = [-0. -0. -0.]\n",
      "yt : [INFO     ] 2017-06-07 16:41:57,944 Parameters: cosmological_simulation   = 0.0\n"
     ]
    },
    {
     "name": "stdout",
     "output_type": "stream",
     "text": [
      "TaylorGreen.0060\n"
     ]
    },
    {
     "name": "stderr",
     "output_type": "stream",
     "text": [
      "yt : [INFO     ] 2017-06-07 16:41:59,034 Temporarily setting domain_right_edge = -domain_left_edge. This will be corrected automatically if it is not the case.\n",
      "yt : [WARNING  ] 2017-06-07 16:41:59,036 Assuming 1.0 = 1.0 cm\n",
      "yt : [WARNING  ] 2017-06-07 16:41:59,036 Assuming 1.0 = 1.0 s\n",
      "yt : [WARNING  ] 2017-06-07 16:41:59,037 Assuming 1.0 = 1.0 g\n",
      "yt : [INFO     ] 2017-06-07 16:41:59,042 Parameters: current_time              = 1.528859\n",
      "yt : [INFO     ] 2017-06-07 16:41:59,042 Parameters: domain_dimensions         = [0 0 0]\n",
      "yt : [INFO     ] 2017-06-07 16:41:59,043 Parameters: domain_left_edge          = [ 0.  0.  0.]\n",
      "yt : [INFO     ] 2017-06-07 16:41:59,044 Parameters: domain_right_edge         = [-0. -0. -0.]\n",
      "yt : [INFO     ] 2017-06-07 16:41:59,044 Parameters: cosmological_simulation   = 0.0\n"
     ]
    },
    {
     "name": "stdout",
     "output_type": "stream",
     "text": [
      "TaylorGreen.0061\n"
     ]
    },
    {
     "name": "stderr",
     "output_type": "stream",
     "text": [
      "yt : [INFO     ] 2017-06-07 16:42:00,131 Temporarily setting domain_right_edge = -domain_left_edge. This will be corrected automatically if it is not the case.\n",
      "yt : [WARNING  ] 2017-06-07 16:42:00,133 Assuming 1.0 = 1.0 cm\n",
      "yt : [WARNING  ] 2017-06-07 16:42:00,134 Assuming 1.0 = 1.0 s\n",
      "yt : [WARNING  ] 2017-06-07 16:42:00,134 Assuming 1.0 = 1.0 g\n",
      "yt : [INFO     ] 2017-06-07 16:42:00,139 Parameters: current_time              = 1.553929\n",
      "yt : [INFO     ] 2017-06-07 16:42:00,140 Parameters: domain_dimensions         = [0 0 0]\n",
      "yt : [INFO     ] 2017-06-07 16:42:00,141 Parameters: domain_left_edge          = [ 0.  0.  0.]\n",
      "yt : [INFO     ] 2017-06-07 16:42:00,141 Parameters: domain_right_edge         = [-0. -0. -0.]\n",
      "yt : [INFO     ] 2017-06-07 16:42:00,142 Parameters: cosmological_simulation   = 0.0\n"
     ]
    },
    {
     "name": "stdout",
     "output_type": "stream",
     "text": [
      "TaylorGreen.0062\n"
     ]
    },
    {
     "name": "stderr",
     "output_type": "stream",
     "text": [
      "yt : [INFO     ] 2017-06-07 16:42:01,250 Temporarily setting domain_right_edge = -domain_left_edge. This will be corrected automatically if it is not the case.\n",
      "yt : [WARNING  ] 2017-06-07 16:42:01,252 Assuming 1.0 = 1.0 cm\n",
      "yt : [WARNING  ] 2017-06-07 16:42:01,252 Assuming 1.0 = 1.0 s\n",
      "yt : [WARNING  ] 2017-06-07 16:42:01,253 Assuming 1.0 = 1.0 g\n",
      "yt : [INFO     ] 2017-06-07 16:42:01,258 Parameters: current_time              = 1.578998\n",
      "yt : [INFO     ] 2017-06-07 16:42:01,258 Parameters: domain_dimensions         = [0 0 0]\n",
      "yt : [INFO     ] 2017-06-07 16:42:01,259 Parameters: domain_left_edge          = [ 0.  0.  0.]\n",
      "yt : [INFO     ] 2017-06-07 16:42:01,259 Parameters: domain_right_edge         = [-0. -0. -0.]\n",
      "yt : [INFO     ] 2017-06-07 16:42:01,260 Parameters: cosmological_simulation   = 0.0\n"
     ]
    },
    {
     "name": "stdout",
     "output_type": "stream",
     "text": [
      "TaylorGreen.0063\n"
     ]
    },
    {
     "name": "stderr",
     "output_type": "stream",
     "text": [
      "yt : [INFO     ] 2017-06-07 16:42:02,251 Temporarily setting domain_right_edge = -domain_left_edge. This will be corrected automatically if it is not the case.\n",
      "yt : [WARNING  ] 2017-06-07 16:42:02,253 Assuming 1.0 = 1.0 cm\n",
      "yt : [WARNING  ] 2017-06-07 16:42:02,253 Assuming 1.0 = 1.0 s\n",
      "yt : [WARNING  ] 2017-06-07 16:42:02,254 Assuming 1.0 = 1.0 g\n",
      "yt : [INFO     ] 2017-06-07 16:42:02,259 Parameters: current_time              = 1.604068\n",
      "yt : [INFO     ] 2017-06-07 16:42:02,260 Parameters: domain_dimensions         = [0 0 0]\n",
      "yt : [INFO     ] 2017-06-07 16:42:02,260 Parameters: domain_left_edge          = [ 0.  0.  0.]\n",
      "yt : [INFO     ] 2017-06-07 16:42:02,261 Parameters: domain_right_edge         = [-0. -0. -0.]\n",
      "yt : [INFO     ] 2017-06-07 16:42:02,262 Parameters: cosmological_simulation   = 0.0\n"
     ]
    },
    {
     "name": "stdout",
     "output_type": "stream",
     "text": [
      "TaylorGreen.0064\n"
     ]
    },
    {
     "name": "stderr",
     "output_type": "stream",
     "text": [
      "yt : [INFO     ] 2017-06-07 16:42:03,279 Temporarily setting domain_right_edge = -domain_left_edge. This will be corrected automatically if it is not the case.\n",
      "yt : [WARNING  ] 2017-06-07 16:42:03,281 Assuming 1.0 = 1.0 cm\n",
      "yt : [WARNING  ] 2017-06-07 16:42:03,281 Assuming 1.0 = 1.0 s\n",
      "yt : [WARNING  ] 2017-06-07 16:42:03,282 Assuming 1.0 = 1.0 g\n",
      "yt : [INFO     ] 2017-06-07 16:42:03,286 Parameters: current_time              = 1.629137\n",
      "yt : [INFO     ] 2017-06-07 16:42:03,287 Parameters: domain_dimensions         = [0 0 0]\n",
      "yt : [INFO     ] 2017-06-07 16:42:03,287 Parameters: domain_left_edge          = [ 0.  0.  0.]\n",
      "yt : [INFO     ] 2017-06-07 16:42:03,288 Parameters: domain_right_edge         = [-0. -0. -0.]\n",
      "yt : [INFO     ] 2017-06-07 16:42:03,289 Parameters: cosmological_simulation   = 0.0\n"
     ]
    },
    {
     "name": "stdout",
     "output_type": "stream",
     "text": [
      "TaylorGreen.0065\n"
     ]
    },
    {
     "name": "stderr",
     "output_type": "stream",
     "text": [
      "yt : [INFO     ] 2017-06-07 16:42:04,374 Temporarily setting domain_right_edge = -domain_left_edge. This will be corrected automatically if it is not the case.\n",
      "yt : [WARNING  ] 2017-06-07 16:42:04,376 Assuming 1.0 = 1.0 cm\n",
      "yt : [WARNING  ] 2017-06-07 16:42:04,377 Assuming 1.0 = 1.0 s\n",
      "yt : [WARNING  ] 2017-06-07 16:42:04,377 Assuming 1.0 = 1.0 g\n",
      "yt : [INFO     ] 2017-06-07 16:42:04,382 Parameters: current_time              = 1.654207\n",
      "yt : [INFO     ] 2017-06-07 16:42:04,382 Parameters: domain_dimensions         = [0 0 0]\n",
      "yt : [INFO     ] 2017-06-07 16:42:04,383 Parameters: domain_left_edge          = [ 0.  0.  0.]\n",
      "yt : [INFO     ] 2017-06-07 16:42:04,384 Parameters: domain_right_edge         = [-0. -0. -0.]\n",
      "yt : [INFO     ] 2017-06-07 16:42:04,384 Parameters: cosmological_simulation   = 0.0\n"
     ]
    },
    {
     "name": "stdout",
     "output_type": "stream",
     "text": [
      "TaylorGreen.0066\n"
     ]
    },
    {
     "name": "stderr",
     "output_type": "stream",
     "text": [
      "yt : [INFO     ] 2017-06-07 16:42:05,646 Temporarily setting domain_right_edge = -domain_left_edge. This will be corrected automatically if it is not the case.\n",
      "yt : [WARNING  ] 2017-06-07 16:42:05,649 Assuming 1.0 = 1.0 cm\n",
      "yt : [WARNING  ] 2017-06-07 16:42:05,650 Assuming 1.0 = 1.0 s\n",
      "yt : [WARNING  ] 2017-06-07 16:42:05,650 Assuming 1.0 = 1.0 g\n",
      "yt : [INFO     ] 2017-06-07 16:42:05,655 Parameters: current_time              = 1.679276\n",
      "yt : [INFO     ] 2017-06-07 16:42:05,656 Parameters: domain_dimensions         = [0 0 0]\n",
      "yt : [INFO     ] 2017-06-07 16:42:05,657 Parameters: domain_left_edge          = [ 0.  0.  0.]\n",
      "yt : [INFO     ] 2017-06-07 16:42:05,657 Parameters: domain_right_edge         = [-0. -0. -0.]\n",
      "yt : [INFO     ] 2017-06-07 16:42:05,658 Parameters: cosmological_simulation   = 0.0\n"
     ]
    },
    {
     "name": "stdout",
     "output_type": "stream",
     "text": [
      "TaylorGreen.0067\n"
     ]
    },
    {
     "name": "stderr",
     "output_type": "stream",
     "text": [
      "yt : [INFO     ] 2017-06-07 16:42:06,754 Temporarily setting domain_right_edge = -domain_left_edge. This will be corrected automatically if it is not the case.\n",
      "yt : [WARNING  ] 2017-06-07 16:42:06,757 Assuming 1.0 = 1.0 cm\n",
      "yt : [WARNING  ] 2017-06-07 16:42:06,758 Assuming 1.0 = 1.0 s\n",
      "yt : [WARNING  ] 2017-06-07 16:42:06,758 Assuming 1.0 = 1.0 g\n",
      "yt : [INFO     ] 2017-06-07 16:42:06,764 Parameters: current_time              = 1.704345\n",
      "yt : [INFO     ] 2017-06-07 16:42:06,765 Parameters: domain_dimensions         = [0 0 0]\n",
      "yt : [INFO     ] 2017-06-07 16:42:06,767 Parameters: domain_left_edge          = [ 0.  0.  0.]\n",
      "yt : [INFO     ] 2017-06-07 16:42:06,767 Parameters: domain_right_edge         = [-0. -0. -0.]\n",
      "yt : [INFO     ] 2017-06-07 16:42:06,768 Parameters: cosmological_simulation   = 0.0\n"
     ]
    },
    {
     "name": "stdout",
     "output_type": "stream",
     "text": [
      "TaylorGreen.0068\n"
     ]
    },
    {
     "name": "stderr",
     "output_type": "stream",
     "text": [
      "yt : [INFO     ] 2017-06-07 16:42:07,859 Temporarily setting domain_right_edge = -domain_left_edge. This will be corrected automatically if it is not the case.\n",
      "yt : [WARNING  ] 2017-06-07 16:42:07,861 Assuming 1.0 = 1.0 cm\n",
      "yt : [WARNING  ] 2017-06-07 16:42:07,862 Assuming 1.0 = 1.0 s\n",
      "yt : [WARNING  ] 2017-06-07 16:42:07,863 Assuming 1.0 = 1.0 g\n",
      "yt : [INFO     ] 2017-06-07 16:42:07,868 Parameters: current_time              = 1.729415\n",
      "yt : [INFO     ] 2017-06-07 16:42:07,868 Parameters: domain_dimensions         = [0 0 0]\n",
      "yt : [INFO     ] 2017-06-07 16:42:07,869 Parameters: domain_left_edge          = [ 0.  0.  0.]\n",
      "yt : [INFO     ] 2017-06-07 16:42:07,870 Parameters: domain_right_edge         = [-0. -0. -0.]\n",
      "yt : [INFO     ] 2017-06-07 16:42:07,870 Parameters: cosmological_simulation   = 0.0\n"
     ]
    },
    {
     "name": "stdout",
     "output_type": "stream",
     "text": [
      "TaylorGreen.0069\n"
     ]
    },
    {
     "name": "stderr",
     "output_type": "stream",
     "text": [
      "yt : [INFO     ] 2017-06-07 16:42:08,878 Temporarily setting domain_right_edge = -domain_left_edge. This will be corrected automatically if it is not the case.\n",
      "yt : [WARNING  ] 2017-06-07 16:42:08,881 Assuming 1.0 = 1.0 cm\n",
      "yt : [WARNING  ] 2017-06-07 16:42:08,882 Assuming 1.0 = 1.0 s\n",
      "yt : [WARNING  ] 2017-06-07 16:42:08,882 Assuming 1.0 = 1.0 g\n",
      "yt : [INFO     ] 2017-06-07 16:42:08,888 Parameters: current_time              = 1.754484\n",
      "yt : [INFO     ] 2017-06-07 16:42:08,888 Parameters: domain_dimensions         = [0 0 0]\n",
      "yt : [INFO     ] 2017-06-07 16:42:08,889 Parameters: domain_left_edge          = [ 0.  0.  0.]\n",
      "yt : [INFO     ] 2017-06-07 16:42:08,890 Parameters: domain_right_edge         = [-0. -0. -0.]\n",
      "yt : [INFO     ] 2017-06-07 16:42:08,890 Parameters: cosmological_simulation   = 0.0\n"
     ]
    },
    {
     "name": "stdout",
     "output_type": "stream",
     "text": [
      "TaylorGreen.0070\n"
     ]
    },
    {
     "name": "stderr",
     "output_type": "stream",
     "text": [
      "yt : [INFO     ] 2017-06-07 16:42:09,921 Temporarily setting domain_right_edge = -domain_left_edge. This will be corrected automatically if it is not the case.\n",
      "yt : [WARNING  ] 2017-06-07 16:42:09,924 Assuming 1.0 = 1.0 cm\n",
      "yt : [WARNING  ] 2017-06-07 16:42:09,924 Assuming 1.0 = 1.0 s\n",
      "yt : [WARNING  ] 2017-06-07 16:42:09,925 Assuming 1.0 = 1.0 g\n",
      "yt : [INFO     ] 2017-06-07 16:42:09,930 Parameters: current_time              = 1.779554\n",
      "yt : [INFO     ] 2017-06-07 16:42:09,930 Parameters: domain_dimensions         = [0 0 0]\n",
      "yt : [INFO     ] 2017-06-07 16:42:09,931 Parameters: domain_left_edge          = [ 0.  0.  0.]\n",
      "yt : [INFO     ] 2017-06-07 16:42:09,932 Parameters: domain_right_edge         = [-0. -0. -0.]\n",
      "yt : [INFO     ] 2017-06-07 16:42:09,934 Parameters: cosmological_simulation   = 0.0\n"
     ]
    },
    {
     "name": "stdout",
     "output_type": "stream",
     "text": [
      "TaylorGreen.0071\n"
     ]
    },
    {
     "name": "stderr",
     "output_type": "stream",
     "text": [
      "yt : [INFO     ] 2017-06-07 16:42:11,133 Temporarily setting domain_right_edge = -domain_left_edge. This will be corrected automatically if it is not the case.\n",
      "yt : [WARNING  ] 2017-06-07 16:42:11,135 Assuming 1.0 = 1.0 cm\n",
      "yt : [WARNING  ] 2017-06-07 16:42:11,136 Assuming 1.0 = 1.0 s\n",
      "yt : [WARNING  ] 2017-06-07 16:42:11,136 Assuming 1.0 = 1.0 g\n",
      "yt : [INFO     ] 2017-06-07 16:42:11,140 Parameters: current_time              = 1.804623\n",
      "yt : [INFO     ] 2017-06-07 16:42:11,141 Parameters: domain_dimensions         = [0 0 0]\n",
      "yt : [INFO     ] 2017-06-07 16:42:11,142 Parameters: domain_left_edge          = [ 0.  0.  0.]\n",
      "yt : [INFO     ] 2017-06-07 16:42:11,143 Parameters: domain_right_edge         = [-0. -0. -0.]\n",
      "yt : [INFO     ] 2017-06-07 16:42:11,145 Parameters: cosmological_simulation   = 0.0\n"
     ]
    },
    {
     "name": "stdout",
     "output_type": "stream",
     "text": [
      "TaylorGreen.0072\n"
     ]
    },
    {
     "name": "stderr",
     "output_type": "stream",
     "text": [
      "yt : [INFO     ] 2017-06-07 16:42:12,183 Temporarily setting domain_right_edge = -domain_left_edge. This will be corrected automatically if it is not the case.\n",
      "yt : [WARNING  ] 2017-06-07 16:42:12,186 Assuming 1.0 = 1.0 cm\n",
      "yt : [WARNING  ] 2017-06-07 16:42:12,186 Assuming 1.0 = 1.0 s\n",
      "yt : [WARNING  ] 2017-06-07 16:42:12,187 Assuming 1.0 = 1.0 g\n",
      "yt : [INFO     ] 2017-06-07 16:42:12,192 Parameters: current_time              = 1.829692\n",
      "yt : [INFO     ] 2017-06-07 16:42:12,192 Parameters: domain_dimensions         = [0 0 0]\n",
      "yt : [INFO     ] 2017-06-07 16:42:12,193 Parameters: domain_left_edge          = [ 0.  0.  0.]\n",
      "yt : [INFO     ] 2017-06-07 16:42:12,194 Parameters: domain_right_edge         = [-0. -0. -0.]\n",
      "yt : [INFO     ] 2017-06-07 16:42:12,194 Parameters: cosmological_simulation   = 0.0\n"
     ]
    },
    {
     "name": "stdout",
     "output_type": "stream",
     "text": [
      "TaylorGreen.0073\n"
     ]
    },
    {
     "name": "stderr",
     "output_type": "stream",
     "text": [
      "yt : [INFO     ] 2017-06-07 16:42:13,196 Temporarily setting domain_right_edge = -domain_left_edge. This will be corrected automatically if it is not the case.\n",
      "yt : [WARNING  ] 2017-06-07 16:42:13,198 Assuming 1.0 = 1.0 cm\n",
      "yt : [WARNING  ] 2017-06-07 16:42:13,199 Assuming 1.0 = 1.0 s\n",
      "yt : [WARNING  ] 2017-06-07 16:42:13,199 Assuming 1.0 = 1.0 g\n",
      "yt : [INFO     ] 2017-06-07 16:42:13,204 Parameters: current_time              = 1.854761\n",
      "yt : [INFO     ] 2017-06-07 16:42:13,205 Parameters: domain_dimensions         = [0 0 0]\n",
      "yt : [INFO     ] 2017-06-07 16:42:13,206 Parameters: domain_left_edge          = [ 0.  0.  0.]\n",
      "yt : [INFO     ] 2017-06-07 16:42:13,206 Parameters: domain_right_edge         = [-0. -0. -0.]\n",
      "yt : [INFO     ] 2017-06-07 16:42:13,207 Parameters: cosmological_simulation   = 0.0\n"
     ]
    },
    {
     "name": "stdout",
     "output_type": "stream",
     "text": [
      "TaylorGreen.0074\n"
     ]
    },
    {
     "name": "stderr",
     "output_type": "stream",
     "text": [
      "yt : [INFO     ] 2017-06-07 16:42:14,213 Temporarily setting domain_right_edge = -domain_left_edge. This will be corrected automatically if it is not the case.\n",
      "yt : [WARNING  ] 2017-06-07 16:42:14,215 Assuming 1.0 = 1.0 cm\n",
      "yt : [WARNING  ] 2017-06-07 16:42:14,215 Assuming 1.0 = 1.0 s\n",
      "yt : [WARNING  ] 2017-06-07 16:42:14,216 Assuming 1.0 = 1.0 g\n",
      "yt : [INFO     ] 2017-06-07 16:42:14,220 Parameters: current_time              = 1.87983\n",
      "yt : [INFO     ] 2017-06-07 16:42:14,220 Parameters: domain_dimensions         = [0 0 0]\n",
      "yt : [INFO     ] 2017-06-07 16:42:14,221 Parameters: domain_left_edge          = [ 0.  0.  0.]\n",
      "yt : [INFO     ] 2017-06-07 16:42:14,222 Parameters: domain_right_edge         = [-0. -0. -0.]\n",
      "yt : [INFO     ] 2017-06-07 16:42:14,222 Parameters: cosmological_simulation   = 0.0\n"
     ]
    },
    {
     "name": "stdout",
     "output_type": "stream",
     "text": [
      "TaylorGreen.0075\n"
     ]
    },
    {
     "name": "stderr",
     "output_type": "stream",
     "text": [
      "yt : [INFO     ] 2017-06-07 16:42:15,279 Temporarily setting domain_right_edge = -domain_left_edge. This will be corrected automatically if it is not the case.\n",
      "yt : [WARNING  ] 2017-06-07 16:42:15,280 Assuming 1.0 = 1.0 cm\n",
      "yt : [WARNING  ] 2017-06-07 16:42:15,281 Assuming 1.0 = 1.0 s\n",
      "yt : [WARNING  ] 2017-06-07 16:42:15,282 Assuming 1.0 = 1.0 g\n",
      "yt : [INFO     ] 2017-06-07 16:42:15,286 Parameters: current_time              = 1.904899\n",
      "yt : [INFO     ] 2017-06-07 16:42:15,286 Parameters: domain_dimensions         = [0 0 0]\n",
      "yt : [INFO     ] 2017-06-07 16:42:15,287 Parameters: domain_left_edge          = [ 0.  0.  0.]\n",
      "yt : [INFO     ] 2017-06-07 16:42:15,288 Parameters: domain_right_edge         = [-0. -0. -0.]\n",
      "yt : [INFO     ] 2017-06-07 16:42:15,288 Parameters: cosmological_simulation   = 0.0\n"
     ]
    },
    {
     "name": "stdout",
     "output_type": "stream",
     "text": [
      "TaylorGreen.0076\n"
     ]
    },
    {
     "name": "stderr",
     "output_type": "stream",
     "text": [
      "yt : [INFO     ] 2017-06-07 16:42:16,505 Temporarily setting domain_right_edge = -domain_left_edge. This will be corrected automatically if it is not the case.\n",
      "yt : [WARNING  ] 2017-06-07 16:42:16,507 Assuming 1.0 = 1.0 cm\n",
      "yt : [WARNING  ] 2017-06-07 16:42:16,508 Assuming 1.0 = 1.0 s\n",
      "yt : [WARNING  ] 2017-06-07 16:42:16,509 Assuming 1.0 = 1.0 g\n",
      "yt : [INFO     ] 2017-06-07 16:42:16,514 Parameters: current_time              = 1.929967\n",
      "yt : [INFO     ] 2017-06-07 16:42:16,514 Parameters: domain_dimensions         = [0 0 0]\n",
      "yt : [INFO     ] 2017-06-07 16:42:16,515 Parameters: domain_left_edge          = [ 0.  0.  0.]\n",
      "yt : [INFO     ] 2017-06-07 16:42:16,515 Parameters: domain_right_edge         = [-0. -0. -0.]\n",
      "yt : [INFO     ] 2017-06-07 16:42:16,516 Parameters: cosmological_simulation   = 0.0\n"
     ]
    },
    {
     "name": "stdout",
     "output_type": "stream",
     "text": [
      "TaylorGreen.0077\n"
     ]
    },
    {
     "name": "stderr",
     "output_type": "stream",
     "text": [
      "yt : [INFO     ] 2017-06-07 16:42:17,601 Temporarily setting domain_right_edge = -domain_left_edge. This will be corrected automatically if it is not the case.\n",
      "yt : [WARNING  ] 2017-06-07 16:42:17,603 Assuming 1.0 = 1.0 cm\n",
      "yt : [WARNING  ] 2017-06-07 16:42:17,604 Assuming 1.0 = 1.0 s\n",
      "yt : [WARNING  ] 2017-06-07 16:42:17,605 Assuming 1.0 = 1.0 g\n",
      "yt : [INFO     ] 2017-06-07 16:42:17,609 Parameters: current_time              = 1.955036\n",
      "yt : [INFO     ] 2017-06-07 16:42:17,610 Parameters: domain_dimensions         = [0 0 0]\n",
      "yt : [INFO     ] 2017-06-07 16:42:17,610 Parameters: domain_left_edge          = [ 0.  0.  0.]\n",
      "yt : [INFO     ] 2017-06-07 16:42:17,611 Parameters: domain_right_edge         = [-0. -0. -0.]\n",
      "yt : [INFO     ] 2017-06-07 16:42:17,612 Parameters: cosmological_simulation   = 0.0\n"
     ]
    },
    {
     "name": "stdout",
     "output_type": "stream",
     "text": [
      "TaylorGreen.0078\n"
     ]
    },
    {
     "name": "stderr",
     "output_type": "stream",
     "text": [
      "yt : [INFO     ] 2017-06-07 16:42:18,638 Temporarily setting domain_right_edge = -domain_left_edge. This will be corrected automatically if it is not the case.\n",
      "yt : [WARNING  ] 2017-06-07 16:42:18,640 Assuming 1.0 = 1.0 cm\n",
      "yt : [WARNING  ] 2017-06-07 16:42:18,642 Assuming 1.0 = 1.0 s\n",
      "yt : [WARNING  ] 2017-06-07 16:42:18,643 Assuming 1.0 = 1.0 g\n",
      "yt : [INFO     ] 2017-06-07 16:42:18,647 Parameters: current_time              = 1.980104\n",
      "yt : [INFO     ] 2017-06-07 16:42:18,648 Parameters: domain_dimensions         = [0 0 0]\n",
      "yt : [INFO     ] 2017-06-07 16:42:18,649 Parameters: domain_left_edge          = [ 0.  0.  0.]\n",
      "yt : [INFO     ] 2017-06-07 16:42:18,649 Parameters: domain_right_edge         = [-0. -0. -0.]\n",
      "yt : [INFO     ] 2017-06-07 16:42:18,651 Parameters: cosmological_simulation   = 0.0\n"
     ]
    },
    {
     "name": "stdout",
     "output_type": "stream",
     "text": [
      "TaylorGreen.0079\n"
     ]
    },
    {
     "name": "stderr",
     "output_type": "stream",
     "text": [
      "yt : [INFO     ] 2017-06-07 16:42:19,723 Temporarily setting domain_right_edge = -domain_left_edge. This will be corrected automatically if it is not the case.\n",
      "yt : [WARNING  ] 2017-06-07 16:42:19,725 Assuming 1.0 = 1.0 cm\n",
      "yt : [WARNING  ] 2017-06-07 16:42:19,726 Assuming 1.0 = 1.0 s\n",
      "yt : [WARNING  ] 2017-06-07 16:42:19,726 Assuming 1.0 = 1.0 g\n",
      "yt : [INFO     ] 2017-06-07 16:42:19,730 Parameters: current_time              = 2.005172\n",
      "yt : [INFO     ] 2017-06-07 16:42:19,731 Parameters: domain_dimensions         = [0 0 0]\n",
      "yt : [INFO     ] 2017-06-07 16:42:19,732 Parameters: domain_left_edge          = [ 0.  0.  0.]\n",
      "yt : [INFO     ] 2017-06-07 16:42:19,732 Parameters: domain_right_edge         = [-0. -0. -0.]\n",
      "yt : [INFO     ] 2017-06-07 16:42:19,733 Parameters: cosmological_simulation   = 0.0\n"
     ]
    },
    {
     "name": "stdout",
     "output_type": "stream",
     "text": [
      "TaylorGreen.0080\n"
     ]
    },
    {
     "name": "stderr",
     "output_type": "stream",
     "text": [
      "yt : [INFO     ] 2017-06-07 16:42:20,803 Temporarily setting domain_right_edge = -domain_left_edge. This will be corrected automatically if it is not the case.\n",
      "yt : [WARNING  ] 2017-06-07 16:42:20,806 Assuming 1.0 = 1.0 cm\n",
      "yt : [WARNING  ] 2017-06-07 16:42:20,807 Assuming 1.0 = 1.0 s\n",
      "yt : [WARNING  ] 2017-06-07 16:42:20,808 Assuming 1.0 = 1.0 g\n",
      "yt : [INFO     ] 2017-06-07 16:42:20,814 Parameters: current_time              = 2.030239\n",
      "yt : [INFO     ] 2017-06-07 16:42:20,814 Parameters: domain_dimensions         = [0 0 0]\n",
      "yt : [INFO     ] 2017-06-07 16:42:20,815 Parameters: domain_left_edge          = [ 0.  0.  0.]\n",
      "yt : [INFO     ] 2017-06-07 16:42:20,816 Parameters: domain_right_edge         = [-0. -0. -0.]\n",
      "yt : [INFO     ] 2017-06-07 16:42:20,816 Parameters: cosmological_simulation   = 0.0\n"
     ]
    },
    {
     "name": "stdout",
     "output_type": "stream",
     "text": [
      "TaylorGreen.0081\n"
     ]
    },
    {
     "name": "stderr",
     "output_type": "stream",
     "text": [
      "yt : [INFO     ] 2017-06-07 16:42:22,023 Temporarily setting domain_right_edge = -domain_left_edge. This will be corrected automatically if it is not the case.\n",
      "yt : [WARNING  ] 2017-06-07 16:42:22,026 Assuming 1.0 = 1.0 cm\n",
      "yt : [WARNING  ] 2017-06-07 16:42:22,026 Assuming 1.0 = 1.0 s\n",
      "yt : [WARNING  ] 2017-06-07 16:42:22,027 Assuming 1.0 = 1.0 g\n",
      "yt : [INFO     ] 2017-06-07 16:42:22,032 Parameters: current_time              = 2.055306\n",
      "yt : [INFO     ] 2017-06-07 16:42:22,032 Parameters: domain_dimensions         = [0 0 0]\n",
      "yt : [INFO     ] 2017-06-07 16:42:22,034 Parameters: domain_left_edge          = [ 0.  0.  0.]\n",
      "yt : [INFO     ] 2017-06-07 16:42:22,036 Parameters: domain_right_edge         = [-0. -0. -0.]\n",
      "yt : [INFO     ] 2017-06-07 16:42:22,036 Parameters: cosmological_simulation   = 0.0\n"
     ]
    },
    {
     "name": "stdout",
     "output_type": "stream",
     "text": [
      "TaylorGreen.0082\n"
     ]
    },
    {
     "name": "stderr",
     "output_type": "stream",
     "text": [
      "yt : [INFO     ] 2017-06-07 16:42:23,049 Temporarily setting domain_right_edge = -domain_left_edge. This will be corrected automatically if it is not the case.\n",
      "yt : [WARNING  ] 2017-06-07 16:42:23,052 Assuming 1.0 = 1.0 cm\n",
      "yt : [WARNING  ] 2017-06-07 16:42:23,053 Assuming 1.0 = 1.0 s\n",
      "yt : [WARNING  ] 2017-06-07 16:42:23,054 Assuming 1.0 = 1.0 g\n",
      "yt : [INFO     ] 2017-06-07 16:42:23,059 Parameters: current_time              = 2.080373\n",
      "yt : [INFO     ] 2017-06-07 16:42:23,060 Parameters: domain_dimensions         = [0 0 0]\n",
      "yt : [INFO     ] 2017-06-07 16:42:23,060 Parameters: domain_left_edge          = [ 0.  0.  0.]\n",
      "yt : [INFO     ] 2017-06-07 16:42:23,061 Parameters: domain_right_edge         = [-0. -0. -0.]\n",
      "yt : [INFO     ] 2017-06-07 16:42:23,062 Parameters: cosmological_simulation   = 0.0\n"
     ]
    },
    {
     "name": "stdout",
     "output_type": "stream",
     "text": [
      "TaylorGreen.0083\n"
     ]
    },
    {
     "name": "stderr",
     "output_type": "stream",
     "text": [
      "yt : [INFO     ] 2017-06-07 16:42:24,159 Temporarily setting domain_right_edge = -domain_left_edge. This will be corrected automatically if it is not the case.\n",
      "yt : [WARNING  ] 2017-06-07 16:42:24,161 Assuming 1.0 = 1.0 cm\n",
      "yt : [WARNING  ] 2017-06-07 16:42:24,162 Assuming 1.0 = 1.0 s\n",
      "yt : [WARNING  ] 2017-06-07 16:42:24,162 Assuming 1.0 = 1.0 g\n",
      "yt : [INFO     ] 2017-06-07 16:42:24,167 Parameters: current_time              = 2.105439\n",
      "yt : [INFO     ] 2017-06-07 16:42:24,167 Parameters: domain_dimensions         = [0 0 0]\n",
      "yt : [INFO     ] 2017-06-07 16:42:24,168 Parameters: domain_left_edge          = [ 0.  0.  0.]\n",
      "yt : [INFO     ] 2017-06-07 16:42:24,169 Parameters: domain_right_edge         = [-0. -0. -0.]\n",
      "yt : [INFO     ] 2017-06-07 16:42:24,169 Parameters: cosmological_simulation   = 0.0\n"
     ]
    },
    {
     "name": "stdout",
     "output_type": "stream",
     "text": [
      "TaylorGreen.0084\n"
     ]
    },
    {
     "name": "stderr",
     "output_type": "stream",
     "text": [
      "yt : [INFO     ] 2017-06-07 16:42:25,233 Temporarily setting domain_right_edge = -domain_left_edge. This will be corrected automatically if it is not the case.\n",
      "yt : [WARNING  ] 2017-06-07 16:42:25,237 Assuming 1.0 = 1.0 cm\n",
      "yt : [WARNING  ] 2017-06-07 16:42:25,238 Assuming 1.0 = 1.0 s\n",
      "yt : [WARNING  ] 2017-06-07 16:42:25,238 Assuming 1.0 = 1.0 g\n",
      "yt : [INFO     ] 2017-06-07 16:42:25,243 Parameters: current_time              = 2.130504\n",
      "yt : [INFO     ] 2017-06-07 16:42:25,243 Parameters: domain_dimensions         = [0 0 0]\n",
      "yt : [INFO     ] 2017-06-07 16:42:25,244 Parameters: domain_left_edge          = [ 0.  0.  0.]\n",
      "yt : [INFO     ] 2017-06-07 16:42:25,245 Parameters: domain_right_edge         = [-0. -0. -0.]\n",
      "yt : [INFO     ] 2017-06-07 16:42:25,246 Parameters: cosmological_simulation   = 0.0\n"
     ]
    },
    {
     "name": "stdout",
     "output_type": "stream",
     "text": [
      "TaylorGreen.0085\n"
     ]
    },
    {
     "name": "stderr",
     "output_type": "stream",
     "text": [
      "yt : [INFO     ] 2017-06-07 16:42:26,424 Temporarily setting domain_right_edge = -domain_left_edge. This will be corrected automatically if it is not the case.\n",
      "yt : [WARNING  ] 2017-06-07 16:42:26,426 Assuming 1.0 = 1.0 cm\n",
      "yt : [WARNING  ] 2017-06-07 16:42:26,426 Assuming 1.0 = 1.0 s\n",
      "yt : [WARNING  ] 2017-06-07 16:42:26,427 Assuming 1.0 = 1.0 g\n",
      "yt : [INFO     ] 2017-06-07 16:42:26,431 Parameters: current_time              = 2.155569\n",
      "yt : [INFO     ] 2017-06-07 16:42:26,432 Parameters: domain_dimensions         = [0 0 0]\n",
      "yt : [INFO     ] 2017-06-07 16:42:26,432 Parameters: domain_left_edge          = [ 0.  0.  0.]\n",
      "yt : [INFO     ] 2017-06-07 16:42:26,433 Parameters: domain_right_edge         = [-0. -0. -0.]\n",
      "yt : [INFO     ] 2017-06-07 16:42:26,434 Parameters: cosmological_simulation   = 0.0\n"
     ]
    },
    {
     "name": "stdout",
     "output_type": "stream",
     "text": [
      "TaylorGreen.0086\n"
     ]
    },
    {
     "name": "stderr",
     "output_type": "stream",
     "text": [
      "yt : [INFO     ] 2017-06-07 16:42:27,528 Temporarily setting domain_right_edge = -domain_left_edge. This will be corrected automatically if it is not the case.\n",
      "yt : [WARNING  ] 2017-06-07 16:42:27,530 Assuming 1.0 = 1.0 cm\n",
      "yt : [WARNING  ] 2017-06-07 16:42:27,530 Assuming 1.0 = 1.0 s\n",
      "yt : [WARNING  ] 2017-06-07 16:42:27,531 Assuming 1.0 = 1.0 g\n",
      "yt : [INFO     ] 2017-06-07 16:42:27,536 Parameters: current_time              = 2.180633\n",
      "yt : [INFO     ] 2017-06-07 16:42:27,536 Parameters: domain_dimensions         = [0 0 0]\n",
      "yt : [INFO     ] 2017-06-07 16:42:27,537 Parameters: domain_left_edge          = [ 0.  0.  0.]\n",
      "yt : [INFO     ] 2017-06-07 16:42:27,537 Parameters: domain_right_edge         = [-0. -0. -0.]\n",
      "yt : [INFO     ] 2017-06-07 16:42:27,538 Parameters: cosmological_simulation   = 0.0\n"
     ]
    },
    {
     "name": "stdout",
     "output_type": "stream",
     "text": [
      "TaylorGreen.0087\n"
     ]
    },
    {
     "name": "stderr",
     "output_type": "stream",
     "text": [
      "yt : [INFO     ] 2017-06-07 16:42:28,649 Temporarily setting domain_right_edge = -domain_left_edge. This will be corrected automatically if it is not the case.\n",
      "yt : [WARNING  ] 2017-06-07 16:42:28,651 Assuming 1.0 = 1.0 cm\n",
      "yt : [WARNING  ] 2017-06-07 16:42:28,652 Assuming 1.0 = 1.0 s\n",
      "yt : [WARNING  ] 2017-06-07 16:42:28,653 Assuming 1.0 = 1.0 g\n",
      "yt : [INFO     ] 2017-06-07 16:42:28,658 Parameters: current_time              = 2.205698\n",
      "yt : [INFO     ] 2017-06-07 16:42:28,659 Parameters: domain_dimensions         = [0 0 0]\n",
      "yt : [INFO     ] 2017-06-07 16:42:28,660 Parameters: domain_left_edge          = [ 0.  0.  0.]\n",
      "yt : [INFO     ] 2017-06-07 16:42:28,660 Parameters: domain_right_edge         = [-0. -0. -0.]\n",
      "yt : [INFO     ] 2017-06-07 16:42:28,661 Parameters: cosmological_simulation   = 0.0\n"
     ]
    },
    {
     "name": "stdout",
     "output_type": "stream",
     "text": [
      "TaylorGreen.0088\n"
     ]
    },
    {
     "name": "stderr",
     "output_type": "stream",
     "text": [
      "yt : [INFO     ] 2017-06-07 16:42:29,762 Temporarily setting domain_right_edge = -domain_left_edge. This will be corrected automatically if it is not the case.\n",
      "yt : [WARNING  ] 2017-06-07 16:42:29,764 Assuming 1.0 = 1.0 cm\n",
      "yt : [WARNING  ] 2017-06-07 16:42:29,764 Assuming 1.0 = 1.0 s\n",
      "yt : [WARNING  ] 2017-06-07 16:42:29,765 Assuming 1.0 = 1.0 g\n",
      "yt : [INFO     ] 2017-06-07 16:42:29,769 Parameters: current_time              = 2.230762\n",
      "yt : [INFO     ] 2017-06-07 16:42:29,770 Parameters: domain_dimensions         = [0 0 0]\n",
      "yt : [INFO     ] 2017-06-07 16:42:29,770 Parameters: domain_left_edge          = [ 0.  0.  0.]\n",
      "yt : [INFO     ] 2017-06-07 16:42:29,771 Parameters: domain_right_edge         = [-0. -0. -0.]\n",
      "yt : [INFO     ] 2017-06-07 16:42:29,772 Parameters: cosmological_simulation   = 0.0\n"
     ]
    },
    {
     "name": "stdout",
     "output_type": "stream",
     "text": [
      "TaylorGreen.0089\n"
     ]
    },
    {
     "name": "stderr",
     "output_type": "stream",
     "text": [
      "yt : [INFO     ] 2017-06-07 16:42:30,802 Temporarily setting domain_right_edge = -domain_left_edge. This will be corrected automatically if it is not the case.\n",
      "yt : [WARNING  ] 2017-06-07 16:42:30,804 Assuming 1.0 = 1.0 cm\n",
      "yt : [WARNING  ] 2017-06-07 16:42:30,804 Assuming 1.0 = 1.0 s\n",
      "yt : [WARNING  ] 2017-06-07 16:42:30,805 Assuming 1.0 = 1.0 g\n",
      "yt : [INFO     ] 2017-06-07 16:42:30,809 Parameters: current_time              = 2.255825\n",
      "yt : [INFO     ] 2017-06-07 16:42:30,809 Parameters: domain_dimensions         = [0 0 0]\n",
      "yt : [INFO     ] 2017-06-07 16:42:30,810 Parameters: domain_left_edge          = [ 0.  0.  0.]\n",
      "yt : [INFO     ] 2017-06-07 16:42:30,810 Parameters: domain_right_edge         = [-0. -0. -0.]\n",
      "yt : [INFO     ] 2017-06-07 16:42:30,811 Parameters: cosmological_simulation   = 0.0\n"
     ]
    },
    {
     "name": "stdout",
     "output_type": "stream",
     "text": [
      "TaylorGreen.0090\n"
     ]
    },
    {
     "name": "stderr",
     "output_type": "stream",
     "text": [
      "yt : [INFO     ] 2017-06-07 16:42:31,925 Temporarily setting domain_right_edge = -domain_left_edge. This will be corrected automatically if it is not the case.\n",
      "yt : [WARNING  ] 2017-06-07 16:42:31,927 Assuming 1.0 = 1.0 cm\n",
      "yt : [WARNING  ] 2017-06-07 16:42:31,928 Assuming 1.0 = 1.0 s\n",
      "yt : [WARNING  ] 2017-06-07 16:42:31,928 Assuming 1.0 = 1.0 g\n",
      "yt : [INFO     ] 2017-06-07 16:42:31,932 Parameters: current_time              = 2.280888\n",
      "yt : [INFO     ] 2017-06-07 16:42:31,932 Parameters: domain_dimensions         = [0 0 0]\n",
      "yt : [INFO     ] 2017-06-07 16:42:31,933 Parameters: domain_left_edge          = [ 0.  0.  0.]\n",
      "yt : [INFO     ] 2017-06-07 16:42:31,934 Parameters: domain_right_edge         = [-0. -0. -0.]\n",
      "yt : [INFO     ] 2017-06-07 16:42:31,934 Parameters: cosmological_simulation   = 0.0\n"
     ]
    },
    {
     "name": "stdout",
     "output_type": "stream",
     "text": [
      "TaylorGreen.0091\n"
     ]
    },
    {
     "name": "stderr",
     "output_type": "stream",
     "text": [
      "yt : [INFO     ] 2017-06-07 16:42:32,986 Temporarily setting domain_right_edge = -domain_left_edge. This will be corrected automatically if it is not the case.\n",
      "yt : [WARNING  ] 2017-06-07 16:42:32,988 Assuming 1.0 = 1.0 cm\n",
      "yt : [WARNING  ] 2017-06-07 16:42:32,988 Assuming 1.0 = 1.0 s\n",
      "yt : [WARNING  ] 2017-06-07 16:42:32,989 Assuming 1.0 = 1.0 g\n",
      "yt : [INFO     ] 2017-06-07 16:42:32,993 Parameters: current_time              = 2.30595\n",
      "yt : [INFO     ] 2017-06-07 16:42:32,993 Parameters: domain_dimensions         = [0 0 0]\n",
      "yt : [INFO     ] 2017-06-07 16:42:32,994 Parameters: domain_left_edge          = [ 0.  0.  0.]\n",
      "yt : [INFO     ] 2017-06-07 16:42:32,994 Parameters: domain_right_edge         = [-0. -0. -0.]\n",
      "yt : [INFO     ] 2017-06-07 16:42:32,995 Parameters: cosmological_simulation   = 0.0\n"
     ]
    },
    {
     "name": "stdout",
     "output_type": "stream",
     "text": [
      "TaylorGreen.0092\n"
     ]
    },
    {
     "name": "stderr",
     "output_type": "stream",
     "text": [
      "yt : [INFO     ] 2017-06-07 16:42:34,043 Temporarily setting domain_right_edge = -domain_left_edge. This will be corrected automatically if it is not the case.\n",
      "yt : [WARNING  ] 2017-06-07 16:42:34,045 Assuming 1.0 = 1.0 cm\n",
      "yt : [WARNING  ] 2017-06-07 16:42:34,045 Assuming 1.0 = 1.0 s\n",
      "yt : [WARNING  ] 2017-06-07 16:42:34,046 Assuming 1.0 = 1.0 g\n",
      "yt : [INFO     ] 2017-06-07 16:42:34,050 Parameters: current_time              = 2.331012\n",
      "yt : [INFO     ] 2017-06-07 16:42:34,050 Parameters: domain_dimensions         = [0 0 0]\n",
      "yt : [INFO     ] 2017-06-07 16:42:34,051 Parameters: domain_left_edge          = [ 0.  0.  0.]\n",
      "yt : [INFO     ] 2017-06-07 16:42:34,051 Parameters: domain_right_edge         = [-0. -0. -0.]\n",
      "yt : [INFO     ] 2017-06-07 16:42:34,052 Parameters: cosmological_simulation   = 0.0\n"
     ]
    },
    {
     "name": "stdout",
     "output_type": "stream",
     "text": [
      "TaylorGreen.0093\n"
     ]
    },
    {
     "name": "stderr",
     "output_type": "stream",
     "text": [
      "yt : [INFO     ] 2017-06-07 16:42:35,181 Temporarily setting domain_right_edge = -domain_left_edge. This will be corrected automatically if it is not the case.\n",
      "yt : [WARNING  ] 2017-06-07 16:42:35,183 Assuming 1.0 = 1.0 cm\n",
      "yt : [WARNING  ] 2017-06-07 16:42:35,184 Assuming 1.0 = 1.0 s\n",
      "yt : [WARNING  ] 2017-06-07 16:42:35,185 Assuming 1.0 = 1.0 g\n",
      "yt : [INFO     ] 2017-06-07 16:42:35,189 Parameters: current_time              = 2.356074\n",
      "yt : [INFO     ] 2017-06-07 16:42:35,189 Parameters: domain_dimensions         = [0 0 0]\n",
      "yt : [INFO     ] 2017-06-07 16:42:35,190 Parameters: domain_left_edge          = [ 0.  0.  0.]\n",
      "yt : [INFO     ] 2017-06-07 16:42:35,191 Parameters: domain_right_edge         = [-0. -0. -0.]\n",
      "yt : [INFO     ] 2017-06-07 16:42:35,192 Parameters: cosmological_simulation   = 0.0\n"
     ]
    },
    {
     "name": "stdout",
     "output_type": "stream",
     "text": [
      "TaylorGreen.0094\n"
     ]
    },
    {
     "name": "stderr",
     "output_type": "stream",
     "text": [
      "yt : [INFO     ] 2017-06-07 16:42:36,192 Temporarily setting domain_right_edge = -domain_left_edge. This will be corrected automatically if it is not the case.\n",
      "yt : [WARNING  ] 2017-06-07 16:42:36,194 Assuming 1.0 = 1.0 cm\n",
      "yt : [WARNING  ] 2017-06-07 16:42:36,195 Assuming 1.0 = 1.0 s\n",
      "yt : [WARNING  ] 2017-06-07 16:42:36,195 Assuming 1.0 = 1.0 g\n",
      "yt : [INFO     ] 2017-06-07 16:42:36,199 Parameters: current_time              = 2.381135\n",
      "yt : [INFO     ] 2017-06-07 16:42:36,200 Parameters: domain_dimensions         = [0 0 0]\n",
      "yt : [INFO     ] 2017-06-07 16:42:36,200 Parameters: domain_left_edge          = [ 0.  0.  0.]\n",
      "yt : [INFO     ] 2017-06-07 16:42:36,201 Parameters: domain_right_edge         = [-0. -0. -0.]\n",
      "yt : [INFO     ] 2017-06-07 16:42:36,202 Parameters: cosmological_simulation   = 0.0\n"
     ]
    },
    {
     "name": "stdout",
     "output_type": "stream",
     "text": [
      "TaylorGreen.0095\n"
     ]
    },
    {
     "name": "stderr",
     "output_type": "stream",
     "text": [
      "yt : [INFO     ] 2017-06-07 16:42:37,375 Temporarily setting domain_right_edge = -domain_left_edge. This will be corrected automatically if it is not the case.\n",
      "yt : [WARNING  ] 2017-06-07 16:42:37,377 Assuming 1.0 = 1.0 cm\n",
      "yt : [WARNING  ] 2017-06-07 16:42:37,378 Assuming 1.0 = 1.0 s\n",
      "yt : [WARNING  ] 2017-06-07 16:42:37,378 Assuming 1.0 = 1.0 g\n",
      "yt : [INFO     ] 2017-06-07 16:42:37,383 Parameters: current_time              = 2.406195\n",
      "yt : [INFO     ] 2017-06-07 16:42:37,383 Parameters: domain_dimensions         = [0 0 0]\n",
      "yt : [INFO     ] 2017-06-07 16:42:37,384 Parameters: domain_left_edge          = [ 0.  0.  0.]\n",
      "yt : [INFO     ] 2017-06-07 16:42:37,384 Parameters: domain_right_edge         = [-0. -0. -0.]\n",
      "yt : [INFO     ] 2017-06-07 16:42:37,385 Parameters: cosmological_simulation   = 0.0\n"
     ]
    },
    {
     "name": "stdout",
     "output_type": "stream",
     "text": [
      "TaylorGreen.0096\n"
     ]
    },
    {
     "name": "stderr",
     "output_type": "stream",
     "text": [
      "yt : [INFO     ] 2017-06-07 16:42:38,445 Temporarily setting domain_right_edge = -domain_left_edge. This will be corrected automatically if it is not the case.\n",
      "yt : [WARNING  ] 2017-06-07 16:42:38,448 Assuming 1.0 = 1.0 cm\n",
      "yt : [WARNING  ] 2017-06-07 16:42:38,449 Assuming 1.0 = 1.0 s\n",
      "yt : [WARNING  ] 2017-06-07 16:42:38,450 Assuming 1.0 = 1.0 g\n",
      "yt : [INFO     ] 2017-06-07 16:42:38,457 Parameters: current_time              = 2.431255\n",
      "yt : [INFO     ] 2017-06-07 16:42:38,457 Parameters: domain_dimensions         = [0 0 0]\n",
      "yt : [INFO     ] 2017-06-07 16:42:38,458 Parameters: domain_left_edge          = [ 0.  0.  0.]\n",
      "yt : [INFO     ] 2017-06-07 16:42:38,459 Parameters: domain_right_edge         = [-0. -0. -0.]\n",
      "yt : [INFO     ] 2017-06-07 16:42:38,460 Parameters: cosmological_simulation   = 0.0\n"
     ]
    },
    {
     "name": "stdout",
     "output_type": "stream",
     "text": [
      "TaylorGreen.0097\n"
     ]
    },
    {
     "name": "stderr",
     "output_type": "stream",
     "text": [
      "yt : [INFO     ] 2017-06-07 16:42:39,581 Temporarily setting domain_right_edge = -domain_left_edge. This will be corrected automatically if it is not the case.\n",
      "yt : [WARNING  ] 2017-06-07 16:42:39,584 Assuming 1.0 = 1.0 cm\n",
      "yt : [WARNING  ] 2017-06-07 16:42:39,585 Assuming 1.0 = 1.0 s\n",
      "yt : [WARNING  ] 2017-06-07 16:42:39,586 Assuming 1.0 = 1.0 g\n",
      "yt : [INFO     ] 2017-06-07 16:42:39,592 Parameters: current_time              = 2.456314\n",
      "yt : [INFO     ] 2017-06-07 16:42:39,592 Parameters: domain_dimensions         = [0 0 0]\n",
      "yt : [INFO     ] 2017-06-07 16:42:39,593 Parameters: domain_left_edge          = [ 0.  0.  0.]\n",
      "yt : [INFO     ] 2017-06-07 16:42:39,593 Parameters: domain_right_edge         = [-0. -0. -0.]\n",
      "yt : [INFO     ] 2017-06-07 16:42:39,594 Parameters: cosmological_simulation   = 0.0\n"
     ]
    },
    {
     "name": "stdout",
     "output_type": "stream",
     "text": [
      "TaylorGreen.0098\n"
     ]
    },
    {
     "name": "stderr",
     "output_type": "stream",
     "text": [
      "yt : [INFO     ] 2017-06-07 16:42:40,698 Temporarily setting domain_right_edge = -domain_left_edge. This will be corrected automatically if it is not the case.\n",
      "yt : [WARNING  ] 2017-06-07 16:42:40,701 Assuming 1.0 = 1.0 cm\n",
      "yt : [WARNING  ] 2017-06-07 16:42:40,701 Assuming 1.0 = 1.0 s\n",
      "yt : [WARNING  ] 2017-06-07 16:42:40,702 Assuming 1.0 = 1.0 g\n",
      "yt : [INFO     ] 2017-06-07 16:42:40,708 Parameters: current_time              = 2.481373\n",
      "yt : [INFO     ] 2017-06-07 16:42:40,708 Parameters: domain_dimensions         = [0 0 0]\n",
      "yt : [INFO     ] 2017-06-07 16:42:40,709 Parameters: domain_left_edge          = [ 0.  0.  0.]\n",
      "yt : [INFO     ] 2017-06-07 16:42:40,710 Parameters: domain_right_edge         = [-0. -0. -0.]\n",
      "yt : [INFO     ] 2017-06-07 16:42:40,711 Parameters: cosmological_simulation   = 0.0\n"
     ]
    },
    {
     "name": "stdout",
     "output_type": "stream",
     "text": [
      "TaylorGreen.0099\n"
     ]
    },
    {
     "name": "stderr",
     "output_type": "stream",
     "text": [
      "yt : [INFO     ] 2017-06-07 16:42:41,891 Temporarily setting domain_right_edge = -domain_left_edge. This will be corrected automatically if it is not the case.\n",
      "yt : [WARNING  ] 2017-06-07 16:42:41,893 Assuming 1.0 = 1.0 cm\n",
      "yt : [WARNING  ] 2017-06-07 16:42:41,894 Assuming 1.0 = 1.0 s\n",
      "yt : [WARNING  ] 2017-06-07 16:42:41,894 Assuming 1.0 = 1.0 g\n",
      "yt : [INFO     ] 2017-06-07 16:42:41,899 Parameters: current_time              = 2.506432\n",
      "yt : [INFO     ] 2017-06-07 16:42:41,899 Parameters: domain_dimensions         = [0 0 0]\n",
      "yt : [INFO     ] 2017-06-07 16:42:41,900 Parameters: domain_left_edge          = [ 0.  0.  0.]\n",
      "yt : [INFO     ] 2017-06-07 16:42:41,901 Parameters: domain_right_edge         = [-0. -0. -0.]\n",
      "yt : [INFO     ] 2017-06-07 16:42:41,901 Parameters: cosmological_simulation   = 0.0\n"
     ]
    },
    {
     "name": "stdout",
     "output_type": "stream",
     "text": [
      "TaylorGreen.0100\n"
     ]
    }
   ],
   "source": [
    "ts = yt.load(\"/Users/jasmin/Documents/Athena/athena4.2/bin/TaylorGreen.0???.vtk\")\n",
    "\n",
    "rho_ex = []\n",
    "times = []\n",
    "for ds in ts:\n",
    "    print (ds)\n",
    "    dd = ds.all_data()\n",
    "    rho_ex.append(dd.quantities.extrema(\"kinetic_energy\"))\n",
    "    times.append(ds.current_time)\n",
    "rho_ex = np.array(rho_ex)"
   ]
  },
  {
   "cell_type": "code",
   "execution_count": 6,
   "metadata": {
    "collapsed": false
   },
   "outputs": [
    {
     "data": {
      "text/plain": [
       "<matplotlib.text.Text at 0x11986ab38>"
      ]
     },
     "execution_count": 6,
     "metadata": {},
     "output_type": "execute_result"
    },
    {
     "data": {
      "image/png": "[encoded data removed]",
      "text/plain": [
       "<matplotlib.figure.Figure at 0x112e6c550>"
      ]
     },
     "metadata": {},
     "output_type": "display_data"
    }
   ],
   "source": [
    "pylab.plot(times, rho_ex[:,0], '-xk')\n",
    "pylab.title(\"Kinetic Energy\")"
   ]
  },
  {
   "cell_type": "code",
   "execution_count": null,
   "metadata": {
    "collapsed": true
   },
   "outputs": [],
   "source": []
  }
 ],
 "metadata": {
  "anaconda-cloud": {},
  "kernelspec": {
   "display_name": "VPython",
   "language": "python",
   "name": "vpython"
  },
  "language_info": {
   "codemirror_mode": {
    "name": "ipython",
    "version": 3
   },
   "file_extension": ".py",
   "mimetype": "text/x-python",
   "name": "python",
   "nbconvert_exporter": "python",
   "pygments_lexer": "ipython3",
   "version": "3.5.2"
  }
 },
 "nbformat": 4,
 "nbformat_minor": 0
}
