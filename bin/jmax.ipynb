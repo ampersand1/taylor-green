{
 "cells": [
  {
   "cell_type": "code",
   "execution_count": 1,
   "metadata": {
    "collapsed": false
   },
   "outputs": [],
   "source": [
    "%matplotlib inline\n",
    "import yt\n",
    "import numpy as np\n",
    "from matplotlib import pylab"
   ]
  },
  {
   "cell_type": "code",
   "execution_count": 54,
   "metadata": {
    "collapsed": true
   },
   "outputs": [],
   "source": [
    "ts = yt.load(\"/Users/jasmin/Documents/Athena/athena4.2/bin/TaylorGreen.00??.J3.vtk\")\n"
   ]
  },
  {
   "cell_type": "code",
   "execution_count": 55,
   "metadata": {
    "collapsed": false
   },
   "outputs": [
    {
     "name": "stderr",
     "output_type": "stream",
     "text": [
      "yt : [INFO     ] 2017-02-16 17:28:54,821 Temporarily setting domain_right_edge = -domain_left_edge. This will be corrected automatically if it is not the case.\n",
      "yt : [WARNING  ] 2017-02-16 17:28:54,824 Assuming 1.0 = 1.0 cm\n",
      "yt : [WARNING  ] 2017-02-16 17:28:54,825 Assuming 1.0 = 1.0 s\n",
      "yt : [WARNING  ] 2017-02-16 17:28:54,825 Assuming 1.0 = 1.0 g\n",
      "yt : [INFO     ] 2017-02-16 17:28:54,829 Parameters: current_time              = 0.0\n",
      "yt : [INFO     ] 2017-02-16 17:28:54,830 Parameters: domain_dimensions         = [0 0 0]\n",
      "yt : [INFO     ] 2017-02-16 17:28:54,831 Parameters: domain_left_edge          = [ 0.  0.  0.]\n",
      "yt : [INFO     ] 2017-02-16 17:28:54,831 Parameters: domain_right_edge         = [-0. -0. -0.]\n",
      "yt : [INFO     ] 2017-02-16 17:28:54,832 Parameters: cosmological_simulation   = 0.0\n"
     ]
    },
    {
     "name": "stdout",
     "output_type": "stream",
     "text": [
      "TaylorGreen.0000.J3\n"
     ]
    },
    {
     "name": "stderr",
     "output_type": "stream",
     "text": [
      "yt : [INFO     ] 2017-02-16 17:28:55,033 Temporarily setting domain_right_edge = -domain_left_edge. This will be corrected automatically if it is not the case.\n",
      "yt : [WARNING  ] 2017-02-16 17:28:55,036 Assuming 1.0 = 1.0 cm\n",
      "yt : [WARNING  ] 2017-02-16 17:28:55,036 Assuming 1.0 = 1.0 s\n",
      "yt : [WARNING  ] 2017-02-16 17:28:55,037 Assuming 1.0 = 1.0 g\n",
      "yt : [INFO     ] 2017-02-16 17:28:55,041 Parameters: current_time              = 0.2086067\n",
      "yt : [INFO     ] 2017-02-16 17:28:55,042 Parameters: domain_dimensions         = [0 0 0]\n",
      "yt : [INFO     ] 2017-02-16 17:28:55,042 Parameters: domain_left_edge          = [ 0.  0.  0.]\n",
      "yt : [INFO     ] 2017-02-16 17:28:55,043 Parameters: domain_right_edge         = [-0. -0. -0.]\n",
      "yt : [INFO     ] 2017-02-16 17:28:55,044 Parameters: cosmological_simulation   = 0.0\n"
     ]
    },
    {
     "name": "stdout",
     "output_type": "stream",
     "text": [
      "TaylorGreen.0001.J3\n"
     ]
    },
    {
     "name": "stderr",
     "output_type": "stream",
     "text": [
      "yt : [INFO     ] 2017-02-16 17:28:55,249 Temporarily setting domain_right_edge = -domain_left_edge. This will be corrected automatically if it is not the case.\n",
      "yt : [WARNING  ] 2017-02-16 17:28:55,252 Assuming 1.0 = 1.0 cm\n",
      "yt : [WARNING  ] 2017-02-16 17:28:55,253 Assuming 1.0 = 1.0 s\n",
      "yt : [WARNING  ] 2017-02-16 17:28:55,253 Assuming 1.0 = 1.0 g\n",
      "yt : [INFO     ] 2017-02-16 17:28:55,258 Parameters: current_time              = 0.4123293\n",
      "yt : [INFO     ] 2017-02-16 17:28:55,259 Parameters: domain_dimensions         = [0 0 0]\n",
      "yt : [INFO     ] 2017-02-16 17:28:55,260 Parameters: domain_left_edge          = [ 0.  0.  0.]\n",
      "yt : [INFO     ] 2017-02-16 17:28:55,260 Parameters: domain_right_edge         = [-0. -0. -0.]\n",
      "yt : [INFO     ] 2017-02-16 17:28:55,261 Parameters: cosmological_simulation   = 0.0\n"
     ]
    },
    {
     "name": "stdout",
     "output_type": "stream",
     "text": [
      "TaylorGreen.0002.J3\n"
     ]
    },
    {
     "name": "stderr",
     "output_type": "stream",
     "text": [
      "yt : [INFO     ] 2017-02-16 17:28:55,471 Temporarily setting domain_right_edge = -domain_left_edge. This will be corrected automatically if it is not the case.\n",
      "yt : [WARNING  ] 2017-02-16 17:28:55,474 Assuming 1.0 = 1.0 cm\n",
      "yt : [WARNING  ] 2017-02-16 17:28:55,474 Assuming 1.0 = 1.0 s\n",
      "yt : [WARNING  ] 2017-02-16 17:28:55,475 Assuming 1.0 = 1.0 g\n",
      "yt : [INFO     ] 2017-02-16 17:28:55,479 Parameters: current_time              = 0.6118763\n",
      "yt : [INFO     ] 2017-02-16 17:28:55,480 Parameters: domain_dimensions         = [0 0 0]\n",
      "yt : [INFO     ] 2017-02-16 17:28:55,481 Parameters: domain_left_edge          = [ 0.  0.  0.]\n",
      "yt : [INFO     ] 2017-02-16 17:28:55,481 Parameters: domain_right_edge         = [-0. -0. -0.]\n",
      "yt : [INFO     ] 2017-02-16 17:28:55,482 Parameters: cosmological_simulation   = 0.0\n"
     ]
    },
    {
     "name": "stdout",
     "output_type": "stream",
     "text": [
      "TaylorGreen.0003.J3\n"
     ]
    },
    {
     "name": "stderr",
     "output_type": "stream",
     "text": [
      "yt : [INFO     ] 2017-02-16 17:28:55,697 Temporarily setting domain_right_edge = -domain_left_edge. This will be corrected automatically if it is not the case.\n",
      "yt : [WARNING  ] 2017-02-16 17:28:55,700 Assuming 1.0 = 1.0 cm\n",
      "yt : [WARNING  ] 2017-02-16 17:28:55,700 Assuming 1.0 = 1.0 s\n",
      "yt : [WARNING  ] 2017-02-16 17:28:55,701 Assuming 1.0 = 1.0 g\n",
      "yt : [INFO     ] 2017-02-16 17:28:55,705 Parameters: current_time              = 0.8079087\n",
      "yt : [INFO     ] 2017-02-16 17:28:55,705 Parameters: domain_dimensions         = [0 0 0]\n",
      "yt : [INFO     ] 2017-02-16 17:28:55,706 Parameters: domain_left_edge          = [ 0.  0.  0.]\n",
      "yt : [INFO     ] 2017-02-16 17:28:55,707 Parameters: domain_right_edge         = [-0. -0. -0.]\n",
      "yt : [INFO     ] 2017-02-16 17:28:55,707 Parameters: cosmological_simulation   = 0.0\n"
     ]
    },
    {
     "name": "stdout",
     "output_type": "stream",
     "text": [
      "TaylorGreen.0004.J3\n"
     ]
    },
    {
     "name": "stderr",
     "output_type": "stream",
     "text": [
      "yt : [INFO     ] 2017-02-16 17:28:55,934 Temporarily setting domain_right_edge = -domain_left_edge. This will be corrected automatically if it is not the case.\n",
      "yt : [WARNING  ] 2017-02-16 17:28:55,937 Assuming 1.0 = 1.0 cm\n",
      "yt : [WARNING  ] 2017-02-16 17:28:55,937 Assuming 1.0 = 1.0 s\n",
      "yt : [WARNING  ] 2017-02-16 17:28:55,938 Assuming 1.0 = 1.0 g\n",
      "yt : [INFO     ] 2017-02-16 17:28:55,942 Parameters: current_time              = 1.000993\n",
      "yt : [INFO     ] 2017-02-16 17:28:55,943 Parameters: domain_dimensions         = [0 0 0]\n",
      "yt : [INFO     ] 2017-02-16 17:28:55,943 Parameters: domain_left_edge          = [ 0.  0.  0.]\n",
      "yt : [INFO     ] 2017-02-16 17:28:55,944 Parameters: domain_right_edge         = [-0. -0. -0.]\n",
      "yt : [INFO     ] 2017-02-16 17:28:55,945 Parameters: cosmological_simulation   = 0.0\n"
     ]
    },
    {
     "name": "stdout",
     "output_type": "stream",
     "text": [
      "TaylorGreen.0005.J3\n"
     ]
    },
    {
     "name": "stderr",
     "output_type": "stream",
     "text": [
      "yt : [INFO     ] 2017-02-16 17:28:56,165 Temporarily setting domain_right_edge = -domain_left_edge. This will be corrected automatically if it is not the case.\n",
      "yt : [WARNING  ] 2017-02-16 17:28:56,168 Assuming 1.0 = 1.0 cm\n",
      "yt : [WARNING  ] 2017-02-16 17:28:56,168 Assuming 1.0 = 1.0 s\n",
      "yt : [WARNING  ] 2017-02-16 17:28:56,169 Assuming 1.0 = 1.0 g\n",
      "yt : [INFO     ] 2017-02-16 17:28:56,173 Parameters: current_time              = 1.191548\n",
      "yt : [INFO     ] 2017-02-16 17:28:56,173 Parameters: domain_dimensions         = [0 0 0]\n",
      "yt : [INFO     ] 2017-02-16 17:28:56,174 Parameters: domain_left_edge          = [ 0.  0.  0.]\n",
      "yt : [INFO     ] 2017-02-16 17:28:56,175 Parameters: domain_right_edge         = [-0. -0. -0.]\n",
      "yt : [INFO     ] 2017-02-16 17:28:56,175 Parameters: cosmological_simulation   = 0.0\n"
     ]
    },
    {
     "name": "stdout",
     "output_type": "stream",
     "text": [
      "TaylorGreen.0006.J3\n"
     ]
    },
    {
     "name": "stderr",
     "output_type": "stream",
     "text": [
      "yt : [INFO     ] 2017-02-16 17:28:56,401 Temporarily setting domain_right_edge = -domain_left_edge. This will be corrected automatically if it is not the case.\n",
      "yt : [WARNING  ] 2017-02-16 17:28:56,404 Assuming 1.0 = 1.0 cm\n",
      "yt : [WARNING  ] 2017-02-16 17:28:56,405 Assuming 1.0 = 1.0 s\n",
      "yt : [WARNING  ] 2017-02-16 17:28:56,405 Assuming 1.0 = 1.0 g\n",
      "yt : [INFO     ] 2017-02-16 17:28:56,410 Parameters: current_time              = 1.379991\n",
      "yt : [INFO     ] 2017-02-16 17:28:56,410 Parameters: domain_dimensions         = [0 0 0]\n",
      "yt : [INFO     ] 2017-02-16 17:28:56,411 Parameters: domain_left_edge          = [ 0.  0.  0.]\n",
      "yt : [INFO     ] 2017-02-16 17:28:56,412 Parameters: domain_right_edge         = [-0. -0. -0.]\n",
      "yt : [INFO     ] 2017-02-16 17:28:56,412 Parameters: cosmological_simulation   = 0.0\n"
     ]
    },
    {
     "name": "stdout",
     "output_type": "stream",
     "text": [
      "TaylorGreen.0007.J3\n"
     ]
    },
    {
     "name": "stderr",
     "output_type": "stream",
     "text": [
      "yt : [INFO     ] 2017-02-16 17:28:56,727 Temporarily setting domain_right_edge = -domain_left_edge. This will be corrected automatically if it is not the case.\n",
      "yt : [WARNING  ] 2017-02-16 17:28:56,730 Assuming 1.0 = 1.0 cm\n",
      "yt : [WARNING  ] 2017-02-16 17:28:56,730 Assuming 1.0 = 1.0 s\n",
      "yt : [WARNING  ] 2017-02-16 17:28:56,731 Assuming 1.0 = 1.0 g\n",
      "yt : [INFO     ] 2017-02-16 17:28:56,736 Parameters: current_time              = 1.564883\n",
      "yt : [INFO     ] 2017-02-16 17:28:56,736 Parameters: domain_dimensions         = [0 0 0]\n",
      "yt : [INFO     ] 2017-02-16 17:28:56,737 Parameters: domain_left_edge          = [ 0.  0.  0.]\n",
      "yt : [INFO     ] 2017-02-16 17:28:56,738 Parameters: domain_right_edge         = [-0. -0. -0.]\n",
      "yt : [INFO     ] 2017-02-16 17:28:56,739 Parameters: cosmological_simulation   = 0.0\n"
     ]
    },
    {
     "name": "stdout",
     "output_type": "stream",
     "text": [
      "TaylorGreen.0008.J3\n"
     ]
    },
    {
     "name": "stderr",
     "output_type": "stream",
     "text": [
      "yt : [INFO     ] 2017-02-16 17:28:56,960 Temporarily setting domain_right_edge = -domain_left_edge. This will be corrected automatically if it is not the case.\n",
      "yt : [WARNING  ] 2017-02-16 17:28:56,962 Assuming 1.0 = 1.0 cm\n",
      "yt : [WARNING  ] 2017-02-16 17:28:56,963 Assuming 1.0 = 1.0 s\n",
      "yt : [WARNING  ] 2017-02-16 17:28:56,963 Assuming 1.0 = 1.0 g\n",
      "yt : [INFO     ] 2017-02-16 17:28:56,969 Parameters: current_time              = 1.746085\n",
      "yt : [INFO     ] 2017-02-16 17:28:56,969 Parameters: domain_dimensions         = [0 0 0]\n",
      "yt : [INFO     ] 2017-02-16 17:28:56,970 Parameters: domain_left_edge          = [ 0.  0.  0.]\n",
      "yt : [INFO     ] 2017-02-16 17:28:56,971 Parameters: domain_right_edge         = [-0. -0. -0.]\n",
      "yt : [INFO     ] 2017-02-16 17:28:56,972 Parameters: cosmological_simulation   = 0.0\n"
     ]
    },
    {
     "name": "stdout",
     "output_type": "stream",
     "text": [
      "TaylorGreen.0009.J3\n"
     ]
    },
    {
     "name": "stderr",
     "output_type": "stream",
     "text": [
      "yt : [INFO     ] 2017-02-16 17:28:57,194 Temporarily setting domain_right_edge = -domain_left_edge. This will be corrected automatically if it is not the case.\n",
      "yt : [WARNING  ] 2017-02-16 17:28:57,196 Assuming 1.0 = 1.0 cm\n",
      "yt : [WARNING  ] 2017-02-16 17:28:57,197 Assuming 1.0 = 1.0 s\n",
      "yt : [WARNING  ] 2017-02-16 17:28:57,197 Assuming 1.0 = 1.0 g\n",
      "yt : [INFO     ] 2017-02-16 17:28:57,202 Parameters: current_time              = 1.924277\n",
      "yt : [INFO     ] 2017-02-16 17:28:57,202 Parameters: domain_dimensions         = [0 0 0]\n",
      "yt : [INFO     ] 2017-02-16 17:28:57,203 Parameters: domain_left_edge          = [ 0.  0.  0.]\n",
      "yt : [INFO     ] 2017-02-16 17:28:57,203 Parameters: domain_right_edge         = [-0. -0. -0.]\n",
      "yt : [INFO     ] 2017-02-16 17:28:57,204 Parameters: cosmological_simulation   = 0.0\n"
     ]
    },
    {
     "name": "stdout",
     "output_type": "stream",
     "text": [
      "TaylorGreen.0010.J3\n"
     ]
    },
    {
     "name": "stderr",
     "output_type": "stream",
     "text": [
      "yt : [INFO     ] 2017-02-16 17:28:57,425 Temporarily setting domain_right_edge = -domain_left_edge. This will be corrected automatically if it is not the case.\n",
      "yt : [WARNING  ] 2017-02-16 17:28:57,428 Assuming 1.0 = 1.0 cm\n",
      "yt : [WARNING  ] 2017-02-16 17:28:57,428 Assuming 1.0 = 1.0 s\n",
      "yt : [WARNING  ] 2017-02-16 17:28:57,429 Assuming 1.0 = 1.0 g\n",
      "yt : [INFO     ] 2017-02-16 17:28:57,434 Parameters: current_time              = 2.100058\n",
      "yt : [INFO     ] 2017-02-16 17:28:57,434 Parameters: domain_dimensions         = [0 0 0]\n",
      "yt : [INFO     ] 2017-02-16 17:28:57,435 Parameters: domain_left_edge          = [ 0.  0.  0.]\n",
      "yt : [INFO     ] 2017-02-16 17:28:57,436 Parameters: domain_right_edge         = [-0. -0. -0.]\n",
      "yt : [INFO     ] 2017-02-16 17:28:57,437 Parameters: cosmological_simulation   = 0.0\n"
     ]
    },
    {
     "name": "stdout",
     "output_type": "stream",
     "text": [
      "TaylorGreen.0011.J3\n"
     ]
    },
    {
     "name": "stderr",
     "output_type": "stream",
     "text": [
      "yt : [INFO     ] 2017-02-16 17:28:57,653 Temporarily setting domain_right_edge = -domain_left_edge. This will be corrected automatically if it is not the case.\n",
      "yt : [WARNING  ] 2017-02-16 17:28:57,655 Assuming 1.0 = 1.0 cm\n",
      "yt : [WARNING  ] 2017-02-16 17:28:57,656 Assuming 1.0 = 1.0 s\n",
      "yt : [WARNING  ] 2017-02-16 17:28:57,657 Assuming 1.0 = 1.0 g\n",
      "yt : [INFO     ] 2017-02-16 17:28:57,661 Parameters: current_time              = 2.273861\n",
      "yt : [INFO     ] 2017-02-16 17:28:57,661 Parameters: domain_dimensions         = [0 0 0]\n",
      "yt : [INFO     ] 2017-02-16 17:28:57,662 Parameters: domain_left_edge          = [ 0.  0.  0.]\n",
      "yt : [INFO     ] 2017-02-16 17:28:57,663 Parameters: domain_right_edge         = [-0. -0. -0.]\n",
      "yt : [INFO     ] 2017-02-16 17:28:57,663 Parameters: cosmological_simulation   = 0.0\n"
     ]
    },
    {
     "name": "stdout",
     "output_type": "stream",
     "text": [
      "TaylorGreen.0012.J3\n"
     ]
    },
    {
     "name": "stderr",
     "output_type": "stream",
     "text": [
      "yt : [INFO     ] 2017-02-16 17:28:57,871 Temporarily setting domain_right_edge = -domain_left_edge. This will be corrected automatically if it is not the case.\n",
      "yt : [WARNING  ] 2017-02-16 17:28:57,873 Assuming 1.0 = 1.0 cm\n",
      "yt : [WARNING  ] 2017-02-16 17:28:57,874 Assuming 1.0 = 1.0 s\n",
      "yt : [WARNING  ] 2017-02-16 17:28:57,875 Assuming 1.0 = 1.0 g\n",
      "yt : [INFO     ] 2017-02-16 17:28:57,879 Parameters: current_time              = 2.446094\n",
      "yt : [INFO     ] 2017-02-16 17:28:57,879 Parameters: domain_dimensions         = [0 0 0]\n",
      "yt : [INFO     ] 2017-02-16 17:28:57,880 Parameters: domain_left_edge          = [ 0.  0.  0.]\n",
      "yt : [INFO     ] 2017-02-16 17:28:57,881 Parameters: domain_right_edge         = [-0. -0. -0.]\n",
      "yt : [INFO     ] 2017-02-16 17:28:57,882 Parameters: cosmological_simulation   = 0.0\n"
     ]
    },
    {
     "name": "stdout",
     "output_type": "stream",
     "text": [
      "TaylorGreen.0013.J3\n"
     ]
    },
    {
     "name": "stderr",
     "output_type": "stream",
     "text": [
      "yt : [INFO     ] 2017-02-16 17:28:58,108 Temporarily setting domain_right_edge = -domain_left_edge. This will be corrected automatically if it is not the case.\n",
      "yt : [WARNING  ] 2017-02-16 17:28:58,111 Assuming 1.0 = 1.0 cm\n",
      "yt : [WARNING  ] 2017-02-16 17:28:58,112 Assuming 1.0 = 1.0 s\n",
      "yt : [WARNING  ] 2017-02-16 17:28:58,112 Assuming 1.0 = 1.0 g\n",
      "yt : [INFO     ] 2017-02-16 17:28:58,117 Parameters: current_time              = 2.617038\n",
      "yt : [INFO     ] 2017-02-16 17:28:58,118 Parameters: domain_dimensions         = [0 0 0]\n",
      "yt : [INFO     ] 2017-02-16 17:28:58,119 Parameters: domain_left_edge          = [ 0.  0.  0.]\n",
      "yt : [INFO     ] 2017-02-16 17:28:58,120 Parameters: domain_right_edge         = [-0. -0. -0.]\n",
      "yt : [INFO     ] 2017-02-16 17:28:58,121 Parameters: cosmological_simulation   = 0.0\n"
     ]
    },
    {
     "name": "stdout",
     "output_type": "stream",
     "text": [
      "TaylorGreen.0014.J3\n"
     ]
    },
    {
     "name": "stderr",
     "output_type": "stream",
     "text": [
      "yt : [INFO     ] 2017-02-16 17:28:58,340 Temporarily setting domain_right_edge = -domain_left_edge. This will be corrected automatically if it is not the case.\n",
      "yt : [WARNING  ] 2017-02-16 17:28:58,343 Assuming 1.0 = 1.0 cm\n",
      "yt : [WARNING  ] 2017-02-16 17:28:58,343 Assuming 1.0 = 1.0 s\n",
      "yt : [WARNING  ] 2017-02-16 17:28:58,344 Assuming 1.0 = 1.0 g\n",
      "yt : [INFO     ] 2017-02-16 17:28:58,349 Parameters: current_time              = 2.786986\n",
      "yt : [INFO     ] 2017-02-16 17:28:58,349 Parameters: domain_dimensions         = [0 0 0]\n",
      "yt : [INFO     ] 2017-02-16 17:28:58,350 Parameters: domain_left_edge          = [ 0.  0.  0.]\n",
      "yt : [INFO     ] 2017-02-16 17:28:58,351 Parameters: domain_right_edge         = [-0. -0. -0.]\n",
      "yt : [INFO     ] 2017-02-16 17:28:58,351 Parameters: cosmological_simulation   = 0.0\n"
     ]
    },
    {
     "name": "stdout",
     "output_type": "stream",
     "text": [
      "TaylorGreen.0015.J3\n"
     ]
    },
    {
     "name": "stderr",
     "output_type": "stream",
     "text": [
      "yt : [INFO     ] 2017-02-16 17:28:58,567 Temporarily setting domain_right_edge = -domain_left_edge. This will be corrected automatically if it is not the case.\n",
      "yt : [WARNING  ] 2017-02-16 17:28:58,569 Assuming 1.0 = 1.0 cm\n",
      "yt : [WARNING  ] 2017-02-16 17:28:58,570 Assuming 1.0 = 1.0 s\n",
      "yt : [WARNING  ] 2017-02-16 17:28:58,570 Assuming 1.0 = 1.0 g\n",
      "yt : [INFO     ] 2017-02-16 17:28:58,574 Parameters: current_time              = 2.956128\n",
      "yt : [INFO     ] 2017-02-16 17:28:58,575 Parameters: domain_dimensions         = [0 0 0]\n",
      "yt : [INFO     ] 2017-02-16 17:28:58,576 Parameters: domain_left_edge          = [ 0.  0.  0.]\n",
      "yt : [INFO     ] 2017-02-16 17:28:58,576 Parameters: domain_right_edge         = [-0. -0. -0.]\n",
      "yt : [INFO     ] 2017-02-16 17:28:58,577 Parameters: cosmological_simulation   = 0.0\n"
     ]
    },
    {
     "name": "stdout",
     "output_type": "stream",
     "text": [
      "TaylorGreen.0016.J3\n"
     ]
    },
    {
     "name": "stderr",
     "output_type": "stream",
     "text": [
      "yt : [INFO     ] 2017-02-16 17:28:58,792 Temporarily setting domain_right_edge = -domain_left_edge. This will be corrected automatically if it is not the case.\n",
      "yt : [WARNING  ] 2017-02-16 17:28:58,794 Assuming 1.0 = 1.0 cm\n",
      "yt : [WARNING  ] 2017-02-16 17:28:58,795 Assuming 1.0 = 1.0 s\n",
      "yt : [WARNING  ] 2017-02-16 17:28:58,795 Assuming 1.0 = 1.0 g\n",
      "yt : [INFO     ] 2017-02-16 17:28:58,800 Parameters: current_time              = 3.124685\n",
      "yt : [INFO     ] 2017-02-16 17:28:58,800 Parameters: domain_dimensions         = [0 0 0]\n",
      "yt : [INFO     ] 2017-02-16 17:28:58,801 Parameters: domain_left_edge          = [ 0.  0.  0.]\n",
      "yt : [INFO     ] 2017-02-16 17:28:58,802 Parameters: domain_right_edge         = [-0. -0. -0.]\n",
      "yt : [INFO     ] 2017-02-16 17:28:58,803 Parameters: cosmological_simulation   = 0.0\n"
     ]
    },
    {
     "name": "stdout",
     "output_type": "stream",
     "text": [
      "TaylorGreen.0017.J3\n"
     ]
    },
    {
     "name": "stderr",
     "output_type": "stream",
     "text": [
      "yt : [INFO     ] 2017-02-16 17:28:59,018 Temporarily setting domain_right_edge = -domain_left_edge. This will be corrected automatically if it is not the case.\n",
      "yt : [WARNING  ] 2017-02-16 17:28:59,021 Assuming 1.0 = 1.0 cm\n",
      "yt : [WARNING  ] 2017-02-16 17:28:59,021 Assuming 1.0 = 1.0 s\n",
      "yt : [WARNING  ] 2017-02-16 17:28:59,022 Assuming 1.0 = 1.0 g\n",
      "yt : [INFO     ] 2017-02-16 17:28:59,026 Parameters: current_time              = 3.292783\n",
      "yt : [INFO     ] 2017-02-16 17:28:59,027 Parameters: domain_dimensions         = [0 0 0]\n",
      "yt : [INFO     ] 2017-02-16 17:28:59,027 Parameters: domain_left_edge          = [ 0.  0.  0.]\n",
      "yt : [INFO     ] 2017-02-16 17:28:59,028 Parameters: domain_right_edge         = [-0. -0. -0.]\n",
      "yt : [INFO     ] 2017-02-16 17:28:59,029 Parameters: cosmological_simulation   = 0.0\n"
     ]
    },
    {
     "name": "stdout",
     "output_type": "stream",
     "text": [
      "TaylorGreen.0018.J3\n"
     ]
    },
    {
     "name": "stderr",
     "output_type": "stream",
     "text": [
      "yt : [INFO     ] 2017-02-16 17:28:59,347 Temporarily setting domain_right_edge = -domain_left_edge. This will be corrected automatically if it is not the case.\n",
      "yt : [WARNING  ] 2017-02-16 17:28:59,350 Assuming 1.0 = 1.0 cm\n",
      "yt : [WARNING  ] 2017-02-16 17:28:59,350 Assuming 1.0 = 1.0 s\n",
      "yt : [WARNING  ] 2017-02-16 17:28:59,351 Assuming 1.0 = 1.0 g\n",
      "yt : [INFO     ] 2017-02-16 17:28:59,356 Parameters: current_time              = 3.460595\n",
      "yt : [INFO     ] 2017-02-16 17:28:59,356 Parameters: domain_dimensions         = [0 0 0]\n",
      "yt : [INFO     ] 2017-02-16 17:28:59,357 Parameters: domain_left_edge          = [ 0.  0.  0.]\n",
      "yt : [INFO     ] 2017-02-16 17:28:59,357 Parameters: domain_right_edge         = [-0. -0. -0.]\n",
      "yt : [INFO     ] 2017-02-16 17:28:59,358 Parameters: cosmological_simulation   = 0.0\n"
     ]
    },
    {
     "name": "stdout",
     "output_type": "stream",
     "text": [
      "TaylorGreen.0019.J3\n"
     ]
    },
    {
     "name": "stderr",
     "output_type": "stream",
     "text": [
      "yt : [INFO     ] 2017-02-16 17:28:59,573 Temporarily setting domain_right_edge = -domain_left_edge. This will be corrected automatically if it is not the case.\n",
      "yt : [WARNING  ] 2017-02-16 17:28:59,575 Assuming 1.0 = 1.0 cm\n",
      "yt : [WARNING  ] 2017-02-16 17:28:59,576 Assuming 1.0 = 1.0 s\n",
      "yt : [WARNING  ] 2017-02-16 17:28:59,576 Assuming 1.0 = 1.0 g\n",
      "yt : [INFO     ] 2017-02-16 17:28:59,581 Parameters: current_time              = 3.628199\n",
      "yt : [INFO     ] 2017-02-16 17:28:59,581 Parameters: domain_dimensions         = [0 0 0]\n",
      "yt : [INFO     ] 2017-02-16 17:28:59,582 Parameters: domain_left_edge          = [ 0.  0.  0.]\n",
      "yt : [INFO     ] 2017-02-16 17:28:59,583 Parameters: domain_right_edge         = [-0. -0. -0.]\n",
      "yt : [INFO     ] 2017-02-16 17:28:59,584 Parameters: cosmological_simulation   = 0.0\n"
     ]
    },
    {
     "name": "stdout",
     "output_type": "stream",
     "text": [
      "TaylorGreen.0020.J3\n"
     ]
    },
    {
     "name": "stderr",
     "output_type": "stream",
     "text": [
      "yt : [INFO     ] 2017-02-16 17:28:59,799 Temporarily setting domain_right_edge = -domain_left_edge. This will be corrected automatically if it is not the case.\n",
      "yt : [WARNING  ] 2017-02-16 17:28:59,801 Assuming 1.0 = 1.0 cm\n",
      "yt : [WARNING  ] 2017-02-16 17:28:59,802 Assuming 1.0 = 1.0 s\n",
      "yt : [WARNING  ] 2017-02-16 17:28:59,802 Assuming 1.0 = 1.0 g\n",
      "yt : [INFO     ] 2017-02-16 17:28:59,807 Parameters: current_time              = 3.795735\n",
      "yt : [INFO     ] 2017-02-16 17:28:59,807 Parameters: domain_dimensions         = [0 0 0]\n",
      "yt : [INFO     ] 2017-02-16 17:28:59,808 Parameters: domain_left_edge          = [ 0.  0.  0.]\n",
      "yt : [INFO     ] 2017-02-16 17:28:59,808 Parameters: domain_right_edge         = [-0. -0. -0.]\n",
      "yt : [INFO     ] 2017-02-16 17:28:59,809 Parameters: cosmological_simulation   = 0.0\n"
     ]
    },
    {
     "name": "stdout",
     "output_type": "stream",
     "text": [
      "TaylorGreen.0021.J3\n"
     ]
    },
    {
     "name": "stderr",
     "output_type": "stream",
     "text": [
      "yt : [INFO     ] 2017-02-16 17:29:00,034 Temporarily setting domain_right_edge = -domain_left_edge. This will be corrected automatically if it is not the case.\n",
      "yt : [WARNING  ] 2017-02-16 17:29:00,036 Assuming 1.0 = 1.0 cm\n",
      "yt : [WARNING  ] 2017-02-16 17:29:00,037 Assuming 1.0 = 1.0 s\n",
      "yt : [WARNING  ] 2017-02-16 17:29:00,037 Assuming 1.0 = 1.0 g\n",
      "yt : [INFO     ] 2017-02-16 17:29:00,041 Parameters: current_time              = 3.963255\n",
      "yt : [INFO     ] 2017-02-16 17:29:00,042 Parameters: domain_dimensions         = [0 0 0]\n",
      "yt : [INFO     ] 2017-02-16 17:29:00,042 Parameters: domain_left_edge          = [ 0.  0.  0.]\n",
      "yt : [INFO     ] 2017-02-16 17:29:00,043 Parameters: domain_right_edge         = [-0. -0. -0.]\n",
      "yt : [INFO     ] 2017-02-16 17:29:00,044 Parameters: cosmological_simulation   = 0.0\n"
     ]
    },
    {
     "name": "stdout",
     "output_type": "stream",
     "text": [
      "TaylorGreen.0022.J3\n"
     ]
    },
    {
     "name": "stderr",
     "output_type": "stream",
     "text": [
      "yt : [INFO     ] 2017-02-16 17:29:00,258 Temporarily setting domain_right_edge = -domain_left_edge. This will be corrected automatically if it is not the case.\n",
      "yt : [WARNING  ] 2017-02-16 17:29:00,261 Assuming 1.0 = 1.0 cm\n",
      "yt : [WARNING  ] 2017-02-16 17:29:00,262 Assuming 1.0 = 1.0 s\n",
      "yt : [WARNING  ] 2017-02-16 17:29:00,262 Assuming 1.0 = 1.0 g\n",
      "yt : [INFO     ] 2017-02-16 17:29:00,267 Parameters: current_time              = 4.130879\n",
      "yt : [INFO     ] 2017-02-16 17:29:00,268 Parameters: domain_dimensions         = [0 0 0]\n",
      "yt : [INFO     ] 2017-02-16 17:29:00,269 Parameters: domain_left_edge          = [ 0.  0.  0.]\n",
      "yt : [INFO     ] 2017-02-16 17:29:00,270 Parameters: domain_right_edge         = [-0. -0. -0.]\n",
      "yt : [INFO     ] 2017-02-16 17:29:00,270 Parameters: cosmological_simulation   = 0.0\n"
     ]
    },
    {
     "name": "stdout",
     "output_type": "stream",
     "text": [
      "TaylorGreen.0023.J3\n"
     ]
    },
    {
     "name": "stderr",
     "output_type": "stream",
     "text": [
      "yt : [INFO     ] 2017-02-16 17:29:00,486 Temporarily setting domain_right_edge = -domain_left_edge. This will be corrected automatically if it is not the case.\n",
      "yt : [WARNING  ] 2017-02-16 17:29:00,489 Assuming 1.0 = 1.0 cm\n",
      "yt : [WARNING  ] 2017-02-16 17:29:00,489 Assuming 1.0 = 1.0 s\n",
      "yt : [WARNING  ] 2017-02-16 17:29:00,490 Assuming 1.0 = 1.0 g\n",
      "yt : [INFO     ] 2017-02-16 17:29:00,494 Parameters: current_time              = 4.298623\n",
      "yt : [INFO     ] 2017-02-16 17:29:00,495 Parameters: domain_dimensions         = [0 0 0]\n",
      "yt : [INFO     ] 2017-02-16 17:29:00,495 Parameters: domain_left_edge          = [ 0.  0.  0.]\n",
      "yt : [INFO     ] 2017-02-16 17:29:00,496 Parameters: domain_right_edge         = [-0. -0. -0.]\n",
      "yt : [INFO     ] 2017-02-16 17:29:00,497 Parameters: cosmological_simulation   = 0.0\n"
     ]
    },
    {
     "name": "stdout",
     "output_type": "stream",
     "text": [
      "TaylorGreen.0024.J3\n"
     ]
    },
    {
     "name": "stderr",
     "output_type": "stream",
     "text": [
      "yt : [INFO     ] 2017-02-16 17:29:00,714 Temporarily setting domain_right_edge = -domain_left_edge. This will be corrected automatically if it is not the case.\n",
      "yt : [WARNING  ] 2017-02-16 17:29:00,717 Assuming 1.0 = 1.0 cm\n",
      "yt : [WARNING  ] 2017-02-16 17:29:00,717 Assuming 1.0 = 1.0 s\n",
      "yt : [WARNING  ] 2017-02-16 17:29:00,718 Assuming 1.0 = 1.0 g\n",
      "yt : [INFO     ] 2017-02-16 17:29:00,722 Parameters: current_time              = 4.466584\n",
      "yt : [INFO     ] 2017-02-16 17:29:00,722 Parameters: domain_dimensions         = [0 0 0]\n",
      "yt : [INFO     ] 2017-02-16 17:29:00,723 Parameters: domain_left_edge          = [ 0.  0.  0.]\n",
      "yt : [INFO     ] 2017-02-16 17:29:00,724 Parameters: domain_right_edge         = [-0. -0. -0.]\n",
      "yt : [INFO     ] 2017-02-16 17:29:00,724 Parameters: cosmological_simulation   = 0.0\n"
     ]
    },
    {
     "name": "stdout",
     "output_type": "stream",
     "text": [
      "TaylorGreen.0025.J3\n"
     ]
    },
    {
     "name": "stderr",
     "output_type": "stream",
     "text": [
      "yt : [INFO     ] 2017-02-16 17:29:00,938 Temporarily setting domain_right_edge = -domain_left_edge. This will be corrected automatically if it is not the case.\n",
      "yt : [WARNING  ] 2017-02-16 17:29:00,940 Assuming 1.0 = 1.0 cm\n",
      "yt : [WARNING  ] 2017-02-16 17:29:00,941 Assuming 1.0 = 1.0 s\n",
      "yt : [WARNING  ] 2017-02-16 17:29:00,941 Assuming 1.0 = 1.0 g\n",
      "yt : [INFO     ] 2017-02-16 17:29:00,946 Parameters: current_time              = 4.634795\n",
      "yt : [INFO     ] 2017-02-16 17:29:00,946 Parameters: domain_dimensions         = [0 0 0]\n",
      "yt : [INFO     ] 2017-02-16 17:29:00,947 Parameters: domain_left_edge          = [ 0.  0.  0.]\n",
      "yt : [INFO     ] 2017-02-16 17:29:00,948 Parameters: domain_right_edge         = [-0. -0. -0.]\n",
      "yt : [INFO     ] 2017-02-16 17:29:00,949 Parameters: cosmological_simulation   = 0.0\n"
     ]
    },
    {
     "name": "stdout",
     "output_type": "stream",
     "text": [
      "TaylorGreen.0026.J3\n"
     ]
    },
    {
     "name": "stderr",
     "output_type": "stream",
     "text": [
      "yt : [INFO     ] 2017-02-16 17:29:01,170 Temporarily setting domain_right_edge = -domain_left_edge. This will be corrected automatically if it is not the case.\n",
      "yt : [WARNING  ] 2017-02-16 17:29:01,173 Assuming 1.0 = 1.0 cm\n",
      "yt : [WARNING  ] 2017-02-16 17:29:01,173 Assuming 1.0 = 1.0 s\n",
      "yt : [WARNING  ] 2017-02-16 17:29:01,174 Assuming 1.0 = 1.0 g\n",
      "yt : [INFO     ] 2017-02-16 17:29:01,178 Parameters: current_time              = 4.803327\n",
      "yt : [INFO     ] 2017-02-16 17:29:01,178 Parameters: domain_dimensions         = [0 0 0]\n",
      "yt : [INFO     ] 2017-02-16 17:29:01,179 Parameters: domain_left_edge          = [ 0.  0.  0.]\n",
      "yt : [INFO     ] 2017-02-16 17:29:01,180 Parameters: domain_right_edge         = [-0. -0. -0.]\n",
      "yt : [INFO     ] 2017-02-16 17:29:01,181 Parameters: cosmological_simulation   = 0.0\n"
     ]
    },
    {
     "name": "stdout",
     "output_type": "stream",
     "text": [
      "TaylorGreen.0027.J3\n"
     ]
    },
    {
     "name": "stderr",
     "output_type": "stream",
     "text": [
      "yt : [INFO     ] 2017-02-16 17:29:01,394 Temporarily setting domain_right_edge = -domain_left_edge. This will be corrected automatically if it is not the case.\n",
      "yt : [WARNING  ] 2017-02-16 17:29:01,397 Assuming 1.0 = 1.0 cm\n",
      "yt : [WARNING  ] 2017-02-16 17:29:01,397 Assuming 1.0 = 1.0 s\n",
      "yt : [WARNING  ] 2017-02-16 17:29:01,398 Assuming 1.0 = 1.0 g\n",
      "yt : [INFO     ] 2017-02-16 17:29:01,402 Parameters: current_time              = 4.972133\n",
      "yt : [INFO     ] 2017-02-16 17:29:01,403 Parameters: domain_dimensions         = [0 0 0]\n",
      "yt : [INFO     ] 2017-02-16 17:29:01,404 Parameters: domain_left_edge          = [ 0.  0.  0.]\n",
      "yt : [INFO     ] 2017-02-16 17:29:01,405 Parameters: domain_right_edge         = [-0. -0. -0.]\n",
      "yt : [INFO     ] 2017-02-16 17:29:01,406 Parameters: cosmological_simulation   = 0.0\n"
     ]
    },
    {
     "name": "stdout",
     "output_type": "stream",
     "text": [
      "TaylorGreen.0028.J3\n"
     ]
    },
    {
     "name": "stderr",
     "output_type": "stream",
     "text": [
      "yt : [INFO     ] 2017-02-16 17:29:01,739 Temporarily setting domain_right_edge = -domain_left_edge. This will be corrected automatically if it is not the case.\n",
      "yt : [WARNING  ] 2017-02-16 17:29:01,742 Assuming 1.0 = 1.0 cm\n",
      "yt : [WARNING  ] 2017-02-16 17:29:01,742 Assuming 1.0 = 1.0 s\n",
      "yt : [WARNING  ] 2017-02-16 17:29:01,743 Assuming 1.0 = 1.0 g\n",
      "yt : [INFO     ] 2017-02-16 17:29:01,747 Parameters: current_time              = 5.141256\n",
      "yt : [INFO     ] 2017-02-16 17:29:01,748 Parameters: domain_dimensions         = [0 0 0]\n",
      "yt : [INFO     ] 2017-02-16 17:29:01,749 Parameters: domain_left_edge          = [ 0.  0.  0.]\n",
      "yt : [INFO     ] 2017-02-16 17:29:01,750 Parameters: domain_right_edge         = [-0. -0. -0.]\n",
      "yt : [INFO     ] 2017-02-16 17:29:01,750 Parameters: cosmological_simulation   = 0.0\n"
     ]
    },
    {
     "name": "stdout",
     "output_type": "stream",
     "text": [
      "TaylorGreen.0029.J3\n"
     ]
    },
    {
     "name": "stderr",
     "output_type": "stream",
     "text": [
      "yt : [INFO     ] 2017-02-16 17:29:01,974 Temporarily setting domain_right_edge = -domain_left_edge. This will be corrected automatically if it is not the case.\n",
      "yt : [WARNING  ] 2017-02-16 17:29:01,976 Assuming 1.0 = 1.0 cm\n",
      "yt : [WARNING  ] 2017-02-16 17:29:01,977 Assuming 1.0 = 1.0 s\n",
      "yt : [WARNING  ] 2017-02-16 17:29:01,978 Assuming 1.0 = 1.0 g\n",
      "yt : [INFO     ] 2017-02-16 17:29:01,982 Parameters: current_time              = 5.310641\n",
      "yt : [INFO     ] 2017-02-16 17:29:01,983 Parameters: domain_dimensions         = [0 0 0]\n",
      "yt : [INFO     ] 2017-02-16 17:29:01,984 Parameters: domain_left_edge          = [ 0.  0.  0.]\n",
      "yt : [INFO     ] 2017-02-16 17:29:01,985 Parameters: domain_right_edge         = [-0. -0. -0.]\n",
      "yt : [INFO     ] 2017-02-16 17:29:01,985 Parameters: cosmological_simulation   = 0.0\n"
     ]
    },
    {
     "name": "stdout",
     "output_type": "stream",
     "text": [
      "TaylorGreen.0030.J3\n"
     ]
    },
    {
     "name": "stderr",
     "output_type": "stream",
     "text": [
      "yt : [INFO     ] 2017-02-16 17:29:02,206 Temporarily setting domain_right_edge = -domain_left_edge. This will be corrected automatically if it is not the case.\n",
      "yt : [WARNING  ] 2017-02-16 17:29:02,208 Assuming 1.0 = 1.0 cm\n",
      "yt : [WARNING  ] 2017-02-16 17:29:02,209 Assuming 1.0 = 1.0 s\n",
      "yt : [WARNING  ] 2017-02-16 17:29:02,210 Assuming 1.0 = 1.0 g\n",
      "yt : [INFO     ] 2017-02-16 17:29:02,214 Parameters: current_time              = 5.480311\n",
      "yt : [INFO     ] 2017-02-16 17:29:02,215 Parameters: domain_dimensions         = [0 0 0]\n",
      "yt : [INFO     ] 2017-02-16 17:29:02,216 Parameters: domain_left_edge          = [ 0.  0.  0.]\n",
      "yt : [INFO     ] 2017-02-16 17:29:02,217 Parameters: domain_right_edge         = [-0. -0. -0.]\n",
      "yt : [INFO     ] 2017-02-16 17:29:02,218 Parameters: cosmological_simulation   = 0.0\n"
     ]
    },
    {
     "name": "stdout",
     "output_type": "stream",
     "text": [
      "TaylorGreen.0031.J3\n"
     ]
    },
    {
     "name": "stderr",
     "output_type": "stream",
     "text": [
      "yt : [INFO     ] 2017-02-16 17:29:02,434 Temporarily setting domain_right_edge = -domain_left_edge. This will be corrected automatically if it is not the case.\n",
      "yt : [WARNING  ] 2017-02-16 17:29:02,436 Assuming 1.0 = 1.0 cm\n",
      "yt : [WARNING  ] 2017-02-16 17:29:02,437 Assuming 1.0 = 1.0 s\n",
      "yt : [WARNING  ] 2017-02-16 17:29:02,437 Assuming 1.0 = 1.0 g\n",
      "yt : [INFO     ] 2017-02-16 17:29:02,442 Parameters: current_time              = 5.650209\n",
      "yt : [INFO     ] 2017-02-16 17:29:02,442 Parameters: domain_dimensions         = [0 0 0]\n",
      "yt : [INFO     ] 2017-02-16 17:29:02,443 Parameters: domain_left_edge          = [ 0.  0.  0.]\n",
      "yt : [INFO     ] 2017-02-16 17:29:02,444 Parameters: domain_right_edge         = [-0. -0. -0.]\n",
      "yt : [INFO     ] 2017-02-16 17:29:02,444 Parameters: cosmological_simulation   = 0.0\n"
     ]
    },
    {
     "name": "stdout",
     "output_type": "stream",
     "text": [
      "TaylorGreen.0032.J3\n"
     ]
    },
    {
     "name": "stderr",
     "output_type": "stream",
     "text": [
      "yt : [INFO     ] 2017-02-16 17:29:02,657 Temporarily setting domain_right_edge = -domain_left_edge. This will be corrected automatically if it is not the case.\n",
      "yt : [WARNING  ] 2017-02-16 17:29:02,660 Assuming 1.0 = 1.0 cm\n",
      "yt : [WARNING  ] 2017-02-16 17:29:02,661 Assuming 1.0 = 1.0 s\n",
      "yt : [WARNING  ] 2017-02-16 17:29:02,661 Assuming 1.0 = 1.0 g\n",
      "yt : [INFO     ] 2017-02-16 17:29:02,666 Parameters: current_time              = 5.820373\n",
      "yt : [INFO     ] 2017-02-16 17:29:02,666 Parameters: domain_dimensions         = [0 0 0]\n",
      "yt : [INFO     ] 2017-02-16 17:29:02,667 Parameters: domain_left_edge          = [ 0.  0.  0.]\n",
      "yt : [INFO     ] 2017-02-16 17:29:02,668 Parameters: domain_right_edge         = [-0. -0. -0.]\n",
      "yt : [INFO     ] 2017-02-16 17:29:02,669 Parameters: cosmological_simulation   = 0.0\n"
     ]
    },
    {
     "name": "stdout",
     "output_type": "stream",
     "text": [
      "TaylorGreen.0033.J3\n"
     ]
    },
    {
     "name": "stderr",
     "output_type": "stream",
     "text": [
      "yt : [INFO     ] 2017-02-16 17:29:02,884 Temporarily setting domain_right_edge = -domain_left_edge. This will be corrected automatically if it is not the case.\n",
      "yt : [WARNING  ] 2017-02-16 17:29:02,887 Assuming 1.0 = 1.0 cm\n",
      "yt : [WARNING  ] 2017-02-16 17:29:02,887 Assuming 1.0 = 1.0 s\n",
      "yt : [WARNING  ] 2017-02-16 17:29:02,888 Assuming 1.0 = 1.0 g\n",
      "yt : [INFO     ] 2017-02-16 17:29:02,892 Parameters: current_time              = 5.99075\n",
      "yt : [INFO     ] 2017-02-16 17:29:02,892 Parameters: domain_dimensions         = [0 0 0]\n",
      "yt : [INFO     ] 2017-02-16 17:29:02,893 Parameters: domain_left_edge          = [ 0.  0.  0.]\n",
      "yt : [INFO     ] 2017-02-16 17:29:02,894 Parameters: domain_right_edge         = [-0. -0. -0.]\n",
      "yt : [INFO     ] 2017-02-16 17:29:02,894 Parameters: cosmological_simulation   = 0.0\n"
     ]
    },
    {
     "name": "stdout",
     "output_type": "stream",
     "text": [
      "TaylorGreen.0034.J3\n"
     ]
    },
    {
     "name": "stderr",
     "output_type": "stream",
     "text": [
      "yt : [INFO     ] 2017-02-16 17:29:03,112 Temporarily setting domain_right_edge = -domain_left_edge. This will be corrected automatically if it is not the case.\n",
      "yt : [WARNING  ] 2017-02-16 17:29:03,114 Assuming 1.0 = 1.0 cm\n",
      "yt : [WARNING  ] 2017-02-16 17:29:03,115 Assuming 1.0 = 1.0 s\n",
      "yt : [WARNING  ] 2017-02-16 17:29:03,115 Assuming 1.0 = 1.0 g\n",
      "yt : [INFO     ] 2017-02-16 17:29:03,121 Parameters: current_time              = 6.161385\n",
      "yt : [INFO     ] 2017-02-16 17:29:03,121 Parameters: domain_dimensions         = [0 0 0]\n",
      "yt : [INFO     ] 2017-02-16 17:29:03,122 Parameters: domain_left_edge          = [ 0.  0.  0.]\n",
      "yt : [INFO     ] 2017-02-16 17:29:03,122 Parameters: domain_right_edge         = [-0. -0. -0.]\n",
      "yt : [INFO     ] 2017-02-16 17:29:03,123 Parameters: cosmological_simulation   = 0.0\n"
     ]
    },
    {
     "name": "stdout",
     "output_type": "stream",
     "text": [
      "TaylorGreen.0035.J3\n"
     ]
    },
    {
     "name": "stderr",
     "output_type": "stream",
     "text": [
      "yt : [INFO     ] 2017-02-16 17:29:03,339 Temporarily setting domain_right_edge = -domain_left_edge. This will be corrected automatically if it is not the case.\n",
      "yt : [WARNING  ] 2017-02-16 17:29:03,342 Assuming 1.0 = 1.0 cm\n",
      "yt : [WARNING  ] 2017-02-16 17:29:03,343 Assuming 1.0 = 1.0 s\n",
      "yt : [WARNING  ] 2017-02-16 17:29:03,343 Assuming 1.0 = 1.0 g\n",
      "yt : [INFO     ] 2017-02-16 17:29:03,348 Parameters: current_time              = 6.33223\n",
      "yt : [INFO     ] 2017-02-16 17:29:03,349 Parameters: domain_dimensions         = [0 0 0]\n",
      "yt : [INFO     ] 2017-02-16 17:29:03,350 Parameters: domain_left_edge          = [ 0.  0.  0.]\n",
      "yt : [INFO     ] 2017-02-16 17:29:03,350 Parameters: domain_right_edge         = [-0. -0. -0.]\n",
      "yt : [INFO     ] 2017-02-16 17:29:03,351 Parameters: cosmological_simulation   = 0.0\n"
     ]
    },
    {
     "name": "stdout",
     "output_type": "stream",
     "text": [
      "TaylorGreen.0036.J3\n"
     ]
    },
    {
     "name": "stderr",
     "output_type": "stream",
     "text": [
      "yt : [INFO     ] 2017-02-16 17:29:03,564 Temporarily setting domain_right_edge = -domain_left_edge. This will be corrected automatically if it is not the case.\n",
      "yt : [WARNING  ] 2017-02-16 17:29:03,566 Assuming 1.0 = 1.0 cm\n",
      "yt : [WARNING  ] 2017-02-16 17:29:03,567 Assuming 1.0 = 1.0 s\n",
      "yt : [WARNING  ] 2017-02-16 17:29:03,567 Assuming 1.0 = 1.0 g\n",
      "yt : [INFO     ] 2017-02-16 17:29:03,571 Parameters: current_time              = 6.503215\n",
      "yt : [INFO     ] 2017-02-16 17:29:03,572 Parameters: domain_dimensions         = [0 0 0]\n",
      "yt : [INFO     ] 2017-02-16 17:29:03,572 Parameters: domain_left_edge          = [ 0.  0.  0.]\n",
      "yt : [INFO     ] 2017-02-16 17:29:03,573 Parameters: domain_right_edge         = [-0. -0. -0.]\n",
      "yt : [INFO     ] 2017-02-16 17:29:03,574 Parameters: cosmological_simulation   = 0.0\n"
     ]
    },
    {
     "name": "stdout",
     "output_type": "stream",
     "text": [
      "TaylorGreen.0037.J3\n"
     ]
    },
    {
     "name": "stderr",
     "output_type": "stream",
     "text": [
      "yt : [INFO     ] 2017-02-16 17:29:03,803 Temporarily setting domain_right_edge = -domain_left_edge. This will be corrected automatically if it is not the case.\n",
      "yt : [WARNING  ] 2017-02-16 17:29:03,806 Assuming 1.0 = 1.0 cm\n",
      "yt : [WARNING  ] 2017-02-16 17:29:03,806 Assuming 1.0 = 1.0 s\n",
      "yt : [WARNING  ] 2017-02-16 17:29:03,807 Assuming 1.0 = 1.0 g\n",
      "yt : [INFO     ] 2017-02-16 17:29:03,811 Parameters: current_time              = 6.674413\n",
      "yt : [INFO     ] 2017-02-16 17:29:03,812 Parameters: domain_dimensions         = [0 0 0]\n",
      "yt : [INFO     ] 2017-02-16 17:29:03,812 Parameters: domain_left_edge          = [ 0.  0.  0.]\n",
      "yt : [INFO     ] 2017-02-16 17:29:03,813 Parameters: domain_right_edge         = [-0. -0. -0.]\n",
      "yt : [INFO     ] 2017-02-16 17:29:03,814 Parameters: cosmological_simulation   = 0.0\n"
     ]
    },
    {
     "name": "stdout",
     "output_type": "stream",
     "text": [
      "TaylorGreen.0038.J3\n"
     ]
    },
    {
     "name": "stderr",
     "output_type": "stream",
     "text": [
      "yt : [INFO     ] 2017-02-16 17:29:04,035 Temporarily setting domain_right_edge = -domain_left_edge. This will be corrected automatically if it is not the case.\n",
      "yt : [WARNING  ] 2017-02-16 17:29:04,038 Assuming 1.0 = 1.0 cm\n",
      "yt : [WARNING  ] 2017-02-16 17:29:04,038 Assuming 1.0 = 1.0 s\n",
      "yt : [WARNING  ] 2017-02-16 17:29:04,039 Assuming 1.0 = 1.0 g\n",
      "yt : [INFO     ] 2017-02-16 17:29:04,043 Parameters: current_time              = 6.845832\n",
      "yt : [INFO     ] 2017-02-16 17:29:04,043 Parameters: domain_dimensions         = [0 0 0]\n",
      "yt : [INFO     ] 2017-02-16 17:29:04,044 Parameters: domain_left_edge          = [ 0.  0.  0.]\n",
      "yt : [INFO     ] 2017-02-16 17:29:04,045 Parameters: domain_right_edge         = [-0. -0. -0.]\n",
      "yt : [INFO     ] 2017-02-16 17:29:04,045 Parameters: cosmological_simulation   = 0.0\n"
     ]
    },
    {
     "name": "stdout",
     "output_type": "stream",
     "text": [
      "TaylorGreen.0039.J3\n"
     ]
    },
    {
     "name": "stderr",
     "output_type": "stream",
     "text": [
      "yt : [INFO     ] 2017-02-16 17:29:04,369 Temporarily setting domain_right_edge = -domain_left_edge. This will be corrected automatically if it is not the case.\n",
      "yt : [WARNING  ] 2017-02-16 17:29:04,372 Assuming 1.0 = 1.0 cm\n",
      "yt : [WARNING  ] 2017-02-16 17:29:04,372 Assuming 1.0 = 1.0 s\n",
      "yt : [WARNING  ] 2017-02-16 17:29:04,373 Assuming 1.0 = 1.0 g\n",
      "yt : [INFO     ] 2017-02-16 17:29:04,377 Parameters: current_time              = 7.017559\n",
      "yt : [INFO     ] 2017-02-16 17:29:04,378 Parameters: domain_dimensions         = [0 0 0]\n",
      "yt : [INFO     ] 2017-02-16 17:29:04,379 Parameters: domain_left_edge          = [ 0.  0.  0.]\n",
      "yt : [INFO     ] 2017-02-16 17:29:04,379 Parameters: domain_right_edge         = [-0. -0. -0.]\n",
      "yt : [INFO     ] 2017-02-16 17:29:04,380 Parameters: cosmological_simulation   = 0.0\n"
     ]
    },
    {
     "name": "stdout",
     "output_type": "stream",
     "text": [
      "TaylorGreen.0040.J3\n"
     ]
    },
    {
     "name": "stderr",
     "output_type": "stream",
     "text": [
      "yt : [INFO     ] 2017-02-16 17:29:04,598 Temporarily setting domain_right_edge = -domain_left_edge. This will be corrected automatically if it is not the case.\n",
      "yt : [WARNING  ] 2017-02-16 17:29:04,600 Assuming 1.0 = 1.0 cm\n",
      "yt : [WARNING  ] 2017-02-16 17:29:04,601 Assuming 1.0 = 1.0 s\n",
      "yt : [WARNING  ] 2017-02-16 17:29:04,601 Assuming 1.0 = 1.0 g\n",
      "yt : [INFO     ] 2017-02-16 17:29:04,606 Parameters: current_time              = 7.189586\n",
      "yt : [INFO     ] 2017-02-16 17:29:04,606 Parameters: domain_dimensions         = [0 0 0]\n",
      "yt : [INFO     ] 2017-02-16 17:29:04,607 Parameters: domain_left_edge          = [ 0.  0.  0.]\n",
      "yt : [INFO     ] 2017-02-16 17:29:04,607 Parameters: domain_right_edge         = [-0. -0. -0.]\n",
      "yt : [INFO     ] 2017-02-16 17:29:04,608 Parameters: cosmological_simulation   = 0.0\n"
     ]
    },
    {
     "name": "stdout",
     "output_type": "stream",
     "text": [
      "TaylorGreen.0041.J3\n"
     ]
    },
    {
     "name": "stderr",
     "output_type": "stream",
     "text": [
      "yt : [INFO     ] 2017-02-16 17:29:04,832 Temporarily setting domain_right_edge = -domain_left_edge. This will be corrected automatically if it is not the case.\n",
      "yt : [WARNING  ] 2017-02-16 17:29:04,834 Assuming 1.0 = 1.0 cm\n",
      "yt : [WARNING  ] 2017-02-16 17:29:04,835 Assuming 1.0 = 1.0 s\n",
      "yt : [WARNING  ] 2017-02-16 17:29:04,836 Assuming 1.0 = 1.0 g\n",
      "yt : [INFO     ] 2017-02-16 17:29:04,840 Parameters: current_time              = 7.361971\n",
      "yt : [INFO     ] 2017-02-16 17:29:04,840 Parameters: domain_dimensions         = [0 0 0]\n",
      "yt : [INFO     ] 2017-02-16 17:29:04,841 Parameters: domain_left_edge          = [ 0.  0.  0.]\n",
      "yt : [INFO     ] 2017-02-16 17:29:04,842 Parameters: domain_right_edge         = [-0. -0. -0.]\n",
      "yt : [INFO     ] 2017-02-16 17:29:04,842 Parameters: cosmological_simulation   = 0.0\n"
     ]
    },
    {
     "name": "stdout",
     "output_type": "stream",
     "text": [
      "TaylorGreen.0042.J3\n"
     ]
    },
    {
     "name": "stderr",
     "output_type": "stream",
     "text": [
      "yt : [INFO     ] 2017-02-16 17:29:05,058 Temporarily setting domain_right_edge = -domain_left_edge. This will be corrected automatically if it is not the case.\n",
      "yt : [WARNING  ] 2017-02-16 17:29:05,061 Assuming 1.0 = 1.0 cm\n",
      "yt : [WARNING  ] 2017-02-16 17:29:05,061 Assuming 1.0 = 1.0 s\n",
      "yt : [WARNING  ] 2017-02-16 17:29:05,062 Assuming 1.0 = 1.0 g\n",
      "yt : [INFO     ] 2017-02-16 17:29:05,066 Parameters: current_time              = 7.53466\n",
      "yt : [INFO     ] 2017-02-16 17:29:05,067 Parameters: domain_dimensions         = [0 0 0]\n",
      "yt : [INFO     ] 2017-02-16 17:29:05,067 Parameters: domain_left_edge          = [ 0.  0.  0.]\n",
      "yt : [INFO     ] 2017-02-16 17:29:05,068 Parameters: domain_right_edge         = [-0. -0. -0.]\n",
      "yt : [INFO     ] 2017-02-16 17:29:05,069 Parameters: cosmological_simulation   = 0.0\n"
     ]
    },
    {
     "name": "stdout",
     "output_type": "stream",
     "text": [
      "TaylorGreen.0043.J3\n"
     ]
    },
    {
     "name": "stderr",
     "output_type": "stream",
     "text": [
      "yt : [INFO     ] 2017-02-16 17:29:05,281 Temporarily setting domain_right_edge = -domain_left_edge. This will be corrected automatically if it is not the case.\n",
      "yt : [WARNING  ] 2017-02-16 17:29:05,283 Assuming 1.0 = 1.0 cm\n",
      "yt : [WARNING  ] 2017-02-16 17:29:05,284 Assuming 1.0 = 1.0 s\n",
      "yt : [WARNING  ] 2017-02-16 17:29:05,285 Assuming 1.0 = 1.0 g\n",
      "yt : [INFO     ] 2017-02-16 17:29:05,289 Parameters: current_time              = 7.707613\n",
      "yt : [INFO     ] 2017-02-16 17:29:05,289 Parameters: domain_dimensions         = [0 0 0]\n",
      "yt : [INFO     ] 2017-02-16 17:29:05,290 Parameters: domain_left_edge          = [ 0.  0.  0.]\n",
      "yt : [INFO     ] 2017-02-16 17:29:05,290 Parameters: domain_right_edge         = [-0. -0. -0.]\n",
      "yt : [INFO     ] 2017-02-16 17:29:05,291 Parameters: cosmological_simulation   = 0.0\n"
     ]
    },
    {
     "name": "stdout",
     "output_type": "stream",
     "text": [
      "TaylorGreen.0044.J3\n"
     ]
    },
    {
     "name": "stderr",
     "output_type": "stream",
     "text": [
      "yt : [INFO     ] 2017-02-16 17:29:05,508 Temporarily setting domain_right_edge = -domain_left_edge. This will be corrected automatically if it is not the case.\n",
      "yt : [WARNING  ] 2017-02-16 17:29:05,510 Assuming 1.0 = 1.0 cm\n",
      "yt : [WARNING  ] 2017-02-16 17:29:05,511 Assuming 1.0 = 1.0 s\n",
      "yt : [WARNING  ] 2017-02-16 17:29:05,511 Assuming 1.0 = 1.0 g\n",
      "yt : [INFO     ] 2017-02-16 17:29:05,516 Parameters: current_time              = 7.880893\n",
      "yt : [INFO     ] 2017-02-16 17:29:05,517 Parameters: domain_dimensions         = [0 0 0]\n",
      "yt : [INFO     ] 2017-02-16 17:29:05,518 Parameters: domain_left_edge          = [ 0.  0.  0.]\n",
      "yt : [INFO     ] 2017-02-16 17:29:05,519 Parameters: domain_right_edge         = [-0. -0. -0.]\n",
      "yt : [INFO     ] 2017-02-16 17:29:05,519 Parameters: cosmological_simulation   = 0.0\n"
     ]
    },
    {
     "name": "stdout",
     "output_type": "stream",
     "text": [
      "TaylorGreen.0045.J3\n"
     ]
    },
    {
     "name": "stderr",
     "output_type": "stream",
     "text": [
      "yt : [INFO     ] 2017-02-16 17:29:05,742 Temporarily setting domain_right_edge = -domain_left_edge. This will be corrected automatically if it is not the case.\n",
      "yt : [WARNING  ] 2017-02-16 17:29:05,744 Assuming 1.0 = 1.0 cm\n",
      "yt : [WARNING  ] 2017-02-16 17:29:05,745 Assuming 1.0 = 1.0 s\n",
      "yt : [WARNING  ] 2017-02-16 17:29:05,745 Assuming 1.0 = 1.0 g\n",
      "yt : [INFO     ] 2017-02-16 17:29:05,749 Parameters: current_time              = 8.054455\n",
      "yt : [INFO     ] 2017-02-16 17:29:05,750 Parameters: domain_dimensions         = [0 0 0]\n",
      "yt : [INFO     ] 2017-02-16 17:29:05,751 Parameters: domain_left_edge          = [ 0.  0.  0.]\n",
      "yt : [INFO     ] 2017-02-16 17:29:05,752 Parameters: domain_right_edge         = [-0. -0. -0.]\n",
      "yt : [INFO     ] 2017-02-16 17:29:05,752 Parameters: cosmological_simulation   = 0.0\n"
     ]
    },
    {
     "name": "stdout",
     "output_type": "stream",
     "text": [
      "TaylorGreen.0046.J3\n"
     ]
    },
    {
     "name": "stderr",
     "output_type": "stream",
     "text": [
      "yt : [INFO     ] 2017-02-16 17:29:05,977 Temporarily setting domain_right_edge = -domain_left_edge. This will be corrected automatically if it is not the case.\n",
      "yt : [WARNING  ] 2017-02-16 17:29:05,980 Assuming 1.0 = 1.0 cm\n",
      "yt : [WARNING  ] 2017-02-16 17:29:05,980 Assuming 1.0 = 1.0 s\n",
      "yt : [WARNING  ] 2017-02-16 17:29:05,981 Assuming 1.0 = 1.0 g\n",
      "yt : [INFO     ] 2017-02-16 17:29:05,985 Parameters: current_time              = 8.228358\n",
      "yt : [INFO     ] 2017-02-16 17:29:05,985 Parameters: domain_dimensions         = [0 0 0]\n",
      "yt : [INFO     ] 2017-02-16 17:29:05,986 Parameters: domain_left_edge          = [ 0.  0.  0.]\n",
      "yt : [INFO     ] 2017-02-16 17:29:05,987 Parameters: domain_right_edge         = [-0. -0. -0.]\n",
      "yt : [INFO     ] 2017-02-16 17:29:05,987 Parameters: cosmological_simulation   = 0.0\n"
     ]
    },
    {
     "name": "stdout",
     "output_type": "stream",
     "text": [
      "TaylorGreen.0047.J3\n"
     ]
    },
    {
     "name": "stderr",
     "output_type": "stream",
     "text": [
      "yt : [INFO     ] 2017-02-16 17:29:06,206 Temporarily setting domain_right_edge = -domain_left_edge. This will be corrected automatically if it is not the case.\n",
      "yt : [WARNING  ] 2017-02-16 17:29:06,209 Assuming 1.0 = 1.0 cm\n",
      "yt : [WARNING  ] 2017-02-16 17:29:06,209 Assuming 1.0 = 1.0 s\n",
      "yt : [WARNING  ] 2017-02-16 17:29:06,210 Assuming 1.0 = 1.0 g\n",
      "yt : [INFO     ] 2017-02-16 17:29:06,214 Parameters: current_time              = 8.402551\n",
      "yt : [INFO     ] 2017-02-16 17:29:06,215 Parameters: domain_dimensions         = [0 0 0]\n",
      "yt : [INFO     ] 2017-02-16 17:29:06,216 Parameters: domain_left_edge          = [ 0.  0.  0.]\n",
      "yt : [INFO     ] 2017-02-16 17:29:06,216 Parameters: domain_right_edge         = [-0. -0. -0.]\n",
      "yt : [INFO     ] 2017-02-16 17:29:06,217 Parameters: cosmological_simulation   = 0.0\n"
     ]
    },
    {
     "name": "stdout",
     "output_type": "stream",
     "text": [
      "TaylorGreen.0048.J3\n"
     ]
    },
    {
     "name": "stderr",
     "output_type": "stream",
     "text": [
      "yt : [INFO     ] 2017-02-16 17:29:06,432 Temporarily setting domain_right_edge = -domain_left_edge. This will be corrected automatically if it is not the case.\n",
      "yt : [WARNING  ] 2017-02-16 17:29:06,434 Assuming 1.0 = 1.0 cm\n",
      "yt : [WARNING  ] 2017-02-16 17:29:06,435 Assuming 1.0 = 1.0 s\n",
      "yt : [WARNING  ] 2017-02-16 17:29:06,435 Assuming 1.0 = 1.0 g\n",
      "yt : [INFO     ] 2017-02-16 17:29:06,440 Parameters: current_time              = 8.577097\n",
      "yt : [INFO     ] 2017-02-16 17:29:06,440 Parameters: domain_dimensions         = [0 0 0]\n",
      "yt : [INFO     ] 2017-02-16 17:29:06,441 Parameters: domain_left_edge          = [ 0.  0.  0.]\n",
      "yt : [INFO     ] 2017-02-16 17:29:06,442 Parameters: domain_right_edge         = [-0. -0. -0.]\n",
      "yt : [INFO     ] 2017-02-16 17:29:06,442 Parameters: cosmological_simulation   = 0.0\n"
     ]
    },
    {
     "name": "stdout",
     "output_type": "stream",
     "text": [
      "TaylorGreen.0049.J3\n"
     ]
    },
    {
     "name": "stderr",
     "output_type": "stream",
     "text": [
      "yt : [INFO     ] 2017-02-16 17:29:06,762 Temporarily setting domain_right_edge = -domain_left_edge. This will be corrected automatically if it is not the case.\n",
      "yt : [WARNING  ] 2017-02-16 17:29:06,765 Assuming 1.0 = 1.0 cm\n",
      "yt : [WARNING  ] 2017-02-16 17:29:06,766 Assuming 1.0 = 1.0 s\n",
      "yt : [WARNING  ] 2017-02-16 17:29:06,767 Assuming 1.0 = 1.0 g\n",
      "yt : [INFO     ] 2017-02-16 17:29:06,772 Parameters: current_time              = 8.751945\n",
      "yt : [INFO     ] 2017-02-16 17:29:06,772 Parameters: domain_dimensions         = [0 0 0]\n",
      "yt : [INFO     ] 2017-02-16 17:29:06,773 Parameters: domain_left_edge          = [ 0.  0.  0.]\n",
      "yt : [INFO     ] 2017-02-16 17:29:06,774 Parameters: domain_right_edge         = [-0. -0. -0.]\n",
      "yt : [INFO     ] 2017-02-16 17:29:06,774 Parameters: cosmological_simulation   = 0.0\n"
     ]
    },
    {
     "name": "stdout",
     "output_type": "stream",
     "text": [
      "TaylorGreen.0050.J3\n"
     ]
    },
    {
     "name": "stderr",
     "output_type": "stream",
     "text": [
      "yt : [INFO     ] 2017-02-16 17:29:06,983 Temporarily setting domain_right_edge = -domain_left_edge. This will be corrected automatically if it is not the case.\n",
      "yt : [WARNING  ] 2017-02-16 17:29:06,986 Assuming 1.0 = 1.0 cm\n",
      "yt : [WARNING  ] 2017-02-16 17:29:06,986 Assuming 1.0 = 1.0 s\n",
      "yt : [WARNING  ] 2017-02-16 17:29:06,987 Assuming 1.0 = 1.0 g\n",
      "yt : [INFO     ] 2017-02-16 17:29:06,991 Parameters: current_time              = 8.927159\n",
      "yt : [INFO     ] 2017-02-16 17:29:06,992 Parameters: domain_dimensions         = [0 0 0]\n",
      "yt : [INFO     ] 2017-02-16 17:29:06,992 Parameters: domain_left_edge          = [ 0.  0.  0.]\n",
      "yt : [INFO     ] 2017-02-16 17:29:06,993 Parameters: domain_right_edge         = [-0. -0. -0.]\n",
      "yt : [INFO     ] 2017-02-16 17:29:06,993 Parameters: cosmological_simulation   = 0.0\n"
     ]
    },
    {
     "name": "stdout",
     "output_type": "stream",
     "text": [
      "TaylorGreen.0051.J3\n"
     ]
    },
    {
     "name": "stderr",
     "output_type": "stream",
     "text": [
      "yt : [INFO     ] 2017-02-16 17:29:07,221 Temporarily setting domain_right_edge = -domain_left_edge. This will be corrected automatically if it is not the case.\n",
      "yt : [WARNING  ] 2017-02-16 17:29:07,224 Assuming 1.0 = 1.0 cm\n",
      "yt : [WARNING  ] 2017-02-16 17:29:07,224 Assuming 1.0 = 1.0 s\n",
      "yt : [WARNING  ] 2017-02-16 17:29:07,225 Assuming 1.0 = 1.0 g\n",
      "yt : [INFO     ] 2017-02-16 17:29:07,229 Parameters: current_time              = 9.102687\n",
      "yt : [INFO     ] 2017-02-16 17:29:07,229 Parameters: domain_dimensions         = [0 0 0]\n",
      "yt : [INFO     ] 2017-02-16 17:29:07,230 Parameters: domain_left_edge          = [ 0.  0.  0.]\n",
      "yt : [INFO     ] 2017-02-16 17:29:07,231 Parameters: domain_right_edge         = [-0. -0. -0.]\n",
      "yt : [INFO     ] 2017-02-16 17:29:07,231 Parameters: cosmological_simulation   = 0.0\n"
     ]
    },
    {
     "name": "stdout",
     "output_type": "stream",
     "text": [
      "TaylorGreen.0052.J3\n"
     ]
    },
    {
     "name": "stderr",
     "output_type": "stream",
     "text": [
      "yt : [INFO     ] 2017-02-16 17:29:07,450 Temporarily setting domain_right_edge = -domain_left_edge. This will be corrected automatically if it is not the case.\n",
      "yt : [WARNING  ] 2017-02-16 17:29:07,452 Assuming 1.0 = 1.0 cm\n",
      "yt : [WARNING  ] 2017-02-16 17:29:07,453 Assuming 1.0 = 1.0 s\n",
      "yt : [WARNING  ] 2017-02-16 17:29:07,453 Assuming 1.0 = 1.0 g\n",
      "yt : [INFO     ] 2017-02-16 17:29:07,457 Parameters: current_time              = 9.278594\n",
      "yt : [INFO     ] 2017-02-16 17:29:07,458 Parameters: domain_dimensions         = [0 0 0]\n",
      "yt : [INFO     ] 2017-02-16 17:29:07,458 Parameters: domain_left_edge          = [ 0.  0.  0.]\n",
      "yt : [INFO     ] 2017-02-16 17:29:07,459 Parameters: domain_right_edge         = [-0. -0. -0.]\n",
      "yt : [INFO     ] 2017-02-16 17:29:07,460 Parameters: cosmological_simulation   = 0.0\n"
     ]
    },
    {
     "name": "stdout",
     "output_type": "stream",
     "text": [
      "TaylorGreen.0053.J3\n"
     ]
    },
    {
     "name": "stderr",
     "output_type": "stream",
     "text": [
      "yt : [INFO     ] 2017-02-16 17:29:07,686 Temporarily setting domain_right_edge = -domain_left_edge. This will be corrected automatically if it is not the case.\n",
      "yt : [WARNING  ] 2017-02-16 17:29:07,689 Assuming 1.0 = 1.0 cm\n",
      "yt : [WARNING  ] 2017-02-16 17:29:07,689 Assuming 1.0 = 1.0 s\n",
      "yt : [WARNING  ] 2017-02-16 17:29:07,690 Assuming 1.0 = 1.0 g\n",
      "yt : [INFO     ] 2017-02-16 17:29:07,694 Parameters: current_time              = 9.454826\n",
      "yt : [INFO     ] 2017-02-16 17:29:07,695 Parameters: domain_dimensions         = [0 0 0]\n",
      "yt : [INFO     ] 2017-02-16 17:29:07,695 Parameters: domain_left_edge          = [ 0.  0.  0.]\n",
      "yt : [INFO     ] 2017-02-16 17:29:07,696 Parameters: domain_right_edge         = [-0. -0. -0.]\n",
      "yt : [INFO     ] 2017-02-16 17:29:07,697 Parameters: cosmological_simulation   = 0.0\n"
     ]
    },
    {
     "name": "stdout",
     "output_type": "stream",
     "text": [
      "TaylorGreen.0054.J3\n"
     ]
    },
    {
     "name": "stderr",
     "output_type": "stream",
     "text": [
      "yt : [INFO     ] 2017-02-16 17:29:07,918 Temporarily setting domain_right_edge = -domain_left_edge. This will be corrected automatically if it is not the case.\n",
      "yt : [WARNING  ] 2017-02-16 17:29:07,921 Assuming 1.0 = 1.0 cm\n",
      "yt : [WARNING  ] 2017-02-16 17:29:07,921 Assuming 1.0 = 1.0 s\n",
      "yt : [WARNING  ] 2017-02-16 17:29:07,922 Assuming 1.0 = 1.0 g\n",
      "yt : [INFO     ] 2017-02-16 17:29:07,926 Parameters: current_time              = 9.631448\n",
      "yt : [INFO     ] 2017-02-16 17:29:07,926 Parameters: domain_dimensions         = [0 0 0]\n",
      "yt : [INFO     ] 2017-02-16 17:29:07,927 Parameters: domain_left_edge          = [ 0.  0.  0.]\n",
      "yt : [INFO     ] 2017-02-16 17:29:07,928 Parameters: domain_right_edge         = [-0. -0. -0.]\n",
      "yt : [INFO     ] 2017-02-16 17:29:07,928 Parameters: cosmological_simulation   = 0.0\n"
     ]
    },
    {
     "name": "stdout",
     "output_type": "stream",
     "text": [
      "TaylorGreen.0055.J3\n"
     ]
    },
    {
     "name": "stderr",
     "output_type": "stream",
     "text": [
      "yt : [INFO     ] 2017-02-16 17:29:08,147 Temporarily setting domain_right_edge = -domain_left_edge. This will be corrected automatically if it is not the case.\n",
      "yt : [WARNING  ] 2017-02-16 17:29:08,150 Assuming 1.0 = 1.0 cm\n",
      "yt : [WARNING  ] 2017-02-16 17:29:08,150 Assuming 1.0 = 1.0 s\n",
      "yt : [WARNING  ] 2017-02-16 17:29:08,151 Assuming 1.0 = 1.0 g\n",
      "yt : [INFO     ] 2017-02-16 17:29:08,156 Parameters: current_time              = 9.808403\n",
      "yt : [INFO     ] 2017-02-16 17:29:08,157 Parameters: domain_dimensions         = [0 0 0]\n",
      "yt : [INFO     ] 2017-02-16 17:29:08,157 Parameters: domain_left_edge          = [ 0.  0.  0.]\n",
      "yt : [INFO     ] 2017-02-16 17:29:08,158 Parameters: domain_right_edge         = [-0. -0. -0.]\n",
      "yt : [INFO     ] 2017-02-16 17:29:08,159 Parameters: cosmological_simulation   = 0.0\n"
     ]
    },
    {
     "name": "stdout",
     "output_type": "stream",
     "text": [
      "TaylorGreen.0056.J3\n"
     ]
    },
    {
     "name": "stderr",
     "output_type": "stream",
     "text": [
      "yt : [INFO     ] 2017-02-16 17:29:08,365 Temporarily setting domain_right_edge = -domain_left_edge. This will be corrected automatically if it is not the case.\n",
      "yt : [WARNING  ] 2017-02-16 17:29:08,368 Assuming 1.0 = 1.0 cm\n",
      "yt : [WARNING  ] 2017-02-16 17:29:08,368 Assuming 1.0 = 1.0 s\n",
      "yt : [WARNING  ] 2017-02-16 17:29:08,369 Assuming 1.0 = 1.0 g\n",
      "yt : [INFO     ] 2017-02-16 17:29:08,373 Parameters: current_time              = 9.985756\n",
      "yt : [INFO     ] 2017-02-16 17:29:08,373 Parameters: domain_dimensions         = [0 0 0]\n",
      "yt : [INFO     ] 2017-02-16 17:29:08,374 Parameters: domain_left_edge          = [ 0.  0.  0.]\n",
      "yt : [INFO     ] 2017-02-16 17:29:08,375 Parameters: domain_right_edge         = [-0. -0. -0.]\n",
      "yt : [INFO     ] 2017-02-16 17:29:08,375 Parameters: cosmological_simulation   = 0.0\n"
     ]
    },
    {
     "name": "stdout",
     "output_type": "stream",
     "text": [
      "TaylorGreen.0057.J3\n"
     ]
    },
    {
     "name": "stderr",
     "output_type": "stream",
     "text": [
      "yt : [INFO     ] 2017-02-16 17:29:08,579 Temporarily setting domain_right_edge = -domain_left_edge. This will be corrected automatically if it is not the case.\n",
      "yt : [WARNING  ] 2017-02-16 17:29:08,581 Assuming 1.0 = 1.0 cm\n",
      "yt : [WARNING  ] 2017-02-16 17:29:08,582 Assuming 1.0 = 1.0 s\n",
      "yt : [WARNING  ] 2017-02-16 17:29:08,583 Assuming 1.0 = 1.0 g\n",
      "yt : [INFO     ] 2017-02-16 17:29:08,587 Parameters: current_time              = 10.0\n",
      "yt : [INFO     ] 2017-02-16 17:29:08,587 Parameters: domain_dimensions         = [0 0 0]\n",
      "yt : [INFO     ] 2017-02-16 17:29:08,588 Parameters: domain_left_edge          = [ 0.  0.  0.]\n",
      "yt : [INFO     ] 2017-02-16 17:29:08,588 Parameters: domain_right_edge         = [-0. -0. -0.]\n",
      "yt : [INFO     ] 2017-02-16 17:29:08,589 Parameters: cosmological_simulation   = 0.0\n"
     ]
    },
    {
     "name": "stdout",
     "output_type": "stream",
     "text": [
      "TaylorGreen.0058.J3\n"
     ]
    }
   ],
   "source": [
    "j = []\n",
    "times = []\n",
    "\n",
    "for ds in ts:\n",
    "    print (ds)\n",
    "    dd = ds.all_data()\n",
    "    j.append(dd.quantities.extrema(\"J3\"))\n",
    "    times.append(ds.current_time)\n",
    "j = np.array(j)\n"
   ]
  },
  {
   "cell_type": "code",
   "execution_count": 57,
   "metadata": {
    "collapsed": false
   },
   "outputs": [
    {
     "data": {
      "text/plain": [
       "<matplotlib.text.Text at 0x11ef62898>"
      ]
     },
     "execution_count": 57,
     "metadata": {},
     "output_type": "execute_result"
    },
    {
     "data": {
      "image/png": "[encoded data removed]",
      "text/plain": [
       "<matplotlib.figure.Figure at 0x11e6da518>"
      ]
     },
     "metadata": {},
     "output_type": "display_data"
    }
   ],
   "source": [
    "pylab.plot(times, j1a, '-xk')\n",
    "pylab.title(\"J3\")\n",
    "\n",
    "#ts = yt.load(\"TaylorGreen.0000.J3.vtk\")\n",
    "#for ds in ts:\n",
    "#   yt.ProjectionPlot(ds,\"x\",\"cell_centered_B_y\").save()"
   ]
  },
  {
   "cell_type": "code",
   "execution_count": null,
   "metadata": {
    "collapsed": true
   },
   "outputs": [],
   "source": []
  }
 ],
 "metadata": {
  "anaconda-cloud": {},
  "kernelspec": {
   "display_name": "VPython",
   "language": "python",
   "name": "vpython"
  },
  "language_info": {
   "codemirror_mode": {
    "name": "ipython",
    "version": 3
   },
   "file_extension": ".py",
   "mimetype": "text/x-python",
   "name": "python",
   "nbconvert_exporter": "python",
   "pygments_lexer": "ipython3",
   "version": "3.5.2"
  }
 },
 "nbformat": 4,
 "nbformat_minor": 0
}
